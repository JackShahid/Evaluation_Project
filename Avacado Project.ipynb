{
 "cells": [
  {
   "cell_type": "markdown",
   "metadata": {},
   "source": [
    "# Problem Statement"
   ]
  },
  {
   "cell_type": "markdown",
   "metadata": {},
   "source": [
    "Avocado is a fruit consumed by people heavily in the United States. \n",
    "\n",
    "Some relevant columns in the dataset:\n",
    "\n",
    "Date - The date of the observation\n",
    "\n",
    "AveragePrice - the average price of a single avocado\n",
    "\n",
    "type - conventional or organic\n",
    "\n",
    "year - the year\n",
    "\n",
    "Region - the city or region of the observation\n",
    "\n",
    "Total Volume - Total number of avocados sold\n",
    "\n",
    "4046 - Total number of avocados with PLU 4046 sold\n",
    "4225 - Total number of avocados with PLU 4225 sold\n",
    "4770 - Total number of avocados with PLU 4770 sold"
   ]
  },
  {
   "cell_type": "code",
   "execution_count": 75,
   "metadata": {},
   "outputs": [],
   "source": [
    "import numpy as np\n",
    "import pandas as pd\n",
    "import matplotlib.pyplot as plt\n",
    "import seaborn as sns\n",
    "from sklearn.preprocessing import LabelEncoder\n",
    "from scipy.stats import zscore\n",
    "from sklearn.preprocessing import power_transform\n",
    "from sklearn.preprocessing import StandardScaler\n",
    "from sklearn.model_selection import train_test_split\n",
    "from sklearn.linear_model import LogisticRegression\n",
    "from sklearn.metrics import accuracy_score\n",
    "from sklearn.metrics import confusion_matrix\n",
    "import warnings\n",
    "warnings.filterwarnings(\"ignore\")"
   ]
  },
  {
   "cell_type": "code",
   "execution_count": 3,
   "metadata": {},
   "outputs": [
    {
     "data": {
      "text/html": [
       "<div>\n",
       "<style scoped>\n",
       "    .dataframe tbody tr th:only-of-type {\n",
       "        vertical-align: middle;\n",
       "    }\n",
       "\n",
       "    .dataframe tbody tr th {\n",
       "        vertical-align: top;\n",
       "    }\n",
       "\n",
       "    .dataframe thead th {\n",
       "        text-align: right;\n",
       "    }\n",
       "</style>\n",
       "<table border=\"1\" class=\"dataframe\">\n",
       "  <thead>\n",
       "    <tr style=\"text-align: right;\">\n",
       "      <th></th>\n",
       "      <th>Date</th>\n",
       "      <th>AveragePrice</th>\n",
       "      <th>Total Volume</th>\n",
       "      <th>4046</th>\n",
       "      <th>4225</th>\n",
       "      <th>4770</th>\n",
       "      <th>Total Bags</th>\n",
       "      <th>Small Bags</th>\n",
       "      <th>Large Bags</th>\n",
       "      <th>XLarge Bags</th>\n",
       "      <th>type</th>\n",
       "      <th>year</th>\n",
       "      <th>region</th>\n",
       "    </tr>\n",
       "  </thead>\n",
       "  <tbody>\n",
       "    <tr>\n",
       "      <th>0</th>\n",
       "      <td>27-12-2015</td>\n",
       "      <td>1.33</td>\n",
       "      <td>64236.62</td>\n",
       "      <td>1036.74</td>\n",
       "      <td>54454.85</td>\n",
       "      <td>48.16</td>\n",
       "      <td>8696.87</td>\n",
       "      <td>8603.62</td>\n",
       "      <td>93.25</td>\n",
       "      <td>0.0</td>\n",
       "      <td>conventional</td>\n",
       "      <td>2015</td>\n",
       "      <td>Albany</td>\n",
       "    </tr>\n",
       "    <tr>\n",
       "      <th>1</th>\n",
       "      <td>20-12-2015</td>\n",
       "      <td>1.35</td>\n",
       "      <td>54876.98</td>\n",
       "      <td>674.28</td>\n",
       "      <td>44638.81</td>\n",
       "      <td>58.33</td>\n",
       "      <td>9505.56</td>\n",
       "      <td>9408.07</td>\n",
       "      <td>97.49</td>\n",
       "      <td>0.0</td>\n",
       "      <td>conventional</td>\n",
       "      <td>2015</td>\n",
       "      <td>Albany</td>\n",
       "    </tr>\n",
       "    <tr>\n",
       "      <th>2</th>\n",
       "      <td>13-12-2015</td>\n",
       "      <td>0.93</td>\n",
       "      <td>118220.22</td>\n",
       "      <td>794.70</td>\n",
       "      <td>109149.67</td>\n",
       "      <td>130.50</td>\n",
       "      <td>8145.35</td>\n",
       "      <td>8042.21</td>\n",
       "      <td>103.14</td>\n",
       "      <td>0.0</td>\n",
       "      <td>conventional</td>\n",
       "      <td>2015</td>\n",
       "      <td>Albany</td>\n",
       "    </tr>\n",
       "    <tr>\n",
       "      <th>3</th>\n",
       "      <td>06-12-2015</td>\n",
       "      <td>1.08</td>\n",
       "      <td>78992.15</td>\n",
       "      <td>1132.00</td>\n",
       "      <td>71976.41</td>\n",
       "      <td>72.58</td>\n",
       "      <td>5811.16</td>\n",
       "      <td>5677.40</td>\n",
       "      <td>133.76</td>\n",
       "      <td>0.0</td>\n",
       "      <td>conventional</td>\n",
       "      <td>2015</td>\n",
       "      <td>Albany</td>\n",
       "    </tr>\n",
       "    <tr>\n",
       "      <th>4</th>\n",
       "      <td>29-11-2015</td>\n",
       "      <td>1.28</td>\n",
       "      <td>51039.60</td>\n",
       "      <td>941.48</td>\n",
       "      <td>43838.39</td>\n",
       "      <td>75.78</td>\n",
       "      <td>6183.95</td>\n",
       "      <td>5986.26</td>\n",
       "      <td>197.69</td>\n",
       "      <td>0.0</td>\n",
       "      <td>conventional</td>\n",
       "      <td>2015</td>\n",
       "      <td>Albany</td>\n",
       "    </tr>\n",
       "    <tr>\n",
       "      <th>...</th>\n",
       "      <td>...</td>\n",
       "      <td>...</td>\n",
       "      <td>...</td>\n",
       "      <td>...</td>\n",
       "      <td>...</td>\n",
       "      <td>...</td>\n",
       "      <td>...</td>\n",
       "      <td>...</td>\n",
       "      <td>...</td>\n",
       "      <td>...</td>\n",
       "      <td>...</td>\n",
       "      <td>...</td>\n",
       "      <td>...</td>\n",
       "    </tr>\n",
       "    <tr>\n",
       "      <th>18244</th>\n",
       "      <td>04-02-2018</td>\n",
       "      <td>1.63</td>\n",
       "      <td>17074.83</td>\n",
       "      <td>2046.96</td>\n",
       "      <td>1529.20</td>\n",
       "      <td>0.00</td>\n",
       "      <td>13498.67</td>\n",
       "      <td>13066.82</td>\n",
       "      <td>431.85</td>\n",
       "      <td>0.0</td>\n",
       "      <td>organic</td>\n",
       "      <td>2018</td>\n",
       "      <td>WestTexNewMexico</td>\n",
       "    </tr>\n",
       "    <tr>\n",
       "      <th>18245</th>\n",
       "      <td>28-01-2018</td>\n",
       "      <td>1.71</td>\n",
       "      <td>13888.04</td>\n",
       "      <td>1191.70</td>\n",
       "      <td>3431.50</td>\n",
       "      <td>0.00</td>\n",
       "      <td>9264.84</td>\n",
       "      <td>8940.04</td>\n",
       "      <td>324.80</td>\n",
       "      <td>0.0</td>\n",
       "      <td>organic</td>\n",
       "      <td>2018</td>\n",
       "      <td>WestTexNewMexico</td>\n",
       "    </tr>\n",
       "    <tr>\n",
       "      <th>18246</th>\n",
       "      <td>21-01-2018</td>\n",
       "      <td>1.87</td>\n",
       "      <td>13766.76</td>\n",
       "      <td>1191.92</td>\n",
       "      <td>2452.79</td>\n",
       "      <td>727.94</td>\n",
       "      <td>9394.11</td>\n",
       "      <td>9351.80</td>\n",
       "      <td>42.31</td>\n",
       "      <td>0.0</td>\n",
       "      <td>organic</td>\n",
       "      <td>2018</td>\n",
       "      <td>WestTexNewMexico</td>\n",
       "    </tr>\n",
       "    <tr>\n",
       "      <th>18247</th>\n",
       "      <td>14-01-2018</td>\n",
       "      <td>1.93</td>\n",
       "      <td>16205.22</td>\n",
       "      <td>1527.63</td>\n",
       "      <td>2981.04</td>\n",
       "      <td>727.01</td>\n",
       "      <td>10969.54</td>\n",
       "      <td>10919.54</td>\n",
       "      <td>50.00</td>\n",
       "      <td>0.0</td>\n",
       "      <td>organic</td>\n",
       "      <td>2018</td>\n",
       "      <td>WestTexNewMexico</td>\n",
       "    </tr>\n",
       "    <tr>\n",
       "      <th>18248</th>\n",
       "      <td>07-01-2018</td>\n",
       "      <td>1.62</td>\n",
       "      <td>17489.58</td>\n",
       "      <td>2894.77</td>\n",
       "      <td>2356.13</td>\n",
       "      <td>224.53</td>\n",
       "      <td>12014.15</td>\n",
       "      <td>11988.14</td>\n",
       "      <td>26.01</td>\n",
       "      <td>0.0</td>\n",
       "      <td>organic</td>\n",
       "      <td>2018</td>\n",
       "      <td>WestTexNewMexico</td>\n",
       "    </tr>\n",
       "  </tbody>\n",
       "</table>\n",
       "<p>18249 rows × 13 columns</p>\n",
       "</div>"
      ],
      "text/plain": [
       "             Date  AveragePrice  Total Volume     4046       4225    4770  \\\n",
       "0      27-12-2015          1.33      64236.62  1036.74   54454.85   48.16   \n",
       "1      20-12-2015          1.35      54876.98   674.28   44638.81   58.33   \n",
       "2      13-12-2015          0.93     118220.22   794.70  109149.67  130.50   \n",
       "3      06-12-2015          1.08      78992.15  1132.00   71976.41   72.58   \n",
       "4      29-11-2015          1.28      51039.60   941.48   43838.39   75.78   \n",
       "...           ...           ...           ...      ...        ...     ...   \n",
       "18244  04-02-2018          1.63      17074.83  2046.96    1529.20    0.00   \n",
       "18245  28-01-2018          1.71      13888.04  1191.70    3431.50    0.00   \n",
       "18246  21-01-2018          1.87      13766.76  1191.92    2452.79  727.94   \n",
       "18247  14-01-2018          1.93      16205.22  1527.63    2981.04  727.01   \n",
       "18248  07-01-2018          1.62      17489.58  2894.77    2356.13  224.53   \n",
       "\n",
       "       Total Bags  Small Bags  Large Bags  XLarge Bags          type  year  \\\n",
       "0         8696.87     8603.62       93.25          0.0  conventional  2015   \n",
       "1         9505.56     9408.07       97.49          0.0  conventional  2015   \n",
       "2         8145.35     8042.21      103.14          0.0  conventional  2015   \n",
       "3         5811.16     5677.40      133.76          0.0  conventional  2015   \n",
       "4         6183.95     5986.26      197.69          0.0  conventional  2015   \n",
       "...           ...         ...         ...          ...           ...   ...   \n",
       "18244    13498.67    13066.82      431.85          0.0       organic  2018   \n",
       "18245     9264.84     8940.04      324.80          0.0       organic  2018   \n",
       "18246     9394.11     9351.80       42.31          0.0       organic  2018   \n",
       "18247    10969.54    10919.54       50.00          0.0       organic  2018   \n",
       "18248    12014.15    11988.14       26.01          0.0       organic  2018   \n",
       "\n",
       "                 region  \n",
       "0                Albany  \n",
       "1                Albany  \n",
       "2                Albany  \n",
       "3                Albany  \n",
       "4                Albany  \n",
       "...                 ...  \n",
       "18244  WestTexNewMexico  \n",
       "18245  WestTexNewMexico  \n",
       "18246  WestTexNewMexico  \n",
       "18247  WestTexNewMexico  \n",
       "18248  WestTexNewMexico  \n",
       "\n",
       "[18249 rows x 13 columns]"
      ]
     },
     "execution_count": 3,
     "metadata": {},
     "output_type": "execute_result"
    }
   ],
   "source": [
    "fruit = pd.read_csv(\"avocado.csv\")\n",
    "fruit"
   ]
  },
  {
   "cell_type": "code",
   "execution_count": 4,
   "metadata": {},
   "outputs": [
    {
     "data": {
      "text/html": [
       "<div>\n",
       "<style scoped>\n",
       "    .dataframe tbody tr th:only-of-type {\n",
       "        vertical-align: middle;\n",
       "    }\n",
       "\n",
       "    .dataframe tbody tr th {\n",
       "        vertical-align: top;\n",
       "    }\n",
       "\n",
       "    .dataframe thead th {\n",
       "        text-align: right;\n",
       "    }\n",
       "</style>\n",
       "<table border=\"1\" class=\"dataframe\">\n",
       "  <thead>\n",
       "    <tr style=\"text-align: right;\">\n",
       "      <th></th>\n",
       "      <th>Date</th>\n",
       "      <th>AveragePrice</th>\n",
       "      <th>Total Volume</th>\n",
       "      <th>4046</th>\n",
       "      <th>4225</th>\n",
       "      <th>4770</th>\n",
       "      <th>Total Bags</th>\n",
       "      <th>Small Bags</th>\n",
       "      <th>Large Bags</th>\n",
       "      <th>XLarge Bags</th>\n",
       "      <th>type</th>\n",
       "      <th>year</th>\n",
       "      <th>region</th>\n",
       "    </tr>\n",
       "  </thead>\n",
       "  <tbody>\n",
       "    <tr>\n",
       "      <th>0</th>\n",
       "      <td>27-12-2015</td>\n",
       "      <td>1.33</td>\n",
       "      <td>64236.62</td>\n",
       "      <td>1036.74</td>\n",
       "      <td>54454.85</td>\n",
       "      <td>48.16</td>\n",
       "      <td>8696.87</td>\n",
       "      <td>8603.62</td>\n",
       "      <td>93.25</td>\n",
       "      <td>0.0</td>\n",
       "      <td>conventional</td>\n",
       "      <td>2015</td>\n",
       "      <td>Albany</td>\n",
       "    </tr>\n",
       "    <tr>\n",
       "      <th>1</th>\n",
       "      <td>20-12-2015</td>\n",
       "      <td>1.35</td>\n",
       "      <td>54876.98</td>\n",
       "      <td>674.28</td>\n",
       "      <td>44638.81</td>\n",
       "      <td>58.33</td>\n",
       "      <td>9505.56</td>\n",
       "      <td>9408.07</td>\n",
       "      <td>97.49</td>\n",
       "      <td>0.0</td>\n",
       "      <td>conventional</td>\n",
       "      <td>2015</td>\n",
       "      <td>Albany</td>\n",
       "    </tr>\n",
       "    <tr>\n",
       "      <th>2</th>\n",
       "      <td>13-12-2015</td>\n",
       "      <td>0.93</td>\n",
       "      <td>118220.22</td>\n",
       "      <td>794.70</td>\n",
       "      <td>109149.67</td>\n",
       "      <td>130.50</td>\n",
       "      <td>8145.35</td>\n",
       "      <td>8042.21</td>\n",
       "      <td>103.14</td>\n",
       "      <td>0.0</td>\n",
       "      <td>conventional</td>\n",
       "      <td>2015</td>\n",
       "      <td>Albany</td>\n",
       "    </tr>\n",
       "    <tr>\n",
       "      <th>3</th>\n",
       "      <td>06-12-2015</td>\n",
       "      <td>1.08</td>\n",
       "      <td>78992.15</td>\n",
       "      <td>1132.00</td>\n",
       "      <td>71976.41</td>\n",
       "      <td>72.58</td>\n",
       "      <td>5811.16</td>\n",
       "      <td>5677.40</td>\n",
       "      <td>133.76</td>\n",
       "      <td>0.0</td>\n",
       "      <td>conventional</td>\n",
       "      <td>2015</td>\n",
       "      <td>Albany</td>\n",
       "    </tr>\n",
       "    <tr>\n",
       "      <th>4</th>\n",
       "      <td>29-11-2015</td>\n",
       "      <td>1.28</td>\n",
       "      <td>51039.60</td>\n",
       "      <td>941.48</td>\n",
       "      <td>43838.39</td>\n",
       "      <td>75.78</td>\n",
       "      <td>6183.95</td>\n",
       "      <td>5986.26</td>\n",
       "      <td>197.69</td>\n",
       "      <td>0.0</td>\n",
       "      <td>conventional</td>\n",
       "      <td>2015</td>\n",
       "      <td>Albany</td>\n",
       "    </tr>\n",
       "  </tbody>\n",
       "</table>\n",
       "</div>"
      ],
      "text/plain": [
       "         Date  AveragePrice  Total Volume     4046       4225    4770  \\\n",
       "0  27-12-2015          1.33      64236.62  1036.74   54454.85   48.16   \n",
       "1  20-12-2015          1.35      54876.98   674.28   44638.81   58.33   \n",
       "2  13-12-2015          0.93     118220.22   794.70  109149.67  130.50   \n",
       "3  06-12-2015          1.08      78992.15  1132.00   71976.41   72.58   \n",
       "4  29-11-2015          1.28      51039.60   941.48   43838.39   75.78   \n",
       "\n",
       "   Total Bags  Small Bags  Large Bags  XLarge Bags          type  year  region  \n",
       "0     8696.87     8603.62       93.25          0.0  conventional  2015  Albany  \n",
       "1     9505.56     9408.07       97.49          0.0  conventional  2015  Albany  \n",
       "2     8145.35     8042.21      103.14          0.0  conventional  2015  Albany  \n",
       "3     5811.16     5677.40      133.76          0.0  conventional  2015  Albany  \n",
       "4     6183.95     5986.26      197.69          0.0  conventional  2015  Albany  "
      ]
     },
     "execution_count": 4,
     "metadata": {},
     "output_type": "execute_result"
    }
   ],
   "source": [
    "fruit.head()"
   ]
  },
  {
   "cell_type": "code",
   "execution_count": 5,
   "metadata": {},
   "outputs": [
    {
     "data": {
      "text/html": [
       "<div>\n",
       "<style scoped>\n",
       "    .dataframe tbody tr th:only-of-type {\n",
       "        vertical-align: middle;\n",
       "    }\n",
       "\n",
       "    .dataframe tbody tr th {\n",
       "        vertical-align: top;\n",
       "    }\n",
       "\n",
       "    .dataframe thead th {\n",
       "        text-align: right;\n",
       "    }\n",
       "</style>\n",
       "<table border=\"1\" class=\"dataframe\">\n",
       "  <thead>\n",
       "    <tr style=\"text-align: right;\">\n",
       "      <th></th>\n",
       "      <th>Date</th>\n",
       "      <th>AveragePrice</th>\n",
       "      <th>Total Volume</th>\n",
       "      <th>4046</th>\n",
       "      <th>4225</th>\n",
       "      <th>4770</th>\n",
       "      <th>Total Bags</th>\n",
       "      <th>Small Bags</th>\n",
       "      <th>Large Bags</th>\n",
       "      <th>XLarge Bags</th>\n",
       "      <th>type</th>\n",
       "      <th>year</th>\n",
       "      <th>region</th>\n",
       "    </tr>\n",
       "  </thead>\n",
       "  <tbody>\n",
       "    <tr>\n",
       "      <th>16479</th>\n",
       "      <td>12-03-2017</td>\n",
       "      <td>2.33</td>\n",
       "      <td>14160.84</td>\n",
       "      <td>2593.91</td>\n",
       "      <td>5686.31</td>\n",
       "      <td>15.17</td>\n",
       "      <td>5865.45</td>\n",
       "      <td>5865.45</td>\n",
       "      <td>0.0</td>\n",
       "      <td>0.0</td>\n",
       "      <td>organic</td>\n",
       "      <td>2017</td>\n",
       "      <td>Philadelphia</td>\n",
       "    </tr>\n",
       "  </tbody>\n",
       "</table>\n",
       "</div>"
      ],
      "text/plain": [
       "             Date  AveragePrice  Total Volume     4046     4225   4770  \\\n",
       "16479  12-03-2017          2.33      14160.84  2593.91  5686.31  15.17   \n",
       "\n",
       "       Total Bags  Small Bags  Large Bags  XLarge Bags     type  year  \\\n",
       "16479     5865.45     5865.45         0.0          0.0  organic  2017   \n",
       "\n",
       "             region  \n",
       "16479  Philadelphia  "
      ]
     },
     "execution_count": 5,
     "metadata": {},
     "output_type": "execute_result"
    }
   ],
   "source": [
    "fruit.sample()"
   ]
  },
  {
   "cell_type": "code",
   "execution_count": 6,
   "metadata": {},
   "outputs": [
    {
     "name": "stdout",
     "output_type": "stream",
     "text": [
      "<class 'pandas.core.frame.DataFrame'>\n",
      "RangeIndex: 18249 entries, 0 to 18248\n",
      "Data columns (total 13 columns):\n",
      " #   Column        Non-Null Count  Dtype  \n",
      "---  ------        --------------  -----  \n",
      " 0   Date          18249 non-null  object \n",
      " 1   AveragePrice  18249 non-null  float64\n",
      " 2   Total Volume  18249 non-null  float64\n",
      " 3   4046          18249 non-null  float64\n",
      " 4   4225          18249 non-null  float64\n",
      " 5   4770          18249 non-null  float64\n",
      " 6   Total Bags    18249 non-null  float64\n",
      " 7   Small Bags    18249 non-null  float64\n",
      " 8   Large Bags    18249 non-null  float64\n",
      " 9   XLarge Bags   18249 non-null  float64\n",
      " 10  type          18249 non-null  object \n",
      " 11  year          18249 non-null  int64  \n",
      " 12  region        18249 non-null  object \n",
      "dtypes: float64(9), int64(1), object(3)\n",
      "memory usage: 1.8+ MB\n"
     ]
    }
   ],
   "source": [
    "fruit.info()"
   ]
  },
  {
   "cell_type": "markdown",
   "metadata": {},
   "source": [
    "# Data Cleaning"
   ]
  },
  {
   "cell_type": "code",
   "execution_count": 8,
   "metadata": {},
   "outputs": [],
   "source": [
    "# Date drop\n",
    "fruit.drop(['Date'], axis = 1, inplace = True)"
   ]
  },
  {
   "cell_type": "code",
   "execution_count": 9,
   "metadata": {},
   "outputs": [
    {
     "data": {
      "text/html": [
       "<div>\n",
       "<style scoped>\n",
       "    .dataframe tbody tr th:only-of-type {\n",
       "        vertical-align: middle;\n",
       "    }\n",
       "\n",
       "    .dataframe tbody tr th {\n",
       "        vertical-align: top;\n",
       "    }\n",
       "\n",
       "    .dataframe thead th {\n",
       "        text-align: right;\n",
       "    }\n",
       "</style>\n",
       "<table border=\"1\" class=\"dataframe\">\n",
       "  <thead>\n",
       "    <tr style=\"text-align: right;\">\n",
       "      <th></th>\n",
       "      <th>AveragePrice</th>\n",
       "      <th>Total Volume</th>\n",
       "      <th>4046</th>\n",
       "      <th>4225</th>\n",
       "      <th>4770</th>\n",
       "      <th>Total Bags</th>\n",
       "      <th>Small Bags</th>\n",
       "      <th>Large Bags</th>\n",
       "      <th>XLarge Bags</th>\n",
       "      <th>type</th>\n",
       "      <th>year</th>\n",
       "      <th>region</th>\n",
       "    </tr>\n",
       "  </thead>\n",
       "  <tbody>\n",
       "    <tr>\n",
       "      <th>0</th>\n",
       "      <td>1.33</td>\n",
       "      <td>64236.62</td>\n",
       "      <td>1036.74</td>\n",
       "      <td>54454.85</td>\n",
       "      <td>48.16</td>\n",
       "      <td>8696.87</td>\n",
       "      <td>8603.62</td>\n",
       "      <td>93.25</td>\n",
       "      <td>0.0</td>\n",
       "      <td>conventional</td>\n",
       "      <td>2015</td>\n",
       "      <td>Albany</td>\n",
       "    </tr>\n",
       "    <tr>\n",
       "      <th>1</th>\n",
       "      <td>1.35</td>\n",
       "      <td>54876.98</td>\n",
       "      <td>674.28</td>\n",
       "      <td>44638.81</td>\n",
       "      <td>58.33</td>\n",
       "      <td>9505.56</td>\n",
       "      <td>9408.07</td>\n",
       "      <td>97.49</td>\n",
       "      <td>0.0</td>\n",
       "      <td>conventional</td>\n",
       "      <td>2015</td>\n",
       "      <td>Albany</td>\n",
       "    </tr>\n",
       "    <tr>\n",
       "      <th>2</th>\n",
       "      <td>0.93</td>\n",
       "      <td>118220.22</td>\n",
       "      <td>794.70</td>\n",
       "      <td>109149.67</td>\n",
       "      <td>130.50</td>\n",
       "      <td>8145.35</td>\n",
       "      <td>8042.21</td>\n",
       "      <td>103.14</td>\n",
       "      <td>0.0</td>\n",
       "      <td>conventional</td>\n",
       "      <td>2015</td>\n",
       "      <td>Albany</td>\n",
       "    </tr>\n",
       "    <tr>\n",
       "      <th>3</th>\n",
       "      <td>1.08</td>\n",
       "      <td>78992.15</td>\n",
       "      <td>1132.00</td>\n",
       "      <td>71976.41</td>\n",
       "      <td>72.58</td>\n",
       "      <td>5811.16</td>\n",
       "      <td>5677.40</td>\n",
       "      <td>133.76</td>\n",
       "      <td>0.0</td>\n",
       "      <td>conventional</td>\n",
       "      <td>2015</td>\n",
       "      <td>Albany</td>\n",
       "    </tr>\n",
       "    <tr>\n",
       "      <th>4</th>\n",
       "      <td>1.28</td>\n",
       "      <td>51039.60</td>\n",
       "      <td>941.48</td>\n",
       "      <td>43838.39</td>\n",
       "      <td>75.78</td>\n",
       "      <td>6183.95</td>\n",
       "      <td>5986.26</td>\n",
       "      <td>197.69</td>\n",
       "      <td>0.0</td>\n",
       "      <td>conventional</td>\n",
       "      <td>2015</td>\n",
       "      <td>Albany</td>\n",
       "    </tr>\n",
       "    <tr>\n",
       "      <th>...</th>\n",
       "      <td>...</td>\n",
       "      <td>...</td>\n",
       "      <td>...</td>\n",
       "      <td>...</td>\n",
       "      <td>...</td>\n",
       "      <td>...</td>\n",
       "      <td>...</td>\n",
       "      <td>...</td>\n",
       "      <td>...</td>\n",
       "      <td>...</td>\n",
       "      <td>...</td>\n",
       "      <td>...</td>\n",
       "    </tr>\n",
       "    <tr>\n",
       "      <th>18244</th>\n",
       "      <td>1.63</td>\n",
       "      <td>17074.83</td>\n",
       "      <td>2046.96</td>\n",
       "      <td>1529.20</td>\n",
       "      <td>0.00</td>\n",
       "      <td>13498.67</td>\n",
       "      <td>13066.82</td>\n",
       "      <td>431.85</td>\n",
       "      <td>0.0</td>\n",
       "      <td>organic</td>\n",
       "      <td>2018</td>\n",
       "      <td>WestTexNewMexico</td>\n",
       "    </tr>\n",
       "    <tr>\n",
       "      <th>18245</th>\n",
       "      <td>1.71</td>\n",
       "      <td>13888.04</td>\n",
       "      <td>1191.70</td>\n",
       "      <td>3431.50</td>\n",
       "      <td>0.00</td>\n",
       "      <td>9264.84</td>\n",
       "      <td>8940.04</td>\n",
       "      <td>324.80</td>\n",
       "      <td>0.0</td>\n",
       "      <td>organic</td>\n",
       "      <td>2018</td>\n",
       "      <td>WestTexNewMexico</td>\n",
       "    </tr>\n",
       "    <tr>\n",
       "      <th>18246</th>\n",
       "      <td>1.87</td>\n",
       "      <td>13766.76</td>\n",
       "      <td>1191.92</td>\n",
       "      <td>2452.79</td>\n",
       "      <td>727.94</td>\n",
       "      <td>9394.11</td>\n",
       "      <td>9351.80</td>\n",
       "      <td>42.31</td>\n",
       "      <td>0.0</td>\n",
       "      <td>organic</td>\n",
       "      <td>2018</td>\n",
       "      <td>WestTexNewMexico</td>\n",
       "    </tr>\n",
       "    <tr>\n",
       "      <th>18247</th>\n",
       "      <td>1.93</td>\n",
       "      <td>16205.22</td>\n",
       "      <td>1527.63</td>\n",
       "      <td>2981.04</td>\n",
       "      <td>727.01</td>\n",
       "      <td>10969.54</td>\n",
       "      <td>10919.54</td>\n",
       "      <td>50.00</td>\n",
       "      <td>0.0</td>\n",
       "      <td>organic</td>\n",
       "      <td>2018</td>\n",
       "      <td>WestTexNewMexico</td>\n",
       "    </tr>\n",
       "    <tr>\n",
       "      <th>18248</th>\n",
       "      <td>1.62</td>\n",
       "      <td>17489.58</td>\n",
       "      <td>2894.77</td>\n",
       "      <td>2356.13</td>\n",
       "      <td>224.53</td>\n",
       "      <td>12014.15</td>\n",
       "      <td>11988.14</td>\n",
       "      <td>26.01</td>\n",
       "      <td>0.0</td>\n",
       "      <td>organic</td>\n",
       "      <td>2018</td>\n",
       "      <td>WestTexNewMexico</td>\n",
       "    </tr>\n",
       "  </tbody>\n",
       "</table>\n",
       "<p>18249 rows × 12 columns</p>\n",
       "</div>"
      ],
      "text/plain": [
       "       AveragePrice  Total Volume     4046       4225    4770  Total Bags  \\\n",
       "0              1.33      64236.62  1036.74   54454.85   48.16     8696.87   \n",
       "1              1.35      54876.98   674.28   44638.81   58.33     9505.56   \n",
       "2              0.93     118220.22   794.70  109149.67  130.50     8145.35   \n",
       "3              1.08      78992.15  1132.00   71976.41   72.58     5811.16   \n",
       "4              1.28      51039.60   941.48   43838.39   75.78     6183.95   \n",
       "...             ...           ...      ...        ...     ...         ...   \n",
       "18244          1.63      17074.83  2046.96    1529.20    0.00    13498.67   \n",
       "18245          1.71      13888.04  1191.70    3431.50    0.00     9264.84   \n",
       "18246          1.87      13766.76  1191.92    2452.79  727.94     9394.11   \n",
       "18247          1.93      16205.22  1527.63    2981.04  727.01    10969.54   \n",
       "18248          1.62      17489.58  2894.77    2356.13  224.53    12014.15   \n",
       "\n",
       "       Small Bags  Large Bags  XLarge Bags          type  year  \\\n",
       "0         8603.62       93.25          0.0  conventional  2015   \n",
       "1         9408.07       97.49          0.0  conventional  2015   \n",
       "2         8042.21      103.14          0.0  conventional  2015   \n",
       "3         5677.40      133.76          0.0  conventional  2015   \n",
       "4         5986.26      197.69          0.0  conventional  2015   \n",
       "...           ...         ...          ...           ...   ...   \n",
       "18244    13066.82      431.85          0.0       organic  2018   \n",
       "18245     8940.04      324.80          0.0       organic  2018   \n",
       "18246     9351.80       42.31          0.0       organic  2018   \n",
       "18247    10919.54       50.00          0.0       organic  2018   \n",
       "18248    11988.14       26.01          0.0       organic  2018   \n",
       "\n",
       "                 region  \n",
       "0                Albany  \n",
       "1                Albany  \n",
       "2                Albany  \n",
       "3                Albany  \n",
       "4                Albany  \n",
       "...                 ...  \n",
       "18244  WestTexNewMexico  \n",
       "18245  WestTexNewMexico  \n",
       "18246  WestTexNewMexico  \n",
       "18247  WestTexNewMexico  \n",
       "18248  WestTexNewMexico  \n",
       "\n",
       "[18249 rows x 12 columns]"
      ]
     },
     "execution_count": 9,
     "metadata": {},
     "output_type": "execute_result"
    }
   ],
   "source": [
    "fruit"
   ]
  },
  {
   "cell_type": "code",
   "execution_count": 10,
   "metadata": {},
   "outputs": [],
   "source": [
    "fruit.drop(['XLarge Bags'], axis = 1, inplace = True)"
   ]
  },
  {
   "cell_type": "code",
   "execution_count": 11,
   "metadata": {},
   "outputs": [
    {
     "data": {
      "text/html": [
       "<div>\n",
       "<style scoped>\n",
       "    .dataframe tbody tr th:only-of-type {\n",
       "        vertical-align: middle;\n",
       "    }\n",
       "\n",
       "    .dataframe tbody tr th {\n",
       "        vertical-align: top;\n",
       "    }\n",
       "\n",
       "    .dataframe thead th {\n",
       "        text-align: right;\n",
       "    }\n",
       "</style>\n",
       "<table border=\"1\" class=\"dataframe\">\n",
       "  <thead>\n",
       "    <tr style=\"text-align: right;\">\n",
       "      <th></th>\n",
       "      <th>AveragePrice</th>\n",
       "      <th>Total Volume</th>\n",
       "      <th>4046</th>\n",
       "      <th>4225</th>\n",
       "      <th>4770</th>\n",
       "      <th>Total Bags</th>\n",
       "      <th>Small Bags</th>\n",
       "      <th>Large Bags</th>\n",
       "      <th>type</th>\n",
       "      <th>year</th>\n",
       "      <th>region</th>\n",
       "    </tr>\n",
       "  </thead>\n",
       "  <tbody>\n",
       "    <tr>\n",
       "      <th>0</th>\n",
       "      <td>1.33</td>\n",
       "      <td>64236.62</td>\n",
       "      <td>1036.74</td>\n",
       "      <td>54454.85</td>\n",
       "      <td>48.16</td>\n",
       "      <td>8696.87</td>\n",
       "      <td>8603.62</td>\n",
       "      <td>93.25</td>\n",
       "      <td>conventional</td>\n",
       "      <td>2015</td>\n",
       "      <td>Albany</td>\n",
       "    </tr>\n",
       "    <tr>\n",
       "      <th>1</th>\n",
       "      <td>1.35</td>\n",
       "      <td>54876.98</td>\n",
       "      <td>674.28</td>\n",
       "      <td>44638.81</td>\n",
       "      <td>58.33</td>\n",
       "      <td>9505.56</td>\n",
       "      <td>9408.07</td>\n",
       "      <td>97.49</td>\n",
       "      <td>conventional</td>\n",
       "      <td>2015</td>\n",
       "      <td>Albany</td>\n",
       "    </tr>\n",
       "    <tr>\n",
       "      <th>2</th>\n",
       "      <td>0.93</td>\n",
       "      <td>118220.22</td>\n",
       "      <td>794.70</td>\n",
       "      <td>109149.67</td>\n",
       "      <td>130.50</td>\n",
       "      <td>8145.35</td>\n",
       "      <td>8042.21</td>\n",
       "      <td>103.14</td>\n",
       "      <td>conventional</td>\n",
       "      <td>2015</td>\n",
       "      <td>Albany</td>\n",
       "    </tr>\n",
       "    <tr>\n",
       "      <th>3</th>\n",
       "      <td>1.08</td>\n",
       "      <td>78992.15</td>\n",
       "      <td>1132.00</td>\n",
       "      <td>71976.41</td>\n",
       "      <td>72.58</td>\n",
       "      <td>5811.16</td>\n",
       "      <td>5677.40</td>\n",
       "      <td>133.76</td>\n",
       "      <td>conventional</td>\n",
       "      <td>2015</td>\n",
       "      <td>Albany</td>\n",
       "    </tr>\n",
       "    <tr>\n",
       "      <th>4</th>\n",
       "      <td>1.28</td>\n",
       "      <td>51039.60</td>\n",
       "      <td>941.48</td>\n",
       "      <td>43838.39</td>\n",
       "      <td>75.78</td>\n",
       "      <td>6183.95</td>\n",
       "      <td>5986.26</td>\n",
       "      <td>197.69</td>\n",
       "      <td>conventional</td>\n",
       "      <td>2015</td>\n",
       "      <td>Albany</td>\n",
       "    </tr>\n",
       "    <tr>\n",
       "      <th>...</th>\n",
       "      <td>...</td>\n",
       "      <td>...</td>\n",
       "      <td>...</td>\n",
       "      <td>...</td>\n",
       "      <td>...</td>\n",
       "      <td>...</td>\n",
       "      <td>...</td>\n",
       "      <td>...</td>\n",
       "      <td>...</td>\n",
       "      <td>...</td>\n",
       "      <td>...</td>\n",
       "    </tr>\n",
       "    <tr>\n",
       "      <th>18244</th>\n",
       "      <td>1.63</td>\n",
       "      <td>17074.83</td>\n",
       "      <td>2046.96</td>\n",
       "      <td>1529.20</td>\n",
       "      <td>0.00</td>\n",
       "      <td>13498.67</td>\n",
       "      <td>13066.82</td>\n",
       "      <td>431.85</td>\n",
       "      <td>organic</td>\n",
       "      <td>2018</td>\n",
       "      <td>WestTexNewMexico</td>\n",
       "    </tr>\n",
       "    <tr>\n",
       "      <th>18245</th>\n",
       "      <td>1.71</td>\n",
       "      <td>13888.04</td>\n",
       "      <td>1191.70</td>\n",
       "      <td>3431.50</td>\n",
       "      <td>0.00</td>\n",
       "      <td>9264.84</td>\n",
       "      <td>8940.04</td>\n",
       "      <td>324.80</td>\n",
       "      <td>organic</td>\n",
       "      <td>2018</td>\n",
       "      <td>WestTexNewMexico</td>\n",
       "    </tr>\n",
       "    <tr>\n",
       "      <th>18246</th>\n",
       "      <td>1.87</td>\n",
       "      <td>13766.76</td>\n",
       "      <td>1191.92</td>\n",
       "      <td>2452.79</td>\n",
       "      <td>727.94</td>\n",
       "      <td>9394.11</td>\n",
       "      <td>9351.80</td>\n",
       "      <td>42.31</td>\n",
       "      <td>organic</td>\n",
       "      <td>2018</td>\n",
       "      <td>WestTexNewMexico</td>\n",
       "    </tr>\n",
       "    <tr>\n",
       "      <th>18247</th>\n",
       "      <td>1.93</td>\n",
       "      <td>16205.22</td>\n",
       "      <td>1527.63</td>\n",
       "      <td>2981.04</td>\n",
       "      <td>727.01</td>\n",
       "      <td>10969.54</td>\n",
       "      <td>10919.54</td>\n",
       "      <td>50.00</td>\n",
       "      <td>organic</td>\n",
       "      <td>2018</td>\n",
       "      <td>WestTexNewMexico</td>\n",
       "    </tr>\n",
       "    <tr>\n",
       "      <th>18248</th>\n",
       "      <td>1.62</td>\n",
       "      <td>17489.58</td>\n",
       "      <td>2894.77</td>\n",
       "      <td>2356.13</td>\n",
       "      <td>224.53</td>\n",
       "      <td>12014.15</td>\n",
       "      <td>11988.14</td>\n",
       "      <td>26.01</td>\n",
       "      <td>organic</td>\n",
       "      <td>2018</td>\n",
       "      <td>WestTexNewMexico</td>\n",
       "    </tr>\n",
       "  </tbody>\n",
       "</table>\n",
       "<p>18249 rows × 11 columns</p>\n",
       "</div>"
      ],
      "text/plain": [
       "       AveragePrice  Total Volume     4046       4225    4770  Total Bags  \\\n",
       "0              1.33      64236.62  1036.74   54454.85   48.16     8696.87   \n",
       "1              1.35      54876.98   674.28   44638.81   58.33     9505.56   \n",
       "2              0.93     118220.22   794.70  109149.67  130.50     8145.35   \n",
       "3              1.08      78992.15  1132.00   71976.41   72.58     5811.16   \n",
       "4              1.28      51039.60   941.48   43838.39   75.78     6183.95   \n",
       "...             ...           ...      ...        ...     ...         ...   \n",
       "18244          1.63      17074.83  2046.96    1529.20    0.00    13498.67   \n",
       "18245          1.71      13888.04  1191.70    3431.50    0.00     9264.84   \n",
       "18246          1.87      13766.76  1191.92    2452.79  727.94     9394.11   \n",
       "18247          1.93      16205.22  1527.63    2981.04  727.01    10969.54   \n",
       "18248          1.62      17489.58  2894.77    2356.13  224.53    12014.15   \n",
       "\n",
       "       Small Bags  Large Bags          type  year            region  \n",
       "0         8603.62       93.25  conventional  2015            Albany  \n",
       "1         9408.07       97.49  conventional  2015            Albany  \n",
       "2         8042.21      103.14  conventional  2015            Albany  \n",
       "3         5677.40      133.76  conventional  2015            Albany  \n",
       "4         5986.26      197.69  conventional  2015            Albany  \n",
       "...           ...         ...           ...   ...               ...  \n",
       "18244    13066.82      431.85       organic  2018  WestTexNewMexico  \n",
       "18245     8940.04      324.80       organic  2018  WestTexNewMexico  \n",
       "18246     9351.80       42.31       organic  2018  WestTexNewMexico  \n",
       "18247    10919.54       50.00       organic  2018  WestTexNewMexico  \n",
       "18248    11988.14       26.01       organic  2018  WestTexNewMexico  \n",
       "\n",
       "[18249 rows x 11 columns]"
      ]
     },
     "execution_count": 11,
     "metadata": {},
     "output_type": "execute_result"
    }
   ],
   "source": [
    "fruit"
   ]
  },
  {
   "cell_type": "code",
   "execution_count": 14,
   "metadata": {},
   "outputs": [],
   "source": [
    "# Label Encoder\n",
    "\n",
    "le = LabelEncoder()\n",
    "list1 = ['type', 'region']\n",
    "for var in list1:\n",
    "    \n",
    "    fruit[var] = le.fit_transform(fruit[var].astype(str))"
   ]
  },
  {
   "cell_type": "code",
   "execution_count": 15,
   "metadata": {},
   "outputs": [
    {
     "data": {
      "text/html": [
       "<div>\n",
       "<style scoped>\n",
       "    .dataframe tbody tr th:only-of-type {\n",
       "        vertical-align: middle;\n",
       "    }\n",
       "\n",
       "    .dataframe tbody tr th {\n",
       "        vertical-align: top;\n",
       "    }\n",
       "\n",
       "    .dataframe thead th {\n",
       "        text-align: right;\n",
       "    }\n",
       "</style>\n",
       "<table border=\"1\" class=\"dataframe\">\n",
       "  <thead>\n",
       "    <tr style=\"text-align: right;\">\n",
       "      <th></th>\n",
       "      <th>AveragePrice</th>\n",
       "      <th>Total Volume</th>\n",
       "      <th>4046</th>\n",
       "      <th>4225</th>\n",
       "      <th>4770</th>\n",
       "      <th>Total Bags</th>\n",
       "      <th>Small Bags</th>\n",
       "      <th>Large Bags</th>\n",
       "      <th>type</th>\n",
       "      <th>year</th>\n",
       "      <th>region</th>\n",
       "    </tr>\n",
       "  </thead>\n",
       "  <tbody>\n",
       "    <tr>\n",
       "      <th>0</th>\n",
       "      <td>1.33</td>\n",
       "      <td>64236.62</td>\n",
       "      <td>1036.74</td>\n",
       "      <td>54454.85</td>\n",
       "      <td>48.16</td>\n",
       "      <td>8696.87</td>\n",
       "      <td>8603.62</td>\n",
       "      <td>93.25</td>\n",
       "      <td>0</td>\n",
       "      <td>2015</td>\n",
       "      <td>0</td>\n",
       "    </tr>\n",
       "    <tr>\n",
       "      <th>1</th>\n",
       "      <td>1.35</td>\n",
       "      <td>54876.98</td>\n",
       "      <td>674.28</td>\n",
       "      <td>44638.81</td>\n",
       "      <td>58.33</td>\n",
       "      <td>9505.56</td>\n",
       "      <td>9408.07</td>\n",
       "      <td>97.49</td>\n",
       "      <td>0</td>\n",
       "      <td>2015</td>\n",
       "      <td>0</td>\n",
       "    </tr>\n",
       "    <tr>\n",
       "      <th>2</th>\n",
       "      <td>0.93</td>\n",
       "      <td>118220.22</td>\n",
       "      <td>794.70</td>\n",
       "      <td>109149.67</td>\n",
       "      <td>130.50</td>\n",
       "      <td>8145.35</td>\n",
       "      <td>8042.21</td>\n",
       "      <td>103.14</td>\n",
       "      <td>0</td>\n",
       "      <td>2015</td>\n",
       "      <td>0</td>\n",
       "    </tr>\n",
       "    <tr>\n",
       "      <th>3</th>\n",
       "      <td>1.08</td>\n",
       "      <td>78992.15</td>\n",
       "      <td>1132.00</td>\n",
       "      <td>71976.41</td>\n",
       "      <td>72.58</td>\n",
       "      <td>5811.16</td>\n",
       "      <td>5677.40</td>\n",
       "      <td>133.76</td>\n",
       "      <td>0</td>\n",
       "      <td>2015</td>\n",
       "      <td>0</td>\n",
       "    </tr>\n",
       "    <tr>\n",
       "      <th>4</th>\n",
       "      <td>1.28</td>\n",
       "      <td>51039.60</td>\n",
       "      <td>941.48</td>\n",
       "      <td>43838.39</td>\n",
       "      <td>75.78</td>\n",
       "      <td>6183.95</td>\n",
       "      <td>5986.26</td>\n",
       "      <td>197.69</td>\n",
       "      <td>0</td>\n",
       "      <td>2015</td>\n",
       "      <td>0</td>\n",
       "    </tr>\n",
       "    <tr>\n",
       "      <th>...</th>\n",
       "      <td>...</td>\n",
       "      <td>...</td>\n",
       "      <td>...</td>\n",
       "      <td>...</td>\n",
       "      <td>...</td>\n",
       "      <td>...</td>\n",
       "      <td>...</td>\n",
       "      <td>...</td>\n",
       "      <td>...</td>\n",
       "      <td>...</td>\n",
       "      <td>...</td>\n",
       "    </tr>\n",
       "    <tr>\n",
       "      <th>18244</th>\n",
       "      <td>1.63</td>\n",
       "      <td>17074.83</td>\n",
       "      <td>2046.96</td>\n",
       "      <td>1529.20</td>\n",
       "      <td>0.00</td>\n",
       "      <td>13498.67</td>\n",
       "      <td>13066.82</td>\n",
       "      <td>431.85</td>\n",
       "      <td>1</td>\n",
       "      <td>2018</td>\n",
       "      <td>53</td>\n",
       "    </tr>\n",
       "    <tr>\n",
       "      <th>18245</th>\n",
       "      <td>1.71</td>\n",
       "      <td>13888.04</td>\n",
       "      <td>1191.70</td>\n",
       "      <td>3431.50</td>\n",
       "      <td>0.00</td>\n",
       "      <td>9264.84</td>\n",
       "      <td>8940.04</td>\n",
       "      <td>324.80</td>\n",
       "      <td>1</td>\n",
       "      <td>2018</td>\n",
       "      <td>53</td>\n",
       "    </tr>\n",
       "    <tr>\n",
       "      <th>18246</th>\n",
       "      <td>1.87</td>\n",
       "      <td>13766.76</td>\n",
       "      <td>1191.92</td>\n",
       "      <td>2452.79</td>\n",
       "      <td>727.94</td>\n",
       "      <td>9394.11</td>\n",
       "      <td>9351.80</td>\n",
       "      <td>42.31</td>\n",
       "      <td>1</td>\n",
       "      <td>2018</td>\n",
       "      <td>53</td>\n",
       "    </tr>\n",
       "    <tr>\n",
       "      <th>18247</th>\n",
       "      <td>1.93</td>\n",
       "      <td>16205.22</td>\n",
       "      <td>1527.63</td>\n",
       "      <td>2981.04</td>\n",
       "      <td>727.01</td>\n",
       "      <td>10969.54</td>\n",
       "      <td>10919.54</td>\n",
       "      <td>50.00</td>\n",
       "      <td>1</td>\n",
       "      <td>2018</td>\n",
       "      <td>53</td>\n",
       "    </tr>\n",
       "    <tr>\n",
       "      <th>18248</th>\n",
       "      <td>1.62</td>\n",
       "      <td>17489.58</td>\n",
       "      <td>2894.77</td>\n",
       "      <td>2356.13</td>\n",
       "      <td>224.53</td>\n",
       "      <td>12014.15</td>\n",
       "      <td>11988.14</td>\n",
       "      <td>26.01</td>\n",
       "      <td>1</td>\n",
       "      <td>2018</td>\n",
       "      <td>53</td>\n",
       "    </tr>\n",
       "  </tbody>\n",
       "</table>\n",
       "<p>18249 rows × 11 columns</p>\n",
       "</div>"
      ],
      "text/plain": [
       "       AveragePrice  Total Volume     4046       4225    4770  Total Bags  \\\n",
       "0              1.33      64236.62  1036.74   54454.85   48.16     8696.87   \n",
       "1              1.35      54876.98   674.28   44638.81   58.33     9505.56   \n",
       "2              0.93     118220.22   794.70  109149.67  130.50     8145.35   \n",
       "3              1.08      78992.15  1132.00   71976.41   72.58     5811.16   \n",
       "4              1.28      51039.60   941.48   43838.39   75.78     6183.95   \n",
       "...             ...           ...      ...        ...     ...         ...   \n",
       "18244          1.63      17074.83  2046.96    1529.20    0.00    13498.67   \n",
       "18245          1.71      13888.04  1191.70    3431.50    0.00     9264.84   \n",
       "18246          1.87      13766.76  1191.92    2452.79  727.94     9394.11   \n",
       "18247          1.93      16205.22  1527.63    2981.04  727.01    10969.54   \n",
       "18248          1.62      17489.58  2894.77    2356.13  224.53    12014.15   \n",
       "\n",
       "       Small Bags  Large Bags  type  year  region  \n",
       "0         8603.62       93.25     0  2015       0  \n",
       "1         9408.07       97.49     0  2015       0  \n",
       "2         8042.21      103.14     0  2015       0  \n",
       "3         5677.40      133.76     0  2015       0  \n",
       "4         5986.26      197.69     0  2015       0  \n",
       "...           ...         ...   ...   ...     ...  \n",
       "18244    13066.82      431.85     1  2018      53  \n",
       "18245     8940.04      324.80     1  2018      53  \n",
       "18246     9351.80       42.31     1  2018      53  \n",
       "18247    10919.54       50.00     1  2018      53  \n",
       "18248    11988.14       26.01     1  2018      53  \n",
       "\n",
       "[18249 rows x 11 columns]"
      ]
     },
     "execution_count": 15,
     "metadata": {},
     "output_type": "execute_result"
    }
   ],
   "source": [
    "fruit"
   ]
  },
  {
   "cell_type": "code",
   "execution_count": 16,
   "metadata": {},
   "outputs": [
    {
     "data": {
      "text/plain": [
       "<AxesSubplot:>"
      ]
     },
     "execution_count": 16,
     "metadata": {},
     "output_type": "execute_result"
    },
    {
     "data": {
      "image/png": "[encoded data removed]",
      "text/plain": [
       "<Figure size 432x288 with 2 Axes>"
      ]
     },
     "metadata": {
      "needs_background": "light"
     },
     "output_type": "display_data"
    }
   ],
   "source": [
    "# using Heatmap\n",
    "sns.heatmap(fruit.isnull())"
   ]
  },
  {
   "cell_type": "code",
   "execution_count": 17,
   "metadata": {},
   "outputs": [
    {
     "data": {
      "text/html": [
       "<div>\n",
       "<style scoped>\n",
       "    .dataframe tbody tr th:only-of-type {\n",
       "        vertical-align: middle;\n",
       "    }\n",
       "\n",
       "    .dataframe tbody tr th {\n",
       "        vertical-align: top;\n",
       "    }\n",
       "\n",
       "    .dataframe thead th {\n",
       "        text-align: right;\n",
       "    }\n",
       "</style>\n",
       "<table border=\"1\" class=\"dataframe\">\n",
       "  <thead>\n",
       "    <tr style=\"text-align: right;\">\n",
       "      <th></th>\n",
       "      <th>AveragePrice</th>\n",
       "      <th>Total Volume</th>\n",
       "      <th>4046</th>\n",
       "      <th>4225</th>\n",
       "      <th>4770</th>\n",
       "      <th>Total Bags</th>\n",
       "      <th>Small Bags</th>\n",
       "      <th>Large Bags</th>\n",
       "      <th>type</th>\n",
       "      <th>year</th>\n",
       "      <th>region</th>\n",
       "    </tr>\n",
       "  </thead>\n",
       "  <tbody>\n",
       "    <tr>\n",
       "      <th>count</th>\n",
       "      <td>18249.000000</td>\n",
       "      <td>1.824900e+04</td>\n",
       "      <td>1.824900e+04</td>\n",
       "      <td>1.824900e+04</td>\n",
       "      <td>1.824900e+04</td>\n",
       "      <td>1.824900e+04</td>\n",
       "      <td>1.824900e+04</td>\n",
       "      <td>1.824900e+04</td>\n",
       "      <td>18249.000000</td>\n",
       "      <td>18249.000000</td>\n",
       "      <td>18249.000000</td>\n",
       "    </tr>\n",
       "    <tr>\n",
       "      <th>mean</th>\n",
       "      <td>1.405978</td>\n",
       "      <td>8.506440e+05</td>\n",
       "      <td>2.930084e+05</td>\n",
       "      <td>2.951546e+05</td>\n",
       "      <td>2.283974e+04</td>\n",
       "      <td>2.396392e+05</td>\n",
       "      <td>1.821947e+05</td>\n",
       "      <td>5.433809e+04</td>\n",
       "      <td>0.499918</td>\n",
       "      <td>2016.147899</td>\n",
       "      <td>26.495644</td>\n",
       "    </tr>\n",
       "    <tr>\n",
       "      <th>std</th>\n",
       "      <td>0.402677</td>\n",
       "      <td>3.453545e+06</td>\n",
       "      <td>1.264989e+06</td>\n",
       "      <td>1.204120e+06</td>\n",
       "      <td>1.074641e+05</td>\n",
       "      <td>9.862424e+05</td>\n",
       "      <td>7.461785e+05</td>\n",
       "      <td>2.439660e+05</td>\n",
       "      <td>0.500014</td>\n",
       "      <td>0.939938</td>\n",
       "      <td>15.583788</td>\n",
       "    </tr>\n",
       "    <tr>\n",
       "      <th>min</th>\n",
       "      <td>0.440000</td>\n",
       "      <td>8.456000e+01</td>\n",
       "      <td>0.000000e+00</td>\n",
       "      <td>0.000000e+00</td>\n",
       "      <td>0.000000e+00</td>\n",
       "      <td>0.000000e+00</td>\n",
       "      <td>0.000000e+00</td>\n",
       "      <td>0.000000e+00</td>\n",
       "      <td>0.000000</td>\n",
       "      <td>2015.000000</td>\n",
       "      <td>0.000000</td>\n",
       "    </tr>\n",
       "    <tr>\n",
       "      <th>25%</th>\n",
       "      <td>1.100000</td>\n",
       "      <td>1.083858e+04</td>\n",
       "      <td>8.540700e+02</td>\n",
       "      <td>3.008780e+03</td>\n",
       "      <td>0.000000e+00</td>\n",
       "      <td>5.088640e+03</td>\n",
       "      <td>2.849420e+03</td>\n",
       "      <td>1.274700e+02</td>\n",
       "      <td>0.000000</td>\n",
       "      <td>2015.000000</td>\n",
       "      <td>13.000000</td>\n",
       "    </tr>\n",
       "    <tr>\n",
       "      <th>50%</th>\n",
       "      <td>1.370000</td>\n",
       "      <td>1.073768e+05</td>\n",
       "      <td>8.645300e+03</td>\n",
       "      <td>2.906102e+04</td>\n",
       "      <td>1.849900e+02</td>\n",
       "      <td>3.974383e+04</td>\n",
       "      <td>2.636282e+04</td>\n",
       "      <td>2.647710e+03</td>\n",
       "      <td>0.000000</td>\n",
       "      <td>2016.000000</td>\n",
       "      <td>26.000000</td>\n",
       "    </tr>\n",
       "    <tr>\n",
       "      <th>75%</th>\n",
       "      <td>1.660000</td>\n",
       "      <td>4.329623e+05</td>\n",
       "      <td>1.110202e+05</td>\n",
       "      <td>1.502069e+05</td>\n",
       "      <td>6.243420e+03</td>\n",
       "      <td>1.107834e+05</td>\n",
       "      <td>8.333767e+04</td>\n",
       "      <td>2.202925e+04</td>\n",
       "      <td>1.000000</td>\n",
       "      <td>2017.000000</td>\n",
       "      <td>40.000000</td>\n",
       "    </tr>\n",
       "    <tr>\n",
       "      <th>max</th>\n",
       "      <td>3.250000</td>\n",
       "      <td>6.250565e+07</td>\n",
       "      <td>2.274362e+07</td>\n",
       "      <td>2.047057e+07</td>\n",
       "      <td>2.546439e+06</td>\n",
       "      <td>1.937313e+07</td>\n",
       "      <td>1.338459e+07</td>\n",
       "      <td>5.719097e+06</td>\n",
       "      <td>1.000000</td>\n",
       "      <td>2018.000000</td>\n",
       "      <td>53.000000</td>\n",
       "    </tr>\n",
       "  </tbody>\n",
       "</table>\n",
       "</div>"
      ],
      "text/plain": [
       "       AveragePrice  Total Volume          4046          4225          4770  \\\n",
       "count  18249.000000  1.824900e+04  1.824900e+04  1.824900e+04  1.824900e+04   \n",
       "mean       1.405978  8.506440e+05  2.930084e+05  2.951546e+05  2.283974e+04   \n",
       "std        0.402677  3.453545e+06  1.264989e+06  1.204120e+06  1.074641e+05   \n",
       "min        0.440000  8.456000e+01  0.000000e+00  0.000000e+00  0.000000e+00   \n",
       "25%        1.100000  1.083858e+04  8.540700e+02  3.008780e+03  0.000000e+00   \n",
       "50%        1.370000  1.073768e+05  8.645300e+03  2.906102e+04  1.849900e+02   \n",
       "75%        1.660000  4.329623e+05  1.110202e+05  1.502069e+05  6.243420e+03   \n",
       "max        3.250000  6.250565e+07  2.274362e+07  2.047057e+07  2.546439e+06   \n",
       "\n",
       "         Total Bags    Small Bags    Large Bags          type          year  \\\n",
       "count  1.824900e+04  1.824900e+04  1.824900e+04  18249.000000  18249.000000   \n",
       "mean   2.396392e+05  1.821947e+05  5.433809e+04      0.499918   2016.147899   \n",
       "std    9.862424e+05  7.461785e+05  2.439660e+05      0.500014      0.939938   \n",
       "min    0.000000e+00  0.000000e+00  0.000000e+00      0.000000   2015.000000   \n",
       "25%    5.088640e+03  2.849420e+03  1.274700e+02      0.000000   2015.000000   \n",
       "50%    3.974383e+04  2.636282e+04  2.647710e+03      0.000000   2016.000000   \n",
       "75%    1.107834e+05  8.333767e+04  2.202925e+04      1.000000   2017.000000   \n",
       "max    1.937313e+07  1.338459e+07  5.719097e+06      1.000000   2018.000000   \n",
       "\n",
       "             region  \n",
       "count  18249.000000  \n",
       "mean      26.495644  \n",
       "std       15.583788  \n",
       "min        0.000000  \n",
       "25%       13.000000  \n",
       "50%       26.000000  \n",
       "75%       40.000000  \n",
       "max       53.000000  "
      ]
     },
     "execution_count": 17,
     "metadata": {},
     "output_type": "execute_result"
    }
   ],
   "source": [
    "fruit.describe()"
   ]
  },
  {
   "cell_type": "code",
   "execution_count": 18,
   "metadata": {},
   "outputs": [
    {
     "data": {
      "text/plain": [
       "AveragePrice     0.580303\n",
       "Total Volume     9.007687\n",
       "4046             8.648220\n",
       "4225             8.942466\n",
       "4770            10.159396\n",
       "Total Bags       9.756072\n",
       "Small Bags       9.540660\n",
       "Large Bags       9.796455\n",
       "type             0.000329\n",
       "year             0.215339\n",
       "region           0.000030\n",
       "dtype: float64"
      ]
     },
     "execution_count": 18,
     "metadata": {},
     "output_type": "execute_result"
    }
   ],
   "source": [
    "fruit.skew()"
   ]
  },
  {
   "cell_type": "markdown",
   "metadata": {},
   "source": [
    "# EDA"
   ]
  },
  {
   "cell_type": "code",
   "execution_count": 19,
   "metadata": {},
   "outputs": [
    {
     "data": {
      "text/plain": [
       "<AxesSubplot:>"
      ]
     },
     "execution_count": 19,
     "metadata": {},
     "output_type": "execute_result"
    },
    {
     "data": {
      "image/png": "[encoded data removed]",
      "text/plain": [
       "<Figure size 432x288 with 1 Axes>"
      ]
     },
     "metadata": {
      "needs_background": "light"
     },
     "output_type": "display_data"
    }
   ],
   "source": [
    "fruit['AveragePrice'].plot.box()"
   ]
  },
  {
   "cell_type": "code",
   "execution_count": 21,
   "metadata": {},
   "outputs": [
    {
     "data": {
      "text/plain": [
       "<AxesSubplot:>"
      ]
     },
     "execution_count": 21,
     "metadata": {},
     "output_type": "execute_result"
    },
    {
     "data": {
      "image/png": "[encoded data removed]",
      "text/plain": [
       "<Figure size 432x288 with 1 Axes>"
      ]
     },
     "metadata": {
      "needs_background": "light"
     },
     "output_type": "display_data"
    }
   ],
   "source": [
    "fruit['Total Volume'].plot.box()"
   ]
  },
  {
   "cell_type": "code",
   "execution_count": 22,
   "metadata": {},
   "outputs": [
    {
     "data": {
      "text/plain": [
       "<AxesSubplot:>"
      ]
     },
     "execution_count": 22,
     "metadata": {},
     "output_type": "execute_result"
    },
    {
     "data": {
      "image/png": "[encoded data removed]",
      "text/plain": [
       "<Figure size 432x288 with 1 Axes>"
      ]
     },
     "metadata": {
      "needs_background": "light"
     },
     "output_type": "display_data"
    }
   ],
   "source": [
    "fruit['4046'].plot.box()"
   ]
  },
  {
   "cell_type": "code",
   "execution_count": 23,
   "metadata": {},
   "outputs": [
    {
     "data": {
      "text/plain": [
       "<AxesSubplot:>"
      ]
     },
     "execution_count": 23,
     "metadata": {},
     "output_type": "execute_result"
    },
    {
     "data": {
      "image/png": "[encoded data removed]",
      "text/plain": [
       "<Figure size 432x288 with 1 Axes>"
      ]
     },
     "metadata": {
      "needs_background": "light"
     },
     "output_type": "display_data"
    }
   ],
   "source": [
    "fruit['4225'].plot.box()"
   ]
  },
  {
   "cell_type": "code",
   "execution_count": 25,
   "metadata": {},
   "outputs": [
    {
     "data": {
      "text/plain": [
       "<AxesSubplot:>"
      ]
     },
     "execution_count": 25,
     "metadata": {},
     "output_type": "execute_result"
    },
    {
     "data": {
      "image/png": "[encoded data removed]",
      "text/plain": [
       "<Figure size 432x288 with 1 Axes>"
      ]
     },
     "metadata": {
      "needs_background": "light"
     },
     "output_type": "display_data"
    }
   ],
   "source": [
    "fruit['4770'].plot.box()"
   ]
  },
  {
   "cell_type": "code",
   "execution_count": 26,
   "metadata": {},
   "outputs": [
    {
     "data": {
      "text/plain": [
       "<AxesSubplot:>"
      ]
     },
     "execution_count": 26,
     "metadata": {},
     "output_type": "execute_result"
    },
    {
     "data": {
      "image/png": "[encoded data removed]",
      "text/plain": [
       "<Figure size 432x288 with 1 Axes>"
      ]
     },
     "metadata": {
      "needs_background": "light"
     },
     "output_type": "display_data"
    }
   ],
   "source": [
    "fruit['Total Bags'].plot.box()"
   ]
  },
  {
   "cell_type": "code",
   "execution_count": 27,
   "metadata": {},
   "outputs": [
    {
     "data": {
      "text/plain": [
       "<AxesSubplot:>"
      ]
     },
     "execution_count": 27,
     "metadata": {},
     "output_type": "execute_result"
    },
    {
     "data": {
      "image/png": "[encoded data removed]",
      "text/plain": [
       "<Figure size 432x288 with 1 Axes>"
      ]
     },
     "metadata": {
      "needs_background": "light"
     },
     "output_type": "display_data"
    }
   ],
   "source": [
    "fruit['Small Bags'].plot.box()"
   ]
  },
  {
   "cell_type": "code",
   "execution_count": 28,
   "metadata": {},
   "outputs": [
    {
     "data": {
      "text/plain": [
       "<AxesSubplot:>"
      ]
     },
     "execution_count": 28,
     "metadata": {},
     "output_type": "execute_result"
    },
    {
     "data": {
      "image/png": "[encoded data removed]",
      "text/plain": [
       "<Figure size 432x288 with 1 Axes>"
      ]
     },
     "metadata": {
      "needs_background": "light"
     },
     "output_type": "display_data"
    }
   ],
   "source": [
    "fruit['Large Bags'].plot.box()"
   ]
  },
  {
   "cell_type": "code",
   "execution_count": 30,
   "metadata": {},
   "outputs": [
    {
     "data": {
      "text/plain": [
       "<AxesSubplot:>"
      ]
     },
     "execution_count": 30,
     "metadata": {},
     "output_type": "execute_result"
    },
    {
     "data": {
      "image/png": "[encoded data removed]",
      "text/plain": [
       "<Figure size 432x288 with 1 Axes>"
      ]
     },
     "metadata": {
      "needs_background": "light"
     },
     "output_type": "display_data"
    }
   ],
   "source": [
    "fruit['type'].plot.box()"
   ]
  },
  {
   "cell_type": "code",
   "execution_count": 32,
   "metadata": {},
   "outputs": [
    {
     "data": {
      "text/plain": [
       "<AxesSubplot:>"
      ]
     },
     "execution_count": 32,
     "metadata": {},
     "output_type": "execute_result"
    },
    {
     "data": {
      "image/png": "[encoded data removed]",
      "text/plain": [
       "<Figure size 432x288 with 1 Axes>"
      ]
     },
     "metadata": {
      "needs_background": "light"
     },
     "output_type": "display_data"
    }
   ],
   "source": [
    "fruit['year'].plot.box()"
   ]
  },
  {
   "cell_type": "code",
   "execution_count": 33,
   "metadata": {},
   "outputs": [
    {
     "data": {
      "text/plain": [
       "<AxesSubplot:>"
      ]
     },
     "execution_count": 33,
     "metadata": {},
     "output_type": "execute_result"
    },
    {
     "data": {
      "image/png": "[encoded data removed]",
      "text/plain": [
       "<Figure size 432x288 with 1 Axes>"
      ]
     },
     "metadata": {
      "needs_background": "light"
     },
     "output_type": "display_data"
    }
   ],
   "source": [
    "fruit['region'].plot.box()"
   ]
  },
  {
   "cell_type": "markdown",
   "metadata": {},
   "source": [
    "# Correlation"
   ]
  },
  {
   "cell_type": "code",
   "execution_count": 35,
   "metadata": {},
   "outputs": [
    {
     "data": {
      "text/html": [
       "<div>\n",
       "<style scoped>\n",
       "    .dataframe tbody tr th:only-of-type {\n",
       "        vertical-align: middle;\n",
       "    }\n",
       "\n",
       "    .dataframe tbody tr th {\n",
       "        vertical-align: top;\n",
       "    }\n",
       "\n",
       "    .dataframe thead th {\n",
       "        text-align: right;\n",
       "    }\n",
       "</style>\n",
       "<table border=\"1\" class=\"dataframe\">\n",
       "  <thead>\n",
       "    <tr style=\"text-align: right;\">\n",
       "      <th></th>\n",
       "      <th>AveragePrice</th>\n",
       "      <th>Total Volume</th>\n",
       "      <th>4046</th>\n",
       "      <th>4225</th>\n",
       "      <th>4770</th>\n",
       "      <th>Total Bags</th>\n",
       "      <th>Small Bags</th>\n",
       "      <th>Large Bags</th>\n",
       "      <th>type</th>\n",
       "      <th>year</th>\n",
       "      <th>region</th>\n",
       "    </tr>\n",
       "  </thead>\n",
       "  <tbody>\n",
       "    <tr>\n",
       "      <th>AveragePrice</th>\n",
       "      <td>1.000000</td>\n",
       "      <td>-0.192752</td>\n",
       "      <td>-0.208317</td>\n",
       "      <td>-0.172928</td>\n",
       "      <td>-0.179446</td>\n",
       "      <td>-0.177088</td>\n",
       "      <td>-0.174730</td>\n",
       "      <td>-0.172940</td>\n",
       "      <td>0.615845</td>\n",
       "      <td>0.093197</td>\n",
       "      <td>-0.011716</td>\n",
       "    </tr>\n",
       "    <tr>\n",
       "      <th>Total Volume</th>\n",
       "      <td>-0.192752</td>\n",
       "      <td>1.000000</td>\n",
       "      <td>0.977863</td>\n",
       "      <td>0.974181</td>\n",
       "      <td>0.872202</td>\n",
       "      <td>0.963047</td>\n",
       "      <td>0.967238</td>\n",
       "      <td>0.880640</td>\n",
       "      <td>-0.232434</td>\n",
       "      <td>0.017193</td>\n",
       "      <td>0.174176</td>\n",
       "    </tr>\n",
       "    <tr>\n",
       "      <th>4046</th>\n",
       "      <td>-0.208317</td>\n",
       "      <td>0.977863</td>\n",
       "      <td>1.000000</td>\n",
       "      <td>0.926110</td>\n",
       "      <td>0.833389</td>\n",
       "      <td>0.920057</td>\n",
       "      <td>0.925280</td>\n",
       "      <td>0.838645</td>\n",
       "      <td>-0.225819</td>\n",
       "      <td>0.003353</td>\n",
       "      <td>0.192073</td>\n",
       "    </tr>\n",
       "    <tr>\n",
       "      <th>4225</th>\n",
       "      <td>-0.172928</td>\n",
       "      <td>0.974181</td>\n",
       "      <td>0.926110</td>\n",
       "      <td>1.000000</td>\n",
       "      <td>0.887855</td>\n",
       "      <td>0.905787</td>\n",
       "      <td>0.916031</td>\n",
       "      <td>0.810015</td>\n",
       "      <td>-0.232289</td>\n",
       "      <td>-0.009559</td>\n",
       "      <td>0.145726</td>\n",
       "    </tr>\n",
       "    <tr>\n",
       "      <th>4770</th>\n",
       "      <td>-0.179446</td>\n",
       "      <td>0.872202</td>\n",
       "      <td>0.833389</td>\n",
       "      <td>0.887855</td>\n",
       "      <td>1.000000</td>\n",
       "      <td>0.792314</td>\n",
       "      <td>0.802733</td>\n",
       "      <td>0.698471</td>\n",
       "      <td>-0.210027</td>\n",
       "      <td>-0.036531</td>\n",
       "      <td>0.095252</td>\n",
       "    </tr>\n",
       "    <tr>\n",
       "      <th>Total Bags</th>\n",
       "      <td>-0.177088</td>\n",
       "      <td>0.963047</td>\n",
       "      <td>0.920057</td>\n",
       "      <td>0.905787</td>\n",
       "      <td>0.792314</td>\n",
       "      <td>1.000000</td>\n",
       "      <td>0.994335</td>\n",
       "      <td>0.943009</td>\n",
       "      <td>-0.217788</td>\n",
       "      <td>0.071552</td>\n",
       "      <td>0.175256</td>\n",
       "    </tr>\n",
       "    <tr>\n",
       "      <th>Small Bags</th>\n",
       "      <td>-0.174730</td>\n",
       "      <td>0.967238</td>\n",
       "      <td>0.925280</td>\n",
       "      <td>0.916031</td>\n",
       "      <td>0.802733</td>\n",
       "      <td>0.994335</td>\n",
       "      <td>1.000000</td>\n",
       "      <td>0.902589</td>\n",
       "      <td>-0.220535</td>\n",
       "      <td>0.063915</td>\n",
       "      <td>0.164702</td>\n",
       "    </tr>\n",
       "    <tr>\n",
       "      <th>Large Bags</th>\n",
       "      <td>-0.172940</td>\n",
       "      <td>0.880640</td>\n",
       "      <td>0.838645</td>\n",
       "      <td>0.810015</td>\n",
       "      <td>0.698471</td>\n",
       "      <td>0.943009</td>\n",
       "      <td>0.902589</td>\n",
       "      <td>1.000000</td>\n",
       "      <td>-0.193177</td>\n",
       "      <td>0.087891</td>\n",
       "      <td>0.198768</td>\n",
       "    </tr>\n",
       "    <tr>\n",
       "      <th>type</th>\n",
       "      <td>0.615845</td>\n",
       "      <td>-0.232434</td>\n",
       "      <td>-0.225819</td>\n",
       "      <td>-0.232289</td>\n",
       "      <td>-0.210027</td>\n",
       "      <td>-0.217788</td>\n",
       "      <td>-0.220535</td>\n",
       "      <td>-0.193177</td>\n",
       "      <td>1.000000</td>\n",
       "      <td>-0.000032</td>\n",
       "      <td>-0.000280</td>\n",
       "    </tr>\n",
       "    <tr>\n",
       "      <th>year</th>\n",
       "      <td>0.093197</td>\n",
       "      <td>0.017193</td>\n",
       "      <td>0.003353</td>\n",
       "      <td>-0.009559</td>\n",
       "      <td>-0.036531</td>\n",
       "      <td>0.071552</td>\n",
       "      <td>0.063915</td>\n",
       "      <td>0.087891</td>\n",
       "      <td>-0.000032</td>\n",
       "      <td>1.000000</td>\n",
       "      <td>-0.000055</td>\n",
       "    </tr>\n",
       "    <tr>\n",
       "      <th>region</th>\n",
       "      <td>-0.011716</td>\n",
       "      <td>0.174176</td>\n",
       "      <td>0.192073</td>\n",
       "      <td>0.145726</td>\n",
       "      <td>0.095252</td>\n",
       "      <td>0.175256</td>\n",
       "      <td>0.164702</td>\n",
       "      <td>0.198768</td>\n",
       "      <td>-0.000280</td>\n",
       "      <td>-0.000055</td>\n",
       "      <td>1.000000</td>\n",
       "    </tr>\n",
       "  </tbody>\n",
       "</table>\n",
       "</div>"
      ],
      "text/plain": [
       "              AveragePrice  Total Volume      4046      4225      4770  \\\n",
       "AveragePrice      1.000000     -0.192752 -0.208317 -0.172928 -0.179446   \n",
       "Total Volume     -0.192752      1.000000  0.977863  0.974181  0.872202   \n",
       "4046             -0.208317      0.977863  1.000000  0.926110  0.833389   \n",
       "4225             -0.172928      0.974181  0.926110  1.000000  0.887855   \n",
       "4770             -0.179446      0.872202  0.833389  0.887855  1.000000   \n",
       "Total Bags       -0.177088      0.963047  0.920057  0.905787  0.792314   \n",
       "Small Bags       -0.174730      0.967238  0.925280  0.916031  0.802733   \n",
       "Large Bags       -0.172940      0.880640  0.838645  0.810015  0.698471   \n",
       "type              0.615845     -0.232434 -0.225819 -0.232289 -0.210027   \n",
       "year              0.093197      0.017193  0.003353 -0.009559 -0.036531   \n",
       "region           -0.011716      0.174176  0.192073  0.145726  0.095252   \n",
       "\n",
       "              Total Bags  Small Bags  Large Bags      type      year    region  \n",
       "AveragePrice   -0.177088   -0.174730   -0.172940  0.615845  0.093197 -0.011716  \n",
       "Total Volume    0.963047    0.967238    0.880640 -0.232434  0.017193  0.174176  \n",
       "4046            0.920057    0.925280    0.838645 -0.225819  0.003353  0.192073  \n",
       "4225            0.905787    0.916031    0.810015 -0.232289 -0.009559  0.145726  \n",
       "4770            0.792314    0.802733    0.698471 -0.210027 -0.036531  0.095252  \n",
       "Total Bags      1.000000    0.994335    0.943009 -0.217788  0.071552  0.175256  \n",
       "Small Bags      0.994335    1.000000    0.902589 -0.220535  0.063915  0.164702  \n",
       "Large Bags      0.943009    0.902589    1.000000 -0.193177  0.087891  0.198768  \n",
       "type           -0.217788   -0.220535   -0.193177  1.000000 -0.000032 -0.000280  \n",
       "year            0.071552    0.063915    0.087891 -0.000032  1.000000 -0.000055  \n",
       "region          0.175256    0.164702    0.198768 -0.000280 -0.000055  1.000000  "
      ]
     },
     "execution_count": 35,
     "metadata": {},
     "output_type": "execute_result"
    }
   ],
   "source": [
    "fruit.corr()"
   ]
  },
  {
   "cell_type": "code",
   "execution_count": 39,
   "metadata": {},
   "outputs": [
    {
     "data": {
      "text/plain": [
       "<AxesSubplot:>"
      ]
     },
     "execution_count": 39,
     "metadata": {},
     "output_type": "execute_result"
    },
    {
     "data": {
      "image/png": "[encoded data removed]",
      "text/plain": [
       "<Figure size 1440x792 with 2 Axes>"
      ]
     },
     "metadata": {
      "needs_background": "light"
     },
     "output_type": "display_data"
    }
   ],
   "source": [
    "# Correlation using heatmap\n",
    "plt.figure(figsize=(20,11))\n",
    "sns.heatmap(fruit.corr(), annot = True, linewidth = .5, linecolor = 'black', fmt = '.2f')"
   ]
  },
  {
   "cell_type": "markdown",
   "metadata": {},
   "source": [
    "# Normal Distribution Curve"
   ]
  },
  {
   "cell_type": "code",
   "execution_count": 41,
   "metadata": {},
   "outputs": [
    {
     "data": {
      "text/plain": [
       "<AxesSubplot:xlabel='AveragePrice', ylabel='Density'>"
      ]
     },
     "execution_count": 41,
     "metadata": {},
     "output_type": "execute_result"
    },
    {
     "data": {
      "image/png": "[encoded data removed]",
      "text/plain": [
       "<Figure size 432x288 with 1 Axes>"
      ]
     },
     "metadata": {
      "needs_background": "light"
     },
     "output_type": "display_data"
    }
   ],
   "source": [
    "sns.distplot(fruit['AveragePrice'])"
   ]
  },
  {
   "cell_type": "code",
   "execution_count": 42,
   "metadata": {},
   "outputs": [
    {
     "data": {
      "text/plain": [
       "<AxesSubplot:xlabel='Total Volume', ylabel='Density'>"
      ]
     },
     "execution_count": 42,
     "metadata": {},
     "output_type": "execute_result"
    },
    {
     "data": {
      "image/png": "[encoded data removed]",
      "text/plain": [
       "<Figure size 432x288 with 1 Axes>"
      ]
     },
     "metadata": {
      "needs_background": "light"
     },
     "output_type": "display_data"
    }
   ],
   "source": [
    "sns.distplot(fruit['Total Volume'])"
   ]
  },
  {
   "cell_type": "code",
   "execution_count": 43,
   "metadata": {},
   "outputs": [
    {
     "data": {
      "text/plain": [
       "<AxesSubplot:xlabel='4046', ylabel='Density'>"
      ]
     },
     "execution_count": 43,
     "metadata": {},
     "output_type": "execute_result"
    },
    {
     "data": {
      "image/png": "[encoded data removed]",
      "text/plain": [
       "<Figure size 432x288 with 1 Axes>"
      ]
     },
     "metadata": {
      "needs_background": "light"
     },
     "output_type": "display_data"
    }
   ],
   "source": [
    "sns.distplot(fruit['4046'])"
   ]
  },
  {
   "cell_type": "code",
   "execution_count": 44,
   "metadata": {},
   "outputs": [
    {
     "data": {
      "text/plain": [
       "<AxesSubplot:xlabel='4225', ylabel='Density'>"
      ]
     },
     "execution_count": 44,
     "metadata": {},
     "output_type": "execute_result"
    },
    {
     "data": {
      "image/png": "[encoded data removed]",
      "text/plain": [
       "<Figure size 432x288 with 1 Axes>"
      ]
     },
     "metadata": {
      "needs_background": "light"
     },
     "output_type": "display_data"
    }
   ],
   "source": [
    "sns.distplot(fruit['4225'])"
   ]
  },
  {
   "cell_type": "code",
   "execution_count": 45,
   "metadata": {},
   "outputs": [
    {
     "data": {
      "text/plain": [
       "<AxesSubplot:xlabel='4770', ylabel='Density'>"
      ]
     },
     "execution_count": 45,
     "metadata": {},
     "output_type": "execute_result"
    },
    {
     "data": {
      "image/png": "[encoded data removed]",
      "text/plain": [
       "<Figure size 432x288 with 1 Axes>"
      ]
     },
     "metadata": {
      "needs_background": "light"
     },
     "output_type": "display_data"
    }
   ],
   "source": [
    "sns.distplot(fruit['4770'])"
   ]
  },
  {
   "cell_type": "code",
   "execution_count": 46,
   "metadata": {},
   "outputs": [
    {
     "data": {
      "text/plain": [
       "<AxesSubplot:xlabel='Total Bags', ylabel='Density'>"
      ]
     },
     "execution_count": 46,
     "metadata": {},
     "output_type": "execute_result"
    },
    {
     "data": {
      "image/png": "[encoded data removed]",
      "text/plain": [
       "<Figure size 432x288 with 1 Axes>"
      ]
     },
     "metadata": {
      "needs_background": "light"
     },
     "output_type": "display_data"
    }
   ],
   "source": [
    "sns.distplot(fruit['Total Bags'])"
   ]
  },
  {
   "cell_type": "code",
   "execution_count": 47,
   "metadata": {},
   "outputs": [
    {
     "data": {
      "text/plain": [
       "<AxesSubplot:xlabel='Small Bags', ylabel='Density'>"
      ]
     },
     "execution_count": 47,
     "metadata": {},
     "output_type": "execute_result"
    },
    {
     "data": {
      "image/png": "[encoded data removed]",
      "text/plain": [
       "<Figure size 432x288 with 1 Axes>"
      ]
     },
     "metadata": {
      "needs_background": "light"
     },
     "output_type": "display_data"
    }
   ],
   "source": [
    "sns.distplot(fruit['Small Bags'])"
   ]
  },
  {
   "cell_type": "code",
   "execution_count": 48,
   "metadata": {},
   "outputs": [
    {
     "data": {
      "text/plain": [
       "<AxesSubplot:xlabel='Large Bags', ylabel='Density'>"
      ]
     },
     "execution_count": 48,
     "metadata": {},
     "output_type": "execute_result"
    },
    {
     "data": {
      "image/png": "[encoded data removed]",
      "text/plain": [
       "<Figure size 432x288 with 1 Axes>"
      ]
     },
     "metadata": {
      "needs_background": "light"
     },
     "output_type": "display_data"
    }
   ],
   "source": [
    "sns.distplot(fruit['Large Bags'])"
   ]
  },
  {
   "cell_type": "code",
   "execution_count": 49,
   "metadata": {},
   "outputs": [
    {
     "data": {
      "text/plain": [
       "<AxesSubplot:xlabel='type', ylabel='Density'>"
      ]
     },
     "execution_count": 49,
     "metadata": {},
     "output_type": "execute_result"
    },
    {
     "data": {
      "image/png": "[encoded data removed]",
      "text/plain": [
       "<Figure size 432x288 with 1 Axes>"
      ]
     },
     "metadata": {
      "needs_background": "light"
     },
     "output_type": "display_data"
    }
   ],
   "source": [
    "sns.distplot(fruit['type'])"
   ]
  },
  {
   "cell_type": "code",
   "execution_count": 50,
   "metadata": {},
   "outputs": [
    {
     "data": {
      "text/plain": [
       "<AxesSubplot:xlabel='year', ylabel='Density'>"
      ]
     },
     "execution_count": 50,
     "metadata": {},
     "output_type": "execute_result"
    },
    {
     "data": {
      "image/png": "[encoded data removed]",
      "text/plain": [
       "<Figure size 432x288 with 1 Axes>"
      ]
     },
     "metadata": {
      "needs_background": "light"
     },
     "output_type": "display_data"
    }
   ],
   "source": [
    "sns.distplot(fruit['year'])"
   ]
  },
  {
   "cell_type": "code",
   "execution_count": 51,
   "metadata": {},
   "outputs": [
    {
     "data": {
      "text/plain": [
       "<AxesSubplot:xlabel='region', ylabel='Density'>"
      ]
     },
     "execution_count": 51,
     "metadata": {},
     "output_type": "execute_result"
    },
    {
     "data": {
      "image/png": "[encoded data removed]",
      "text/plain": [
       "<Figure size 432x288 with 1 Axes>"
      ]
     },
     "metadata": {
      "needs_background": "light"
     },
     "output_type": "display_data"
    }
   ],
   "source": [
    "sns.distplot(fruit['region'])"
   ]
  },
  {
   "cell_type": "markdown",
   "metadata": {},
   "source": [
    "# Outliers"
   ]
  },
  {
   "cell_type": "code",
   "execution_count": 53,
   "metadata": {},
   "outputs": [
    {
     "data": {
      "text/plain": [
       "array([[0.18868864, 0.22771641, 0.23081597, ..., 0.99983562, 1.22128204,\n",
       "        1.7002522 ],\n",
       "       [0.13901962, 0.23042664, 0.23110251, ..., 0.99983562, 1.22128204,\n",
       "        1.7002522 ],\n",
       "       [1.18206895, 0.21208462, 0.23100731, ..., 0.99983562, 1.22128204,\n",
       "        1.7002522 ],\n",
       "       ...,\n",
       "       [1.15237477, 0.24233073, 0.2306933 , ..., 1.00016441, 1.97050371,\n",
       "        1.70081131],\n",
       "       [1.30138182, 0.24162464, 0.2304279 , ..., 1.00016441, 1.97050371,\n",
       "        1.70081131],\n",
       "       [0.53151208, 0.24125273, 0.22934712, ..., 1.00016441, 1.97050371,\n",
       "        1.70081131]])"
      ]
     },
     "execution_count": 53,
     "metadata": {},
     "output_type": "execute_result"
    }
   ],
   "source": [
    "z = np.abs(zscore(fruit))\n",
    "z"
   ]
  },
  {
   "cell_type": "code",
   "execution_count": 54,
   "metadata": {},
   "outputs": [
    {
     "name": "stdout",
     "output_type": "stream",
     "text": [
      "(array([  346,   359,   783, ..., 17304, 17402, 17428], dtype=int64), array([2, 2, 4, ..., 0, 0, 0], dtype=int64))\n"
     ]
    }
   ],
   "source": [
    "threshold =3\n",
    "print(np.where(z>3))"
   ]
  },
  {
   "cell_type": "code",
   "execution_count": 55,
   "metadata": {},
   "outputs": [
    {
     "name": "stdout",
     "output_type": "stream",
     "text": [
      "(18249, 11)\n",
      "(17736, 11)\n"
     ]
    }
   ],
   "source": [
    "fruit_new = fruit[(z<3).all(axis=1)]\n",
    "print(fruit.shape)\n",
    "print(fruit_new.shape)"
   ]
  },
  {
   "cell_type": "markdown",
   "metadata": {},
   "source": [
    "# Divide data in Feature & vector"
   ]
  },
  {
   "cell_type": "code",
   "execution_count": 63,
   "metadata": {},
   "outputs": [],
   "source": [
    "x = fruit_new.drop(['type'], axis =1)\n",
    "y = fruit_new['type']"
   ]
  },
  {
   "cell_type": "markdown",
   "metadata": {},
   "source": [
    "# Remove Skewness"
   ]
  },
  {
   "cell_type": "code",
   "execution_count": 64,
   "metadata": {},
   "outputs": [
    {
     "data": {
      "text/plain": [
       "array([[-0.11458779, -0.08212475, -0.66134222, ..., -0.78502597,\n",
       "        -1.2138583 , -2.01130976],\n",
       "       [-0.06102608, -0.15385747, -0.78062168, ..., -0.77509265,\n",
       "        -1.2138583 , -2.01130976],\n",
       "       [-1.29842221,  0.1968502 , -0.73539517, ..., -0.76244456,\n",
       "        -1.2138583 , -2.01130976],\n",
       "       ...,\n",
       "       [ 1.18772877, -0.77864587, -0.62205602, ..., -0.95425668,\n",
       "         1.9726314 ,  1.57745177],\n",
       "       [ 1.31655171, -0.70544003, -0.55141537, ..., -0.91965465,\n",
       "         1.9726314 ,  1.57745177],\n",
       "       [ 0.61932622, -0.67115773, -0.36498444, ..., -1.05142693,\n",
       "         1.9726314 ,  1.57745177]])"
      ]
     },
     "execution_count": 64,
     "metadata": {},
     "output_type": "execute_result"
    }
   ],
   "source": [
    "x = power_transform(x, method = 'yeo-johnson')\n",
    "x"
   ]
  },
  {
   "cell_type": "code",
   "execution_count": 65,
   "metadata": {},
   "outputs": [
    {
     "data": {
      "text/plain": [
       "array([[-0.11458779, -0.08212475, -0.66134222, ..., -0.78502597,\n",
       "        -1.21380764, -2.01130976],\n",
       "       [-0.06102608, -0.15385747, -0.78062168, ..., -0.77509265,\n",
       "        -1.21380764, -2.01130976],\n",
       "       [-1.29842221,  0.1968502 , -0.73539517, ..., -0.76244456,\n",
       "        -1.21380764, -2.01130976],\n",
       "       ...,\n",
       "       [ 1.18772877, -0.77864587, -0.62205602, ..., -0.95425668,\n",
       "         1.97268206,  1.57745177],\n",
       "       [ 1.31655171, -0.70544003, -0.55141537, ..., -0.91965465,\n",
       "         1.97268206,  1.57745177],\n",
       "       [ 0.61932622, -0.67115773, -0.36498444, ..., -1.05142693,\n",
       "         1.97268206,  1.57745177]])"
      ]
     },
     "execution_count": 65,
     "metadata": {},
     "output_type": "execute_result"
    }
   ],
   "source": [
    "sc = StandardScaler()\n",
    "x = sc.fit_transform(x)\n",
    "x"
   ]
  },
  {
   "cell_type": "markdown",
   "metadata": {},
   "source": [
    "# Model"
   ]
  },
  {
   "cell_type": "code",
   "execution_count": 66,
   "metadata": {},
   "outputs": [
    {
     "name": "stdout",
     "output_type": "stream",
     "text": [
      "At random state 36 The model performs very well\n",
      "Random_state:- 36\n",
      "Training r2_score is:- 95.15083168875105\n",
      "Testing r2_score is:- 95.23675310033822\n",
      "At random state 42 The model performs very well\n",
      "Random_state:- 42\n",
      "Training r2_score is:- 95.07330138144911\n",
      "Testing r2_score is:- 95.09582863585119\n",
      "At random state 43 The model performs very well\n",
      "Random_state:- 43\n",
      "Training r2_score is:- 95.10854243022273\n",
      "Testing r2_score is:- 95.09582863585119\n",
      "At random state 48 The model performs very well\n",
      "Random_state:- 48\n",
      "Training r2_score is:- 95.13673526924161\n",
      "Testing r2_score is:- 95.06764374295378\n",
      "At random state 88 The model performs very well\n",
      "Random_state:- 88\n",
      "Training r2_score is:- 95.14378347899634\n",
      "Testing r2_score is:- 95.06764374295378\n",
      "At random state 94 The model performs very well\n",
      "Random_state:- 94\n",
      "Training r2_score is:- 95.11559063997744\n",
      "Testing r2_score is:- 95.12401352874859\n",
      "At random state 106 The model performs very well\n",
      "Random_state:- 106\n",
      "Training r2_score is:- 95.10854243022273\n",
      "Testing r2_score is:- 95.09582863585119\n",
      "At random state 120 The model performs very well\n",
      "Random_state:- 120\n",
      "Training r2_score is:- 95.08739780095856\n",
      "Testing r2_score is:- 95.09582863585119\n",
      "At random state 136 The model performs very well\n",
      "Random_state:- 136\n",
      "Training r2_score is:- 95.11559063997744\n",
      "Testing r2_score is:- 95.12401352874859\n",
      "At random state 148 The model performs very well\n",
      "Random_state:- 148\n",
      "Training r2_score is:- 95.08034959120384\n",
      "Testing r2_score is:- 95.09582863585119\n",
      "At random state 151 The model performs very well\n",
      "Random_state:- 151\n",
      "Training r2_score is:- 95.101494220468\n",
      "Testing r2_score is:- 95.06764374295378\n",
      "At random state 158 The model performs very well\n",
      "Random_state:- 158\n",
      "Training r2_score is:- 95.12263884973217\n",
      "Testing r2_score is:- 95.06764374295378\n",
      "At random state 172 The model performs very well\n",
      "Random_state:- 172\n",
      "Training r2_score is:- 95.07330138144911\n",
      "Testing r2_score is:- 95.12401352874859\n",
      "At random state 191 The model performs very well\n",
      "Random_state:- 191\n",
      "Training r2_score is:- 95.12263884973217\n",
      "Testing r2_score is:- 95.06764374295378\n",
      "At random state 193 The model performs very well\n",
      "Random_state:- 193\n",
      "Training r2_score is:- 95.09444601071327\n",
      "Testing r2_score is:- 95.12401352874859\n",
      "At random state 199 The model performs very well\n",
      "Random_state:- 199\n",
      "Training r2_score is:- 95.05920496193967\n",
      "Testing r2_score is:- 95.12401352874859\n",
      "At random state 211 The model performs very well\n",
      "Random_state:- 211\n",
      "Training r2_score is:- 95.08739780095856\n",
      "Testing r2_score is:- 95.09582863585119\n",
      "At random state 220 The model performs very well\n",
      "Random_state:- 220\n",
      "Training r2_score is:- 95.09444601071327\n",
      "Testing r2_score is:- 95.12401352874859\n",
      "At random state 234 The model performs very well\n",
      "Random_state:- 234\n",
      "Training r2_score is:- 95.14378347899634\n",
      "Testing r2_score is:- 95.12401352874859\n",
      "At random state 243 The model performs very well\n",
      "Random_state:- 243\n",
      "Training r2_score is:- 95.16492810826051\n",
      "Testing r2_score is:- 95.20856820744082\n",
      "At random state 249 The model performs very well\n",
      "Random_state:- 249\n",
      "Training r2_score is:- 95.01691570341133\n",
      "Testing r2_score is:- 94.98308906426156\n",
      "At random state 283 The model performs very well\n",
      "Random_state:- 283\n",
      "Training r2_score is:- 95.10854243022273\n",
      "Testing r2_score is:- 95.12401352874859\n",
      "At random state 296 The model performs very well\n",
      "Random_state:- 296\n",
      "Training r2_score is:- 95.14378347899634\n",
      "Testing r2_score is:- 95.09582863585119\n",
      "At random state 302 The model performs very well\n",
      "Random_state:- 302\n",
      "Training r2_score is:- 95.11559063997744\n",
      "Testing r2_score is:- 95.06764374295378\n",
      "At random state 318 The model performs very well\n",
      "Random_state:- 318\n",
      "Training r2_score is:- 95.05920496193967\n",
      "Testing r2_score is:- 95.12401352874859\n",
      "At random state 323 The model performs very well\n",
      "Random_state:- 323\n",
      "Training r2_score is:- 95.15787989850578\n",
      "Testing r2_score is:- 95.15219842164599\n",
      "At random state 330 The model performs very well\n",
      "Random_state:- 330\n",
      "Training r2_score is:- 95.11559063997744\n",
      "Testing r2_score is:- 95.12401352874859\n",
      "At random state 335 The model performs very well\n",
      "Random_state:- 335\n",
      "Training r2_score is:- 95.11559063997744\n",
      "Testing r2_score is:- 95.12401352874859\n",
      "At random state 336 The model performs very well\n",
      "Random_state:- 336\n",
      "Training r2_score is:- 95.13673526924161\n",
      "Testing r2_score is:- 95.12401352874859\n",
      "At random state 342 The model performs very well\n",
      "Random_state:- 342\n",
      "Training r2_score is:- 95.10854243022273\n",
      "Testing r2_score is:- 95.06764374295378\n",
      "At random state 346 The model performs very well\n",
      "Random_state:- 346\n",
      "Training r2_score is:- 95.0662531716944\n",
      "Testing r2_score is:- 95.12401352874859\n",
      "At random state 362 The model performs very well\n",
      "Random_state:- 362\n",
      "Training r2_score is:- 95.07330138144911\n",
      "Testing r2_score is:- 95.12401352874859\n",
      "At random state 372 The model performs very well\n",
      "Random_state:- 372\n",
      "Training r2_score is:- 95.10854243022273\n",
      "Testing r2_score is:- 95.12401352874859\n",
      "At random state 401 The model performs very well\n",
      "Random_state:- 401\n",
      "Training r2_score is:- 95.17197631801523\n",
      "Testing r2_score is:- 95.23675310033822\n",
      "At random state 418 The model performs very well\n",
      "Random_state:- 418\n",
      "Training r2_score is:- 95.12968705948688\n",
      "Testing r2_score is:- 95.09582863585119\n",
      "At random state 428 The model performs very well\n",
      "Random_state:- 428\n",
      "Training r2_score is:- 95.12263884973217\n",
      "Testing r2_score is:- 95.12401352874859\n",
      "At random state 442 The model performs very well\n",
      "Random_state:- 442\n",
      "Training r2_score is:- 95.12968705948688\n",
      "Testing r2_score is:- 95.12401352874859\n",
      "At random state 445 The model performs very well\n",
      "Random_state:- 445\n",
      "Training r2_score is:- 95.12263884973217\n",
      "Testing r2_score is:- 95.12401352874859\n",
      "At random state 449 The model performs very well\n",
      "Random_state:- 449\n",
      "Training r2_score is:- 95.14378347899634\n",
      "Testing r2_score is:- 95.06764374295378\n",
      "At random state 453 The model performs very well\n",
      "Random_state:- 453\n",
      "Training r2_score is:- 95.09444601071327\n",
      "Testing r2_score is:- 95.06764374295378\n",
      "At random state 485 The model performs very well\n",
      "Random_state:- 485\n",
      "Training r2_score is:- 95.08739780095856\n",
      "Testing r2_score is:- 95.06764374295378\n",
      "At random state 486 The model performs very well\n",
      "Random_state:- 486\n",
      "Training r2_score is:- 95.05920496193967\n",
      "Testing r2_score is:- 95.12401352874859\n",
      "At random state 493 The model performs very well\n",
      "Random_state:- 493\n",
      "Training r2_score is:- 95.09444601071327\n",
      "Testing r2_score is:- 95.12401352874859\n",
      "At random state 496 The model performs very well\n",
      "Random_state:- 496\n",
      "Training r2_score is:- 95.09444601071327\n",
      "Testing r2_score is:- 95.06764374295378\n",
      "At random state 499 The model performs very well\n",
      "Random_state:- 499\n",
      "Training r2_score is:- 95.11559063997744\n",
      "Testing r2_score is:- 95.06764374295378\n",
      "At random state 504 The model performs very well\n",
      "Random_state:- 504\n",
      "Training r2_score is:- 95.09444601071327\n",
      "Testing r2_score is:- 95.06764374295378\n",
      "At random state 509 The model performs very well\n",
      "Random_state:- 509\n",
      "Training r2_score is:- 95.101494220468\n",
      "Testing r2_score is:- 95.09582863585119\n",
      "At random state 513 The model performs very well\n",
      "Random_state:- 513\n",
      "Training r2_score is:- 95.11559063997744\n",
      "Testing r2_score is:- 95.12401352874859\n",
      "At random state 521 The model performs very well\n",
      "Random_state:- 521\n",
      "Training r2_score is:- 95.12968705948688\n",
      "Testing r2_score is:- 95.09582863585119\n",
      "At random state 534 The model performs very well\n",
      "Random_state:- 534\n",
      "Training r2_score is:- 95.05920496193967\n",
      "Testing r2_score is:- 95.09582863585119\n",
      "At random state 535 The model performs very well\n",
      "Random_state:- 535\n",
      "Training r2_score is:- 95.05215675218494\n",
      "Testing r2_score is:- 95.09582863585119\n",
      "At random state 548 The model performs very well\n",
      "Random_state:- 548\n",
      "Training r2_score is:- 95.10854243022273\n",
      "Testing r2_score is:- 95.06764374295378\n",
      "At random state 561 The model performs very well\n",
      "Random_state:- 561\n",
      "Training r2_score is:- 95.12263884973217\n",
      "Testing r2_score is:- 95.06764374295378\n",
      "At random state 565 The model performs very well\n",
      "Random_state:- 565\n",
      "Training r2_score is:- 95.14378347899634\n",
      "Testing r2_score is:- 95.09582863585119\n",
      "At random state 571 The model performs very well\n",
      "Random_state:- 571\n",
      "Training r2_score is:- 95.0662531716944\n",
      "Testing r2_score is:- 95.09582863585119\n",
      "At random state 572 The model performs very well\n",
      "Random_state:- 572\n",
      "Training r2_score is:- 95.13673526924161\n",
      "Testing r2_score is:- 95.12401352874859\n"
     ]
    },
    {
     "name": "stdout",
     "output_type": "stream",
     "text": [
      "At random state 582 The model performs very well\n",
      "Random_state:- 582\n",
      "Training r2_score is:- 95.0662531716944\n",
      "Testing r2_score is:- 95.12401352874859\n",
      "At random state 587 The model performs very well\n",
      "Random_state:- 587\n",
      "Training r2_score is:- 95.15083168875105\n",
      "Testing r2_score is:- 95.20856820744082\n",
      "At random state 592 The model performs very well\n",
      "Random_state:- 592\n",
      "Training r2_score is:- 95.101494220468\n",
      "Testing r2_score is:- 95.09582863585119\n",
      "At random state 603 The model performs very well\n",
      "Random_state:- 603\n",
      "Training r2_score is:- 95.17197631801523\n",
      "Testing r2_score is:- 95.15219842164599\n",
      "At random state 604 The model performs very well\n",
      "Random_state:- 604\n",
      "Training r2_score is:- 95.101494220468\n",
      "Testing r2_score is:- 95.12401352874859\n",
      "At random state 611 The model performs very well\n",
      "Random_state:- 611\n",
      "Training r2_score is:- 95.101494220468\n",
      "Testing r2_score is:- 95.06764374295378\n",
      "At random state 614 The model performs very well\n",
      "Random_state:- 614\n",
      "Training r2_score is:- 95.12263884973217\n",
      "Testing r2_score is:- 95.06764374295378\n",
      "At random state 623 The model performs very well\n",
      "Random_state:- 623\n",
      "Training r2_score is:- 95.10854243022273\n",
      "Testing r2_score is:- 95.12401352874859\n",
      "At random state 630 The model performs very well\n",
      "Random_state:- 630\n",
      "Training r2_score is:- 95.07330138144911\n",
      "Testing r2_score is:- 95.09582863585119\n",
      "At random state 638 The model performs very well\n",
      "Random_state:- 638\n",
      "Training r2_score is:- 95.07330138144911\n",
      "Testing r2_score is:- 95.12401352874859\n",
      "At random state 648 The model performs very well\n",
      "Random_state:- 648\n",
      "Training r2_score is:- 95.13673526924161\n",
      "Testing r2_score is:- 95.06764374295378\n",
      "At random state 656 The model performs very well\n",
      "Random_state:- 656\n",
      "Training r2_score is:- 95.12263884973217\n",
      "Testing r2_score is:- 95.12401352874859\n",
      "At random state 663 The model performs very well\n",
      "Random_state:- 663\n",
      "Training r2_score is:- 95.14378347899634\n",
      "Testing r2_score is:- 95.06764374295378\n",
      "At random state 675 The model performs very well\n",
      "Random_state:- 675\n",
      "Training r2_score is:- 95.17197631801523\n",
      "Testing r2_score is:- 95.15219842164599\n",
      "At random state 682 The model performs very well\n",
      "Random_state:- 682\n",
      "Training r2_score is:- 95.11559063997744\n",
      "Testing r2_score is:- 95.09582863585119\n",
      "At random state 698 The model performs very well\n",
      "Random_state:- 698\n",
      "Training r2_score is:- 95.12968705948688\n",
      "Testing r2_score is:- 95.09582863585119\n",
      "At random state 706 The model performs very well\n",
      "Random_state:- 706\n",
      "Training r2_score is:- 95.08034959120384\n",
      "Testing r2_score is:- 95.09582863585119\n",
      "At random state 710 The model performs very well\n",
      "Random_state:- 710\n",
      "Training r2_score is:- 95.13673526924161\n",
      "Testing r2_score is:- 95.09582863585119\n",
      "At random state 732 The model performs very well\n",
      "Random_state:- 732\n",
      "Training r2_score is:- 95.12968705948688\n",
      "Testing r2_score is:- 95.09582863585119\n",
      "At random state 733 The model performs very well\n",
      "Random_state:- 733\n",
      "Training r2_score is:- 95.10854243022273\n",
      "Testing r2_score is:- 95.12401352874859\n",
      "At random state 743 The model performs very well\n",
      "Random_state:- 743\n",
      "Training r2_score is:- 95.07330138144911\n",
      "Testing r2_score is:- 95.12401352874859\n",
      "At random state 759 The model performs very well\n",
      "Random_state:- 759\n",
      "Training r2_score is:- 95.09444601071327\n",
      "Testing r2_score is:- 95.12401352874859\n",
      "At random state 818 The model performs very well\n",
      "Random_state:- 818\n",
      "Training r2_score is:- 95.07330138144911\n",
      "Testing r2_score is:- 95.12401352874859\n",
      "At random state 824 The model performs very well\n",
      "Random_state:- 824\n",
      "Training r2_score is:- 95.08739780095856\n",
      "Testing r2_score is:- 95.12401352874859\n",
      "At random state 832 The model performs very well\n",
      "Random_state:- 832\n",
      "Training r2_score is:- 95.10854243022273\n",
      "Testing r2_score is:- 95.09582863585119\n",
      "At random state 851 The model performs very well\n",
      "Random_state:- 851\n",
      "Training r2_score is:- 95.11559063997744\n",
      "Testing r2_score is:- 95.09582863585119\n",
      "At random state 856 The model performs very well\n",
      "Random_state:- 856\n",
      "Training r2_score is:- 95.10854243022273\n",
      "Testing r2_score is:- 95.09582863585119\n",
      "At random state 868 The model performs very well\n",
      "Random_state:- 868\n",
      "Training r2_score is:- 95.13673526924161\n",
      "Testing r2_score is:- 95.12401352874859\n",
      "At random state 880 The model performs very well\n",
      "Random_state:- 880\n",
      "Training r2_score is:- 95.08034959120384\n",
      "Testing r2_score is:- 95.12401352874859\n",
      "At random state 890 The model performs very well\n",
      "Random_state:- 890\n",
      "Training r2_score is:- 95.12968705948688\n",
      "Testing r2_score is:- 95.06764374295378\n",
      "At random state 911 The model performs very well\n",
      "Random_state:- 911\n",
      "Training r2_score is:- 95.05920496193967\n",
      "Testing r2_score is:- 95.12401352874859\n",
      "At random state 937 The model performs very well\n",
      "Random_state:- 937\n",
      "Training r2_score is:- 95.12968705948688\n",
      "Testing r2_score is:- 95.09582863585119\n",
      "At random state 951 The model performs very well\n",
      "Random_state:- 951\n",
      "Training r2_score is:- 95.14378347899634\n",
      "Testing r2_score is:- 95.06764374295378\n",
      "At random state 952 The model performs very well\n",
      "Random_state:- 952\n",
      "Training r2_score is:- 95.13673526924161\n",
      "Testing r2_score is:- 95.09582863585119\n",
      "At random state 956 The model performs very well\n",
      "Random_state:- 956\n",
      "Training r2_score is:- 95.12968705948688\n",
      "Testing r2_score is:- 95.09582863585119\n",
      "At random state 963 The model performs very well\n",
      "Random_state:- 963\n",
      "Training r2_score is:- 95.16492810826051\n",
      "Testing r2_score is:- 95.20856820744082\n",
      "At random state 968 The model performs very well\n",
      "Random_state:- 968\n",
      "Training r2_score is:- 95.14378347899634\n",
      "Testing r2_score is:- 95.09582863585119\n",
      "At random state 969 The model performs very well\n",
      "Random_state:- 969\n",
      "Training r2_score is:- 95.12263884973217\n",
      "Testing r2_score is:- 95.06764374295378\n",
      "At random state 992 The model performs very well\n",
      "Random_state:- 992\n",
      "Training r2_score is:- 95.12263884973217\n",
      "Testing r2_score is:- 95.06764374295378\n"
     ]
    }
   ],
   "source": [
    "lr = LogisticRegression()\n",
    "for i in range(0,1000):\n",
    "    x_train, x_test, y_train, y_test = train_test_split(x,y,random_state = i, test_size = 0.20)\n",
    "    lr.fit(x_train, y_train)\n",
    "    pred_train = lr.predict(x_train)\n",
    "    pred_test = lr.predict(x_test)\n",
    "    \n",
    "    if round(accuracy_score(y_train, pred_train)*100,1) == round(accuracy_score(y_test, pred_test)*100,1):\n",
    "        \n",
    "        print(\"At random state\", i, \"The model performs very well\")\n",
    "        print(\"Random_state:-\", i)\n",
    "        \n",
    "        print(\"Training r2_score is:-\", accuracy_score(y_train, pred_train)*100)\n",
    "        \n",
    "        print(\"Testing r2_score is:-\", accuracy_score(y_test, pred_test)*100)"
   ]
  },
  {
   "cell_type": "code",
   "execution_count": 67,
   "metadata": {},
   "outputs": [],
   "source": [
    "x_train, x_test, y_train, y_test = train_test_split(x,y,test_size = 0.20, random_state = 94)"
   ]
  },
  {
   "cell_type": "code",
   "execution_count": 69,
   "metadata": {},
   "outputs": [
    {
     "name": "stdout",
     "output_type": "stream",
     "text": [
      "              precision    recall  f1-score   support\n",
      "\n",
      "           0       0.48      0.49      0.49      1710\n",
      "           1       0.52      0.51      0.52      1838\n",
      "\n",
      "    accuracy                           0.50      3548\n",
      "   macro avg       0.50      0.50      0.50      3548\n",
      "weighted avg       0.50      0.50      0.50      3548\n",
      "\n"
     ]
    }
   ],
   "source": [
    "from sklearn.metrics import classification_report\n",
    "print(classification_report(y_test, pred_test))"
   ]
  },
  {
   "cell_type": "markdown",
   "metadata": {},
   "source": [
    "# Cross Validation Score"
   ]
  },
  {
   "cell_type": "code",
   "execution_count": 70,
   "metadata": {},
   "outputs": [
    {
     "name": "stdout",
     "output_type": "stream",
     "text": [
      "At cv:- 2\n",
      "Cross validation score is:- 92.2530446549391\n",
      "accuracy_score is:- 95.09582863585119\n",
      "\n",
      "\n",
      "At cv:- 3\n",
      "Cross validation score is:- 93.45399188092016\n",
      "accuracy_score is:- 95.09582863585119\n",
      "\n",
      "\n",
      "At cv:- 4\n",
      "Cross validation score is:- 93.97834912043301\n",
      "accuracy_score is:- 95.09582863585119\n",
      "\n",
      "\n",
      "At cv:- 5\n",
      "Cross validation score is:- 94.10782855066874\n",
      "accuracy_score is:- 95.09582863585119\n",
      "\n",
      "\n",
      "At cv:- 6\n",
      "Cross validation score is:- 94.32228236355435\n",
      "accuracy_score is:- 95.09582863585119\n",
      "\n",
      "\n",
      "At cv:- 7\n",
      "Cross validation score is:- 94.51377569827292\n",
      "accuracy_score is:- 95.09582863585119\n",
      "\n",
      "\n",
      "At cv:- 8\n",
      "Cross validation score is:- 94.48579161028417\n",
      "accuracy_score is:- 95.09582863585119\n",
      "\n",
      "\n",
      "At cv:- 9\n",
      "Cross validation score is:- 94.3840452494618\n",
      "accuracy_score is:- 95.09582863585119\n",
      "\n",
      "\n"
     ]
    }
   ],
   "source": [
    "pred_lr = lr.predict(x_test)\n",
    "from sklearn.model_selection import cross_val_score\n",
    "lss = accuracy_score(y_test, pred_lr)\n",
    "for j in range(2,10):\n",
    "    lsscore = cross_val_score(lr,x,y,cv=j)\n",
    "    lsc = lsscore.mean()\n",
    "    \n",
    "    print(\"At cv:-\", j)\n",
    "    print(\"Cross validation score is:-\", lsc*100)\n",
    "    print(\"accuracy_score is:-\", lss*100)\n",
    "    print(\"\\n\")"
   ]
  },
  {
   "cell_type": "code",
   "execution_count": 71,
   "metadata": {},
   "outputs": [
    {
     "name": "stdout",
     "output_type": "stream",
     "text": [
      "The cv score is:  0.9451377569827292 \n",
      "The accuracy score is:  0.9509582863585119\n"
     ]
    }
   ],
   "source": [
    "lsscore_selected = cross_val_score(lr,x,y,cv= 7).mean()\n",
    "print(\"The cv score is: \", lsscore_selected, \"\\nThe accuracy score is: \", lss)"
   ]
  },
  {
   "cell_type": "markdown",
   "metadata": {},
   "source": [
    "# Naive Bayes Classification"
   ]
  },
  {
   "cell_type": "code",
   "execution_count": 72,
   "metadata": {},
   "outputs": [
    {
     "data": {
      "text/plain": [
       "GaussianNB()"
      ]
     },
     "execution_count": 72,
     "metadata": {},
     "output_type": "execute_result"
    }
   ],
   "source": [
    "from sklearn.naive_bayes import GaussianNB\n",
    "gnb = GaussianNB()\n",
    "gnb.fit(x_train, y_train)"
   ]
  },
  {
   "cell_type": "code",
   "execution_count": 73,
   "metadata": {},
   "outputs": [
    {
     "name": "stdout",
     "output_type": "stream",
     "text": [
      "0.9162908680947013\n"
     ]
    }
   ],
   "source": [
    "predgnb = gnb.predict(x_test)\n",
    "print(accuracy_score(predgnb, y_test))"
   ]
  },
  {
   "cell_type": "code",
   "execution_count": 76,
   "metadata": {},
   "outputs": [
    {
     "name": "stdout",
     "output_type": "stream",
     "text": [
      "[[1609  101]\n",
      " [ 196 1642]]\n",
      "              precision    recall  f1-score   support\n",
      "\n",
      "           0       0.89      0.94      0.92      1710\n",
      "           1       0.94      0.89      0.92      1838\n",
      "\n",
      "    accuracy                           0.92      3548\n",
      "   macro avg       0.92      0.92      0.92      3548\n",
      "weighted avg       0.92      0.92      0.92      3548\n",
      "\n"
     ]
    }
   ],
   "source": [
    "print(confusion_matrix(y_test, predgnb))\n",
    "print(classification_report(y_test, predgnb))"
   ]
  },
  {
   "cell_type": "markdown",
   "metadata": {},
   "source": [
    "# Support Vector Classification"
   ]
  },
  {
   "cell_type": "code",
   "execution_count": 77,
   "metadata": {},
   "outputs": [
    {
     "data": {
      "text/plain": [
       "SVC()"
      ]
     },
     "execution_count": 77,
     "metadata": {},
     "output_type": "execute_result"
    }
   ],
   "source": [
    "from sklearn.svm import SVC\n",
    "svc = SVC(kernel = 'rbf')\n",
    "svc.fit(x_train, y_train)"
   ]
  },
  {
   "cell_type": "code",
   "execution_count": 78,
   "metadata": {},
   "outputs": [
    {
     "name": "stdout",
     "output_type": "stream",
     "text": [
      "actual and predicted value score 0.991826381059752\n"
     ]
    }
   ],
   "source": [
    "predsvc = svc.predict(x_test)\n",
    "print('actual and predicted value score', accuracy_score(y_test, predsvc))"
   ]
  },
  {
   "cell_type": "code",
   "execution_count": 79,
   "metadata": {},
   "outputs": [
    {
     "data": {
      "text/plain": [
       "SVC(kernel='poly')"
      ]
     },
     "execution_count": 79,
     "metadata": {},
     "output_type": "execute_result"
    }
   ],
   "source": [
    "from sklearn.svm import SVC\n",
    "svc = SVC(kernel = 'poly')\n",
    "svc.fit(x_train, y_train)"
   ]
  },
  {
   "cell_type": "code",
   "execution_count": 80,
   "metadata": {},
   "outputs": [
    {
     "name": "stdout",
     "output_type": "stream",
     "text": [
      "actual and predicted value score 0.9706877113866967\n"
     ]
    }
   ],
   "source": [
    "predsvc = svc.predict(x_test)\n",
    "print('actual and predicted value score', accuracy_score(y_test, predsvc))"
   ]
  },
  {
   "cell_type": "code",
   "execution_count": 81,
   "metadata": {},
   "outputs": [
    {
     "data": {
      "text/plain": [
       "SVC(kernel='linear')"
      ]
     },
     "execution_count": 81,
     "metadata": {},
     "output_type": "execute_result"
    }
   ],
   "source": [
    "from sklearn.svm import SVC\n",
    "svc = SVC(kernel = 'linear')\n",
    "svc.fit(x_train, y_train)"
   ]
  },
  {
   "cell_type": "code",
   "execution_count": 82,
   "metadata": {},
   "outputs": [
    {
     "name": "stdout",
     "output_type": "stream",
     "text": [
      "actual and predicted value score 0.9534949267192785\n"
     ]
    }
   ],
   "source": [
    "predsvc = svc.predict(x_test)\n",
    "print('actual and predicted value score', accuracy_score(y_test, predsvc))"
   ]
  },
  {
   "cell_type": "markdown",
   "metadata": {},
   "source": [
    "# KNN Classifier"
   ]
  },
  {
   "cell_type": "code",
   "execution_count": 83,
   "metadata": {},
   "outputs": [
    {
     "data": {
      "text/plain": [
       "array([1, 0, 0, ..., 1, 1, 1])"
      ]
     },
     "execution_count": 83,
     "metadata": {},
     "output_type": "execute_result"
    }
   ],
   "source": [
    "from sklearn.neighbors import KNeighborsClassifier\n",
    "\n",
    "knn = KNeighborsClassifier(n_neighbors = 5)\n",
    "knn.fit(x_train, y_train)\n",
    "predknn = knn.predict(x_test)\n",
    "predknn"
   ]
  },
  {
   "cell_type": "code",
   "execution_count": 84,
   "metadata": {},
   "outputs": [
    {
     "name": "stdout",
     "output_type": "stream",
     "text": [
      "[[1710    0]\n",
      " [   5 1833]]\n"
     ]
    }
   ],
   "source": [
    "print(confusion_matrix(y_test, predknn))"
   ]
  },
  {
   "cell_type": "code",
   "execution_count": 85,
   "metadata": {},
   "outputs": [
    {
     "name": "stdout",
     "output_type": "stream",
     "text": [
      "              precision    recall  f1-score   support\n",
      "\n",
      "           0       1.00      1.00      1.00      1710\n",
      "           1       1.00      1.00      1.00      1838\n",
      "\n",
      "    accuracy                           1.00      3548\n",
      "   macro avg       1.00      1.00      1.00      3548\n",
      "weighted avg       1.00      1.00      1.00      3548\n",
      "\n"
     ]
    }
   ],
   "source": [
    "print(classification_report(y_test, predknn))"
   ]
  },
  {
   "cell_type": "markdown",
   "metadata": {},
   "source": [
    "# Decision Tree Classifier"
   ]
  },
  {
   "cell_type": "code",
   "execution_count": 87,
   "metadata": {},
   "outputs": [],
   "source": [
    "from sklearn.tree import DecisionTreeClassifier"
   ]
  },
  {
   "cell_type": "code",
   "execution_count": 88,
   "metadata": {},
   "outputs": [
    {
     "data": {
      "text/plain": [
       "array([1, 0, 0, ..., 0, 1, 1])"
      ]
     },
     "execution_count": 88,
     "metadata": {},
     "output_type": "execute_result"
    }
   ],
   "source": [
    "dct = DecisionTreeClassifier()\n",
    "dct.fit(x_train, y_train)\n",
    "preddct = dct.predict(x_test)\n",
    "preddct"
   ]
  },
  {
   "cell_type": "code",
   "execution_count": 89,
   "metadata": {},
   "outputs": [
    {
     "name": "stdout",
     "output_type": "stream",
     "text": [
      "              precision    recall  f1-score   support\n",
      "\n",
      "           0       0.99      0.99      0.99      1710\n",
      "           1       1.00      0.99      0.99      1838\n",
      "\n",
      "    accuracy                           0.99      3548\n",
      "   macro avg       0.99      0.99      0.99      3548\n",
      "weighted avg       0.99      0.99      0.99      3548\n",
      "\n"
     ]
    }
   ],
   "source": [
    "print(classification_report(y_test, preddct))"
   ]
  },
  {
   "cell_type": "markdown",
   "metadata": {},
   "source": [
    "Best performing model is Knn classifier , Decision Tree Classifier and SVC."
   ]
  },
  {
   "cell_type": "markdown",
   "metadata": {},
   "source": [
    "# AUC- ROC Curve"
   ]
  },
  {
   "cell_type": "code",
   "execution_count": 90,
   "metadata": {},
   "outputs": [
    {
     "data": {
      "image/png": "[encoded data removed]",
      "text/plain": [
       "<Figure size 432x288 with 1 Axes>"
      ]
     },
     "metadata": {
      "needs_background": "light"
     },
     "output_type": "display_data"
    }
   ],
   "source": [
    "from sklearn.metrics import roc_curve, auc\n",
    "fpr, tpr, thresholds = roc_curve(pred_test, y_test)\n",
    "roc_auc = auc(fpr, tpr)\n",
    "\n",
    "plt.figure()\n",
    "plt.plot(fpr, tpr, color = 'darkorange', lw = 10, label = 'ROC curve (area = %0.2f)' %roc_auc)\n",
    "plt.plot([0,1],[0,1],color ='navy',lw=10,linestyle = '--')\n",
    "plt.xlim([0.0,1.0])\n",
    "plt.ylim([0.0, 1.05])\n",
    "plt.xlabel('False Positive Rate')\n",
    "plt.ylabel('True Positive Rate')\n",
    "plt.title('Receiver operating characteristic')\n",
    "\n",
    "plt.legend(loc = \"lower right\")\n",
    "plt.show()"
   ]
  },
  {
   "cell_type": "markdown",
   "metadata": {},
   "source": [
    "# Model Saving:"
   ]
  },
  {
   "cell_type": "code",
   "execution_count": 91,
   "metadata": {},
   "outputs": [],
   "source": [
    "import pickle\n",
    "filename = 'avocado_project.pkl'\n",
    "pickle.dump(lr, open(filename, 'wb'))"
   ]
  },
  {
   "cell_type": "markdown",
   "metadata": {},
   "source": [
    "# Conclusion:"
   ]
  },
  {
   "cell_type": "code",
   "execution_count": 92,
   "metadata": {},
   "outputs": [
    {
     "data": {
      "text/html": [
       "<div>\n",
       "<style scoped>\n",
       "    .dataframe tbody tr th:only-of-type {\n",
       "        vertical-align: middle;\n",
       "    }\n",
       "\n",
       "    .dataframe tbody tr th {\n",
       "        vertical-align: top;\n",
       "    }\n",
       "\n",
       "    .dataframe thead th {\n",
       "        text-align: right;\n",
       "    }\n",
       "</style>\n",
       "<table border=\"1\" class=\"dataframe\">\n",
       "  <thead>\n",
       "    <tr style=\"text-align: right;\">\n",
       "      <th></th>\n",
       "      <th>original</th>\n",
       "      <th>predicted</th>\n",
       "    </tr>\n",
       "  </thead>\n",
       "  <tbody>\n",
       "    <tr>\n",
       "      <th>0</th>\n",
       "      <td>1</td>\n",
       "      <td>1</td>\n",
       "    </tr>\n",
       "    <tr>\n",
       "      <th>1</th>\n",
       "      <td>0</td>\n",
       "      <td>0</td>\n",
       "    </tr>\n",
       "    <tr>\n",
       "      <th>2</th>\n",
       "      <td>0</td>\n",
       "      <td>0</td>\n",
       "    </tr>\n",
       "    <tr>\n",
       "      <th>3</th>\n",
       "      <td>1</td>\n",
       "      <td>1</td>\n",
       "    </tr>\n",
       "    <tr>\n",
       "      <th>4</th>\n",
       "      <td>1</td>\n",
       "      <td>1</td>\n",
       "    </tr>\n",
       "    <tr>\n",
       "      <th>...</th>\n",
       "      <td>...</td>\n",
       "      <td>...</td>\n",
       "    </tr>\n",
       "    <tr>\n",
       "      <th>3543</th>\n",
       "      <td>0</td>\n",
       "      <td>0</td>\n",
       "    </tr>\n",
       "    <tr>\n",
       "      <th>3544</th>\n",
       "      <td>1</td>\n",
       "      <td>1</td>\n",
       "    </tr>\n",
       "    <tr>\n",
       "      <th>3545</th>\n",
       "      <td>1</td>\n",
       "      <td>0</td>\n",
       "    </tr>\n",
       "    <tr>\n",
       "      <th>3546</th>\n",
       "      <td>1</td>\n",
       "      <td>1</td>\n",
       "    </tr>\n",
       "    <tr>\n",
       "      <th>3547</th>\n",
       "      <td>1</td>\n",
       "      <td>1</td>\n",
       "    </tr>\n",
       "  </tbody>\n",
       "</table>\n",
       "<p>3548 rows × 2 columns</p>\n",
       "</div>"
      ],
      "text/plain": [
       "      original  predicted\n",
       "0            1          1\n",
       "1            0          0\n",
       "2            0          0\n",
       "3            1          1\n",
       "4            1          1\n",
       "...        ...        ...\n",
       "3543         0          0\n",
       "3544         1          1\n",
       "3545         1          0\n",
       "3546         1          1\n",
       "3547         1          1\n",
       "\n",
       "[3548 rows x 2 columns]"
      ]
     },
     "execution_count": 92,
     "metadata": {},
     "output_type": "execute_result"
    }
   ],
   "source": [
    "a = np.array(y_test)\n",
    "predicted = np.array(lr.predict(x_test))\n",
    "avocado_com = pd.DataFrame({\"original\": a, \"predicted\": predicted}, index = range(len(a)))\n",
    "avocado_com"
   ]
  },
  {
   "cell_type": "code",
   "execution_count": null,
   "metadata": {},
   "outputs": [],
   "source": []
  }
 ],
 "metadata": {
  "kernelspec": {
   "display_name": "Python 3",
   "language": "python",
   "name": "python3"
  },
  "language_info": {
   "codemirror_mode": {
    "name": "ipython",
    "version": 3
   },
   "file_extension": ".py",
   "mimetype": "text/x-python",
   "name": "python",
   "nbconvert_exporter": "python",
   "pygments_lexer": "ipython3",
   "version": "3.8.5"
  }
 },
 "nbformat": 4,
 "nbformat_minor": 4
}

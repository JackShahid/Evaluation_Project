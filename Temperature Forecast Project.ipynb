{
 "cells": [
  {
   "cell_type": "markdown",
   "metadata": {},
   "source": [
    "# Problem Statement"
   ]
  },
  {
   "cell_type": "markdown",
   "metadata": {},
   "source": [
    "This data is for the purpose of bias correction of next-day maximum and minimum air temperatures forecast of the LDAPS model operated by the Korea Meteorological Administration over Seoul, South Korea. This data consists of summer data from 2013 to 2017. The input data is largely composed of the LDAPS model's next-day forecast data, in-situ maximum and minimum temperatures of present-day, and geographic auxiliary variables. There are two outputs (i.e. next-day maximum and minimum air temperatures) in this data. Hindcast validation was conducted for the period from 2015 to 2017."
   ]
  },
  {
   "cell_type": "code",
   "execution_count": 1,
   "metadata": {},
   "outputs": [],
   "source": [
    "import numpy as np\n",
    "import pandas as pd\n",
    "import matplotlib.pyplot as plt\n",
    "import seaborn as sns\n",
    "import warnings\n",
    "warnings.filterwarnings(\"ignore\")"
   ]
  },
  {
   "cell_type": "code",
   "execution_count": 2,
   "metadata": {},
   "outputs": [
    {
     "data": {
      "text/html": [
       "<div>\n",
       "<style scoped>\n",
       "    .dataframe tbody tr th:only-of-type {\n",
       "        vertical-align: middle;\n",
       "    }\n",
       "\n",
       "    .dataframe tbody tr th {\n",
       "        vertical-align: top;\n",
       "    }\n",
       "\n",
       "    .dataframe thead th {\n",
       "        text-align: right;\n",
       "    }\n",
       "</style>\n",
       "<table border=\"1\" class=\"dataframe\">\n",
       "  <thead>\n",
       "    <tr style=\"text-align: right;\">\n",
       "      <th></th>\n",
       "      <th>station</th>\n",
       "      <th>Date</th>\n",
       "      <th>Present_Tmax</th>\n",
       "      <th>Present_Tmin</th>\n",
       "      <th>LDAPS_RHmin</th>\n",
       "      <th>LDAPS_RHmax</th>\n",
       "      <th>LDAPS_Tmax_lapse</th>\n",
       "      <th>LDAPS_Tmin_lapse</th>\n",
       "      <th>LDAPS_WS</th>\n",
       "      <th>LDAPS_LH</th>\n",
       "      <th>...</th>\n",
       "      <th>LDAPS_PPT2</th>\n",
       "      <th>LDAPS_PPT3</th>\n",
       "      <th>LDAPS_PPT4</th>\n",
       "      <th>lat</th>\n",
       "      <th>lon</th>\n",
       "      <th>DEM</th>\n",
       "      <th>Slope</th>\n",
       "      <th>Solar radiation</th>\n",
       "      <th>Next_Tmax</th>\n",
       "      <th>Next_Tmin</th>\n",
       "    </tr>\n",
       "  </thead>\n",
       "  <tbody>\n",
       "    <tr>\n",
       "      <th>0</th>\n",
       "      <td>1.0</td>\n",
       "      <td>30-06-2013</td>\n",
       "      <td>28.7</td>\n",
       "      <td>21.4</td>\n",
       "      <td>58.255688</td>\n",
       "      <td>91.116364</td>\n",
       "      <td>28.074101</td>\n",
       "      <td>23.006936</td>\n",
       "      <td>6.818887</td>\n",
       "      <td>69.451805</td>\n",
       "      <td>...</td>\n",
       "      <td>0.000000</td>\n",
       "      <td>0.000000</td>\n",
       "      <td>0.000000</td>\n",
       "      <td>37.6046</td>\n",
       "      <td>126.991</td>\n",
       "      <td>212.3350</td>\n",
       "      <td>2.785000</td>\n",
       "      <td>5992.895996</td>\n",
       "      <td>29.1</td>\n",
       "      <td>21.2</td>\n",
       "    </tr>\n",
       "    <tr>\n",
       "      <th>1</th>\n",
       "      <td>2.0</td>\n",
       "      <td>30-06-2013</td>\n",
       "      <td>31.9</td>\n",
       "      <td>21.6</td>\n",
       "      <td>52.263397</td>\n",
       "      <td>90.604721</td>\n",
       "      <td>29.850689</td>\n",
       "      <td>24.035009</td>\n",
       "      <td>5.691890</td>\n",
       "      <td>51.937448</td>\n",
       "      <td>...</td>\n",
       "      <td>0.000000</td>\n",
       "      <td>0.000000</td>\n",
       "      <td>0.000000</td>\n",
       "      <td>37.6046</td>\n",
       "      <td>127.032</td>\n",
       "      <td>44.7624</td>\n",
       "      <td>0.514100</td>\n",
       "      <td>5869.312500</td>\n",
       "      <td>30.5</td>\n",
       "      <td>22.5</td>\n",
       "    </tr>\n",
       "    <tr>\n",
       "      <th>2</th>\n",
       "      <td>3.0</td>\n",
       "      <td>30-06-2013</td>\n",
       "      <td>31.6</td>\n",
       "      <td>23.3</td>\n",
       "      <td>48.690479</td>\n",
       "      <td>83.973587</td>\n",
       "      <td>30.091292</td>\n",
       "      <td>24.565633</td>\n",
       "      <td>6.138224</td>\n",
       "      <td>20.573050</td>\n",
       "      <td>...</td>\n",
       "      <td>0.000000</td>\n",
       "      <td>0.000000</td>\n",
       "      <td>0.000000</td>\n",
       "      <td>37.5776</td>\n",
       "      <td>127.058</td>\n",
       "      <td>33.3068</td>\n",
       "      <td>0.266100</td>\n",
       "      <td>5863.555664</td>\n",
       "      <td>31.1</td>\n",
       "      <td>23.9</td>\n",
       "    </tr>\n",
       "    <tr>\n",
       "      <th>3</th>\n",
       "      <td>4.0</td>\n",
       "      <td>30-06-2013</td>\n",
       "      <td>32.0</td>\n",
       "      <td>23.4</td>\n",
       "      <td>58.239788</td>\n",
       "      <td>96.483688</td>\n",
       "      <td>29.704629</td>\n",
       "      <td>23.326177</td>\n",
       "      <td>5.650050</td>\n",
       "      <td>65.727144</td>\n",
       "      <td>...</td>\n",
       "      <td>0.000000</td>\n",
       "      <td>0.000000</td>\n",
       "      <td>0.000000</td>\n",
       "      <td>37.6450</td>\n",
       "      <td>127.022</td>\n",
       "      <td>45.7160</td>\n",
       "      <td>2.534800</td>\n",
       "      <td>5856.964844</td>\n",
       "      <td>31.7</td>\n",
       "      <td>24.3</td>\n",
       "    </tr>\n",
       "    <tr>\n",
       "      <th>4</th>\n",
       "      <td>5.0</td>\n",
       "      <td>30-06-2013</td>\n",
       "      <td>31.4</td>\n",
       "      <td>21.9</td>\n",
       "      <td>56.174095</td>\n",
       "      <td>90.155128</td>\n",
       "      <td>29.113934</td>\n",
       "      <td>23.486480</td>\n",
       "      <td>5.735004</td>\n",
       "      <td>107.965535</td>\n",
       "      <td>...</td>\n",
       "      <td>0.000000</td>\n",
       "      <td>0.000000</td>\n",
       "      <td>0.000000</td>\n",
       "      <td>37.5507</td>\n",
       "      <td>127.135</td>\n",
       "      <td>35.0380</td>\n",
       "      <td>0.505500</td>\n",
       "      <td>5859.552246</td>\n",
       "      <td>31.2</td>\n",
       "      <td>22.5</td>\n",
       "    </tr>\n",
       "    <tr>\n",
       "      <th>...</th>\n",
       "      <td>...</td>\n",
       "      <td>...</td>\n",
       "      <td>...</td>\n",
       "      <td>...</td>\n",
       "      <td>...</td>\n",
       "      <td>...</td>\n",
       "      <td>...</td>\n",
       "      <td>...</td>\n",
       "      <td>...</td>\n",
       "      <td>...</td>\n",
       "      <td>...</td>\n",
       "      <td>...</td>\n",
       "      <td>...</td>\n",
       "      <td>...</td>\n",
       "      <td>...</td>\n",
       "      <td>...</td>\n",
       "      <td>...</td>\n",
       "      <td>...</td>\n",
       "      <td>...</td>\n",
       "      <td>...</td>\n",
       "      <td>...</td>\n",
       "    </tr>\n",
       "    <tr>\n",
       "      <th>7747</th>\n",
       "      <td>23.0</td>\n",
       "      <td>30-08-2017</td>\n",
       "      <td>23.3</td>\n",
       "      <td>17.1</td>\n",
       "      <td>26.741310</td>\n",
       "      <td>78.869858</td>\n",
       "      <td>26.352081</td>\n",
       "      <td>18.775678</td>\n",
       "      <td>6.148918</td>\n",
       "      <td>72.058294</td>\n",
       "      <td>...</td>\n",
       "      <td>0.000000</td>\n",
       "      <td>0.000000</td>\n",
       "      <td>0.000000</td>\n",
       "      <td>37.5372</td>\n",
       "      <td>126.891</td>\n",
       "      <td>15.5876</td>\n",
       "      <td>0.155400</td>\n",
       "      <td>4443.313965</td>\n",
       "      <td>28.3</td>\n",
       "      <td>18.1</td>\n",
       "    </tr>\n",
       "    <tr>\n",
       "      <th>7748</th>\n",
       "      <td>24.0</td>\n",
       "      <td>30-08-2017</td>\n",
       "      <td>23.3</td>\n",
       "      <td>17.7</td>\n",
       "      <td>24.040634</td>\n",
       "      <td>77.294975</td>\n",
       "      <td>27.010193</td>\n",
       "      <td>18.733519</td>\n",
       "      <td>6.542819</td>\n",
       "      <td>47.241457</td>\n",
       "      <td>...</td>\n",
       "      <td>0.000000</td>\n",
       "      <td>0.000000</td>\n",
       "      <td>0.000000</td>\n",
       "      <td>37.5237</td>\n",
       "      <td>126.909</td>\n",
       "      <td>17.2956</td>\n",
       "      <td>0.222300</td>\n",
       "      <td>4438.373535</td>\n",
       "      <td>28.6</td>\n",
       "      <td>18.8</td>\n",
       "    </tr>\n",
       "    <tr>\n",
       "      <th>7749</th>\n",
       "      <td>25.0</td>\n",
       "      <td>30-08-2017</td>\n",
       "      <td>23.2</td>\n",
       "      <td>17.4</td>\n",
       "      <td>22.933014</td>\n",
       "      <td>77.243744</td>\n",
       "      <td>27.939516</td>\n",
       "      <td>18.522965</td>\n",
       "      <td>7.289264</td>\n",
       "      <td>9.090034</td>\n",
       "      <td>...</td>\n",
       "      <td>0.000000</td>\n",
       "      <td>0.000000</td>\n",
       "      <td>0.000000</td>\n",
       "      <td>37.5237</td>\n",
       "      <td>126.970</td>\n",
       "      <td>19.5844</td>\n",
       "      <td>0.271300</td>\n",
       "      <td>4451.345215</td>\n",
       "      <td>27.8</td>\n",
       "      <td>17.4</td>\n",
       "    </tr>\n",
       "    <tr>\n",
       "      <th>7750</th>\n",
       "      <td>NaN</td>\n",
       "      <td>NaN</td>\n",
       "      <td>20.0</td>\n",
       "      <td>11.3</td>\n",
       "      <td>19.794666</td>\n",
       "      <td>58.936283</td>\n",
       "      <td>17.624954</td>\n",
       "      <td>14.272646</td>\n",
       "      <td>2.882580</td>\n",
       "      <td>-13.603212</td>\n",
       "      <td>...</td>\n",
       "      <td>0.000000</td>\n",
       "      <td>0.000000</td>\n",
       "      <td>0.000000</td>\n",
       "      <td>37.4562</td>\n",
       "      <td>126.826</td>\n",
       "      <td>12.3700</td>\n",
       "      <td>0.098475</td>\n",
       "      <td>4329.520508</td>\n",
       "      <td>17.4</td>\n",
       "      <td>11.3</td>\n",
       "    </tr>\n",
       "    <tr>\n",
       "      <th>7751</th>\n",
       "      <td>NaN</td>\n",
       "      <td>NaN</td>\n",
       "      <td>37.6</td>\n",
       "      <td>29.9</td>\n",
       "      <td>98.524734</td>\n",
       "      <td>100.000153</td>\n",
       "      <td>38.542255</td>\n",
       "      <td>29.619342</td>\n",
       "      <td>21.857621</td>\n",
       "      <td>213.414006</td>\n",
       "      <td>...</td>\n",
       "      <td>21.621661</td>\n",
       "      <td>15.841235</td>\n",
       "      <td>16.655469</td>\n",
       "      <td>37.6450</td>\n",
       "      <td>127.135</td>\n",
       "      <td>212.3350</td>\n",
       "      <td>5.178230</td>\n",
       "      <td>5992.895996</td>\n",
       "      <td>38.9</td>\n",
       "      <td>29.8</td>\n",
       "    </tr>\n",
       "  </tbody>\n",
       "</table>\n",
       "<p>7752 rows × 25 columns</p>\n",
       "</div>"
      ],
      "text/plain": [
       "      station        Date  Present_Tmax  Present_Tmin  LDAPS_RHmin  \\\n",
       "0         1.0  30-06-2013          28.7          21.4    58.255688   \n",
       "1         2.0  30-06-2013          31.9          21.6    52.263397   \n",
       "2         3.0  30-06-2013          31.6          23.3    48.690479   \n",
       "3         4.0  30-06-2013          32.0          23.4    58.239788   \n",
       "4         5.0  30-06-2013          31.4          21.9    56.174095   \n",
       "...       ...         ...           ...           ...          ...   \n",
       "7747     23.0  30-08-2017          23.3          17.1    26.741310   \n",
       "7748     24.0  30-08-2017          23.3          17.7    24.040634   \n",
       "7749     25.0  30-08-2017          23.2          17.4    22.933014   \n",
       "7750      NaN         NaN          20.0          11.3    19.794666   \n",
       "7751      NaN         NaN          37.6          29.9    98.524734   \n",
       "\n",
       "      LDAPS_RHmax  LDAPS_Tmax_lapse  LDAPS_Tmin_lapse   LDAPS_WS    LDAPS_LH  \\\n",
       "0       91.116364         28.074101         23.006936   6.818887   69.451805   \n",
       "1       90.604721         29.850689         24.035009   5.691890   51.937448   \n",
       "2       83.973587         30.091292         24.565633   6.138224   20.573050   \n",
       "3       96.483688         29.704629         23.326177   5.650050   65.727144   \n",
       "4       90.155128         29.113934         23.486480   5.735004  107.965535   \n",
       "...           ...               ...               ...        ...         ...   \n",
       "7747    78.869858         26.352081         18.775678   6.148918   72.058294   \n",
       "7748    77.294975         27.010193         18.733519   6.542819   47.241457   \n",
       "7749    77.243744         27.939516         18.522965   7.289264    9.090034   \n",
       "7750    58.936283         17.624954         14.272646   2.882580  -13.603212   \n",
       "7751   100.000153         38.542255         29.619342  21.857621  213.414006   \n",
       "\n",
       "      ...  LDAPS_PPT2  LDAPS_PPT3  LDAPS_PPT4      lat      lon       DEM  \\\n",
       "0     ...    0.000000    0.000000    0.000000  37.6046  126.991  212.3350   \n",
       "1     ...    0.000000    0.000000    0.000000  37.6046  127.032   44.7624   \n",
       "2     ...    0.000000    0.000000    0.000000  37.5776  127.058   33.3068   \n",
       "3     ...    0.000000    0.000000    0.000000  37.6450  127.022   45.7160   \n",
       "4     ...    0.000000    0.000000    0.000000  37.5507  127.135   35.0380   \n",
       "...   ...         ...         ...         ...      ...      ...       ...   \n",
       "7747  ...    0.000000    0.000000    0.000000  37.5372  126.891   15.5876   \n",
       "7748  ...    0.000000    0.000000    0.000000  37.5237  126.909   17.2956   \n",
       "7749  ...    0.000000    0.000000    0.000000  37.5237  126.970   19.5844   \n",
       "7750  ...    0.000000    0.000000    0.000000  37.4562  126.826   12.3700   \n",
       "7751  ...   21.621661   15.841235   16.655469  37.6450  127.135  212.3350   \n",
       "\n",
       "         Slope  Solar radiation  Next_Tmax  Next_Tmin  \n",
       "0     2.785000      5992.895996       29.1       21.2  \n",
       "1     0.514100      5869.312500       30.5       22.5  \n",
       "2     0.266100      5863.555664       31.1       23.9  \n",
       "3     2.534800      5856.964844       31.7       24.3  \n",
       "4     0.505500      5859.552246       31.2       22.5  \n",
       "...        ...              ...        ...        ...  \n",
       "7747  0.155400      4443.313965       28.3       18.1  \n",
       "7748  0.222300      4438.373535       28.6       18.8  \n",
       "7749  0.271300      4451.345215       27.8       17.4  \n",
       "7750  0.098475      4329.520508       17.4       11.3  \n",
       "7751  5.178230      5992.895996       38.9       29.8  \n",
       "\n",
       "[7752 rows x 25 columns]"
      ]
     },
     "execution_count": 2,
     "metadata": {},
     "output_type": "execute_result"
    }
   ],
   "source": [
    "temp = pd.read_csv(\"https://raw.githubusercontent.com/dsrscientist/Dataset2/main/temperature.csv\")\n",
    "temp"
   ]
  },
  {
   "cell_type": "code",
   "execution_count": 3,
   "metadata": {},
   "outputs": [
    {
     "data": {
      "text/html": [
       "<div>\n",
       "<style scoped>\n",
       "    .dataframe tbody tr th:only-of-type {\n",
       "        vertical-align: middle;\n",
       "    }\n",
       "\n",
       "    .dataframe tbody tr th {\n",
       "        vertical-align: top;\n",
       "    }\n",
       "\n",
       "    .dataframe thead th {\n",
       "        text-align: right;\n",
       "    }\n",
       "</style>\n",
       "<table border=\"1\" class=\"dataframe\">\n",
       "  <thead>\n",
       "    <tr style=\"text-align: right;\">\n",
       "      <th></th>\n",
       "      <th>station</th>\n",
       "      <th>Date</th>\n",
       "      <th>Present_Tmax</th>\n",
       "      <th>Present_Tmin</th>\n",
       "      <th>LDAPS_RHmin</th>\n",
       "      <th>LDAPS_RHmax</th>\n",
       "      <th>LDAPS_Tmax_lapse</th>\n",
       "      <th>LDAPS_Tmin_lapse</th>\n",
       "      <th>LDAPS_WS</th>\n",
       "      <th>LDAPS_LH</th>\n",
       "      <th>...</th>\n",
       "      <th>LDAPS_PPT2</th>\n",
       "      <th>LDAPS_PPT3</th>\n",
       "      <th>LDAPS_PPT4</th>\n",
       "      <th>lat</th>\n",
       "      <th>lon</th>\n",
       "      <th>DEM</th>\n",
       "      <th>Slope</th>\n",
       "      <th>Solar radiation</th>\n",
       "      <th>Next_Tmax</th>\n",
       "      <th>Next_Tmin</th>\n",
       "    </tr>\n",
       "  </thead>\n",
       "  <tbody>\n",
       "    <tr>\n",
       "      <th>0</th>\n",
       "      <td>1.0</td>\n",
       "      <td>30-06-2013</td>\n",
       "      <td>28.7</td>\n",
       "      <td>21.4</td>\n",
       "      <td>58.255688</td>\n",
       "      <td>91.116364</td>\n",
       "      <td>28.074101</td>\n",
       "      <td>23.006936</td>\n",
       "      <td>6.818887</td>\n",
       "      <td>69.451805</td>\n",
       "      <td>...</td>\n",
       "      <td>0.0</td>\n",
       "      <td>0.0</td>\n",
       "      <td>0.0</td>\n",
       "      <td>37.6046</td>\n",
       "      <td>126.991</td>\n",
       "      <td>212.3350</td>\n",
       "      <td>2.7850</td>\n",
       "      <td>5992.895996</td>\n",
       "      <td>29.1</td>\n",
       "      <td>21.2</td>\n",
       "    </tr>\n",
       "    <tr>\n",
       "      <th>1</th>\n",
       "      <td>2.0</td>\n",
       "      <td>30-06-2013</td>\n",
       "      <td>31.9</td>\n",
       "      <td>21.6</td>\n",
       "      <td>52.263397</td>\n",
       "      <td>90.604721</td>\n",
       "      <td>29.850689</td>\n",
       "      <td>24.035009</td>\n",
       "      <td>5.691890</td>\n",
       "      <td>51.937448</td>\n",
       "      <td>...</td>\n",
       "      <td>0.0</td>\n",
       "      <td>0.0</td>\n",
       "      <td>0.0</td>\n",
       "      <td>37.6046</td>\n",
       "      <td>127.032</td>\n",
       "      <td>44.7624</td>\n",
       "      <td>0.5141</td>\n",
       "      <td>5869.312500</td>\n",
       "      <td>30.5</td>\n",
       "      <td>22.5</td>\n",
       "    </tr>\n",
       "    <tr>\n",
       "      <th>2</th>\n",
       "      <td>3.0</td>\n",
       "      <td>30-06-2013</td>\n",
       "      <td>31.6</td>\n",
       "      <td>23.3</td>\n",
       "      <td>48.690479</td>\n",
       "      <td>83.973587</td>\n",
       "      <td>30.091292</td>\n",
       "      <td>24.565633</td>\n",
       "      <td>6.138224</td>\n",
       "      <td>20.573050</td>\n",
       "      <td>...</td>\n",
       "      <td>0.0</td>\n",
       "      <td>0.0</td>\n",
       "      <td>0.0</td>\n",
       "      <td>37.5776</td>\n",
       "      <td>127.058</td>\n",
       "      <td>33.3068</td>\n",
       "      <td>0.2661</td>\n",
       "      <td>5863.555664</td>\n",
       "      <td>31.1</td>\n",
       "      <td>23.9</td>\n",
       "    </tr>\n",
       "    <tr>\n",
       "      <th>3</th>\n",
       "      <td>4.0</td>\n",
       "      <td>30-06-2013</td>\n",
       "      <td>32.0</td>\n",
       "      <td>23.4</td>\n",
       "      <td>58.239788</td>\n",
       "      <td>96.483688</td>\n",
       "      <td>29.704629</td>\n",
       "      <td>23.326177</td>\n",
       "      <td>5.650050</td>\n",
       "      <td>65.727144</td>\n",
       "      <td>...</td>\n",
       "      <td>0.0</td>\n",
       "      <td>0.0</td>\n",
       "      <td>0.0</td>\n",
       "      <td>37.6450</td>\n",
       "      <td>127.022</td>\n",
       "      <td>45.7160</td>\n",
       "      <td>2.5348</td>\n",
       "      <td>5856.964844</td>\n",
       "      <td>31.7</td>\n",
       "      <td>24.3</td>\n",
       "    </tr>\n",
       "    <tr>\n",
       "      <th>4</th>\n",
       "      <td>5.0</td>\n",
       "      <td>30-06-2013</td>\n",
       "      <td>31.4</td>\n",
       "      <td>21.9</td>\n",
       "      <td>56.174095</td>\n",
       "      <td>90.155128</td>\n",
       "      <td>29.113934</td>\n",
       "      <td>23.486480</td>\n",
       "      <td>5.735004</td>\n",
       "      <td>107.965535</td>\n",
       "      <td>...</td>\n",
       "      <td>0.0</td>\n",
       "      <td>0.0</td>\n",
       "      <td>0.0</td>\n",
       "      <td>37.5507</td>\n",
       "      <td>127.135</td>\n",
       "      <td>35.0380</td>\n",
       "      <td>0.5055</td>\n",
       "      <td>5859.552246</td>\n",
       "      <td>31.2</td>\n",
       "      <td>22.5</td>\n",
       "    </tr>\n",
       "  </tbody>\n",
       "</table>\n",
       "<p>5 rows × 25 columns</p>\n",
       "</div>"
      ],
      "text/plain": [
       "   station        Date  Present_Tmax  Present_Tmin  LDAPS_RHmin  LDAPS_RHmax  \\\n",
       "0      1.0  30-06-2013          28.7          21.4    58.255688    91.116364   \n",
       "1      2.0  30-06-2013          31.9          21.6    52.263397    90.604721   \n",
       "2      3.0  30-06-2013          31.6          23.3    48.690479    83.973587   \n",
       "3      4.0  30-06-2013          32.0          23.4    58.239788    96.483688   \n",
       "4      5.0  30-06-2013          31.4          21.9    56.174095    90.155128   \n",
       "\n",
       "   LDAPS_Tmax_lapse  LDAPS_Tmin_lapse  LDAPS_WS    LDAPS_LH  ...  LDAPS_PPT2  \\\n",
       "0         28.074101         23.006936  6.818887   69.451805  ...         0.0   \n",
       "1         29.850689         24.035009  5.691890   51.937448  ...         0.0   \n",
       "2         30.091292         24.565633  6.138224   20.573050  ...         0.0   \n",
       "3         29.704629         23.326177  5.650050   65.727144  ...         0.0   \n",
       "4         29.113934         23.486480  5.735004  107.965535  ...         0.0   \n",
       "\n",
       "   LDAPS_PPT3  LDAPS_PPT4      lat      lon       DEM   Slope  \\\n",
       "0         0.0         0.0  37.6046  126.991  212.3350  2.7850   \n",
       "1         0.0         0.0  37.6046  127.032   44.7624  0.5141   \n",
       "2         0.0         0.0  37.5776  127.058   33.3068  0.2661   \n",
       "3         0.0         0.0  37.6450  127.022   45.7160  2.5348   \n",
       "4         0.0         0.0  37.5507  127.135   35.0380  0.5055   \n",
       "\n",
       "   Solar radiation  Next_Tmax  Next_Tmin  \n",
       "0      5992.895996       29.1       21.2  \n",
       "1      5869.312500       30.5       22.5  \n",
       "2      5863.555664       31.1       23.9  \n",
       "3      5856.964844       31.7       24.3  \n",
       "4      5859.552246       31.2       22.5  \n",
       "\n",
       "[5 rows x 25 columns]"
      ]
     },
     "execution_count": 3,
     "metadata": {},
     "output_type": "execute_result"
    }
   ],
   "source": [
    "temp.head()"
   ]
  },
  {
   "cell_type": "code",
   "execution_count": 4,
   "metadata": {},
   "outputs": [
    {
     "name": "stdout",
     "output_type": "stream",
     "text": [
      "<class 'pandas.core.frame.DataFrame'>\n",
      "RangeIndex: 7752 entries, 0 to 7751\n",
      "Data columns (total 25 columns):\n",
      " #   Column            Non-Null Count  Dtype  \n",
      "---  ------            --------------  -----  \n",
      " 0   station           7750 non-null   float64\n",
      " 1   Date              7750 non-null   object \n",
      " 2   Present_Tmax      7682 non-null   float64\n",
      " 3   Present_Tmin      7682 non-null   float64\n",
      " 4   LDAPS_RHmin       7677 non-null   float64\n",
      " 5   LDAPS_RHmax       7677 non-null   float64\n",
      " 6   LDAPS_Tmax_lapse  7677 non-null   float64\n",
      " 7   LDAPS_Tmin_lapse  7677 non-null   float64\n",
      " 8   LDAPS_WS          7677 non-null   float64\n",
      " 9   LDAPS_LH          7677 non-null   float64\n",
      " 10  LDAPS_CC1         7677 non-null   float64\n",
      " 11  LDAPS_CC2         7677 non-null   float64\n",
      " 12  LDAPS_CC3         7677 non-null   float64\n",
      " 13  LDAPS_CC4         7677 non-null   float64\n",
      " 14  LDAPS_PPT1        7677 non-null   float64\n",
      " 15  LDAPS_PPT2        7677 non-null   float64\n",
      " 16  LDAPS_PPT3        7677 non-null   float64\n",
      " 17  LDAPS_PPT4        7677 non-null   float64\n",
      " 18  lat               7752 non-null   float64\n",
      " 19  lon               7752 non-null   float64\n",
      " 20  DEM               7752 non-null   float64\n",
      " 21  Slope             7752 non-null   float64\n",
      " 22  Solar radiation   7752 non-null   float64\n",
      " 23  Next_Tmax         7725 non-null   float64\n",
      " 24  Next_Tmin         7725 non-null   float64\n",
      "dtypes: float64(24), object(1)\n",
      "memory usage: 1.5+ MB\n"
     ]
    }
   ],
   "source": [
    "temp.info()"
   ]
  },
  {
   "cell_type": "code",
   "execution_count": 5,
   "metadata": {},
   "outputs": [
    {
     "data": {
      "text/plain": [
       "station              2\n",
       "Date                 2\n",
       "Present_Tmax        70\n",
       "Present_Tmin        70\n",
       "LDAPS_RHmin         75\n",
       "LDAPS_RHmax         75\n",
       "LDAPS_Tmax_lapse    75\n",
       "LDAPS_Tmin_lapse    75\n",
       "LDAPS_WS            75\n",
       "LDAPS_LH            75\n",
       "LDAPS_CC1           75\n",
       "LDAPS_CC2           75\n",
       "LDAPS_CC3           75\n",
       "LDAPS_CC4           75\n",
       "LDAPS_PPT1          75\n",
       "LDAPS_PPT2          75\n",
       "LDAPS_PPT3          75\n",
       "LDAPS_PPT4          75\n",
       "lat                  0\n",
       "lon                  0\n",
       "DEM                  0\n",
       "Slope                0\n",
       "Solar radiation      0\n",
       "Next_Tmax           27\n",
       "Next_Tmin           27\n",
       "dtype: int64"
      ]
     },
     "execution_count": 5,
     "metadata": {},
     "output_type": "execute_result"
    }
   ],
   "source": [
    "temp.isnull().sum()"
   ]
  },
  {
   "cell_type": "markdown",
   "metadata": {},
   "source": [
    "# Data Cleaning"
   ]
  },
  {
   "cell_type": "code",
   "execution_count": 6,
   "metadata": {},
   "outputs": [],
   "source": [
    "#Drop Columns\n",
    "temp.drop(['Date'], axis=1, inplace=True)\n",
    "temp.drop(['LDAPS_PPT1'], axis =1, inplace = True)\n",
    "temp.drop(['LDAPS_PPT2'], axis =1, inplace = True)\n",
    "temp.drop(['LDAPS_PPT3'], axis =1, inplace = True)\n",
    "temp.drop(['LDAPS_PPT4'], axis =1, inplace = True)\n",
    "temp.drop(['LDAPS_CC1'], axis=1, inplace =True)\n",
    "temp.drop(['LDAPS_CC2'], axis=1, inplace =True)\n",
    "temp.drop(['LDAPS_CC3'], axis=1, inplace =True)\n",
    "temp.drop(['LDAPS_CC4'], axis=1, inplace =True)"
   ]
  },
  {
   "cell_type": "code",
   "execution_count": 7,
   "metadata": {},
   "outputs": [
    {
     "data": {
      "text/html": [
       "<div>\n",
       "<style scoped>\n",
       "    .dataframe tbody tr th:only-of-type {\n",
       "        vertical-align: middle;\n",
       "    }\n",
       "\n",
       "    .dataframe tbody tr th {\n",
       "        vertical-align: top;\n",
       "    }\n",
       "\n",
       "    .dataframe thead th {\n",
       "        text-align: right;\n",
       "    }\n",
       "</style>\n",
       "<table border=\"1\" class=\"dataframe\">\n",
       "  <thead>\n",
       "    <tr style=\"text-align: right;\">\n",
       "      <th></th>\n",
       "      <th>station</th>\n",
       "      <th>Present_Tmax</th>\n",
       "      <th>Present_Tmin</th>\n",
       "      <th>LDAPS_RHmin</th>\n",
       "      <th>LDAPS_RHmax</th>\n",
       "      <th>LDAPS_Tmax_lapse</th>\n",
       "      <th>LDAPS_Tmin_lapse</th>\n",
       "      <th>LDAPS_WS</th>\n",
       "      <th>LDAPS_LH</th>\n",
       "      <th>lat</th>\n",
       "      <th>lon</th>\n",
       "      <th>DEM</th>\n",
       "      <th>Slope</th>\n",
       "      <th>Solar radiation</th>\n",
       "      <th>Next_Tmax</th>\n",
       "      <th>Next_Tmin</th>\n",
       "    </tr>\n",
       "  </thead>\n",
       "  <tbody>\n",
       "    <tr>\n",
       "      <th>0</th>\n",
       "      <td>1.0</td>\n",
       "      <td>28.7</td>\n",
       "      <td>21.4</td>\n",
       "      <td>58.255688</td>\n",
       "      <td>91.116364</td>\n",
       "      <td>28.074101</td>\n",
       "      <td>23.006936</td>\n",
       "      <td>6.818887</td>\n",
       "      <td>69.451805</td>\n",
       "      <td>37.6046</td>\n",
       "      <td>126.991</td>\n",
       "      <td>212.3350</td>\n",
       "      <td>2.785000</td>\n",
       "      <td>5992.895996</td>\n",
       "      <td>29.1</td>\n",
       "      <td>21.2</td>\n",
       "    </tr>\n",
       "    <tr>\n",
       "      <th>1</th>\n",
       "      <td>2.0</td>\n",
       "      <td>31.9</td>\n",
       "      <td>21.6</td>\n",
       "      <td>52.263397</td>\n",
       "      <td>90.604721</td>\n",
       "      <td>29.850689</td>\n",
       "      <td>24.035009</td>\n",
       "      <td>5.691890</td>\n",
       "      <td>51.937448</td>\n",
       "      <td>37.6046</td>\n",
       "      <td>127.032</td>\n",
       "      <td>44.7624</td>\n",
       "      <td>0.514100</td>\n",
       "      <td>5869.312500</td>\n",
       "      <td>30.5</td>\n",
       "      <td>22.5</td>\n",
       "    </tr>\n",
       "    <tr>\n",
       "      <th>2</th>\n",
       "      <td>3.0</td>\n",
       "      <td>31.6</td>\n",
       "      <td>23.3</td>\n",
       "      <td>48.690479</td>\n",
       "      <td>83.973587</td>\n",
       "      <td>30.091292</td>\n",
       "      <td>24.565633</td>\n",
       "      <td>6.138224</td>\n",
       "      <td>20.573050</td>\n",
       "      <td>37.5776</td>\n",
       "      <td>127.058</td>\n",
       "      <td>33.3068</td>\n",
       "      <td>0.266100</td>\n",
       "      <td>5863.555664</td>\n",
       "      <td>31.1</td>\n",
       "      <td>23.9</td>\n",
       "    </tr>\n",
       "    <tr>\n",
       "      <th>3</th>\n",
       "      <td>4.0</td>\n",
       "      <td>32.0</td>\n",
       "      <td>23.4</td>\n",
       "      <td>58.239788</td>\n",
       "      <td>96.483688</td>\n",
       "      <td>29.704629</td>\n",
       "      <td>23.326177</td>\n",
       "      <td>5.650050</td>\n",
       "      <td>65.727144</td>\n",
       "      <td>37.6450</td>\n",
       "      <td>127.022</td>\n",
       "      <td>45.7160</td>\n",
       "      <td>2.534800</td>\n",
       "      <td>5856.964844</td>\n",
       "      <td>31.7</td>\n",
       "      <td>24.3</td>\n",
       "    </tr>\n",
       "    <tr>\n",
       "      <th>4</th>\n",
       "      <td>5.0</td>\n",
       "      <td>31.4</td>\n",
       "      <td>21.9</td>\n",
       "      <td>56.174095</td>\n",
       "      <td>90.155128</td>\n",
       "      <td>29.113934</td>\n",
       "      <td>23.486480</td>\n",
       "      <td>5.735004</td>\n",
       "      <td>107.965535</td>\n",
       "      <td>37.5507</td>\n",
       "      <td>127.135</td>\n",
       "      <td>35.0380</td>\n",
       "      <td>0.505500</td>\n",
       "      <td>5859.552246</td>\n",
       "      <td>31.2</td>\n",
       "      <td>22.5</td>\n",
       "    </tr>\n",
       "    <tr>\n",
       "      <th>...</th>\n",
       "      <td>...</td>\n",
       "      <td>...</td>\n",
       "      <td>...</td>\n",
       "      <td>...</td>\n",
       "      <td>...</td>\n",
       "      <td>...</td>\n",
       "      <td>...</td>\n",
       "      <td>...</td>\n",
       "      <td>...</td>\n",
       "      <td>...</td>\n",
       "      <td>...</td>\n",
       "      <td>...</td>\n",
       "      <td>...</td>\n",
       "      <td>...</td>\n",
       "      <td>...</td>\n",
       "      <td>...</td>\n",
       "    </tr>\n",
       "    <tr>\n",
       "      <th>7747</th>\n",
       "      <td>23.0</td>\n",
       "      <td>23.3</td>\n",
       "      <td>17.1</td>\n",
       "      <td>26.741310</td>\n",
       "      <td>78.869858</td>\n",
       "      <td>26.352081</td>\n",
       "      <td>18.775678</td>\n",
       "      <td>6.148918</td>\n",
       "      <td>72.058294</td>\n",
       "      <td>37.5372</td>\n",
       "      <td>126.891</td>\n",
       "      <td>15.5876</td>\n",
       "      <td>0.155400</td>\n",
       "      <td>4443.313965</td>\n",
       "      <td>28.3</td>\n",
       "      <td>18.1</td>\n",
       "    </tr>\n",
       "    <tr>\n",
       "      <th>7748</th>\n",
       "      <td>24.0</td>\n",
       "      <td>23.3</td>\n",
       "      <td>17.7</td>\n",
       "      <td>24.040634</td>\n",
       "      <td>77.294975</td>\n",
       "      <td>27.010193</td>\n",
       "      <td>18.733519</td>\n",
       "      <td>6.542819</td>\n",
       "      <td>47.241457</td>\n",
       "      <td>37.5237</td>\n",
       "      <td>126.909</td>\n",
       "      <td>17.2956</td>\n",
       "      <td>0.222300</td>\n",
       "      <td>4438.373535</td>\n",
       "      <td>28.6</td>\n",
       "      <td>18.8</td>\n",
       "    </tr>\n",
       "    <tr>\n",
       "      <th>7749</th>\n",
       "      <td>25.0</td>\n",
       "      <td>23.2</td>\n",
       "      <td>17.4</td>\n",
       "      <td>22.933014</td>\n",
       "      <td>77.243744</td>\n",
       "      <td>27.939516</td>\n",
       "      <td>18.522965</td>\n",
       "      <td>7.289264</td>\n",
       "      <td>9.090034</td>\n",
       "      <td>37.5237</td>\n",
       "      <td>126.970</td>\n",
       "      <td>19.5844</td>\n",
       "      <td>0.271300</td>\n",
       "      <td>4451.345215</td>\n",
       "      <td>27.8</td>\n",
       "      <td>17.4</td>\n",
       "    </tr>\n",
       "    <tr>\n",
       "      <th>7750</th>\n",
       "      <td>NaN</td>\n",
       "      <td>20.0</td>\n",
       "      <td>11.3</td>\n",
       "      <td>19.794666</td>\n",
       "      <td>58.936283</td>\n",
       "      <td>17.624954</td>\n",
       "      <td>14.272646</td>\n",
       "      <td>2.882580</td>\n",
       "      <td>-13.603212</td>\n",
       "      <td>37.4562</td>\n",
       "      <td>126.826</td>\n",
       "      <td>12.3700</td>\n",
       "      <td>0.098475</td>\n",
       "      <td>4329.520508</td>\n",
       "      <td>17.4</td>\n",
       "      <td>11.3</td>\n",
       "    </tr>\n",
       "    <tr>\n",
       "      <th>7751</th>\n",
       "      <td>NaN</td>\n",
       "      <td>37.6</td>\n",
       "      <td>29.9</td>\n",
       "      <td>98.524734</td>\n",
       "      <td>100.000153</td>\n",
       "      <td>38.542255</td>\n",
       "      <td>29.619342</td>\n",
       "      <td>21.857621</td>\n",
       "      <td>213.414006</td>\n",
       "      <td>37.6450</td>\n",
       "      <td>127.135</td>\n",
       "      <td>212.3350</td>\n",
       "      <td>5.178230</td>\n",
       "      <td>5992.895996</td>\n",
       "      <td>38.9</td>\n",
       "      <td>29.8</td>\n",
       "    </tr>\n",
       "  </tbody>\n",
       "</table>\n",
       "<p>7752 rows × 16 columns</p>\n",
       "</div>"
      ],
      "text/plain": [
       "      station  Present_Tmax  Present_Tmin  LDAPS_RHmin  LDAPS_RHmax  \\\n",
       "0         1.0          28.7          21.4    58.255688    91.116364   \n",
       "1         2.0          31.9          21.6    52.263397    90.604721   \n",
       "2         3.0          31.6          23.3    48.690479    83.973587   \n",
       "3         4.0          32.0          23.4    58.239788    96.483688   \n",
       "4         5.0          31.4          21.9    56.174095    90.155128   \n",
       "...       ...           ...           ...          ...          ...   \n",
       "7747     23.0          23.3          17.1    26.741310    78.869858   \n",
       "7748     24.0          23.3          17.7    24.040634    77.294975   \n",
       "7749     25.0          23.2          17.4    22.933014    77.243744   \n",
       "7750      NaN          20.0          11.3    19.794666    58.936283   \n",
       "7751      NaN          37.6          29.9    98.524734   100.000153   \n",
       "\n",
       "      LDAPS_Tmax_lapse  LDAPS_Tmin_lapse   LDAPS_WS    LDAPS_LH      lat  \\\n",
       "0            28.074101         23.006936   6.818887   69.451805  37.6046   \n",
       "1            29.850689         24.035009   5.691890   51.937448  37.6046   \n",
       "2            30.091292         24.565633   6.138224   20.573050  37.5776   \n",
       "3            29.704629         23.326177   5.650050   65.727144  37.6450   \n",
       "4            29.113934         23.486480   5.735004  107.965535  37.5507   \n",
       "...                ...               ...        ...         ...      ...   \n",
       "7747         26.352081         18.775678   6.148918   72.058294  37.5372   \n",
       "7748         27.010193         18.733519   6.542819   47.241457  37.5237   \n",
       "7749         27.939516         18.522965   7.289264    9.090034  37.5237   \n",
       "7750         17.624954         14.272646   2.882580  -13.603212  37.4562   \n",
       "7751         38.542255         29.619342  21.857621  213.414006  37.6450   \n",
       "\n",
       "          lon       DEM     Slope  Solar radiation  Next_Tmax  Next_Tmin  \n",
       "0     126.991  212.3350  2.785000      5992.895996       29.1       21.2  \n",
       "1     127.032   44.7624  0.514100      5869.312500       30.5       22.5  \n",
       "2     127.058   33.3068  0.266100      5863.555664       31.1       23.9  \n",
       "3     127.022   45.7160  2.534800      5856.964844       31.7       24.3  \n",
       "4     127.135   35.0380  0.505500      5859.552246       31.2       22.5  \n",
       "...       ...       ...       ...              ...        ...        ...  \n",
       "7747  126.891   15.5876  0.155400      4443.313965       28.3       18.1  \n",
       "7748  126.909   17.2956  0.222300      4438.373535       28.6       18.8  \n",
       "7749  126.970   19.5844  0.271300      4451.345215       27.8       17.4  \n",
       "7750  126.826   12.3700  0.098475      4329.520508       17.4       11.3  \n",
       "7751  127.135  212.3350  5.178230      5992.895996       38.9       29.8  \n",
       "\n",
       "[7752 rows x 16 columns]"
      ]
     },
     "execution_count": 7,
     "metadata": {},
     "output_type": "execute_result"
    }
   ],
   "source": [
    "temp"
   ]
  },
  {
   "cell_type": "code",
   "execution_count": 8,
   "metadata": {},
   "outputs": [
    {
     "data": {
      "text/plain": [
       "station              2\n",
       "Present_Tmax        70\n",
       "Present_Tmin        70\n",
       "LDAPS_RHmin         75\n",
       "LDAPS_RHmax         75\n",
       "LDAPS_Tmax_lapse    75\n",
       "LDAPS_Tmin_lapse    75\n",
       "LDAPS_WS            75\n",
       "LDAPS_LH            75\n",
       "lat                  0\n",
       "lon                  0\n",
       "DEM                  0\n",
       "Slope                0\n",
       "Solar radiation      0\n",
       "Next_Tmax           27\n",
       "Next_Tmin           27\n",
       "dtype: int64"
      ]
     },
     "execution_count": 8,
     "metadata": {},
     "output_type": "execute_result"
    }
   ],
   "source": [
    "temp.isnull().sum()"
   ]
  },
  {
   "cell_type": "code",
   "execution_count": 11,
   "metadata": {},
   "outputs": [],
   "source": [
    "from sklearn.impute import SimpleImputer\n",
    "imp = SimpleImputer(missing_values = np.nan, strategy = 'most_frequent')\n",
    "temp['station'] = imp.fit_transform(temp['station'].values.reshape(-1,1))\n",
    "temp['Present_Tmax'] = imp.fit_transform(temp['Present_Tmax'].values.reshape(-1,1))\n",
    "temp['Present_Tmin'] = imp.fit_transform(temp['Present_Tmin'].values.reshape(-1,1))\n",
    "temp['LDAPS_RHmin'] = imp.fit_transform(temp['LDAPS_RHmin']. values.reshape(-1,1))\n",
    "temp['LDAPS_RHmax'] = imp.fit_transform(temp['LDAPS_RHmax']. values.reshape(-1,1))\n",
    "temp['LDAPS_Tmax_lapse'] = imp.fit_transform(temp['LDAPS_Tmax_lapse']. values.reshape(-1,1))\n",
    "temp['LDAPS_Tmin_lapse'] = imp.fit_transform(temp['LDAPS_Tmin_lapse']. values.reshape(-1,1))\n",
    "temp['LDAPS_WS'] = imp.fit_transform(temp['LDAPS_WS'].values.reshape(-1,1))\n",
    "temp['LDAPS_LH'] = imp.fit_transform(temp['LDAPS_LH'].values.reshape(-1,1))\n",
    "temp['Next_Tmax'] = imp.fit_transform(temp['Next_Tmax'].values.reshape(-1,1))\n",
    "temp['Next_Tmin'] =imp.fit_transform(temp['Next_Tmin'].values.reshape(-1,1))"
   ]
  },
  {
   "cell_type": "code",
   "execution_count": 13,
   "metadata": {},
   "outputs": [
    {
     "data": {
      "text/plain": [
       "station             0\n",
       "Present_Tmax        0\n",
       "Present_Tmin        0\n",
       "LDAPS_RHmin         0\n",
       "LDAPS_RHmax         0\n",
       "LDAPS_Tmax_lapse    0\n",
       "LDAPS_Tmin_lapse    0\n",
       "LDAPS_WS            0\n",
       "LDAPS_LH            0\n",
       "lat                 0\n",
       "lon                 0\n",
       "DEM                 0\n",
       "Slope               0\n",
       "Solar radiation     0\n",
       "Next_Tmax           0\n",
       "Next_Tmin           0\n",
       "dtype: int64"
      ]
     },
     "execution_count": 13,
     "metadata": {},
     "output_type": "execute_result"
    }
   ],
   "source": [
    "temp.isnull().sum()"
   ]
  },
  {
   "cell_type": "code",
   "execution_count": 14,
   "metadata": {},
   "outputs": [
    {
     "data": {
      "text/html": [
       "<div>\n",
       "<style scoped>\n",
       "    .dataframe tbody tr th:only-of-type {\n",
       "        vertical-align: middle;\n",
       "    }\n",
       "\n",
       "    .dataframe tbody tr th {\n",
       "        vertical-align: top;\n",
       "    }\n",
       "\n",
       "    .dataframe thead th {\n",
       "        text-align: right;\n",
       "    }\n",
       "</style>\n",
       "<table border=\"1\" class=\"dataframe\">\n",
       "  <thead>\n",
       "    <tr style=\"text-align: right;\">\n",
       "      <th></th>\n",
       "      <th>station</th>\n",
       "      <th>Present_Tmax</th>\n",
       "      <th>Present_Tmin</th>\n",
       "      <th>LDAPS_RHmin</th>\n",
       "      <th>LDAPS_RHmax</th>\n",
       "      <th>LDAPS_Tmax_lapse</th>\n",
       "      <th>LDAPS_Tmin_lapse</th>\n",
       "      <th>LDAPS_WS</th>\n",
       "      <th>LDAPS_LH</th>\n",
       "      <th>lat</th>\n",
       "      <th>lon</th>\n",
       "      <th>DEM</th>\n",
       "      <th>Slope</th>\n",
       "      <th>Solar radiation</th>\n",
       "      <th>Next_Tmax</th>\n",
       "      <th>Next_Tmin</th>\n",
       "    </tr>\n",
       "  </thead>\n",
       "  <tbody>\n",
       "    <tr>\n",
       "      <th>0</th>\n",
       "      <td>1.0</td>\n",
       "      <td>28.7</td>\n",
       "      <td>21.4</td>\n",
       "      <td>58.255688</td>\n",
       "      <td>91.116364</td>\n",
       "      <td>28.074101</td>\n",
       "      <td>23.006936</td>\n",
       "      <td>6.818887</td>\n",
       "      <td>69.451805</td>\n",
       "      <td>37.6046</td>\n",
       "      <td>126.991</td>\n",
       "      <td>212.3350</td>\n",
       "      <td>2.785000</td>\n",
       "      <td>5992.895996</td>\n",
       "      <td>29.1</td>\n",
       "      <td>21.2</td>\n",
       "    </tr>\n",
       "    <tr>\n",
       "      <th>1</th>\n",
       "      <td>2.0</td>\n",
       "      <td>31.9</td>\n",
       "      <td>21.6</td>\n",
       "      <td>52.263397</td>\n",
       "      <td>90.604721</td>\n",
       "      <td>29.850689</td>\n",
       "      <td>24.035009</td>\n",
       "      <td>5.691890</td>\n",
       "      <td>51.937448</td>\n",
       "      <td>37.6046</td>\n",
       "      <td>127.032</td>\n",
       "      <td>44.7624</td>\n",
       "      <td>0.514100</td>\n",
       "      <td>5869.312500</td>\n",
       "      <td>30.5</td>\n",
       "      <td>22.5</td>\n",
       "    </tr>\n",
       "    <tr>\n",
       "      <th>2</th>\n",
       "      <td>3.0</td>\n",
       "      <td>31.6</td>\n",
       "      <td>23.3</td>\n",
       "      <td>48.690479</td>\n",
       "      <td>83.973587</td>\n",
       "      <td>30.091292</td>\n",
       "      <td>24.565633</td>\n",
       "      <td>6.138224</td>\n",
       "      <td>20.573050</td>\n",
       "      <td>37.5776</td>\n",
       "      <td>127.058</td>\n",
       "      <td>33.3068</td>\n",
       "      <td>0.266100</td>\n",
       "      <td>5863.555664</td>\n",
       "      <td>31.1</td>\n",
       "      <td>23.9</td>\n",
       "    </tr>\n",
       "    <tr>\n",
       "      <th>3</th>\n",
       "      <td>4.0</td>\n",
       "      <td>32.0</td>\n",
       "      <td>23.4</td>\n",
       "      <td>58.239788</td>\n",
       "      <td>96.483688</td>\n",
       "      <td>29.704629</td>\n",
       "      <td>23.326177</td>\n",
       "      <td>5.650050</td>\n",
       "      <td>65.727144</td>\n",
       "      <td>37.6450</td>\n",
       "      <td>127.022</td>\n",
       "      <td>45.7160</td>\n",
       "      <td>2.534800</td>\n",
       "      <td>5856.964844</td>\n",
       "      <td>31.7</td>\n",
       "      <td>24.3</td>\n",
       "    </tr>\n",
       "    <tr>\n",
       "      <th>4</th>\n",
       "      <td>5.0</td>\n",
       "      <td>31.4</td>\n",
       "      <td>21.9</td>\n",
       "      <td>56.174095</td>\n",
       "      <td>90.155128</td>\n",
       "      <td>29.113934</td>\n",
       "      <td>23.486480</td>\n",
       "      <td>5.735004</td>\n",
       "      <td>107.965535</td>\n",
       "      <td>37.5507</td>\n",
       "      <td>127.135</td>\n",
       "      <td>35.0380</td>\n",
       "      <td>0.505500</td>\n",
       "      <td>5859.552246</td>\n",
       "      <td>31.2</td>\n",
       "      <td>22.5</td>\n",
       "    </tr>\n",
       "    <tr>\n",
       "      <th>...</th>\n",
       "      <td>...</td>\n",
       "      <td>...</td>\n",
       "      <td>...</td>\n",
       "      <td>...</td>\n",
       "      <td>...</td>\n",
       "      <td>...</td>\n",
       "      <td>...</td>\n",
       "      <td>...</td>\n",
       "      <td>...</td>\n",
       "      <td>...</td>\n",
       "      <td>...</td>\n",
       "      <td>...</td>\n",
       "      <td>...</td>\n",
       "      <td>...</td>\n",
       "      <td>...</td>\n",
       "      <td>...</td>\n",
       "    </tr>\n",
       "    <tr>\n",
       "      <th>7747</th>\n",
       "      <td>23.0</td>\n",
       "      <td>23.3</td>\n",
       "      <td>17.1</td>\n",
       "      <td>26.741310</td>\n",
       "      <td>78.869858</td>\n",
       "      <td>26.352081</td>\n",
       "      <td>18.775678</td>\n",
       "      <td>6.148918</td>\n",
       "      <td>72.058294</td>\n",
       "      <td>37.5372</td>\n",
       "      <td>126.891</td>\n",
       "      <td>15.5876</td>\n",
       "      <td>0.155400</td>\n",
       "      <td>4443.313965</td>\n",
       "      <td>28.3</td>\n",
       "      <td>18.1</td>\n",
       "    </tr>\n",
       "    <tr>\n",
       "      <th>7748</th>\n",
       "      <td>24.0</td>\n",
       "      <td>23.3</td>\n",
       "      <td>17.7</td>\n",
       "      <td>24.040634</td>\n",
       "      <td>77.294975</td>\n",
       "      <td>27.010193</td>\n",
       "      <td>18.733519</td>\n",
       "      <td>6.542819</td>\n",
       "      <td>47.241457</td>\n",
       "      <td>37.5237</td>\n",
       "      <td>126.909</td>\n",
       "      <td>17.2956</td>\n",
       "      <td>0.222300</td>\n",
       "      <td>4438.373535</td>\n",
       "      <td>28.6</td>\n",
       "      <td>18.8</td>\n",
       "    </tr>\n",
       "    <tr>\n",
       "      <th>7749</th>\n",
       "      <td>25.0</td>\n",
       "      <td>23.2</td>\n",
       "      <td>17.4</td>\n",
       "      <td>22.933014</td>\n",
       "      <td>77.243744</td>\n",
       "      <td>27.939516</td>\n",
       "      <td>18.522965</td>\n",
       "      <td>7.289264</td>\n",
       "      <td>9.090034</td>\n",
       "      <td>37.5237</td>\n",
       "      <td>126.970</td>\n",
       "      <td>19.5844</td>\n",
       "      <td>0.271300</td>\n",
       "      <td>4451.345215</td>\n",
       "      <td>27.8</td>\n",
       "      <td>17.4</td>\n",
       "    </tr>\n",
       "    <tr>\n",
       "      <th>7750</th>\n",
       "      <td>1.0</td>\n",
       "      <td>20.0</td>\n",
       "      <td>11.3</td>\n",
       "      <td>19.794666</td>\n",
       "      <td>58.936283</td>\n",
       "      <td>17.624954</td>\n",
       "      <td>14.272646</td>\n",
       "      <td>2.882580</td>\n",
       "      <td>-13.603212</td>\n",
       "      <td>37.4562</td>\n",
       "      <td>126.826</td>\n",
       "      <td>12.3700</td>\n",
       "      <td>0.098475</td>\n",
       "      <td>4329.520508</td>\n",
       "      <td>17.4</td>\n",
       "      <td>11.3</td>\n",
       "    </tr>\n",
       "    <tr>\n",
       "      <th>7751</th>\n",
       "      <td>1.0</td>\n",
       "      <td>37.6</td>\n",
       "      <td>29.9</td>\n",
       "      <td>98.524734</td>\n",
       "      <td>100.000153</td>\n",
       "      <td>38.542255</td>\n",
       "      <td>29.619342</td>\n",
       "      <td>21.857621</td>\n",
       "      <td>213.414006</td>\n",
       "      <td>37.6450</td>\n",
       "      <td>127.135</td>\n",
       "      <td>212.3350</td>\n",
       "      <td>5.178230</td>\n",
       "      <td>5992.895996</td>\n",
       "      <td>38.9</td>\n",
       "      <td>29.8</td>\n",
       "    </tr>\n",
       "  </tbody>\n",
       "</table>\n",
       "<p>7752 rows × 16 columns</p>\n",
       "</div>"
      ],
      "text/plain": [
       "      station  Present_Tmax  Present_Tmin  LDAPS_RHmin  LDAPS_RHmax  \\\n",
       "0         1.0          28.7          21.4    58.255688    91.116364   \n",
       "1         2.0          31.9          21.6    52.263397    90.604721   \n",
       "2         3.0          31.6          23.3    48.690479    83.973587   \n",
       "3         4.0          32.0          23.4    58.239788    96.483688   \n",
       "4         5.0          31.4          21.9    56.174095    90.155128   \n",
       "...       ...           ...           ...          ...          ...   \n",
       "7747     23.0          23.3          17.1    26.741310    78.869858   \n",
       "7748     24.0          23.3          17.7    24.040634    77.294975   \n",
       "7749     25.0          23.2          17.4    22.933014    77.243744   \n",
       "7750      1.0          20.0          11.3    19.794666    58.936283   \n",
       "7751      1.0          37.6          29.9    98.524734   100.000153   \n",
       "\n",
       "      LDAPS_Tmax_lapse  LDAPS_Tmin_lapse   LDAPS_WS    LDAPS_LH      lat  \\\n",
       "0            28.074101         23.006936   6.818887   69.451805  37.6046   \n",
       "1            29.850689         24.035009   5.691890   51.937448  37.6046   \n",
       "2            30.091292         24.565633   6.138224   20.573050  37.5776   \n",
       "3            29.704629         23.326177   5.650050   65.727144  37.6450   \n",
       "4            29.113934         23.486480   5.735004  107.965535  37.5507   \n",
       "...                ...               ...        ...         ...      ...   \n",
       "7747         26.352081         18.775678   6.148918   72.058294  37.5372   \n",
       "7748         27.010193         18.733519   6.542819   47.241457  37.5237   \n",
       "7749         27.939516         18.522965   7.289264    9.090034  37.5237   \n",
       "7750         17.624954         14.272646   2.882580  -13.603212  37.4562   \n",
       "7751         38.542255         29.619342  21.857621  213.414006  37.6450   \n",
       "\n",
       "          lon       DEM     Slope  Solar radiation  Next_Tmax  Next_Tmin  \n",
       "0     126.991  212.3350  2.785000      5992.895996       29.1       21.2  \n",
       "1     127.032   44.7624  0.514100      5869.312500       30.5       22.5  \n",
       "2     127.058   33.3068  0.266100      5863.555664       31.1       23.9  \n",
       "3     127.022   45.7160  2.534800      5856.964844       31.7       24.3  \n",
       "4     127.135   35.0380  0.505500      5859.552246       31.2       22.5  \n",
       "...       ...       ...       ...              ...        ...        ...  \n",
       "7747  126.891   15.5876  0.155400      4443.313965       28.3       18.1  \n",
       "7748  126.909   17.2956  0.222300      4438.373535       28.6       18.8  \n",
       "7749  126.970   19.5844  0.271300      4451.345215       27.8       17.4  \n",
       "7750  126.826   12.3700  0.098475      4329.520508       17.4       11.3  \n",
       "7751  127.135  212.3350  5.178230      5992.895996       38.9       29.8  \n",
       "\n",
       "[7752 rows x 16 columns]"
      ]
     },
     "execution_count": 14,
     "metadata": {},
     "output_type": "execute_result"
    }
   ],
   "source": [
    "temp"
   ]
  },
  {
   "cell_type": "code",
   "execution_count": 15,
   "metadata": {},
   "outputs": [
    {
     "data": {
      "text/plain": [
       "<AxesSubplot:>"
      ]
     },
     "execution_count": 15,
     "metadata": {},
     "output_type": "execute_result"
    },
    {
     "data": {
      "image/png": "[encoded data removed]",
      "text/plain": [
       "<Figure size 432x288 with 2 Axes>"
      ]
     },
     "metadata": {
      "needs_background": "light"
     },
     "output_type": "display_data"
    }
   ],
   "source": [
    "sns.heatmap(temp.isnull())"
   ]
  },
  {
   "cell_type": "markdown",
   "metadata": {},
   "source": [
    "# Summary Statistics"
   ]
  },
  {
   "cell_type": "code",
   "execution_count": 16,
   "metadata": {},
   "outputs": [
    {
     "data": {
      "text/html": [
       "<div>\n",
       "<style scoped>\n",
       "    .dataframe tbody tr th:only-of-type {\n",
       "        vertical-align: middle;\n",
       "    }\n",
       "\n",
       "    .dataframe tbody tr th {\n",
       "        vertical-align: top;\n",
       "    }\n",
       "\n",
       "    .dataframe thead th {\n",
       "        text-align: right;\n",
       "    }\n",
       "</style>\n",
       "<table border=\"1\" class=\"dataframe\">\n",
       "  <thead>\n",
       "    <tr style=\"text-align: right;\">\n",
       "      <th></th>\n",
       "      <th>station</th>\n",
       "      <th>Present_Tmax</th>\n",
       "      <th>Present_Tmin</th>\n",
       "      <th>LDAPS_RHmin</th>\n",
       "      <th>LDAPS_RHmax</th>\n",
       "      <th>LDAPS_Tmax_lapse</th>\n",
       "      <th>LDAPS_Tmin_lapse</th>\n",
       "      <th>LDAPS_WS</th>\n",
       "      <th>LDAPS_LH</th>\n",
       "      <th>lat</th>\n",
       "      <th>lon</th>\n",
       "      <th>DEM</th>\n",
       "      <th>Slope</th>\n",
       "      <th>Solar radiation</th>\n",
       "      <th>Next_Tmax</th>\n",
       "      <th>Next_Tmin</th>\n",
       "    </tr>\n",
       "  </thead>\n",
       "  <tbody>\n",
       "    <tr>\n",
       "      <th>count</th>\n",
       "      <td>7752.000000</td>\n",
       "      <td>7752.000000</td>\n",
       "      <td>7752.000000</td>\n",
       "      <td>7752.000000</td>\n",
       "      <td>7752.000000</td>\n",
       "      <td>7752.000000</td>\n",
       "      <td>7752.000000</td>\n",
       "      <td>7752.000000</td>\n",
       "      <td>7752.000000</td>\n",
       "      <td>7752.000000</td>\n",
       "      <td>7752.000000</td>\n",
       "      <td>7752.000000</td>\n",
       "      <td>7752.000000</td>\n",
       "      <td>7752.000000</td>\n",
       "      <td>7752.000000</td>\n",
       "      <td>7752.000000</td>\n",
       "    </tr>\n",
       "    <tr>\n",
       "      <th>mean</th>\n",
       "      <td>12.996904</td>\n",
       "      <td>29.782946</td>\n",
       "      <td>23.232056</td>\n",
       "      <td>56.401741</td>\n",
       "      <td>88.089988</td>\n",
       "      <td>29.497459</td>\n",
       "      <td>23.423193</td>\n",
       "      <td>7.057092</td>\n",
       "      <td>61.768678</td>\n",
       "      <td>37.544722</td>\n",
       "      <td>126.991397</td>\n",
       "      <td>61.867972</td>\n",
       "      <td>1.257048</td>\n",
       "      <td>5341.502803</td>\n",
       "      <td>30.271491</td>\n",
       "      <td>22.934198</td>\n",
       "    </tr>\n",
       "    <tr>\n",
       "      <th>std</th>\n",
       "      <td>7.213213</td>\n",
       "      <td>2.960585</td>\n",
       "      <td>2.404154</td>\n",
       "      <td>15.038788</td>\n",
       "      <td>7.715499</td>\n",
       "      <td>3.158976</td>\n",
       "      <td>2.503109</td>\n",
       "      <td>2.212072</td>\n",
       "      <td>34.383864</td>\n",
       "      <td>0.050352</td>\n",
       "      <td>0.079435</td>\n",
       "      <td>54.279780</td>\n",
       "      <td>1.370444</td>\n",
       "      <td>429.158867</td>\n",
       "      <td>3.123085</td>\n",
       "      <td>2.483502</td>\n",
       "    </tr>\n",
       "    <tr>\n",
       "      <th>min</th>\n",
       "      <td>1.000000</td>\n",
       "      <td>20.000000</td>\n",
       "      <td>11.300000</td>\n",
       "      <td>19.794666</td>\n",
       "      <td>58.936283</td>\n",
       "      <td>17.624954</td>\n",
       "      <td>14.272646</td>\n",
       "      <td>2.882580</td>\n",
       "      <td>-13.603212</td>\n",
       "      <td>37.456200</td>\n",
       "      <td>126.826000</td>\n",
       "      <td>12.370000</td>\n",
       "      <td>0.098475</td>\n",
       "      <td>4329.520508</td>\n",
       "      <td>17.400000</td>\n",
       "      <td>11.300000</td>\n",
       "    </tr>\n",
       "    <tr>\n",
       "      <th>25%</th>\n",
       "      <td>7.000000</td>\n",
       "      <td>27.800000</td>\n",
       "      <td>21.700000</td>\n",
       "      <td>45.735368</td>\n",
       "      <td>84.038809</td>\n",
       "      <td>27.601014</td>\n",
       "      <td>22.032374</td>\n",
       "      <td>5.647741</td>\n",
       "      <td>36.776474</td>\n",
       "      <td>37.510200</td>\n",
       "      <td>126.937000</td>\n",
       "      <td>28.700000</td>\n",
       "      <td>0.271300</td>\n",
       "      <td>4999.018555</td>\n",
       "      <td>28.200000</td>\n",
       "      <td>21.400000</td>\n",
       "    </tr>\n",
       "    <tr>\n",
       "      <th>50%</th>\n",
       "      <td>13.000000</td>\n",
       "      <td>30.000000</td>\n",
       "      <td>23.400000</td>\n",
       "      <td>54.828714</td>\n",
       "      <td>89.699505</td>\n",
       "      <td>29.662273</td>\n",
       "      <td>23.735942</td>\n",
       "      <td>6.531345</td>\n",
       "      <td>56.487289</td>\n",
       "      <td>37.550700</td>\n",
       "      <td>126.995000</td>\n",
       "      <td>45.716000</td>\n",
       "      <td>0.618000</td>\n",
       "      <td>5436.345215</td>\n",
       "      <td>30.500000</td>\n",
       "      <td>23.100000</td>\n",
       "    </tr>\n",
       "    <tr>\n",
       "      <th>75%</th>\n",
       "      <td>19.000000</td>\n",
       "      <td>32.000000</td>\n",
       "      <td>24.900000</td>\n",
       "      <td>67.038254</td>\n",
       "      <td>93.704500</td>\n",
       "      <td>31.683819</td>\n",
       "      <td>25.134000</td>\n",
       "      <td>8.007471</td>\n",
       "      <td>83.904586</td>\n",
       "      <td>37.577600</td>\n",
       "      <td>127.042000</td>\n",
       "      <td>59.832400</td>\n",
       "      <td>1.767800</td>\n",
       "      <td>5728.316406</td>\n",
       "      <td>32.600000</td>\n",
       "      <td>24.600000</td>\n",
       "    </tr>\n",
       "    <tr>\n",
       "      <th>max</th>\n",
       "      <td>25.000000</td>\n",
       "      <td>37.600000</td>\n",
       "      <td>29.900000</td>\n",
       "      <td>98.524734</td>\n",
       "      <td>100.000153</td>\n",
       "      <td>38.542255</td>\n",
       "      <td>29.619342</td>\n",
       "      <td>21.857621</td>\n",
       "      <td>213.414006</td>\n",
       "      <td>37.645000</td>\n",
       "      <td>127.135000</td>\n",
       "      <td>212.335000</td>\n",
       "      <td>5.178230</td>\n",
       "      <td>5992.895996</td>\n",
       "      <td>38.900000</td>\n",
       "      <td>29.800000</td>\n",
       "    </tr>\n",
       "  </tbody>\n",
       "</table>\n",
       "</div>"
      ],
      "text/plain": [
       "           station  Present_Tmax  Present_Tmin  LDAPS_RHmin  LDAPS_RHmax  \\\n",
       "count  7752.000000   7752.000000   7752.000000  7752.000000  7752.000000   \n",
       "mean     12.996904     29.782946     23.232056    56.401741    88.089988   \n",
       "std       7.213213      2.960585      2.404154    15.038788     7.715499   \n",
       "min       1.000000     20.000000     11.300000    19.794666    58.936283   \n",
       "25%       7.000000     27.800000     21.700000    45.735368    84.038809   \n",
       "50%      13.000000     30.000000     23.400000    54.828714    89.699505   \n",
       "75%      19.000000     32.000000     24.900000    67.038254    93.704500   \n",
       "max      25.000000     37.600000     29.900000    98.524734   100.000153   \n",
       "\n",
       "       LDAPS_Tmax_lapse  LDAPS_Tmin_lapse     LDAPS_WS     LDAPS_LH  \\\n",
       "count       7752.000000       7752.000000  7752.000000  7752.000000   \n",
       "mean          29.497459         23.423193     7.057092    61.768678   \n",
       "std            3.158976          2.503109     2.212072    34.383864   \n",
       "min           17.624954         14.272646     2.882580   -13.603212   \n",
       "25%           27.601014         22.032374     5.647741    36.776474   \n",
       "50%           29.662273         23.735942     6.531345    56.487289   \n",
       "75%           31.683819         25.134000     8.007471    83.904586   \n",
       "max           38.542255         29.619342    21.857621   213.414006   \n",
       "\n",
       "               lat          lon          DEM        Slope  Solar radiation  \\\n",
       "count  7752.000000  7752.000000  7752.000000  7752.000000      7752.000000   \n",
       "mean     37.544722   126.991397    61.867972     1.257048      5341.502803   \n",
       "std       0.050352     0.079435    54.279780     1.370444       429.158867   \n",
       "min      37.456200   126.826000    12.370000     0.098475      4329.520508   \n",
       "25%      37.510200   126.937000    28.700000     0.271300      4999.018555   \n",
       "50%      37.550700   126.995000    45.716000     0.618000      5436.345215   \n",
       "75%      37.577600   127.042000    59.832400     1.767800      5728.316406   \n",
       "max      37.645000   127.135000   212.335000     5.178230      5992.895996   \n",
       "\n",
       "         Next_Tmax    Next_Tmin  \n",
       "count  7752.000000  7752.000000  \n",
       "mean     30.271491    22.934198  \n",
       "std       3.123085     2.483502  \n",
       "min      17.400000    11.300000  \n",
       "25%      28.200000    21.400000  \n",
       "50%      30.500000    23.100000  \n",
       "75%      32.600000    24.600000  \n",
       "max      38.900000    29.800000  "
      ]
     },
     "execution_count": 16,
     "metadata": {},
     "output_type": "execute_result"
    }
   ],
   "source": [
    "temp.describe()"
   ]
  },
  {
   "cell_type": "code",
   "execution_count": 17,
   "metadata": {},
   "outputs": [
    {
     "data": {
      "text/plain": [
       "station             0.000100\n",
       "Present_Tmax       -0.276483\n",
       "Present_Tmin       -0.375457\n",
       "LDAPS_RHmin         0.202176\n",
       "LDAPS_RHmax        -1.109283\n",
       "LDAPS_Tmax_lapse   -0.601161\n",
       "LDAPS_Tmin_lapse   -0.851245\n",
       "LDAPS_WS            1.485885\n",
       "LDAPS_LH            0.586176\n",
       "lat                 0.087062\n",
       "lon                -0.285213\n",
       "DEM                 1.723257\n",
       "Slope               1.563020\n",
       "Solar radiation    -0.511210\n",
       "Next_Tmax          -0.336871\n",
       "Next_Tmin          -0.406685\n",
       "dtype: float64"
      ]
     },
     "execution_count": 17,
     "metadata": {},
     "output_type": "execute_result"
    }
   ],
   "source": [
    "temp.skew()"
   ]
  },
  {
   "cell_type": "markdown",
   "metadata": {},
   "source": [
    "# EDA"
   ]
  },
  {
   "cell_type": "code",
   "execution_count": 18,
   "metadata": {},
   "outputs": [
    {
     "data": {
      "text/plain": [
       "<AxesSubplot:>"
      ]
     },
     "execution_count": 18,
     "metadata": {},
     "output_type": "execute_result"
    },
    {
     "data": {
      "image/png": "[encoded data removed]",
      "text/plain": [
       "<Figure size 432x288 with 1 Axes>"
      ]
     },
     "metadata": {
      "needs_background": "light"
     },
     "output_type": "display_data"
    }
   ],
   "source": [
    "temp['station'].plot.box()"
   ]
  },
  {
   "cell_type": "code",
   "execution_count": 19,
   "metadata": {},
   "outputs": [
    {
     "data": {
      "text/plain": [
       "<AxesSubplot:>"
      ]
     },
     "execution_count": 19,
     "metadata": {},
     "output_type": "execute_result"
    },
    {
     "data": {
      "image/png": "[encoded data removed]",
      "text/plain": [
       "<Figure size 432x288 with 1 Axes>"
      ]
     },
     "metadata": {
      "needs_background": "light"
     },
     "output_type": "display_data"
    }
   ],
   "source": [
    "temp['Present_Tmax'].plot.box()"
   ]
  },
  {
   "cell_type": "code",
   "execution_count": 20,
   "metadata": {},
   "outputs": [
    {
     "data": {
      "text/plain": [
       "<AxesSubplot:>"
      ]
     },
     "execution_count": 20,
     "metadata": {},
     "output_type": "execute_result"
    },
    {
     "data": {
      "image/png": "[encoded data removed]",
      "text/plain": [
       "<Figure size 432x288 with 1 Axes>"
      ]
     },
     "metadata": {
      "needs_background": "light"
     },
     "output_type": "display_data"
    }
   ],
   "source": [
    "temp['Present_Tmin'].plot.box()"
   ]
  },
  {
   "cell_type": "code",
   "execution_count": 21,
   "metadata": {},
   "outputs": [
    {
     "data": {
      "text/plain": [
       "<AxesSubplot:>"
      ]
     },
     "execution_count": 21,
     "metadata": {},
     "output_type": "execute_result"
    },
    {
     "data": {
      "image/png": "[encoded data removed]",
      "text/plain": [
       "<Figure size 432x288 with 1 Axes>"
      ]
     },
     "metadata": {
      "needs_background": "light"
     },
     "output_type": "display_data"
    }
   ],
   "source": [
    "temp['LDAPS_RHmin'].plot.box()"
   ]
  },
  {
   "cell_type": "code",
   "execution_count": 22,
   "metadata": {},
   "outputs": [
    {
     "data": {
      "text/plain": [
       "<AxesSubplot:>"
      ]
     },
     "execution_count": 22,
     "metadata": {},
     "output_type": "execute_result"
    },
    {
     "data": {
      "image/png": "[encoded data removed]",
      "text/plain": [
       "<Figure size 432x288 with 1 Axes>"
      ]
     },
     "metadata": {
      "needs_background": "light"
     },
     "output_type": "display_data"
    }
   ],
   "source": [
    "temp['LDAPS_RHmax'].plot.box()"
   ]
  },
  {
   "cell_type": "code",
   "execution_count": 23,
   "metadata": {},
   "outputs": [
    {
     "data": {
      "text/plain": [
       "<AxesSubplot:>"
      ]
     },
     "execution_count": 23,
     "metadata": {},
     "output_type": "execute_result"
    },
    {
     "data": {
      "image/png": "[encoded data removed]",
      "text/plain": [
       "<Figure size 432x288 with 1 Axes>"
      ]
     },
     "metadata": {
      "needs_background": "light"
     },
     "output_type": "display_data"
    }
   ],
   "source": [
    "temp['LDAPS_Tmax_lapse'].plot.box()"
   ]
  },
  {
   "cell_type": "code",
   "execution_count": 24,
   "metadata": {},
   "outputs": [
    {
     "data": {
      "text/plain": [
       "<AxesSubplot:>"
      ]
     },
     "execution_count": 24,
     "metadata": {},
     "output_type": "execute_result"
    },
    {
     "data": {
      "image/png": "[encoded data removed]",
      "text/plain": [
       "<Figure size 432x288 with 1 Axes>"
      ]
     },
     "metadata": {
      "needs_background": "light"
     },
     "output_type": "display_data"
    }
   ],
   "source": [
    "temp['LDAPS_Tmin_lapse'].plot.box()"
   ]
  },
  {
   "cell_type": "code",
   "execution_count": 25,
   "metadata": {},
   "outputs": [
    {
     "data": {
      "text/plain": [
       "<AxesSubplot:>"
      ]
     },
     "execution_count": 25,
     "metadata": {},
     "output_type": "execute_result"
    },
    {
     "data": {
      "image/png": "[encoded data removed]",
      "text/plain": [
       "<Figure size 432x288 with 1 Axes>"
      ]
     },
     "metadata": {
      "needs_background": "light"
     },
     "output_type": "display_data"
    }
   ],
   "source": [
    "temp['LDAPS_WS'].plot.box()"
   ]
  },
  {
   "cell_type": "code",
   "execution_count": 27,
   "metadata": {},
   "outputs": [
    {
     "data": {
      "text/plain": [
       "<AxesSubplot:>"
      ]
     },
     "execution_count": 27,
     "metadata": {},
     "output_type": "execute_result"
    },
    {
     "data": {
      "image/png": "[encoded data removed]",
      "text/plain": [
       "<Figure size 432x288 with 1 Axes>"
      ]
     },
     "metadata": {
      "needs_background": "light"
     },
     "output_type": "display_data"
    }
   ],
   "source": [
    "temp['LDAPS_LH'].plot.box()"
   ]
  },
  {
   "cell_type": "code",
   "execution_count": 28,
   "metadata": {},
   "outputs": [
    {
     "data": {
      "text/plain": [
       "<AxesSubplot:>"
      ]
     },
     "execution_count": 28,
     "metadata": {},
     "output_type": "execute_result"
    },
    {
     "data": {
      "image/png": "[encoded data removed]",
      "text/plain": [
       "<Figure size 432x288 with 1 Axes>"
      ]
     },
     "metadata": {
      "needs_background": "light"
     },
     "output_type": "display_data"
    }
   ],
   "source": [
    "temp['lat'].plot.box()"
   ]
  },
  {
   "cell_type": "code",
   "execution_count": 29,
   "metadata": {},
   "outputs": [
    {
     "data": {
      "text/plain": [
       "<AxesSubplot:>"
      ]
     },
     "execution_count": 29,
     "metadata": {},
     "output_type": "execute_result"
    },
    {
     "data": {
      "image/png": "[encoded data removed]",
      "text/plain": [
       "<Figure size 432x288 with 1 Axes>"
      ]
     },
     "metadata": {
      "needs_background": "light"
     },
     "output_type": "display_data"
    }
   ],
   "source": [
    "temp['lon'].plot.box()"
   ]
  },
  {
   "cell_type": "code",
   "execution_count": 30,
   "metadata": {},
   "outputs": [
    {
     "data": {
      "text/plain": [
       "<AxesSubplot:>"
      ]
     },
     "execution_count": 30,
     "metadata": {},
     "output_type": "execute_result"
    },
    {
     "data": {
      "image/png": "[encoded data removed]",
      "text/plain": [
       "<Figure size 432x288 with 1 Axes>"
      ]
     },
     "metadata": {
      "needs_background": "light"
     },
     "output_type": "display_data"
    }
   ],
   "source": [
    "temp['DEM'].plot.box()"
   ]
  },
  {
   "cell_type": "code",
   "execution_count": 31,
   "metadata": {},
   "outputs": [
    {
     "data": {
      "text/plain": [
       "<AxesSubplot:>"
      ]
     },
     "execution_count": 31,
     "metadata": {},
     "output_type": "execute_result"
    },
    {
     "data": {
      "image/png": "[encoded data removed]",
      "text/plain": [
       "<Figure size 432x288 with 1 Axes>"
      ]
     },
     "metadata": {
      "needs_background": "light"
     },
     "output_type": "display_data"
    }
   ],
   "source": [
    "temp['Slope'].plot.box()"
   ]
  },
  {
   "cell_type": "code",
   "execution_count": 33,
   "metadata": {},
   "outputs": [
    {
     "data": {
      "text/plain": [
       "<AxesSubplot:>"
      ]
     },
     "execution_count": 33,
     "metadata": {},
     "output_type": "execute_result"
    },
    {
     "data": {
      "image/png": "[encoded data removed]",
      "text/plain": [
       "<Figure size 432x288 with 1 Axes>"
      ]
     },
     "metadata": {
      "needs_background": "light"
     },
     "output_type": "display_data"
    }
   ],
   "source": [
    "temp['Solar radiation'].plot.box()"
   ]
  },
  {
   "cell_type": "code",
   "execution_count": 34,
   "metadata": {},
   "outputs": [
    {
     "data": {
      "text/plain": [
       "<AxesSubplot:>"
      ]
     },
     "execution_count": 34,
     "metadata": {},
     "output_type": "execute_result"
    },
    {
     "data": {
      "image/png": "[encoded data removed]",
      "text/plain": [
       "<Figure size 432x288 with 1 Axes>"
      ]
     },
     "metadata": {
      "needs_background": "light"
     },
     "output_type": "display_data"
    }
   ],
   "source": [
    "temp['Next_Tmax'].plot.box()"
   ]
  },
  {
   "cell_type": "code",
   "execution_count": 35,
   "metadata": {},
   "outputs": [
    {
     "data": {
      "text/plain": [
       "<AxesSubplot:>"
      ]
     },
     "execution_count": 35,
     "metadata": {},
     "output_type": "execute_result"
    },
    {
     "data": {
      "image/png": "[encoded data removed]",
      "text/plain": [
       "<Figure size 432x288 with 1 Axes>"
      ]
     },
     "metadata": {
      "needs_background": "light"
     },
     "output_type": "display_data"
    }
   ],
   "source": [
    "temp['Next_Tmin'].plot.box()"
   ]
  },
  {
   "cell_type": "markdown",
   "metadata": {},
   "source": [
    "# Correlation"
   ]
  },
  {
   "cell_type": "code",
   "execution_count": 36,
   "metadata": {},
   "outputs": [
    {
     "data": {
      "text/html": [
       "<div>\n",
       "<style scoped>\n",
       "    .dataframe tbody tr th:only-of-type {\n",
       "        vertical-align: middle;\n",
       "    }\n",
       "\n",
       "    .dataframe tbody tr th {\n",
       "        vertical-align: top;\n",
       "    }\n",
       "\n",
       "    .dataframe thead th {\n",
       "        text-align: right;\n",
       "    }\n",
       "</style>\n",
       "<table border=\"1\" class=\"dataframe\">\n",
       "  <thead>\n",
       "    <tr style=\"text-align: right;\">\n",
       "      <th></th>\n",
       "      <th>station</th>\n",
       "      <th>Present_Tmax</th>\n",
       "      <th>Present_Tmin</th>\n",
       "      <th>LDAPS_RHmin</th>\n",
       "      <th>LDAPS_RHmax</th>\n",
       "      <th>LDAPS_Tmax_lapse</th>\n",
       "      <th>LDAPS_Tmin_lapse</th>\n",
       "      <th>LDAPS_WS</th>\n",
       "      <th>LDAPS_LH</th>\n",
       "      <th>lat</th>\n",
       "      <th>lon</th>\n",
       "      <th>DEM</th>\n",
       "      <th>Slope</th>\n",
       "      <th>Solar radiation</th>\n",
       "      <th>Next_Tmax</th>\n",
       "      <th>Next_Tmin</th>\n",
       "    </tr>\n",
       "  </thead>\n",
       "  <tbody>\n",
       "    <tr>\n",
       "      <th>station</th>\n",
       "      <td>1.000000</td>\n",
       "      <td>0.111707</td>\n",
       "      <td>0.131483</td>\n",
       "      <td>-0.064828</td>\n",
       "      <td>-0.154365</td>\n",
       "      <td>0.064331</td>\n",
       "      <td>0.097898</td>\n",
       "      <td>0.004152</td>\n",
       "      <td>-0.130618</td>\n",
       "      <td>-0.237467</td>\n",
       "      <td>-0.118603</td>\n",
       "      <td>-0.256138</td>\n",
       "      <td>-0.090461</td>\n",
       "      <td>-0.018814</td>\n",
       "      <td>0.108569</td>\n",
       "      <td>0.128390</td>\n",
       "    </tr>\n",
       "    <tr>\n",
       "      <th>Present_Tmax</th>\n",
       "      <td>0.111707</td>\n",
       "      <td>1.000000</td>\n",
       "      <td>0.619221</td>\n",
       "      <td>-0.214998</td>\n",
       "      <td>-0.305792</td>\n",
       "      <td>0.501246</td>\n",
       "      <td>0.554768</td>\n",
       "      <td>-0.132777</td>\n",
       "      <td>0.116041</td>\n",
       "      <td>-0.053099</td>\n",
       "      <td>0.008635</td>\n",
       "      <td>-0.187098</td>\n",
       "      <td>-0.106605</td>\n",
       "      <td>-0.024943</td>\n",
       "      <td>0.608681</td>\n",
       "      <td>0.621846</td>\n",
       "    </tr>\n",
       "    <tr>\n",
       "      <th>Present_Tmin</th>\n",
       "      <td>0.131483</td>\n",
       "      <td>0.619221</td>\n",
       "      <td>1.000000</td>\n",
       "      <td>0.090367</td>\n",
       "      <td>-0.059385</td>\n",
       "      <td>0.384882</td>\n",
       "      <td>0.666980</td>\n",
       "      <td>-0.056793</td>\n",
       "      <td>-0.035814</td>\n",
       "      <td>-0.078764</td>\n",
       "      <td>-0.043659</td>\n",
       "      <td>-0.250294</td>\n",
       "      <td>-0.146821</td>\n",
       "      <td>0.053823</td>\n",
       "      <td>0.470941</td>\n",
       "      <td>0.796333</td>\n",
       "    </tr>\n",
       "    <tr>\n",
       "      <th>LDAPS_RHmin</th>\n",
       "      <td>-0.064828</td>\n",
       "      <td>-0.214998</td>\n",
       "      <td>0.090367</td>\n",
       "      <td>1.000000</td>\n",
       "      <td>0.611314</td>\n",
       "      <td>-0.419389</td>\n",
       "      <td>0.167924</td>\n",
       "      <td>0.325582</td>\n",
       "      <td>-0.015007</td>\n",
       "      <td>0.084541</td>\n",
       "      <td>-0.073998</td>\n",
       "      <td>0.099121</td>\n",
       "      <td>0.120115</td>\n",
       "      <td>0.248989</td>\n",
       "      <td>-0.454425</td>\n",
       "      <td>0.070956</td>\n",
       "    </tr>\n",
       "    <tr>\n",
       "      <th>LDAPS_RHmax</th>\n",
       "      <td>-0.154365</td>\n",
       "      <td>-0.305792</td>\n",
       "      <td>-0.059385</td>\n",
       "      <td>0.611314</td>\n",
       "      <td>1.000000</td>\n",
       "      <td>-0.182835</td>\n",
       "      <td>0.036238</td>\n",
       "      <td>0.193008</td>\n",
       "      <td>0.296986</td>\n",
       "      <td>0.181629</td>\n",
       "      <td>0.023808</td>\n",
       "      <td>0.164355</td>\n",
       "      <td>0.203716</td>\n",
       "      <td>0.157210</td>\n",
       "      <td>-0.308550</td>\n",
       "      <td>-0.100040</td>\n",
       "    </tr>\n",
       "    <tr>\n",
       "      <th>LDAPS_Tmax_lapse</th>\n",
       "      <td>0.064331</td>\n",
       "      <td>0.501246</td>\n",
       "      <td>0.384882</td>\n",
       "      <td>-0.419389</td>\n",
       "      <td>-0.182835</td>\n",
       "      <td>1.000000</td>\n",
       "      <td>0.700427</td>\n",
       "      <td>-0.215284</td>\n",
       "      <td>0.124012</td>\n",
       "      <td>-0.039079</td>\n",
       "      <td>0.084176</td>\n",
       "      <td>-0.166084</td>\n",
       "      <td>-0.150705</td>\n",
       "      <td>0.063188</td>\n",
       "      <td>0.723211</td>\n",
       "      <td>0.511372</td>\n",
       "    </tr>\n",
       "    <tr>\n",
       "      <th>LDAPS_Tmin_lapse</th>\n",
       "      <td>0.097898</td>\n",
       "      <td>0.554768</td>\n",
       "      <td>0.666980</td>\n",
       "      <td>0.167924</td>\n",
       "      <td>0.036238</td>\n",
       "      <td>0.700427</td>\n",
       "      <td>1.000000</td>\n",
       "      <td>-0.051714</td>\n",
       "      <td>-0.044372</td>\n",
       "      <td>-0.089752</td>\n",
       "      <td>-0.024898</td>\n",
       "      <td>-0.182240</td>\n",
       "      <td>-0.173282</td>\n",
       "      <td>0.167306</td>\n",
       "      <td>0.503437</td>\n",
       "      <td>0.788360</td>\n",
       "    </tr>\n",
       "    <tr>\n",
       "      <th>LDAPS_WS</th>\n",
       "      <td>0.004152</td>\n",
       "      <td>-0.132777</td>\n",
       "      <td>-0.056793</td>\n",
       "      <td>0.325582</td>\n",
       "      <td>0.193008</td>\n",
       "      <td>-0.215284</td>\n",
       "      <td>-0.051714</td>\n",
       "      <td>1.000000</td>\n",
       "      <td>0.046855</td>\n",
       "      <td>0.036014</td>\n",
       "      <td>-0.058423</td>\n",
       "      <td>0.187704</td>\n",
       "      <td>0.168621</td>\n",
       "      <td>0.128987</td>\n",
       "      <td>-0.359371</td>\n",
       "      <td>-0.111450</td>\n",
       "    </tr>\n",
       "    <tr>\n",
       "      <th>LDAPS_LH</th>\n",
       "      <td>-0.130618</td>\n",
       "      <td>0.116041</td>\n",
       "      <td>-0.035814</td>\n",
       "      <td>-0.015007</td>\n",
       "      <td>0.296986</td>\n",
       "      <td>0.124012</td>\n",
       "      <td>-0.044372</td>\n",
       "      <td>0.046855</td>\n",
       "      <td>1.000000</td>\n",
       "      <td>0.130056</td>\n",
       "      <td>0.025208</td>\n",
       "      <td>0.053829</td>\n",
       "      <td>0.084725</td>\n",
       "      <td>-0.035381</td>\n",
       "      <td>0.127318</td>\n",
       "      <td>-0.073270</td>\n",
       "    </tr>\n",
       "    <tr>\n",
       "      <th>lat</th>\n",
       "      <td>-0.237467</td>\n",
       "      <td>-0.053099</td>\n",
       "      <td>-0.078764</td>\n",
       "      <td>0.084541</td>\n",
       "      <td>0.181629</td>\n",
       "      <td>-0.039079</td>\n",
       "      <td>-0.089752</td>\n",
       "      <td>0.036014</td>\n",
       "      <td>0.130056</td>\n",
       "      <td>1.000000</td>\n",
       "      <td>0.289029</td>\n",
       "      <td>0.033165</td>\n",
       "      <td>0.074763</td>\n",
       "      <td>0.038513</td>\n",
       "      <td>-0.053295</td>\n",
       "      <td>-0.083677</td>\n",
       "    </tr>\n",
       "    <tr>\n",
       "      <th>lon</th>\n",
       "      <td>-0.118603</td>\n",
       "      <td>0.008635</td>\n",
       "      <td>-0.043659</td>\n",
       "      <td>-0.073998</td>\n",
       "      <td>0.023808</td>\n",
       "      <td>0.084176</td>\n",
       "      <td>-0.024898</td>\n",
       "      <td>-0.058423</td>\n",
       "      <td>0.025208</td>\n",
       "      <td>0.289029</td>\n",
       "      <td>1.000000</td>\n",
       "      <td>0.007587</td>\n",
       "      <td>0.038070</td>\n",
       "      <td>0.002182</td>\n",
       "      <td>0.002946</td>\n",
       "      <td>-0.046522</td>\n",
       "    </tr>\n",
       "    <tr>\n",
       "      <th>DEM</th>\n",
       "      <td>-0.256138</td>\n",
       "      <td>-0.187098</td>\n",
       "      <td>-0.250294</td>\n",
       "      <td>0.099121</td>\n",
       "      <td>0.164355</td>\n",
       "      <td>-0.166084</td>\n",
       "      <td>-0.182240</td>\n",
       "      <td>0.187704</td>\n",
       "      <td>0.053829</td>\n",
       "      <td>0.033165</td>\n",
       "      <td>0.007587</td>\n",
       "      <td>1.000000</td>\n",
       "      <td>0.783576</td>\n",
       "      <td>0.056224</td>\n",
       "      <td>-0.172171</td>\n",
       "      <td>-0.247130</td>\n",
       "    </tr>\n",
       "    <tr>\n",
       "      <th>Slope</th>\n",
       "      <td>-0.090461</td>\n",
       "      <td>-0.106605</td>\n",
       "      <td>-0.146821</td>\n",
       "      <td>0.120115</td>\n",
       "      <td>0.203716</td>\n",
       "      <td>-0.150705</td>\n",
       "      <td>-0.173282</td>\n",
       "      <td>0.168621</td>\n",
       "      <td>0.084725</td>\n",
       "      <td>0.074763</td>\n",
       "      <td>0.038070</td>\n",
       "      <td>0.783576</td>\n",
       "      <td>1.000000</td>\n",
       "      <td>0.028199</td>\n",
       "      <td>-0.102327</td>\n",
       "      <td>-0.147148</td>\n",
       "    </tr>\n",
       "    <tr>\n",
       "      <th>Solar radiation</th>\n",
       "      <td>-0.018814</td>\n",
       "      <td>-0.024943</td>\n",
       "      <td>0.053823</td>\n",
       "      <td>0.248989</td>\n",
       "      <td>0.157210</td>\n",
       "      <td>0.063188</td>\n",
       "      <td>0.167306</td>\n",
       "      <td>0.128987</td>\n",
       "      <td>-0.035381</td>\n",
       "      <td>0.038513</td>\n",
       "      <td>0.002182</td>\n",
       "      <td>0.056224</td>\n",
       "      <td>0.028199</td>\n",
       "      <td>1.000000</td>\n",
       "      <td>0.009202</td>\n",
       "      <td>0.119902</td>\n",
       "    </tr>\n",
       "    <tr>\n",
       "      <th>Next_Tmax</th>\n",
       "      <td>0.108569</td>\n",
       "      <td>0.608681</td>\n",
       "      <td>0.470941</td>\n",
       "      <td>-0.454425</td>\n",
       "      <td>-0.308550</td>\n",
       "      <td>0.723211</td>\n",
       "      <td>0.503437</td>\n",
       "      <td>-0.359371</td>\n",
       "      <td>0.127318</td>\n",
       "      <td>-0.053295</td>\n",
       "      <td>0.002946</td>\n",
       "      <td>-0.172171</td>\n",
       "      <td>-0.102327</td>\n",
       "      <td>0.009202</td>\n",
       "      <td>1.000000</td>\n",
       "      <td>0.621018</td>\n",
       "    </tr>\n",
       "    <tr>\n",
       "      <th>Next_Tmin</th>\n",
       "      <td>0.128390</td>\n",
       "      <td>0.621846</td>\n",
       "      <td>0.796333</td>\n",
       "      <td>0.070956</td>\n",
       "      <td>-0.100040</td>\n",
       "      <td>0.511372</td>\n",
       "      <td>0.788360</td>\n",
       "      <td>-0.111450</td>\n",
       "      <td>-0.073270</td>\n",
       "      <td>-0.083677</td>\n",
       "      <td>-0.046522</td>\n",
       "      <td>-0.247130</td>\n",
       "      <td>-0.147148</td>\n",
       "      <td>0.119902</td>\n",
       "      <td>0.621018</td>\n",
       "      <td>1.000000</td>\n",
       "    </tr>\n",
       "  </tbody>\n",
       "</table>\n",
       "</div>"
      ],
      "text/plain": [
       "                   station  Present_Tmax  Present_Tmin  LDAPS_RHmin  \\\n",
       "station           1.000000      0.111707      0.131483    -0.064828   \n",
       "Present_Tmax      0.111707      1.000000      0.619221    -0.214998   \n",
       "Present_Tmin      0.131483      0.619221      1.000000     0.090367   \n",
       "LDAPS_RHmin      -0.064828     -0.214998      0.090367     1.000000   \n",
       "LDAPS_RHmax      -0.154365     -0.305792     -0.059385     0.611314   \n",
       "LDAPS_Tmax_lapse  0.064331      0.501246      0.384882    -0.419389   \n",
       "LDAPS_Tmin_lapse  0.097898      0.554768      0.666980     0.167924   \n",
       "LDAPS_WS          0.004152     -0.132777     -0.056793     0.325582   \n",
       "LDAPS_LH         -0.130618      0.116041     -0.035814    -0.015007   \n",
       "lat              -0.237467     -0.053099     -0.078764     0.084541   \n",
       "lon              -0.118603      0.008635     -0.043659    -0.073998   \n",
       "DEM              -0.256138     -0.187098     -0.250294     0.099121   \n",
       "Slope            -0.090461     -0.106605     -0.146821     0.120115   \n",
       "Solar radiation  -0.018814     -0.024943      0.053823     0.248989   \n",
       "Next_Tmax         0.108569      0.608681      0.470941    -0.454425   \n",
       "Next_Tmin         0.128390      0.621846      0.796333     0.070956   \n",
       "\n",
       "                  LDAPS_RHmax  LDAPS_Tmax_lapse  LDAPS_Tmin_lapse  LDAPS_WS  \\\n",
       "station             -0.154365          0.064331          0.097898  0.004152   \n",
       "Present_Tmax        -0.305792          0.501246          0.554768 -0.132777   \n",
       "Present_Tmin        -0.059385          0.384882          0.666980 -0.056793   \n",
       "LDAPS_RHmin          0.611314         -0.419389          0.167924  0.325582   \n",
       "LDAPS_RHmax          1.000000         -0.182835          0.036238  0.193008   \n",
       "LDAPS_Tmax_lapse    -0.182835          1.000000          0.700427 -0.215284   \n",
       "LDAPS_Tmin_lapse     0.036238          0.700427          1.000000 -0.051714   \n",
       "LDAPS_WS             0.193008         -0.215284         -0.051714  1.000000   \n",
       "LDAPS_LH             0.296986          0.124012         -0.044372  0.046855   \n",
       "lat                  0.181629         -0.039079         -0.089752  0.036014   \n",
       "lon                  0.023808          0.084176         -0.024898 -0.058423   \n",
       "DEM                  0.164355         -0.166084         -0.182240  0.187704   \n",
       "Slope                0.203716         -0.150705         -0.173282  0.168621   \n",
       "Solar radiation      0.157210          0.063188          0.167306  0.128987   \n",
       "Next_Tmax           -0.308550          0.723211          0.503437 -0.359371   \n",
       "Next_Tmin           -0.100040          0.511372          0.788360 -0.111450   \n",
       "\n",
       "                  LDAPS_LH       lat       lon       DEM     Slope  \\\n",
       "station          -0.130618 -0.237467 -0.118603 -0.256138 -0.090461   \n",
       "Present_Tmax      0.116041 -0.053099  0.008635 -0.187098 -0.106605   \n",
       "Present_Tmin     -0.035814 -0.078764 -0.043659 -0.250294 -0.146821   \n",
       "LDAPS_RHmin      -0.015007  0.084541 -0.073998  0.099121  0.120115   \n",
       "LDAPS_RHmax       0.296986  0.181629  0.023808  0.164355  0.203716   \n",
       "LDAPS_Tmax_lapse  0.124012 -0.039079  0.084176 -0.166084 -0.150705   \n",
       "LDAPS_Tmin_lapse -0.044372 -0.089752 -0.024898 -0.182240 -0.173282   \n",
       "LDAPS_WS          0.046855  0.036014 -0.058423  0.187704  0.168621   \n",
       "LDAPS_LH          1.000000  0.130056  0.025208  0.053829  0.084725   \n",
       "lat               0.130056  1.000000  0.289029  0.033165  0.074763   \n",
       "lon               0.025208  0.289029  1.000000  0.007587  0.038070   \n",
       "DEM               0.053829  0.033165  0.007587  1.000000  0.783576   \n",
       "Slope             0.084725  0.074763  0.038070  0.783576  1.000000   \n",
       "Solar radiation  -0.035381  0.038513  0.002182  0.056224  0.028199   \n",
       "Next_Tmax         0.127318 -0.053295  0.002946 -0.172171 -0.102327   \n",
       "Next_Tmin        -0.073270 -0.083677 -0.046522 -0.247130 -0.147148   \n",
       "\n",
       "                  Solar radiation  Next_Tmax  Next_Tmin  \n",
       "station                 -0.018814   0.108569   0.128390  \n",
       "Present_Tmax            -0.024943   0.608681   0.621846  \n",
       "Present_Tmin             0.053823   0.470941   0.796333  \n",
       "LDAPS_RHmin              0.248989  -0.454425   0.070956  \n",
       "LDAPS_RHmax              0.157210  -0.308550  -0.100040  \n",
       "LDAPS_Tmax_lapse         0.063188   0.723211   0.511372  \n",
       "LDAPS_Tmin_lapse         0.167306   0.503437   0.788360  \n",
       "LDAPS_WS                 0.128987  -0.359371  -0.111450  \n",
       "LDAPS_LH                -0.035381   0.127318  -0.073270  \n",
       "lat                      0.038513  -0.053295  -0.083677  \n",
       "lon                      0.002182   0.002946  -0.046522  \n",
       "DEM                      0.056224  -0.172171  -0.247130  \n",
       "Slope                    0.028199  -0.102327  -0.147148  \n",
       "Solar radiation          1.000000   0.009202   0.119902  \n",
       "Next_Tmax                0.009202   1.000000   0.621018  \n",
       "Next_Tmin                0.119902   0.621018   1.000000  "
      ]
     },
     "execution_count": 36,
     "metadata": {},
     "output_type": "execute_result"
    }
   ],
   "source": [
    "temp.corr()"
   ]
  },
  {
   "cell_type": "code",
   "execution_count": 43,
   "metadata": {},
   "outputs": [
    {
     "data": {
      "text/plain": [
       "<AxesSubplot:>"
      ]
     },
     "execution_count": 43,
     "metadata": {},
     "output_type": "execute_result"
    },
    {
     "data": {
      "image/png": "[encoded data removed]",
      "text/plain": [
       "<Figure size 1440x1008 with 2 Axes>"
      ]
     },
     "metadata": {
      "needs_background": "light"
     },
     "output_type": "display_data"
    }
   ],
   "source": [
    "plt.figure(figsize = (20,14))\n",
    "sns.heatmap(temp.corr(), annot = True, linewidth = .5, linecolor ='black', fmt = '.2f')"
   ]
  },
  {
   "cell_type": "markdown",
   "metadata": {},
   "source": [
    "# Normal Distribution Curve"
   ]
  },
  {
   "cell_type": "code",
   "execution_count": 44,
   "metadata": {},
   "outputs": [
    {
     "data": {
      "text/plain": [
       "<AxesSubplot:xlabel='station', ylabel='Density'>"
      ]
     },
     "execution_count": 44,
     "metadata": {},
     "output_type": "execute_result"
    },
    {
     "data": {
      "image/png": "[encoded data removed]",
      "text/plain": [
       "<Figure size 432x288 with 1 Axes>"
      ]
     },
     "metadata": {
      "needs_background": "light"
     },
     "output_type": "display_data"
    }
   ],
   "source": [
    "sns.distplot(temp['station'])"
   ]
  },
  {
   "cell_type": "code",
   "execution_count": 45,
   "metadata": {},
   "outputs": [
    {
     "data": {
      "text/plain": [
       "<AxesSubplot:xlabel='Present_Tmax', ylabel='Density'>"
      ]
     },
     "execution_count": 45,
     "metadata": {},
     "output_type": "execute_result"
    },
    {
     "data": {
      "image/png": "[encoded data removed]",
      "text/plain": [
       "<Figure size 432x288 with 1 Axes>"
      ]
     },
     "metadata": {
      "needs_background": "light"
     },
     "output_type": "display_data"
    }
   ],
   "source": [
    "sns.distplot(temp['Present_Tmax'])"
   ]
  },
  {
   "cell_type": "code",
   "execution_count": 46,
   "metadata": {},
   "outputs": [
    {
     "data": {
      "text/plain": [
       "<AxesSubplot:xlabel='Present_Tmin', ylabel='Density'>"
      ]
     },
     "execution_count": 46,
     "metadata": {},
     "output_type": "execute_result"
    },
    {
     "data": {
      "image/png": "[encoded data removed]",
      "text/plain": [
       "<Figure size 432x288 with 1 Axes>"
      ]
     },
     "metadata": {
      "needs_background": "light"
     },
     "output_type": "display_data"
    }
   ],
   "source": [
    "sns.distplot(temp['Present_Tmin'])"
   ]
  },
  {
   "cell_type": "code",
   "execution_count": 48,
   "metadata": {},
   "outputs": [
    {
     "data": {
      "text/plain": [
       "<AxesSubplot:xlabel='LDAPS_RHmin', ylabel='Density'>"
      ]
     },
     "execution_count": 48,
     "metadata": {},
     "output_type": "execute_result"
    },
    {
     "data": {
      "image/png": "[encoded data removed]",
      "text/plain": [
       "<Figure size 432x288 with 1 Axes>"
      ]
     },
     "metadata": {
      "needs_background": "light"
     },
     "output_type": "display_data"
    }
   ],
   "source": [
    "sns.distplot(temp['LDAPS_RHmin'])"
   ]
  },
  {
   "cell_type": "code",
   "execution_count": 49,
   "metadata": {},
   "outputs": [
    {
     "data": {
      "text/plain": [
       "<AxesSubplot:xlabel='LDAPS_RHmax', ylabel='Density'>"
      ]
     },
     "execution_count": 49,
     "metadata": {},
     "output_type": "execute_result"
    },
    {
     "data": {
      "image/png": "[encoded data removed]",
      "text/plain": [
       "<Figure size 432x288 with 1 Axes>"
      ]
     },
     "metadata": {
      "needs_background": "light"
     },
     "output_type": "display_data"
    }
   ],
   "source": [
    "sns.distplot(temp['LDAPS_RHmax'])"
   ]
  },
  {
   "cell_type": "code",
   "execution_count": 50,
   "metadata": {},
   "outputs": [
    {
     "data": {
      "text/plain": [
       "<AxesSubplot:xlabel='LDAPS_Tmax_lapse', ylabel='Density'>"
      ]
     },
     "execution_count": 50,
     "metadata": {},
     "output_type": "execute_result"
    },
    {
     "data": {
      "image/png": "[encoded data removed]",
      "text/plain": [
       "<Figure size 432x288 with 1 Axes>"
      ]
     },
     "metadata": {
      "needs_background": "light"
     },
     "output_type": "display_data"
    }
   ],
   "source": [
    "sns.distplot(temp['LDAPS_Tmax_lapse'])"
   ]
  },
  {
   "cell_type": "code",
   "execution_count": 51,
   "metadata": {},
   "outputs": [
    {
     "data": {
      "text/plain": [
       "<AxesSubplot:xlabel='LDAPS_Tmin_lapse', ylabel='Density'>"
      ]
     },
     "execution_count": 51,
     "metadata": {},
     "output_type": "execute_result"
    },
    {
     "data": {
      "image/png": "[encoded data removed]",
      "text/plain": [
       "<Figure size 432x288 with 1 Axes>"
      ]
     },
     "metadata": {
      "needs_background": "light"
     },
     "output_type": "display_data"
    }
   ],
   "source": [
    "sns.distplot(temp['LDAPS_Tmin_lapse'])"
   ]
  },
  {
   "cell_type": "code",
   "execution_count": 52,
   "metadata": {},
   "outputs": [
    {
     "data": {
      "text/plain": [
       "<AxesSubplot:xlabel='LDAPS_WS', ylabel='Density'>"
      ]
     },
     "execution_count": 52,
     "metadata": {},
     "output_type": "execute_result"
    },
    {
     "data": {
      "image/png": "[encoded data removed]",
      "text/plain": [
       "<Figure size 432x288 with 1 Axes>"
      ]
     },
     "metadata": {
      "needs_background": "light"
     },
     "output_type": "display_data"
    }
   ],
   "source": [
    "sns.distplot(temp['LDAPS_WS'])"
   ]
  },
  {
   "cell_type": "code",
   "execution_count": 54,
   "metadata": {},
   "outputs": [
    {
     "data": {
      "text/plain": [
       "<AxesSubplot:xlabel='LDAPS_LH', ylabel='Density'>"
      ]
     },
     "execution_count": 54,
     "metadata": {},
     "output_type": "execute_result"
    },
    {
     "data": {
      "image/png": "[encoded data removed]",
      "text/plain": [
       "<Figure size 432x288 with 1 Axes>"
      ]
     },
     "metadata": {
      "needs_background": "light"
     },
     "output_type": "display_data"
    }
   ],
   "source": [
    "sns.distplot(temp['LDAPS_LH'])"
   ]
  },
  {
   "cell_type": "code",
   "execution_count": 55,
   "metadata": {},
   "outputs": [
    {
     "data": {
      "text/plain": [
       "<AxesSubplot:xlabel='lat', ylabel='Density'>"
      ]
     },
     "execution_count": 55,
     "metadata": {},
     "output_type": "execute_result"
    },
    {
     "data": {
      "image/png": "[encoded data removed]",
      "text/plain": [
       "<Figure size 432x288 with 1 Axes>"
      ]
     },
     "metadata": {
      "needs_background": "light"
     },
     "output_type": "display_data"
    }
   ],
   "source": [
    "sns.distplot(temp['lat'])"
   ]
  },
  {
   "cell_type": "code",
   "execution_count": 56,
   "metadata": {},
   "outputs": [
    {
     "data": {
      "text/plain": [
       "<AxesSubplot:xlabel='lon', ylabel='Density'>"
      ]
     },
     "execution_count": 56,
     "metadata": {},
     "output_type": "execute_result"
    },
    {
     "data": {
      "image/png": "[encoded data removed]",
      "text/plain": [
       "<Figure size 432x288 with 1 Axes>"
      ]
     },
     "metadata": {
      "needs_background": "light"
     },
     "output_type": "display_data"
    }
   ],
   "source": [
    "sns.distplot(temp['lon'])"
   ]
  },
  {
   "cell_type": "code",
   "execution_count": 57,
   "metadata": {},
   "outputs": [
    {
     "data": {
      "text/plain": [
       "<AxesSubplot:xlabel='DEM', ylabel='Density'>"
      ]
     },
     "execution_count": 57,
     "metadata": {},
     "output_type": "execute_result"
    },
    {
     "data": {
      "image/png": "[encoded data removed]",
      "text/plain": [
       "<Figure size 432x288 with 1 Axes>"
      ]
     },
     "metadata": {
      "needs_background": "light"
     },
     "output_type": "display_data"
    }
   ],
   "source": [
    "sns.distplot(temp['DEM'])"
   ]
  },
  {
   "cell_type": "code",
   "execution_count": 58,
   "metadata": {},
   "outputs": [
    {
     "data": {
      "text/plain": [
       "<AxesSubplot:xlabel='Slope', ylabel='Density'>"
      ]
     },
     "execution_count": 58,
     "metadata": {},
     "output_type": "execute_result"
    },
    {
     "data": {
      "image/png": "[encoded data removed]",
      "text/plain": [
       "<Figure size 432x288 with 1 Axes>"
      ]
     },
     "metadata": {
      "needs_background": "light"
     },
     "output_type": "display_data"
    }
   ],
   "source": [
    "sns.distplot(temp['Slope'])"
   ]
  },
  {
   "cell_type": "code",
   "execution_count": 59,
   "metadata": {},
   "outputs": [
    {
     "data": {
      "text/plain": [
       "<AxesSubplot:xlabel='Solar radiation', ylabel='Density'>"
      ]
     },
     "execution_count": 59,
     "metadata": {},
     "output_type": "execute_result"
    },
    {
     "data": {
      "image/png": "[encoded data removed]",
      "text/plain": [
       "<Figure size 432x288 with 1 Axes>"
      ]
     },
     "metadata": {
      "needs_background": "light"
     },
     "output_type": "display_data"
    }
   ],
   "source": [
    "sns.distplot(temp['Solar radiation'])"
   ]
  },
  {
   "cell_type": "code",
   "execution_count": 60,
   "metadata": {},
   "outputs": [
    {
     "data": {
      "text/plain": [
       "<AxesSubplot:xlabel='Next_Tmax', ylabel='Density'>"
      ]
     },
     "execution_count": 60,
     "metadata": {},
     "output_type": "execute_result"
    },
    {
     "data": {
      "image/png": "[encoded data removed]",
      "text/plain": [
       "<Figure size 432x288 with 1 Axes>"
      ]
     },
     "metadata": {
      "needs_background": "light"
     },
     "output_type": "display_data"
    }
   ],
   "source": [
    "sns.distplot(temp['Next_Tmax'])"
   ]
  },
  {
   "cell_type": "code",
   "execution_count": 61,
   "metadata": {},
   "outputs": [
    {
     "data": {
      "text/plain": [
       "<AxesSubplot:xlabel='Next_Tmin', ylabel='Density'>"
      ]
     },
     "execution_count": 61,
     "metadata": {},
     "output_type": "execute_result"
    },
    {
     "data": {
      "image/png": "[encoded data removed]",
      "text/plain": [
       "<Figure size 432x288 with 1 Axes>"
      ]
     },
     "metadata": {
      "needs_background": "light"
     },
     "output_type": "display_data"
    }
   ],
   "source": [
    "sns.distplot(temp['Next_Tmin'])"
   ]
  },
  {
   "cell_type": "markdown",
   "metadata": {},
   "source": [
    "# Outliers"
   ]
  },
  {
   "cell_type": "code",
   "execution_count": 63,
   "metadata": {},
   "outputs": [
    {
     "data": {
      "text/plain": [
       "array([[1.66329184, 0.36581161, 0.76208695, ..., 1.51793488, 0.3751312 ,\n",
       "        0.69833234],\n",
       "       [1.52464842, 0.71512575, 0.67889224, ..., 1.22994952, 0.07317235,\n",
       "        0.17484411],\n",
       "       [1.38600499, 0.61378787, 0.02826281, ..., 1.21653443, 0.26530245,\n",
       "        0.38891244],\n",
       "       ...,\n",
       "       [1.66415031, 2.2236727 , 2.42598117, ..., 2.0743251 , 0.79141307,\n",
       "        2.22852871],\n",
       "       [1.66329184, 3.30461006, 4.96341987, ..., 2.35821196, 4.12166806,\n",
       "        4.68489656],\n",
       "       [1.66329184, 2.64054542, 2.77368828, ..., 1.51793488, 2.76299368,\n",
       "        2.76474364]])"
      ]
     },
     "execution_count": 63,
     "metadata": {},
     "output_type": "execute_result"
    }
   ],
   "source": [
    "from scipy.stats import zscore\n",
    "z = np.abs(zscore(temp))\n",
    "z"
   ]
  },
  {
   "cell_type": "code",
   "execution_count": 64,
   "metadata": {},
   "outputs": [
    {
     "name": "stdout",
     "output_type": "stream",
     "text": [
      "(array([  25,   33,   44,  175,  194,  269,  294,  344,  375,  394,  419,\n",
      "        494,  519,  544,  569,  575,  584,  594,  969, 1025, 1025, 1025,\n",
      "       1026, 1026, 1026, 1027, 1027, 1027, 1028, 1028, 1028, 1029, 1029,\n",
      "       1029, 1030, 1030, 1030, 1031, 1031, 1031, 1032, 1032, 1032, 1033,\n",
      "       1033, 1033, 1034, 1034, 1034, 1035, 1035, 1035, 1036, 1036, 1036,\n",
      "       1037, 1037, 1037, 1038, 1038, 1038, 1039, 1039, 1039, 1040, 1040,\n",
      "       1040, 1041, 1041, 1041, 1042, 1042, 1042, 1043, 1043, 1043, 1044,\n",
      "       1044, 1044, 1045, 1045, 1045, 1046, 1046, 1046, 1047, 1047, 1047,\n",
      "       1048, 1048, 1048, 1049, 1049, 1049, 1494, 1664, 1778, 1779, 1781,\n",
      "       1791, 1794, 2175, 2176, 2177, 2178, 2179, 2179, 2180, 2181, 2181,\n",
      "       2182, 2183, 2184, 2185, 2186, 2187, 2188, 2189, 2190, 2191, 2192,\n",
      "       2193, 2194, 2195, 2196, 2197, 2198, 2199, 2353, 2354, 2356, 2369,\n",
      "       2375, 2378, 2394, 2441, 2528, 2544, 2569, 2675, 2750, 2775, 3104,\n",
      "       3116, 3166, 3184, 3190, 3191, 3191, 3202, 3209, 3211, 3215, 3216,\n",
      "       3220, 3264, 3266, 3289, 3375, 3378, 3394, 3400, 3404, 3406, 3407,\n",
      "       3408, 3409, 3411, 3413, 3419, 3441, 3454, 3466, 3475, 3478, 3479,\n",
      "       3481, 3482, 3482, 3483, 3484, 3486, 3487, 3488, 3488, 3489, 3493,\n",
      "       3494, 3495, 3497, 3498, 3499, 3525, 3719, 3944, 3950, 3969, 4475,\n",
      "       4478, 4484, 4494, 4566, 4591, 4744, 4750, 4769, 5013, 5023, 5024,\n",
      "       5025, 5025, 5044, 5050, 5050, 5075, 5425, 5425, 5425, 5426, 5426,\n",
      "       5426, 5427, 5427, 5427, 5428, 5428, 5428, 5429, 5429, 5429, 5430,\n",
      "       5430, 5430, 5431, 5431, 5431, 5432, 5432, 5432, 5433, 5433, 5433,\n",
      "       5434, 5434, 5434, 5435, 5435, 5435, 5436, 5436, 5436, 5437, 5437,\n",
      "       5437, 5438, 5438, 5438, 5439, 5439, 5439, 5440, 5440, 5440, 5441,\n",
      "       5441, 5441, 5442, 5442, 5442, 5443, 5443, 5443, 5444, 5444, 5444,\n",
      "       5445, 5445, 5445, 5446, 5446, 5446, 5447, 5447, 5447, 5448, 5448,\n",
      "       5448, 5449, 5449, 5449, 5606, 5925, 5925, 5925, 5926, 5926, 5926,\n",
      "       5927, 5927, 5927, 5928, 5928, 5928, 5929, 5929, 5929, 5930, 5930,\n",
      "       5930, 5931, 5931, 5931, 5932, 5932, 5932, 5933, 5933, 5933, 5934,\n",
      "       5934, 5934, 5935, 5935, 5935, 5936, 5936, 5936, 5937, 5937, 5937,\n",
      "       5938, 5938, 5938, 5939, 5939, 5939, 5940, 5940, 5940, 5941, 5941,\n",
      "       5941, 5942, 5942, 5942, 5943, 5943, 5943, 5944, 5944, 5944, 5945,\n",
      "       5945, 5945, 5946, 5946, 5946, 5947, 5947, 5947, 5948, 5948, 5948,\n",
      "       5949, 5949, 5949, 5981, 6066, 6075, 6076, 6081, 6084, 6084, 6090,\n",
      "       6091, 6094, 6100, 6101, 6109, 6115, 6116, 6125, 6125, 6126, 6134,\n",
      "       6141, 6150, 6150, 6150, 6150, 6151, 6153, 6153, 6159, 6159, 6166,\n",
      "       6166, 6168, 6169, 6169, 6169, 6175, 6175, 6175, 6175, 6175, 6175,\n",
      "       6176, 6176, 6176, 6176, 6177, 6177, 6177, 6178, 6178, 6178, 6178,\n",
      "       6179, 6180, 6181, 6181, 6181, 6182, 6183, 6183, 6184, 6184, 6184,\n",
      "       6184, 6184, 6185, 6186, 6186, 6186, 6186, 6187, 6187, 6188, 6189,\n",
      "       6189, 6190, 6190, 6191, 6191, 6191, 6192, 6193, 6193, 6193, 6194,\n",
      "       6194, 6194, 6194, 6195, 6196, 6197, 6198, 6199, 6831, 7031, 7056,\n",
      "       7325, 7344, 7350, 7550, 7553, 7559, 7569, 7603, 7609, 7616, 7634,\n",
      "       7641, 7666, 7675, 7675, 7675, 7675, 7675, 7678, 7678, 7681, 7683,\n",
      "       7691, 7694, 7694, 7700, 7700, 7700, 7700, 7700, 7701, 7701, 7703,\n",
      "       7704, 7706, 7708, 7709, 7709, 7711, 7711, 7712, 7714, 7715, 7716,\n",
      "       7716, 7718, 7718, 7719, 7719, 7722, 7725, 7725, 7725, 7726, 7726,\n",
      "       7733, 7734, 7734, 7736, 7740, 7741, 7741, 7743, 7744, 7744, 7750,\n",
      "       7750, 7750, 7750, 7750, 7750, 7750, 7751, 7751], dtype=int64), array([ 7,  7,  7,  7,  7,  7,  7,  7,  7,  7,  7,  7,  7,  7,  7,  7,  7,\n",
      "        7,  7,  4,  5,  6,  4,  5,  6,  4,  5,  6,  4,  5,  6,  4,  5,  6,\n",
      "        4,  5,  6,  4,  5,  6,  4,  5,  6,  4,  5,  6,  4,  5,  6,  4,  5,\n",
      "        6,  4,  5,  6,  4,  5,  6,  4,  5,  6,  4,  5,  6,  4,  5,  6,  4,\n",
      "        5,  6,  4,  5,  6,  4,  5,  6,  4,  5,  6,  4,  5,  6,  4,  5,  6,\n",
      "        4,  5,  6,  4,  5,  6,  4,  5,  6,  7,  4,  8,  8,  8,  8,  8,  7,\n",
      "        7,  7,  7,  7,  8,  7,  7,  8,  7,  7,  7,  7,  7,  7,  7,  7,  7,\n",
      "        7,  7,  7,  7,  7,  7,  7,  7,  7,  7,  8,  8,  7,  7,  7,  7,  8,\n",
      "        7,  7,  7,  1, 14,  1,  8,  8, 15, 15, 15,  2, 15,  4,  2,  4,  2,\n",
      "        2,  4,  4,  2,  4,  7,  7,  7,  7,  7,  7,  7,  7,  7,  7,  7,  7,\n",
      "        8,  8,  8,  7,  7,  8,  8,  4,  7,  4,  7,  7,  4,  4,  7,  4,  4,\n",
      "        7,  4,  4,  4,  4,  2,  7,  7,  7,  7,  7,  7,  7,  7, 15,  2,  7,\n",
      "        7,  7,  4,  4,  4,  7, 14,  7,  1, 14,  1,  4,  5,  6,  4,  5,  6,\n",
      "        4,  5,  6,  4,  5,  6,  4,  5,  6,  4,  5,  6,  4,  5,  6,  4,  5,\n",
      "        6,  4,  5,  6,  4,  5,  6,  4,  5,  6,  4,  5,  6,  4,  5,  6,  4,\n",
      "        5,  6,  4,  5,  6,  4,  5,  6,  4,  5,  6,  4,  5,  6,  4,  5,  6,\n",
      "        4,  5,  6,  4,  5,  6,  4,  5,  6,  4,  5,  6,  4,  5,  6,  4,  5,\n",
      "        6,  8,  4,  5,  6,  4,  5,  6,  4,  5,  6,  4,  5,  6,  4,  5,  6,\n",
      "        4,  5,  6,  4,  5,  6,  4,  5,  6,  4,  5,  6,  4,  5,  6,  4,  5,\n",
      "        6,  4,  5,  6,  4,  5,  6,  4,  5,  6,  4,  5,  6,  4,  5,  6,  4,\n",
      "        5,  6,  4,  5,  6,  4,  5,  6,  4,  5,  6,  4,  5,  6,  4,  5,  6,\n",
      "        4,  5,  6,  4,  5,  6,  4,  5,  6,  8, 15,  6, 15,  8,  6, 15, 15,\n",
      "       15,  6, 14,  2,  2,  2,  2,  1,  2, 15, 15, 15,  5,  6,  7, 15,  2,\n",
      "        6,  7,  2,  6,  2, 15,  2,  5,  6,  7,  2,  5,  6,  7, 14, 15,  2,\n",
      "        5,  7, 14,  5,  7, 14,  5,  6,  7, 14, 14,  7,  5,  7, 14,  7,  7,\n",
      "       14,  2,  5,  6,  7, 14, 14,  5,  7, 14, 15,  5, 14,  7,  7, 14,  7,\n",
      "       14,  2,  5, 14,  7,  5,  7, 14,  5,  6,  7, 14,  7,  7,  7,  7,  7,\n",
      "        8,  8,  8,  7,  7,  7,  7,  7,  7,  7,  8, 15, 15,  2,  2,  2,  2,\n",
      "        6,  7, 14, 15,  6,  7,  8,  6,  6,  6,  7,  1,  2,  6, 14, 15,  6,\n",
      "       15,  6,  6,  6,  6,  6, 15,  6, 15,  6,  6, 15,  6, 15,  6, 15,  6,\n",
      "       15,  6,  1,  2, 15,  2, 15,  2,  2, 15,  2,  2,  2, 15,  2,  2,  6,\n",
      "        1,  2,  4,  5,  6, 14, 15,  7,  8], dtype=int64))\n"
     ]
    }
   ],
   "source": [
    "threshold = 3\n",
    "print(np.where(z>3))"
   ]
  },
  {
   "cell_type": "code",
   "execution_count": 66,
   "metadata": {},
   "outputs": [
    {
     "name": "stdout",
     "output_type": "stream",
     "text": [
      "(7752, 16)\n",
      "(7445, 16)\n"
     ]
    }
   ],
   "source": [
    "temp_new =temp[(z<3).all(axis=1)]\n",
    "print(temp.shape)\n",
    "print(temp_new.shape)"
   ]
  },
  {
   "cell_type": "markdown",
   "metadata": {},
   "source": [
    "# Divide Data in Feature & Vector"
   ]
  },
  {
   "cell_type": "code",
   "execution_count": 67,
   "metadata": {},
   "outputs": [],
   "source": [
    "x = temp_new.drop(['Next_Tmin'], axis=1)\n",
    "y= temp_new['Next_Tmin']"
   ]
  },
  {
   "cell_type": "markdown",
   "metadata": {},
   "source": [
    "# Remove Skewness"
   ]
  },
  {
   "cell_type": "code",
   "execution_count": 69,
   "metadata": {},
   "outputs": [
    {
     "name": "stdout",
     "output_type": "stream",
     "text": [
      "[[-1.74504367 -0.43552013 -0.84260933 ...  1.2848064   2.03003512\n",
      "  -0.47268435]\n",
      " [-1.56825724  0.7012875  -0.76081686 ... -0.29249867  1.48053442\n",
      "  -0.01316842]\n",
      " [-1.4045997   0.58879735 -0.03949542 ... -0.94869679  1.45642727\n",
      "   0.19228359]\n",
      " ...\n",
      " [ 1.37207757 -2.06025618 -2.44923714 ... -1.36097301 -1.66872151\n",
      "  -0.72350617]\n",
      " [ 1.50805715 -2.06025618 -2.24239792 ... -1.10062194 -1.67369241\n",
      "  -0.63041487]\n",
      " [ 1.64378251 -2.08715252 -2.34652078 ... -0.93153392 -1.66059088\n",
      "  -0.87612761]]\n",
      "[[-1.74504367 -0.43552013 -0.84260933 ...  1.2848064   2.03003512\n",
      "  -0.47268435]\n",
      " [-1.56825724  0.7012875  -0.76081686 ... -0.29249867  1.48053442\n",
      "  -0.01316842]\n",
      " [-1.4045997   0.58879735 -0.03949542 ... -0.94869679  1.45642727\n",
      "   0.19228359]\n",
      " ...\n",
      " [ 1.37207757 -2.06025618 -2.44923714 ... -1.36097301 -1.66872151\n",
      "  -0.72350617]\n",
      " [ 1.50805715 -2.06025618 -2.24239792 ... -1.10062194 -1.67369241\n",
      "  -0.63041487]\n",
      " [ 1.64378251 -2.08715252 -2.34652078 ... -0.93153392 -1.66059088\n",
      "  -0.87612761]]\n"
     ]
    }
   ],
   "source": [
    "from sklearn.preprocessing import power_transform\n",
    "from sklearn.preprocessing import StandardScaler\n",
    "x = power_transform(x, method= 'yeo-johnson')\n",
    "print(x)\n",
    "\n",
    "sc = StandardScaler()\n",
    "x = sc.fit_transform(x)\n",
    "print(x)"
   ]
  },
  {
   "cell_type": "markdown",
   "metadata": {},
   "source": [
    "# Model"
   ]
  },
  {
   "cell_type": "code",
   "execution_count": 70,
   "metadata": {},
   "outputs": [],
   "source": [
    "from sklearn.linear_model import LinearRegression\n",
    "from sklearn.model_selection import train_test_split\n",
    "lr = LinearRegression()\n",
    "from sklearn.metrics import r2_score, mean_squared_error, mean_absolute_error"
   ]
  },
  {
   "cell_type": "code",
   "execution_count": 71,
   "metadata": {},
   "outputs": [
    {
     "name": "stdout",
     "output_type": "stream",
     "text": [
      "At random state 172  The model performs very well\n",
      "At random_state:- 172\n",
      "Training r2_score is:- 82.89724763026518\n",
      "Testing r2_score is:- 82.90075351645135\n",
      "At random state 248  The model performs very well\n",
      "At random_state:- 248\n",
      "Training r2_score is:- 82.8992493310028\n",
      "Testing r2_score is:- 82.89736086972864\n",
      "At random state 870  The model performs very well\n",
      "At random_state:- 870\n",
      "Training r2_score is:- 82.9014749422587\n",
      "Testing r2_score is:- 82.89785118053302\n"
     ]
    }
   ],
   "source": [
    "max_scr=0\n",
    "for i in range(0,1000):\n",
    "    x_train,x_test,y_train,y_test=train_test_split(x,y,random_state=i,test_size=0.20)\n",
    "    lr.fit(x_train,y_train)\n",
    "    pred_train=lr.predict(x_train)\n",
    "    pred_test=lr.predict(x_test)\n",
    "    if round(r2_score(y_train,pred_train)*100,2)==round(r2_score(y_test,pred_test)*100,2):\n",
    "        print(\"At random state\",i,\" The model performs very well\")\n",
    "        print(\"At random_state:-\",i)\n",
    "        print(\"Training r2_score is:-\", r2_score(y_train,pred_train)*100)\n",
    "        print(\"Testing r2_score is:-\", r2_score(y_test,pred_test)*100)"
   ]
  },
  {
   "cell_type": "code",
   "execution_count": 72,
   "metadata": {},
   "outputs": [],
   "source": [
    "x_train_b,x_test_b,y_train_b,y_test_b=train_test_split(x,y,random_state=248,test_size=0.20)"
   ]
  },
  {
   "cell_type": "code",
   "execution_count": 73,
   "metadata": {},
   "outputs": [
    {
     "data": {
      "text/plain": [
       "LinearRegression()"
      ]
     },
     "execution_count": 73,
     "metadata": {},
     "output_type": "execute_result"
    }
   ],
   "source": [
    "lr.fit(x_train, y_train)"
   ]
  },
  {
   "cell_type": "code",
   "execution_count": 74,
   "metadata": {},
   "outputs": [
    {
     "data": {
      "text/plain": [
       "0.8307436987817084"
      ]
     },
     "execution_count": 74,
     "metadata": {},
     "output_type": "execute_result"
    }
   ],
   "source": [
    "lr.score(x_train, y_train)"
   ]
  },
  {
   "cell_type": "code",
   "execution_count": 75,
   "metadata": {},
   "outputs": [
    {
     "name": "stdout",
     "output_type": "stream",
     "text": [
      "Predicted result price:  [19.66894216 19.90860965 23.34572415 ... 22.88953385 24.0966816\n",
      " 21.01073632]\n",
      "actual price  3540    21.2\n",
      "3514    18.5\n",
      "4362    24.0\n",
      "2982    21.7\n",
      "1455    22.9\n",
      "        ... \n",
      "464     23.4\n",
      "188     22.3\n",
      "7285    23.8\n",
      "4256    21.4\n",
      "3285    20.6\n",
      "Name: Next_Tmin, Length: 1489, dtype: float64\n"
     ]
    }
   ],
   "source": [
    "# predict the value\n",
    "\n",
    "pred = lr.predict(x_test)\n",
    "print(\"Predicted result price: \", pred)\n",
    "print(\"actual price \", y_test)"
   ]
  },
  {
   "cell_type": "code",
   "execution_count": 76,
   "metadata": {},
   "outputs": [
    {
     "name": "stdout",
     "output_type": "stream",
     "text": [
      "error:\n",
      "Mean absolute error:  0.7709394638754123\n",
      "Mean squared error:  0.9703733732369964\n",
      "Root Mean Squared Error:  0.9850753134847083\n",
      "0.8220925226861788\n"
     ]
    }
   ],
   "source": [
    "print('error:')\n",
    "\n",
    "print('Mean absolute error: ', mean_absolute_error(y_test, pred))\n",
    "print('Mean squared error: ', mean_squared_error(y_test, pred))\n",
    "\n",
    "print('Root Mean Squared Error: ', np.sqrt(mean_squared_error(y_test, pred)))\n",
    "\n",
    "print(r2_score(y_test, pred))"
   ]
  },
  {
   "cell_type": "markdown",
   "metadata": {},
   "source": [
    "# Regularization"
   ]
  },
  {
   "cell_type": "markdown",
   "metadata": {},
   "source": [
    "# Lasso"
   ]
  },
  {
   "cell_type": "code",
   "execution_count": 77,
   "metadata": {},
   "outputs": [
    {
     "name": "stdout",
     "output_type": "stream",
     "text": [
      "At cv:- 2\n",
      "Cross validation score is:- 80.14249974311521\n",
      "R2_score is :- 81.55101865205427\n",
      "\n",
      "\n",
      "At cv:- 3\n",
      "Cross validation score is:- 77.09542924126914\n",
      "R2_score is :- 81.55101865205427\n",
      "\n",
      "\n",
      "At cv:- 4\n",
      "Cross validation score is:- 78.70142052484186\n",
      "R2_score is :- 81.55101865205427\n",
      "\n",
      "\n",
      "At cv:- 5\n",
      "Cross validation score is:- 77.51842923432902\n",
      "R2_score is :- 81.55101865205427\n",
      "\n",
      "\n",
      "At cv:- 6\n",
      "Cross validation score is:- 75.6921197975723\n",
      "R2_score is :- 81.55101865205427\n",
      "\n",
      "\n",
      "At cv:- 7\n",
      "Cross validation score is:- 76.53124758543119\n",
      "R2_score is :- 81.55101865205427\n",
      "\n",
      "\n",
      "At cv:- 8\n",
      "Cross validation score is:- 76.60950432337815\n",
      "R2_score is :- 81.55101865205427\n",
      "\n",
      "\n",
      "At cv:- 9\n",
      "Cross validation score is:- 69.77445726212177\n",
      "R2_score is :- 81.55101865205427\n",
      "\n",
      "\n"
     ]
    }
   ],
   "source": [
    "from sklearn.linear_model import Lasso\n",
    "\n",
    "from sklearn.model_selection import cross_val_score\n",
    "ls = Lasso(alpha=0.1,random_state=0)\n",
    "ls.fit(x_train_b,y_train_b)\n",
    "ls.score(x_train_b,y_train_b)\n",
    "pred_ls = ls.predict(x_test_b)\n",
    "\n",
    "lss = r2_score(y_test_b,pred_ls)\n",
    "for j in range(2,10):\n",
    "    lsscore = cross_val_score(ls,x,y,cv=j)\n",
    "    lsc = lsscore.mean() \n",
    "    print(\"At cv:-\",j)\n",
    "    print(\"Cross validation score is:-\",lsc*100 )\n",
    "    print(\"R2_score is :-\",lss*100)\n",
    "    print(\"\\n\")"
   ]
  },
  {
   "cell_type": "code",
   "execution_count": 78,
   "metadata": {},
   "outputs": [
    {
     "name": "stdout",
     "output_type": "stream",
     "text": [
      "At cv:- 2\n",
      "Cross validation score is:- 80.14249974311521\n",
      "R2_score is :- 81.55101865205427\n"
     ]
    }
   ],
   "source": [
    "print(\"At cv:-\",2)\n",
    "print(\"Cross validation score is:-\", 80.14249974311521 )\n",
    "print(\"R2_score is :-\", 81.55101865205427)"
   ]
  },
  {
   "cell_type": "code",
   "execution_count": 79,
   "metadata": {},
   "outputs": [
    {
     "name": "stdout",
     "output_type": "stream",
     "text": [
      "Error:\n",
      "Mean Absolute Error: 0.786303703682147\n",
      "Mean Squared Error: 0.9993412202787402\n",
      "Root Mean Square Error: 0.9996705558726535\n"
     ]
    }
   ],
   "source": [
    "print('Error:')\n",
    "\n",
    "print('Mean Absolute Error:',mean_absolute_error(y_test_b,pred_ls))\n",
    "print('Mean Squared Error:',mean_squared_error(y_test_b,pred_ls))\n",
    "print('Root Mean Square Error:',np.sqrt(mean_squared_error(y_test_b,pred_ls)))"
   ]
  },
  {
   "cell_type": "code",
   "execution_count": 80,
   "metadata": {},
   "outputs": [
    {
     "data": {
      "image/png": "[encoded data removed]",
      "text/plain": [
       "<Figure size 576x432 with 1 Axes>"
      ]
     },
     "metadata": {
      "needs_background": "light"
     },
     "output_type": "display_data"
    }
   ],
   "source": [
    "plt.figure(figsize=(8,6))\n",
    "plt.scatter(x=y_test_b, y=pred_ls, color='r')\n",
    "plt.plot(y_test_b,y_test_b, color='b')\n",
    "plt.xlabel('Actual Sales',fontsize=14)\n",
    "plt.ylabel('Predicted Sales',fontsize=14)\n",
    "plt.title('Lasso Regression',fontsize=18)\n",
    "plt.show()"
   ]
  },
  {
   "cell_type": "markdown",
   "metadata": {},
   "source": [
    "# Model Saving"
   ]
  },
  {
   "cell_type": "code",
   "execution_count": 81,
   "metadata": {},
   "outputs": [],
   "source": [
    "import pickle\n",
    "filename = 'Temperature.pkl'\n",
    "pickle.dump(ls, open(filename, 'wb'))"
   ]
  },
  {
   "cell_type": "markdown",
   "metadata": {},
   "source": [
    "# Conclusion"
   ]
  },
  {
   "cell_type": "code",
   "execution_count": 82,
   "metadata": {},
   "outputs": [
    {
     "data": {
      "text/html": [
       "<div>\n",
       "<style scoped>\n",
       "    .dataframe tbody tr th:only-of-type {\n",
       "        vertical-align: middle;\n",
       "    }\n",
       "\n",
       "    .dataframe tbody tr th {\n",
       "        vertical-align: top;\n",
       "    }\n",
       "\n",
       "    .dataframe thead th {\n",
       "        text-align: right;\n",
       "    }\n",
       "</style>\n",
       "<table border=\"1\" class=\"dataframe\">\n",
       "  <thead>\n",
       "    <tr style=\"text-align: right;\">\n",
       "      <th></th>\n",
       "      <th>original</th>\n",
       "      <th>predicted</th>\n",
       "    </tr>\n",
       "  </thead>\n",
       "  <tbody>\n",
       "    <tr>\n",
       "      <th>0</th>\n",
       "      <td>21.2</td>\n",
       "      <td>19.668942</td>\n",
       "    </tr>\n",
       "    <tr>\n",
       "      <th>1</th>\n",
       "      <td>18.5</td>\n",
       "      <td>19.908610</td>\n",
       "    </tr>\n",
       "    <tr>\n",
       "      <th>2</th>\n",
       "      <td>24.0</td>\n",
       "      <td>23.345724</td>\n",
       "    </tr>\n",
       "    <tr>\n",
       "      <th>3</th>\n",
       "      <td>21.7</td>\n",
       "      <td>20.932188</td>\n",
       "    </tr>\n",
       "    <tr>\n",
       "      <th>4</th>\n",
       "      <td>22.9</td>\n",
       "      <td>23.231864</td>\n",
       "    </tr>\n",
       "    <tr>\n",
       "      <th>...</th>\n",
       "      <td>...</td>\n",
       "      <td>...</td>\n",
       "    </tr>\n",
       "    <tr>\n",
       "      <th>1484</th>\n",
       "      <td>23.4</td>\n",
       "      <td>24.544708</td>\n",
       "    </tr>\n",
       "    <tr>\n",
       "      <th>1485</th>\n",
       "      <td>22.3</td>\n",
       "      <td>23.328249</td>\n",
       "    </tr>\n",
       "    <tr>\n",
       "      <th>1486</th>\n",
       "      <td>23.8</td>\n",
       "      <td>22.889534</td>\n",
       "    </tr>\n",
       "    <tr>\n",
       "      <th>1487</th>\n",
       "      <td>21.4</td>\n",
       "      <td>24.096682</td>\n",
       "    </tr>\n",
       "    <tr>\n",
       "      <th>1488</th>\n",
       "      <td>20.6</td>\n",
       "      <td>21.010736</td>\n",
       "    </tr>\n",
       "  </tbody>\n",
       "</table>\n",
       "<p>1489 rows × 2 columns</p>\n",
       "</div>"
      ],
      "text/plain": [
       "      original  predicted\n",
       "0         21.2  19.668942\n",
       "1         18.5  19.908610\n",
       "2         24.0  23.345724\n",
       "3         21.7  20.932188\n",
       "4         22.9  23.231864\n",
       "...        ...        ...\n",
       "1484      23.4  24.544708\n",
       "1485      22.3  23.328249\n",
       "1486      23.8  22.889534\n",
       "1487      21.4  24.096682\n",
       "1488      20.6  21.010736\n",
       "\n",
       "[1489 rows x 2 columns]"
      ]
     },
     "execution_count": 82,
     "metadata": {},
     "output_type": "execute_result"
    }
   ],
   "source": [
    "a = np.array(y_test)\n",
    "predicted = np.array(lr.predict(x_test))\n",
    "temperature = pd.DataFrame({\"original\": a, \"predicted\": predicted}, index = range(len(a)))\n",
    "temperature"
   ]
  },
  {
   "cell_type": "code",
   "execution_count": null,
   "metadata": {},
   "outputs": [],
   "source": []
  }
 ],
 "metadata": {
  "kernelspec": {
   "display_name": "Python 3",
   "language": "python",
   "name": "python3"
  },
  "language_info": {
   "codemirror_mode": {
    "name": "ipython",
    "version": 3
   },
   "file_extension": ".py",
   "mimetype": "text/x-python",
   "name": "python",
   "nbconvert_exporter": "python",
   "pygments_lexer": "ipython3",
   "version": "3.8.5"
  }
 },
 "nbformat": 4,
 "nbformat_minor": 4
}

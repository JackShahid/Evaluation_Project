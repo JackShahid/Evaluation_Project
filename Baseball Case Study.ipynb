{
 "cells": [
  {
   "cell_type": "markdown",
   "metadata": {},
   "source": [
    "# Problem Statement"
   ]
  },
  {
   "cell_type": "markdown",
   "metadata": {},
   "source": [
    "This dataset utilizes data from 2014 Major League Baseball seasons in order to develop an algorithm that predicts the number of wins for a given team in the 2015 season based on several different indicators of success. There are 16 different features that will be used as the inputs to the machine learning and the output will be a value that represents the number of wins. \n",
    "\n",
    "-- Output: Number of predicted wins (W)"
   ]
  },
  {
   "cell_type": "code",
   "execution_count": 1,
   "metadata": {},
   "outputs": [],
   "source": [
    "import numpy as np\n",
    "import pandas as pd\n",
    "import matplotlib.pyplot as plt\n",
    "import seaborn as sns\n",
    "import warnings\n",
    "warnings.filterwarnings(\"ignore\")"
   ]
  },
  {
   "cell_type": "code",
   "execution_count": 2,
   "metadata": {},
   "outputs": [
    {
     "data": {
      "text/html": [
       "<div>\n",
       "<style scoped>\n",
       "    .dataframe tbody tr th:only-of-type {\n",
       "        vertical-align: middle;\n",
       "    }\n",
       "\n",
       "    .dataframe tbody tr th {\n",
       "        vertical-align: top;\n",
       "    }\n",
       "\n",
       "    .dataframe thead th {\n",
       "        text-align: right;\n",
       "    }\n",
       "</style>\n",
       "<table border=\"1\" class=\"dataframe\">\n",
       "  <thead>\n",
       "    <tr style=\"text-align: right;\">\n",
       "      <th></th>\n",
       "      <th>W</th>\n",
       "      <th>R</th>\n",
       "      <th>AB</th>\n",
       "      <th>H</th>\n",
       "      <th>2B</th>\n",
       "      <th>3B</th>\n",
       "      <th>HR</th>\n",
       "      <th>BB</th>\n",
       "      <th>SO</th>\n",
       "      <th>SB</th>\n",
       "      <th>RA</th>\n",
       "      <th>ER</th>\n",
       "      <th>ERA</th>\n",
       "      <th>CG</th>\n",
       "      <th>SHO</th>\n",
       "      <th>SV</th>\n",
       "      <th>E</th>\n",
       "    </tr>\n",
       "  </thead>\n",
       "  <tbody>\n",
       "    <tr>\n",
       "      <th>0</th>\n",
       "      <td>95</td>\n",
       "      <td>724</td>\n",
       "      <td>5575</td>\n",
       "      <td>1497</td>\n",
       "      <td>300</td>\n",
       "      <td>42</td>\n",
       "      <td>139</td>\n",
       "      <td>383</td>\n",
       "      <td>973</td>\n",
       "      <td>104</td>\n",
       "      <td>641</td>\n",
       "      <td>601</td>\n",
       "      <td>3.73</td>\n",
       "      <td>2</td>\n",
       "      <td>8</td>\n",
       "      <td>56</td>\n",
       "      <td>88</td>\n",
       "    </tr>\n",
       "    <tr>\n",
       "      <th>1</th>\n",
       "      <td>83</td>\n",
       "      <td>696</td>\n",
       "      <td>5467</td>\n",
       "      <td>1349</td>\n",
       "      <td>277</td>\n",
       "      <td>44</td>\n",
       "      <td>156</td>\n",
       "      <td>439</td>\n",
       "      <td>1264</td>\n",
       "      <td>70</td>\n",
       "      <td>700</td>\n",
       "      <td>653</td>\n",
       "      <td>4.07</td>\n",
       "      <td>2</td>\n",
       "      <td>12</td>\n",
       "      <td>45</td>\n",
       "      <td>86</td>\n",
       "    </tr>\n",
       "    <tr>\n",
       "      <th>2</th>\n",
       "      <td>81</td>\n",
       "      <td>669</td>\n",
       "      <td>5439</td>\n",
       "      <td>1395</td>\n",
       "      <td>303</td>\n",
       "      <td>29</td>\n",
       "      <td>141</td>\n",
       "      <td>533</td>\n",
       "      <td>1157</td>\n",
       "      <td>86</td>\n",
       "      <td>640</td>\n",
       "      <td>584</td>\n",
       "      <td>3.67</td>\n",
       "      <td>11</td>\n",
       "      <td>10</td>\n",
       "      <td>38</td>\n",
       "      <td>79</td>\n",
       "    </tr>\n",
       "    <tr>\n",
       "      <th>3</th>\n",
       "      <td>76</td>\n",
       "      <td>622</td>\n",
       "      <td>5533</td>\n",
       "      <td>1381</td>\n",
       "      <td>260</td>\n",
       "      <td>27</td>\n",
       "      <td>136</td>\n",
       "      <td>404</td>\n",
       "      <td>1231</td>\n",
       "      <td>68</td>\n",
       "      <td>701</td>\n",
       "      <td>643</td>\n",
       "      <td>3.98</td>\n",
       "      <td>7</td>\n",
       "      <td>9</td>\n",
       "      <td>37</td>\n",
       "      <td>101</td>\n",
       "    </tr>\n",
       "    <tr>\n",
       "      <th>4</th>\n",
       "      <td>74</td>\n",
       "      <td>689</td>\n",
       "      <td>5605</td>\n",
       "      <td>1515</td>\n",
       "      <td>289</td>\n",
       "      <td>49</td>\n",
       "      <td>151</td>\n",
       "      <td>455</td>\n",
       "      <td>1259</td>\n",
       "      <td>83</td>\n",
       "      <td>803</td>\n",
       "      <td>746</td>\n",
       "      <td>4.64</td>\n",
       "      <td>7</td>\n",
       "      <td>12</td>\n",
       "      <td>35</td>\n",
       "      <td>86</td>\n",
       "    </tr>\n",
       "    <tr>\n",
       "      <th>5</th>\n",
       "      <td>93</td>\n",
       "      <td>891</td>\n",
       "      <td>5509</td>\n",
       "      <td>1480</td>\n",
       "      <td>308</td>\n",
       "      <td>17</td>\n",
       "      <td>232</td>\n",
       "      <td>570</td>\n",
       "      <td>1151</td>\n",
       "      <td>88</td>\n",
       "      <td>670</td>\n",
       "      <td>609</td>\n",
       "      <td>3.80</td>\n",
       "      <td>7</td>\n",
       "      <td>10</td>\n",
       "      <td>34</td>\n",
       "      <td>88</td>\n",
       "    </tr>\n",
       "    <tr>\n",
       "      <th>6</th>\n",
       "      <td>87</td>\n",
       "      <td>764</td>\n",
       "      <td>5567</td>\n",
       "      <td>1397</td>\n",
       "      <td>272</td>\n",
       "      <td>19</td>\n",
       "      <td>212</td>\n",
       "      <td>554</td>\n",
       "      <td>1227</td>\n",
       "      <td>63</td>\n",
       "      <td>698</td>\n",
       "      <td>652</td>\n",
       "      <td>4.03</td>\n",
       "      <td>3</td>\n",
       "      <td>4</td>\n",
       "      <td>48</td>\n",
       "      <td>93</td>\n",
       "    </tr>\n",
       "    <tr>\n",
       "      <th>7</th>\n",
       "      <td>81</td>\n",
       "      <td>713</td>\n",
       "      <td>5485</td>\n",
       "      <td>1370</td>\n",
       "      <td>246</td>\n",
       "      <td>20</td>\n",
       "      <td>217</td>\n",
       "      <td>418</td>\n",
       "      <td>1331</td>\n",
       "      <td>44</td>\n",
       "      <td>693</td>\n",
       "      <td>646</td>\n",
       "      <td>4.05</td>\n",
       "      <td>0</td>\n",
       "      <td>10</td>\n",
       "      <td>43</td>\n",
       "      <td>77</td>\n",
       "    </tr>\n",
       "    <tr>\n",
       "      <th>8</th>\n",
       "      <td>80</td>\n",
       "      <td>644</td>\n",
       "      <td>5485</td>\n",
       "      <td>1383</td>\n",
       "      <td>278</td>\n",
       "      <td>32</td>\n",
       "      <td>167</td>\n",
       "      <td>436</td>\n",
       "      <td>1310</td>\n",
       "      <td>87</td>\n",
       "      <td>642</td>\n",
       "      <td>604</td>\n",
       "      <td>3.74</td>\n",
       "      <td>1</td>\n",
       "      <td>12</td>\n",
       "      <td>60</td>\n",
       "      <td>95</td>\n",
       "    </tr>\n",
       "    <tr>\n",
       "      <th>9</th>\n",
       "      <td>78</td>\n",
       "      <td>748</td>\n",
       "      <td>5640</td>\n",
       "      <td>1495</td>\n",
       "      <td>294</td>\n",
       "      <td>33</td>\n",
       "      <td>161</td>\n",
       "      <td>478</td>\n",
       "      <td>1148</td>\n",
       "      <td>71</td>\n",
       "      <td>753</td>\n",
       "      <td>694</td>\n",
       "      <td>4.31</td>\n",
       "      <td>3</td>\n",
       "      <td>10</td>\n",
       "      <td>40</td>\n",
       "      <td>97</td>\n",
       "    </tr>\n",
       "    <tr>\n",
       "      <th>10</th>\n",
       "      <td>88</td>\n",
       "      <td>751</td>\n",
       "      <td>5511</td>\n",
       "      <td>1419</td>\n",
       "      <td>279</td>\n",
       "      <td>32</td>\n",
       "      <td>172</td>\n",
       "      <td>503</td>\n",
       "      <td>1233</td>\n",
       "      <td>101</td>\n",
       "      <td>733</td>\n",
       "      <td>680</td>\n",
       "      <td>4.24</td>\n",
       "      <td>5</td>\n",
       "      <td>9</td>\n",
       "      <td>45</td>\n",
       "      <td>119</td>\n",
       "    </tr>\n",
       "    <tr>\n",
       "      <th>11</th>\n",
       "      <td>86</td>\n",
       "      <td>729</td>\n",
       "      <td>5459</td>\n",
       "      <td>1363</td>\n",
       "      <td>278</td>\n",
       "      <td>26</td>\n",
       "      <td>230</td>\n",
       "      <td>486</td>\n",
       "      <td>1392</td>\n",
       "      <td>121</td>\n",
       "      <td>618</td>\n",
       "      <td>572</td>\n",
       "      <td>3.57</td>\n",
       "      <td>5</td>\n",
       "      <td>13</td>\n",
       "      <td>39</td>\n",
       "      <td>85</td>\n",
       "    </tr>\n",
       "    <tr>\n",
       "      <th>12</th>\n",
       "      <td>85</td>\n",
       "      <td>661</td>\n",
       "      <td>5417</td>\n",
       "      <td>1331</td>\n",
       "      <td>243</td>\n",
       "      <td>21</td>\n",
       "      <td>176</td>\n",
       "      <td>435</td>\n",
       "      <td>1150</td>\n",
       "      <td>52</td>\n",
       "      <td>675</td>\n",
       "      <td>630</td>\n",
       "      <td>3.94</td>\n",
       "      <td>2</td>\n",
       "      <td>12</td>\n",
       "      <td>46</td>\n",
       "      <td>93</td>\n",
       "    </tr>\n",
       "    <tr>\n",
       "      <th>13</th>\n",
       "      <td>76</td>\n",
       "      <td>656</td>\n",
       "      <td>5544</td>\n",
       "      <td>1379</td>\n",
       "      <td>262</td>\n",
       "      <td>22</td>\n",
       "      <td>198</td>\n",
       "      <td>478</td>\n",
       "      <td>1336</td>\n",
       "      <td>69</td>\n",
       "      <td>726</td>\n",
       "      <td>677</td>\n",
       "      <td>4.16</td>\n",
       "      <td>6</td>\n",
       "      <td>12</td>\n",
       "      <td>45</td>\n",
       "      <td>94</td>\n",
       "    </tr>\n",
       "    <tr>\n",
       "      <th>14</th>\n",
       "      <td>68</td>\n",
       "      <td>694</td>\n",
       "      <td>5600</td>\n",
       "      <td>1405</td>\n",
       "      <td>277</td>\n",
       "      <td>46</td>\n",
       "      <td>146</td>\n",
       "      <td>475</td>\n",
       "      <td>1119</td>\n",
       "      <td>78</td>\n",
       "      <td>729</td>\n",
       "      <td>664</td>\n",
       "      <td>4.14</td>\n",
       "      <td>5</td>\n",
       "      <td>15</td>\n",
       "      <td>28</td>\n",
       "      <td>126</td>\n",
       "    </tr>\n",
       "    <tr>\n",
       "      <th>15</th>\n",
       "      <td>100</td>\n",
       "      <td>647</td>\n",
       "      <td>5484</td>\n",
       "      <td>1386</td>\n",
       "      <td>288</td>\n",
       "      <td>39</td>\n",
       "      <td>137</td>\n",
       "      <td>506</td>\n",
       "      <td>1267</td>\n",
       "      <td>69</td>\n",
       "      <td>525</td>\n",
       "      <td>478</td>\n",
       "      <td>2.94</td>\n",
       "      <td>1</td>\n",
       "      <td>15</td>\n",
       "      <td>62</td>\n",
       "      <td>96</td>\n",
       "    </tr>\n",
       "    <tr>\n",
       "      <th>16</th>\n",
       "      <td>98</td>\n",
       "      <td>697</td>\n",
       "      <td>5631</td>\n",
       "      <td>1462</td>\n",
       "      <td>292</td>\n",
       "      <td>27</td>\n",
       "      <td>140</td>\n",
       "      <td>461</td>\n",
       "      <td>1322</td>\n",
       "      <td>98</td>\n",
       "      <td>596</td>\n",
       "      <td>532</td>\n",
       "      <td>3.21</td>\n",
       "      <td>0</td>\n",
       "      <td>13</td>\n",
       "      <td>54</td>\n",
       "      <td>122</td>\n",
       "    </tr>\n",
       "    <tr>\n",
       "      <th>17</th>\n",
       "      <td>97</td>\n",
       "      <td>689</td>\n",
       "      <td>5491</td>\n",
       "      <td>1341</td>\n",
       "      <td>272</td>\n",
       "      <td>30</td>\n",
       "      <td>171</td>\n",
       "      <td>567</td>\n",
       "      <td>1518</td>\n",
       "      <td>95</td>\n",
       "      <td>608</td>\n",
       "      <td>546</td>\n",
       "      <td>3.36</td>\n",
       "      <td>6</td>\n",
       "      <td>21</td>\n",
       "      <td>48</td>\n",
       "      <td>111</td>\n",
       "    </tr>\n",
       "    <tr>\n",
       "      <th>18</th>\n",
       "      <td>68</td>\n",
       "      <td>655</td>\n",
       "      <td>5480</td>\n",
       "      <td>1378</td>\n",
       "      <td>274</td>\n",
       "      <td>34</td>\n",
       "      <td>145</td>\n",
       "      <td>412</td>\n",
       "      <td>1299</td>\n",
       "      <td>84</td>\n",
       "      <td>737</td>\n",
       "      <td>682</td>\n",
       "      <td>4.28</td>\n",
       "      <td>1</td>\n",
       "      <td>7</td>\n",
       "      <td>40</td>\n",
       "      <td>116</td>\n",
       "    </tr>\n",
       "    <tr>\n",
       "      <th>19</th>\n",
       "      <td>64</td>\n",
       "      <td>640</td>\n",
       "      <td>5571</td>\n",
       "      <td>1382</td>\n",
       "      <td>257</td>\n",
       "      <td>27</td>\n",
       "      <td>167</td>\n",
       "      <td>496</td>\n",
       "      <td>1255</td>\n",
       "      <td>134</td>\n",
       "      <td>754</td>\n",
       "      <td>700</td>\n",
       "      <td>4.33</td>\n",
       "      <td>2</td>\n",
       "      <td>8</td>\n",
       "      <td>35</td>\n",
       "      <td>90</td>\n",
       "    </tr>\n",
       "    <tr>\n",
       "      <th>20</th>\n",
       "      <td>90</td>\n",
       "      <td>683</td>\n",
       "      <td>5527</td>\n",
       "      <td>1351</td>\n",
       "      <td>295</td>\n",
       "      <td>17</td>\n",
       "      <td>177</td>\n",
       "      <td>488</td>\n",
       "      <td>1290</td>\n",
       "      <td>51</td>\n",
       "      <td>613</td>\n",
       "      <td>557</td>\n",
       "      <td>3.43</td>\n",
       "      <td>1</td>\n",
       "      <td>14</td>\n",
       "      <td>50</td>\n",
       "      <td>88</td>\n",
       "    </tr>\n",
       "    <tr>\n",
       "      <th>21</th>\n",
       "      <td>83</td>\n",
       "      <td>703</td>\n",
       "      <td>5428</td>\n",
       "      <td>1363</td>\n",
       "      <td>265</td>\n",
       "      <td>13</td>\n",
       "      <td>177</td>\n",
       "      <td>539</td>\n",
       "      <td>1344</td>\n",
       "      <td>57</td>\n",
       "      <td>635</td>\n",
       "      <td>577</td>\n",
       "      <td>3.62</td>\n",
       "      <td>4</td>\n",
       "      <td>13</td>\n",
       "      <td>41</td>\n",
       "      <td>90</td>\n",
       "    </tr>\n",
       "    <tr>\n",
       "      <th>22</th>\n",
       "      <td>71</td>\n",
       "      <td>613</td>\n",
       "      <td>5463</td>\n",
       "      <td>1420</td>\n",
       "      <td>236</td>\n",
       "      <td>40</td>\n",
       "      <td>120</td>\n",
       "      <td>375</td>\n",
       "      <td>1150</td>\n",
       "      <td>112</td>\n",
       "      <td>678</td>\n",
       "      <td>638</td>\n",
       "      <td>4.02</td>\n",
       "      <td>0</td>\n",
       "      <td>12</td>\n",
       "      <td>35</td>\n",
       "      <td>77</td>\n",
       "    </tr>\n",
       "    <tr>\n",
       "      <th>23</th>\n",
       "      <td>67</td>\n",
       "      <td>573</td>\n",
       "      <td>5420</td>\n",
       "      <td>1361</td>\n",
       "      <td>251</td>\n",
       "      <td>18</td>\n",
       "      <td>100</td>\n",
       "      <td>471</td>\n",
       "      <td>1107</td>\n",
       "      <td>69</td>\n",
       "      <td>760</td>\n",
       "      <td>698</td>\n",
       "      <td>4.41</td>\n",
       "      <td>3</td>\n",
       "      <td>10</td>\n",
       "      <td>44</td>\n",
       "      <td>90</td>\n",
       "    </tr>\n",
       "    <tr>\n",
       "      <th>24</th>\n",
       "      <td>63</td>\n",
       "      <td>626</td>\n",
       "      <td>5529</td>\n",
       "      <td>1374</td>\n",
       "      <td>272</td>\n",
       "      <td>37</td>\n",
       "      <td>130</td>\n",
       "      <td>387</td>\n",
       "      <td>1274</td>\n",
       "      <td>88</td>\n",
       "      <td>809</td>\n",
       "      <td>749</td>\n",
       "      <td>4.69</td>\n",
       "      <td>1</td>\n",
       "      <td>7</td>\n",
       "      <td>35</td>\n",
       "      <td>117</td>\n",
       "    </tr>\n",
       "    <tr>\n",
       "      <th>25</th>\n",
       "      <td>92</td>\n",
       "      <td>667</td>\n",
       "      <td>5385</td>\n",
       "      <td>1346</td>\n",
       "      <td>263</td>\n",
       "      <td>26</td>\n",
       "      <td>187</td>\n",
       "      <td>563</td>\n",
       "      <td>1258</td>\n",
       "      <td>59</td>\n",
       "      <td>595</td>\n",
       "      <td>553</td>\n",
       "      <td>3.44</td>\n",
       "      <td>6</td>\n",
       "      <td>21</td>\n",
       "      <td>47</td>\n",
       "      <td>75</td>\n",
       "    </tr>\n",
       "    <tr>\n",
       "      <th>26</th>\n",
       "      <td>84</td>\n",
       "      <td>696</td>\n",
       "      <td>5565</td>\n",
       "      <td>1486</td>\n",
       "      <td>288</td>\n",
       "      <td>39</td>\n",
       "      <td>136</td>\n",
       "      <td>457</td>\n",
       "      <td>1159</td>\n",
       "      <td>93</td>\n",
       "      <td>627</td>\n",
       "      <td>597</td>\n",
       "      <td>3.72</td>\n",
       "      <td>7</td>\n",
       "      <td>18</td>\n",
       "      <td>41</td>\n",
       "      <td>78</td>\n",
       "    </tr>\n",
       "    <tr>\n",
       "      <th>27</th>\n",
       "      <td>79</td>\n",
       "      <td>720</td>\n",
       "      <td>5649</td>\n",
       "      <td>1494</td>\n",
       "      <td>289</td>\n",
       "      <td>48</td>\n",
       "      <td>154</td>\n",
       "      <td>490</td>\n",
       "      <td>1312</td>\n",
       "      <td>132</td>\n",
       "      <td>713</td>\n",
       "      <td>659</td>\n",
       "      <td>4.04</td>\n",
       "      <td>1</td>\n",
       "      <td>12</td>\n",
       "      <td>44</td>\n",
       "      <td>86</td>\n",
       "    </tr>\n",
       "    <tr>\n",
       "      <th>28</th>\n",
       "      <td>74</td>\n",
       "      <td>650</td>\n",
       "      <td>5457</td>\n",
       "      <td>1324</td>\n",
       "      <td>260</td>\n",
       "      <td>36</td>\n",
       "      <td>148</td>\n",
       "      <td>426</td>\n",
       "      <td>1327</td>\n",
       "      <td>82</td>\n",
       "      <td>731</td>\n",
       "      <td>655</td>\n",
       "      <td>4.09</td>\n",
       "      <td>1</td>\n",
       "      <td>6</td>\n",
       "      <td>41</td>\n",
       "      <td>92</td>\n",
       "    </tr>\n",
       "    <tr>\n",
       "      <th>29</th>\n",
       "      <td>68</td>\n",
       "      <td>737</td>\n",
       "      <td>5572</td>\n",
       "      <td>1479</td>\n",
       "      <td>274</td>\n",
       "      <td>49</td>\n",
       "      <td>186</td>\n",
       "      <td>388</td>\n",
       "      <td>1283</td>\n",
       "      <td>97</td>\n",
       "      <td>844</td>\n",
       "      <td>799</td>\n",
       "      <td>5.04</td>\n",
       "      <td>4</td>\n",
       "      <td>4</td>\n",
       "      <td>36</td>\n",
       "      <td>95</td>\n",
       "    </tr>\n",
       "  </tbody>\n",
       "</table>\n",
       "</div>"
      ],
      "text/plain": [
       "      W    R    AB     H   2B  3B   HR   BB    SO   SB   RA   ER   ERA  CG  \\\n",
       "0    95  724  5575  1497  300  42  139  383   973  104  641  601  3.73   2   \n",
       "1    83  696  5467  1349  277  44  156  439  1264   70  700  653  4.07   2   \n",
       "2    81  669  5439  1395  303  29  141  533  1157   86  640  584  3.67  11   \n",
       "3    76  622  5533  1381  260  27  136  404  1231   68  701  643  3.98   7   \n",
       "4    74  689  5605  1515  289  49  151  455  1259   83  803  746  4.64   7   \n",
       "5    93  891  5509  1480  308  17  232  570  1151   88  670  609  3.80   7   \n",
       "6    87  764  5567  1397  272  19  212  554  1227   63  698  652  4.03   3   \n",
       "7    81  713  5485  1370  246  20  217  418  1331   44  693  646  4.05   0   \n",
       "8    80  644  5485  1383  278  32  167  436  1310   87  642  604  3.74   1   \n",
       "9    78  748  5640  1495  294  33  161  478  1148   71  753  694  4.31   3   \n",
       "10   88  751  5511  1419  279  32  172  503  1233  101  733  680  4.24   5   \n",
       "11   86  729  5459  1363  278  26  230  486  1392  121  618  572  3.57   5   \n",
       "12   85  661  5417  1331  243  21  176  435  1150   52  675  630  3.94   2   \n",
       "13   76  656  5544  1379  262  22  198  478  1336   69  726  677  4.16   6   \n",
       "14   68  694  5600  1405  277  46  146  475  1119   78  729  664  4.14   5   \n",
       "15  100  647  5484  1386  288  39  137  506  1267   69  525  478  2.94   1   \n",
       "16   98  697  5631  1462  292  27  140  461  1322   98  596  532  3.21   0   \n",
       "17   97  689  5491  1341  272  30  171  567  1518   95  608  546  3.36   6   \n",
       "18   68  655  5480  1378  274  34  145  412  1299   84  737  682  4.28   1   \n",
       "19   64  640  5571  1382  257  27  167  496  1255  134  754  700  4.33   2   \n",
       "20   90  683  5527  1351  295  17  177  488  1290   51  613  557  3.43   1   \n",
       "21   83  703  5428  1363  265  13  177  539  1344   57  635  577  3.62   4   \n",
       "22   71  613  5463  1420  236  40  120  375  1150  112  678  638  4.02   0   \n",
       "23   67  573  5420  1361  251  18  100  471  1107   69  760  698  4.41   3   \n",
       "24   63  626  5529  1374  272  37  130  387  1274   88  809  749  4.69   1   \n",
       "25   92  667  5385  1346  263  26  187  563  1258   59  595  553  3.44   6   \n",
       "26   84  696  5565  1486  288  39  136  457  1159   93  627  597  3.72   7   \n",
       "27   79  720  5649  1494  289  48  154  490  1312  132  713  659  4.04   1   \n",
       "28   74  650  5457  1324  260  36  148  426  1327   82  731  655  4.09   1   \n",
       "29   68  737  5572  1479  274  49  186  388  1283   97  844  799  5.04   4   \n",
       "\n",
       "    SHO  SV    E  \n",
       "0     8  56   88  \n",
       "1    12  45   86  \n",
       "2    10  38   79  \n",
       "3     9  37  101  \n",
       "4    12  35   86  \n",
       "5    10  34   88  \n",
       "6     4  48   93  \n",
       "7    10  43   77  \n",
       "8    12  60   95  \n",
       "9    10  40   97  \n",
       "10    9  45  119  \n",
       "11   13  39   85  \n",
       "12   12  46   93  \n",
       "13   12  45   94  \n",
       "14   15  28  126  \n",
       "15   15  62   96  \n",
       "16   13  54  122  \n",
       "17   21  48  111  \n",
       "18    7  40  116  \n",
       "19    8  35   90  \n",
       "20   14  50   88  \n",
       "21   13  41   90  \n",
       "22   12  35   77  \n",
       "23   10  44   90  \n",
       "24    7  35  117  \n",
       "25   21  47   75  \n",
       "26   18  41   78  \n",
       "27   12  44   86  \n",
       "28    6  41   92  \n",
       "29    4  36   95  "
      ]
     },
     "execution_count": 2,
     "metadata": {},
     "output_type": "execute_result"
    }
   ],
   "source": [
    "ball = pd.read_csv(\"https://raw.githubusercontent.com/dsrscientist/Data-Science-ML-Capstone-Projects/master/baseball.csv\")\n",
    "ball"
   ]
  },
  {
   "cell_type": "code",
   "execution_count": 3,
   "metadata": {},
   "outputs": [
    {
     "data": {
      "text/html": [
       "<div>\n",
       "<style scoped>\n",
       "    .dataframe tbody tr th:only-of-type {\n",
       "        vertical-align: middle;\n",
       "    }\n",
       "\n",
       "    .dataframe tbody tr th {\n",
       "        vertical-align: top;\n",
       "    }\n",
       "\n",
       "    .dataframe thead th {\n",
       "        text-align: right;\n",
       "    }\n",
       "</style>\n",
       "<table border=\"1\" class=\"dataframe\">\n",
       "  <thead>\n",
       "    <tr style=\"text-align: right;\">\n",
       "      <th></th>\n",
       "      <th>W</th>\n",
       "      <th>R</th>\n",
       "      <th>AB</th>\n",
       "      <th>H</th>\n",
       "      <th>2B</th>\n",
       "      <th>3B</th>\n",
       "      <th>HR</th>\n",
       "      <th>BB</th>\n",
       "      <th>SO</th>\n",
       "      <th>SB</th>\n",
       "      <th>RA</th>\n",
       "      <th>ER</th>\n",
       "      <th>ERA</th>\n",
       "      <th>CG</th>\n",
       "      <th>SHO</th>\n",
       "      <th>SV</th>\n",
       "      <th>E</th>\n",
       "    </tr>\n",
       "  </thead>\n",
       "  <tbody>\n",
       "    <tr>\n",
       "      <th>0</th>\n",
       "      <td>95</td>\n",
       "      <td>724</td>\n",
       "      <td>5575</td>\n",
       "      <td>1497</td>\n",
       "      <td>300</td>\n",
       "      <td>42</td>\n",
       "      <td>139</td>\n",
       "      <td>383</td>\n",
       "      <td>973</td>\n",
       "      <td>104</td>\n",
       "      <td>641</td>\n",
       "      <td>601</td>\n",
       "      <td>3.73</td>\n",
       "      <td>2</td>\n",
       "      <td>8</td>\n",
       "      <td>56</td>\n",
       "      <td>88</td>\n",
       "    </tr>\n",
       "    <tr>\n",
       "      <th>1</th>\n",
       "      <td>83</td>\n",
       "      <td>696</td>\n",
       "      <td>5467</td>\n",
       "      <td>1349</td>\n",
       "      <td>277</td>\n",
       "      <td>44</td>\n",
       "      <td>156</td>\n",
       "      <td>439</td>\n",
       "      <td>1264</td>\n",
       "      <td>70</td>\n",
       "      <td>700</td>\n",
       "      <td>653</td>\n",
       "      <td>4.07</td>\n",
       "      <td>2</td>\n",
       "      <td>12</td>\n",
       "      <td>45</td>\n",
       "      <td>86</td>\n",
       "    </tr>\n",
       "    <tr>\n",
       "      <th>2</th>\n",
       "      <td>81</td>\n",
       "      <td>669</td>\n",
       "      <td>5439</td>\n",
       "      <td>1395</td>\n",
       "      <td>303</td>\n",
       "      <td>29</td>\n",
       "      <td>141</td>\n",
       "      <td>533</td>\n",
       "      <td>1157</td>\n",
       "      <td>86</td>\n",
       "      <td>640</td>\n",
       "      <td>584</td>\n",
       "      <td>3.67</td>\n",
       "      <td>11</td>\n",
       "      <td>10</td>\n",
       "      <td>38</td>\n",
       "      <td>79</td>\n",
       "    </tr>\n",
       "    <tr>\n",
       "      <th>3</th>\n",
       "      <td>76</td>\n",
       "      <td>622</td>\n",
       "      <td>5533</td>\n",
       "      <td>1381</td>\n",
       "      <td>260</td>\n",
       "      <td>27</td>\n",
       "      <td>136</td>\n",
       "      <td>404</td>\n",
       "      <td>1231</td>\n",
       "      <td>68</td>\n",
       "      <td>701</td>\n",
       "      <td>643</td>\n",
       "      <td>3.98</td>\n",
       "      <td>7</td>\n",
       "      <td>9</td>\n",
       "      <td>37</td>\n",
       "      <td>101</td>\n",
       "    </tr>\n",
       "    <tr>\n",
       "      <th>4</th>\n",
       "      <td>74</td>\n",
       "      <td>689</td>\n",
       "      <td>5605</td>\n",
       "      <td>1515</td>\n",
       "      <td>289</td>\n",
       "      <td>49</td>\n",
       "      <td>151</td>\n",
       "      <td>455</td>\n",
       "      <td>1259</td>\n",
       "      <td>83</td>\n",
       "      <td>803</td>\n",
       "      <td>746</td>\n",
       "      <td>4.64</td>\n",
       "      <td>7</td>\n",
       "      <td>12</td>\n",
       "      <td>35</td>\n",
       "      <td>86</td>\n",
       "    </tr>\n",
       "  </tbody>\n",
       "</table>\n",
       "</div>"
      ],
      "text/plain": [
       "    W    R    AB     H   2B  3B   HR   BB    SO   SB   RA   ER   ERA  CG  SHO  \\\n",
       "0  95  724  5575  1497  300  42  139  383   973  104  641  601  3.73   2    8   \n",
       "1  83  696  5467  1349  277  44  156  439  1264   70  700  653  4.07   2   12   \n",
       "2  81  669  5439  1395  303  29  141  533  1157   86  640  584  3.67  11   10   \n",
       "3  76  622  5533  1381  260  27  136  404  1231   68  701  643  3.98   7    9   \n",
       "4  74  689  5605  1515  289  49  151  455  1259   83  803  746  4.64   7   12   \n",
       "\n",
       "   SV    E  \n",
       "0  56   88  \n",
       "1  45   86  \n",
       "2  38   79  \n",
       "3  37  101  \n",
       "4  35   86  "
      ]
     },
     "execution_count": 3,
     "metadata": {},
     "output_type": "execute_result"
    }
   ],
   "source": [
    "ball.head()"
   ]
  },
  {
   "cell_type": "code",
   "execution_count": 4,
   "metadata": {},
   "outputs": [
    {
     "data": {
      "text/html": [
       "<div>\n",
       "<style scoped>\n",
       "    .dataframe tbody tr th:only-of-type {\n",
       "        vertical-align: middle;\n",
       "    }\n",
       "\n",
       "    .dataframe tbody tr th {\n",
       "        vertical-align: top;\n",
       "    }\n",
       "\n",
       "    .dataframe thead th {\n",
       "        text-align: right;\n",
       "    }\n",
       "</style>\n",
       "<table border=\"1\" class=\"dataframe\">\n",
       "  <thead>\n",
       "    <tr style=\"text-align: right;\">\n",
       "      <th></th>\n",
       "      <th>W</th>\n",
       "      <th>R</th>\n",
       "      <th>AB</th>\n",
       "      <th>H</th>\n",
       "      <th>2B</th>\n",
       "      <th>3B</th>\n",
       "      <th>HR</th>\n",
       "      <th>BB</th>\n",
       "      <th>SO</th>\n",
       "      <th>SB</th>\n",
       "      <th>RA</th>\n",
       "      <th>ER</th>\n",
       "      <th>ERA</th>\n",
       "      <th>CG</th>\n",
       "      <th>SHO</th>\n",
       "      <th>SV</th>\n",
       "      <th>E</th>\n",
       "    </tr>\n",
       "  </thead>\n",
       "  <tbody>\n",
       "    <tr>\n",
       "      <th>25</th>\n",
       "      <td>92</td>\n",
       "      <td>667</td>\n",
       "      <td>5385</td>\n",
       "      <td>1346</td>\n",
       "      <td>263</td>\n",
       "      <td>26</td>\n",
       "      <td>187</td>\n",
       "      <td>563</td>\n",
       "      <td>1258</td>\n",
       "      <td>59</td>\n",
       "      <td>595</td>\n",
       "      <td>553</td>\n",
       "      <td>3.44</td>\n",
       "      <td>6</td>\n",
       "      <td>21</td>\n",
       "      <td>47</td>\n",
       "      <td>75</td>\n",
       "    </tr>\n",
       "    <tr>\n",
       "      <th>26</th>\n",
       "      <td>84</td>\n",
       "      <td>696</td>\n",
       "      <td>5565</td>\n",
       "      <td>1486</td>\n",
       "      <td>288</td>\n",
       "      <td>39</td>\n",
       "      <td>136</td>\n",
       "      <td>457</td>\n",
       "      <td>1159</td>\n",
       "      <td>93</td>\n",
       "      <td>627</td>\n",
       "      <td>597</td>\n",
       "      <td>3.72</td>\n",
       "      <td>7</td>\n",
       "      <td>18</td>\n",
       "      <td>41</td>\n",
       "      <td>78</td>\n",
       "    </tr>\n",
       "    <tr>\n",
       "      <th>27</th>\n",
       "      <td>79</td>\n",
       "      <td>720</td>\n",
       "      <td>5649</td>\n",
       "      <td>1494</td>\n",
       "      <td>289</td>\n",
       "      <td>48</td>\n",
       "      <td>154</td>\n",
       "      <td>490</td>\n",
       "      <td>1312</td>\n",
       "      <td>132</td>\n",
       "      <td>713</td>\n",
       "      <td>659</td>\n",
       "      <td>4.04</td>\n",
       "      <td>1</td>\n",
       "      <td>12</td>\n",
       "      <td>44</td>\n",
       "      <td>86</td>\n",
       "    </tr>\n",
       "    <tr>\n",
       "      <th>28</th>\n",
       "      <td>74</td>\n",
       "      <td>650</td>\n",
       "      <td>5457</td>\n",
       "      <td>1324</td>\n",
       "      <td>260</td>\n",
       "      <td>36</td>\n",
       "      <td>148</td>\n",
       "      <td>426</td>\n",
       "      <td>1327</td>\n",
       "      <td>82</td>\n",
       "      <td>731</td>\n",
       "      <td>655</td>\n",
       "      <td>4.09</td>\n",
       "      <td>1</td>\n",
       "      <td>6</td>\n",
       "      <td>41</td>\n",
       "      <td>92</td>\n",
       "    </tr>\n",
       "    <tr>\n",
       "      <th>29</th>\n",
       "      <td>68</td>\n",
       "      <td>737</td>\n",
       "      <td>5572</td>\n",
       "      <td>1479</td>\n",
       "      <td>274</td>\n",
       "      <td>49</td>\n",
       "      <td>186</td>\n",
       "      <td>388</td>\n",
       "      <td>1283</td>\n",
       "      <td>97</td>\n",
       "      <td>844</td>\n",
       "      <td>799</td>\n",
       "      <td>5.04</td>\n",
       "      <td>4</td>\n",
       "      <td>4</td>\n",
       "      <td>36</td>\n",
       "      <td>95</td>\n",
       "    </tr>\n",
       "  </tbody>\n",
       "</table>\n",
       "</div>"
      ],
      "text/plain": [
       "     W    R    AB     H   2B  3B   HR   BB    SO   SB   RA   ER   ERA  CG  \\\n",
       "25  92  667  5385  1346  263  26  187  563  1258   59  595  553  3.44   6   \n",
       "26  84  696  5565  1486  288  39  136  457  1159   93  627  597  3.72   7   \n",
       "27  79  720  5649  1494  289  48  154  490  1312  132  713  659  4.04   1   \n",
       "28  74  650  5457  1324  260  36  148  426  1327   82  731  655  4.09   1   \n",
       "29  68  737  5572  1479  274  49  186  388  1283   97  844  799  5.04   4   \n",
       "\n",
       "    SHO  SV   E  \n",
       "25   21  47  75  \n",
       "26   18  41  78  \n",
       "27   12  44  86  \n",
       "28    6  41  92  \n",
       "29    4  36  95  "
      ]
     },
     "execution_count": 4,
     "metadata": {},
     "output_type": "execute_result"
    }
   ],
   "source": [
    "ball.tail()"
   ]
  },
  {
   "cell_type": "code",
   "execution_count": 5,
   "metadata": {},
   "outputs": [
    {
     "data": {
      "text/plain": [
       "(30, 17)"
      ]
     },
     "execution_count": 5,
     "metadata": {},
     "output_type": "execute_result"
    }
   ],
   "source": [
    "ball.shape"
   ]
  },
  {
   "cell_type": "code",
   "execution_count": 6,
   "metadata": {},
   "outputs": [
    {
     "data": {
      "text/plain": [
       "W      0\n",
       "R      0\n",
       "AB     0\n",
       "H      0\n",
       "2B     0\n",
       "3B     0\n",
       "HR     0\n",
       "BB     0\n",
       "SO     0\n",
       "SB     0\n",
       "RA     0\n",
       "ER     0\n",
       "ERA    0\n",
       "CG     0\n",
       "SHO    0\n",
       "SV     0\n",
       "E      0\n",
       "dtype: int64"
      ]
     },
     "execution_count": 6,
     "metadata": {},
     "output_type": "execute_result"
    }
   ],
   "source": [
    "ball.isnull().sum()"
   ]
  },
  {
   "cell_type": "code",
   "execution_count": 7,
   "metadata": {},
   "outputs": [
    {
     "data": {
      "text/plain": [
       "<AxesSubplot:>"
      ]
     },
     "execution_count": 7,
     "metadata": {},
     "output_type": "execute_result"
    },
    {
     "data": {
      "image/png": "[encoded data removed]",
      "text/plain": [
       "<Figure size 432x288 with 2 Axes>"
      ]
     },
     "metadata": {
      "needs_background": "light"
     },
     "output_type": "display_data"
    }
   ],
   "source": [
    "sns.heatmap(ball.isnull())"
   ]
  },
  {
   "cell_type": "markdown",
   "metadata": {},
   "source": [
    "As I can visualize, all the data is cleaned. "
   ]
  },
  {
   "cell_type": "markdown",
   "metadata": {},
   "source": [
    "Summary Statistics"
   ]
  },
  {
   "cell_type": "code",
   "execution_count": 8,
   "metadata": {},
   "outputs": [
    {
     "data": {
      "text/html": [
       "<div>\n",
       "<style scoped>\n",
       "    .dataframe tbody tr th:only-of-type {\n",
       "        vertical-align: middle;\n",
       "    }\n",
       "\n",
       "    .dataframe tbody tr th {\n",
       "        vertical-align: top;\n",
       "    }\n",
       "\n",
       "    .dataframe thead th {\n",
       "        text-align: right;\n",
       "    }\n",
       "</style>\n",
       "<table border=\"1\" class=\"dataframe\">\n",
       "  <thead>\n",
       "    <tr style=\"text-align: right;\">\n",
       "      <th></th>\n",
       "      <th>W</th>\n",
       "      <th>R</th>\n",
       "      <th>AB</th>\n",
       "      <th>H</th>\n",
       "      <th>2B</th>\n",
       "      <th>3B</th>\n",
       "      <th>HR</th>\n",
       "      <th>BB</th>\n",
       "      <th>SO</th>\n",
       "      <th>SB</th>\n",
       "      <th>RA</th>\n",
       "      <th>ER</th>\n",
       "      <th>ERA</th>\n",
       "      <th>CG</th>\n",
       "      <th>SHO</th>\n",
       "      <th>SV</th>\n",
       "      <th>E</th>\n",
       "    </tr>\n",
       "  </thead>\n",
       "  <tbody>\n",
       "    <tr>\n",
       "      <th>count</th>\n",
       "      <td>30.000000</td>\n",
       "      <td>30.000000</td>\n",
       "      <td>30.000000</td>\n",
       "      <td>30.000000</td>\n",
       "      <td>30.000000</td>\n",
       "      <td>30.000000</td>\n",
       "      <td>30.000000</td>\n",
       "      <td>30.000000</td>\n",
       "      <td>30.00000</td>\n",
       "      <td>30.000000</td>\n",
       "      <td>30.000000</td>\n",
       "      <td>30.000000</td>\n",
       "      <td>30.000000</td>\n",
       "      <td>30.000000</td>\n",
       "      <td>30.000000</td>\n",
       "      <td>30.000000</td>\n",
       "      <td>30.000000</td>\n",
       "    </tr>\n",
       "    <tr>\n",
       "      <th>mean</th>\n",
       "      <td>80.966667</td>\n",
       "      <td>688.233333</td>\n",
       "      <td>5516.266667</td>\n",
       "      <td>1403.533333</td>\n",
       "      <td>274.733333</td>\n",
       "      <td>31.300000</td>\n",
       "      <td>163.633333</td>\n",
       "      <td>469.100000</td>\n",
       "      <td>1248.20000</td>\n",
       "      <td>83.500000</td>\n",
       "      <td>688.233333</td>\n",
       "      <td>635.833333</td>\n",
       "      <td>3.956333</td>\n",
       "      <td>3.466667</td>\n",
       "      <td>11.300000</td>\n",
       "      <td>43.066667</td>\n",
       "      <td>94.333333</td>\n",
       "    </tr>\n",
       "    <tr>\n",
       "      <th>std</th>\n",
       "      <td>10.453455</td>\n",
       "      <td>58.761754</td>\n",
       "      <td>70.467372</td>\n",
       "      <td>57.140923</td>\n",
       "      <td>18.095405</td>\n",
       "      <td>10.452355</td>\n",
       "      <td>31.823309</td>\n",
       "      <td>57.053725</td>\n",
       "      <td>103.75947</td>\n",
       "      <td>22.815225</td>\n",
       "      <td>72.108005</td>\n",
       "      <td>70.140786</td>\n",
       "      <td>0.454089</td>\n",
       "      <td>2.763473</td>\n",
       "      <td>4.120177</td>\n",
       "      <td>7.869335</td>\n",
       "      <td>13.958889</td>\n",
       "    </tr>\n",
       "    <tr>\n",
       "      <th>min</th>\n",
       "      <td>63.000000</td>\n",
       "      <td>573.000000</td>\n",
       "      <td>5385.000000</td>\n",
       "      <td>1324.000000</td>\n",
       "      <td>236.000000</td>\n",
       "      <td>13.000000</td>\n",
       "      <td>100.000000</td>\n",
       "      <td>375.000000</td>\n",
       "      <td>973.00000</td>\n",
       "      <td>44.000000</td>\n",
       "      <td>525.000000</td>\n",
       "      <td>478.000000</td>\n",
       "      <td>2.940000</td>\n",
       "      <td>0.000000</td>\n",
       "      <td>4.000000</td>\n",
       "      <td>28.000000</td>\n",
       "      <td>75.000000</td>\n",
       "    </tr>\n",
       "    <tr>\n",
       "      <th>25%</th>\n",
       "      <td>74.000000</td>\n",
       "      <td>651.250000</td>\n",
       "      <td>5464.000000</td>\n",
       "      <td>1363.000000</td>\n",
       "      <td>262.250000</td>\n",
       "      <td>23.000000</td>\n",
       "      <td>140.250000</td>\n",
       "      <td>428.250000</td>\n",
       "      <td>1157.50000</td>\n",
       "      <td>69.000000</td>\n",
       "      <td>636.250000</td>\n",
       "      <td>587.250000</td>\n",
       "      <td>3.682500</td>\n",
       "      <td>1.000000</td>\n",
       "      <td>9.000000</td>\n",
       "      <td>37.250000</td>\n",
       "      <td>86.000000</td>\n",
       "    </tr>\n",
       "    <tr>\n",
       "      <th>50%</th>\n",
       "      <td>81.000000</td>\n",
       "      <td>689.000000</td>\n",
       "      <td>5510.000000</td>\n",
       "      <td>1382.500000</td>\n",
       "      <td>275.500000</td>\n",
       "      <td>31.000000</td>\n",
       "      <td>158.500000</td>\n",
       "      <td>473.000000</td>\n",
       "      <td>1261.50000</td>\n",
       "      <td>83.500000</td>\n",
       "      <td>695.500000</td>\n",
       "      <td>644.500000</td>\n",
       "      <td>4.025000</td>\n",
       "      <td>3.000000</td>\n",
       "      <td>12.000000</td>\n",
       "      <td>42.000000</td>\n",
       "      <td>91.000000</td>\n",
       "    </tr>\n",
       "    <tr>\n",
       "      <th>75%</th>\n",
       "      <td>87.750000</td>\n",
       "      <td>718.250000</td>\n",
       "      <td>5570.000000</td>\n",
       "      <td>1451.500000</td>\n",
       "      <td>288.750000</td>\n",
       "      <td>39.000000</td>\n",
       "      <td>177.000000</td>\n",
       "      <td>501.250000</td>\n",
       "      <td>1311.50000</td>\n",
       "      <td>96.500000</td>\n",
       "      <td>732.500000</td>\n",
       "      <td>679.250000</td>\n",
       "      <td>4.220000</td>\n",
       "      <td>5.750000</td>\n",
       "      <td>13.000000</td>\n",
       "      <td>46.750000</td>\n",
       "      <td>96.750000</td>\n",
       "    </tr>\n",
       "    <tr>\n",
       "      <th>max</th>\n",
       "      <td>100.000000</td>\n",
       "      <td>891.000000</td>\n",
       "      <td>5649.000000</td>\n",
       "      <td>1515.000000</td>\n",
       "      <td>308.000000</td>\n",
       "      <td>49.000000</td>\n",
       "      <td>232.000000</td>\n",
       "      <td>570.000000</td>\n",
       "      <td>1518.00000</td>\n",
       "      <td>134.000000</td>\n",
       "      <td>844.000000</td>\n",
       "      <td>799.000000</td>\n",
       "      <td>5.040000</td>\n",
       "      <td>11.000000</td>\n",
       "      <td>21.000000</td>\n",
       "      <td>62.000000</td>\n",
       "      <td>126.000000</td>\n",
       "    </tr>\n",
       "  </tbody>\n",
       "</table>\n",
       "</div>"
      ],
      "text/plain": [
       "                W           R           AB            H          2B  \\\n",
       "count   30.000000   30.000000    30.000000    30.000000   30.000000   \n",
       "mean    80.966667  688.233333  5516.266667  1403.533333  274.733333   \n",
       "std     10.453455   58.761754    70.467372    57.140923   18.095405   \n",
       "min     63.000000  573.000000  5385.000000  1324.000000  236.000000   \n",
       "25%     74.000000  651.250000  5464.000000  1363.000000  262.250000   \n",
       "50%     81.000000  689.000000  5510.000000  1382.500000  275.500000   \n",
       "75%     87.750000  718.250000  5570.000000  1451.500000  288.750000   \n",
       "max    100.000000  891.000000  5649.000000  1515.000000  308.000000   \n",
       "\n",
       "              3B          HR          BB          SO          SB          RA  \\\n",
       "count  30.000000   30.000000   30.000000    30.00000   30.000000   30.000000   \n",
       "mean   31.300000  163.633333  469.100000  1248.20000   83.500000  688.233333   \n",
       "std    10.452355   31.823309   57.053725   103.75947   22.815225   72.108005   \n",
       "min    13.000000  100.000000  375.000000   973.00000   44.000000  525.000000   \n",
       "25%    23.000000  140.250000  428.250000  1157.50000   69.000000  636.250000   \n",
       "50%    31.000000  158.500000  473.000000  1261.50000   83.500000  695.500000   \n",
       "75%    39.000000  177.000000  501.250000  1311.50000   96.500000  732.500000   \n",
       "max    49.000000  232.000000  570.000000  1518.00000  134.000000  844.000000   \n",
       "\n",
       "               ER        ERA         CG        SHO         SV           E  \n",
       "count   30.000000  30.000000  30.000000  30.000000  30.000000   30.000000  \n",
       "mean   635.833333   3.956333   3.466667  11.300000  43.066667   94.333333  \n",
       "std     70.140786   0.454089   2.763473   4.120177   7.869335   13.958889  \n",
       "min    478.000000   2.940000   0.000000   4.000000  28.000000   75.000000  \n",
       "25%    587.250000   3.682500   1.000000   9.000000  37.250000   86.000000  \n",
       "50%    644.500000   4.025000   3.000000  12.000000  42.000000   91.000000  \n",
       "75%    679.250000   4.220000   5.750000  13.000000  46.750000   96.750000  \n",
       "max    799.000000   5.040000  11.000000  21.000000  62.000000  126.000000  "
      ]
     },
     "execution_count": 8,
     "metadata": {},
     "output_type": "execute_result"
    }
   ],
   "source": [
    "ball.describe()"
   ]
  },
  {
   "cell_type": "markdown",
   "metadata": {},
   "source": [
    "data has few outliers in the column of R, E, ERA and SHO."
   ]
  },
  {
   "cell_type": "code",
   "execution_count": 9,
   "metadata": {},
   "outputs": [
    {
     "data": {
      "text/plain": [
       "W      0.047089\n",
       "R      1.200786\n",
       "AB     0.183437\n",
       "H      0.670254\n",
       "2B    -0.230650\n",
       "3B     0.129502\n",
       "HR     0.516441\n",
       "BB     0.158498\n",
       "SO    -0.156065\n",
       "SB     0.479893\n",
       "RA     0.045734\n",
       "ER     0.058710\n",
       "ERA    0.053331\n",
       "CG     0.736845\n",
       "SHO    0.565790\n",
       "SV     0.657524\n",
       "E      0.890132\n",
       "dtype: float64"
      ]
     },
     "execution_count": 9,
     "metadata": {},
     "output_type": "execute_result"
    }
   ],
   "source": [
    "ball.skew()"
   ]
  },
  {
   "cell_type": "markdown",
   "metadata": {},
   "source": [
    "# EDA"
   ]
  },
  {
   "cell_type": "code",
   "execution_count": 10,
   "metadata": {},
   "outputs": [
    {
     "data": {
      "text/plain": [
       "<AxesSubplot:>"
      ]
     },
     "execution_count": 10,
     "metadata": {},
     "output_type": "execute_result"
    },
    {
     "data": {
      "image/png": "[encoded data removed]",
      "text/plain": [
       "<Figure size 432x288 with 1 Axes>"
      ]
     },
     "metadata": {
      "needs_background": "light"
     },
     "output_type": "display_data"
    }
   ],
   "source": [
    "ball['W'].plot.box()"
   ]
  },
  {
   "cell_type": "code",
   "execution_count": 11,
   "metadata": {},
   "outputs": [
    {
     "data": {
      "text/plain": [
       "<AxesSubplot:>"
      ]
     },
     "execution_count": 11,
     "metadata": {},
     "output_type": "execute_result"
    },
    {
     "data": {
      "image/png": "[encoded data removed]",
      "text/plain": [
       "<Figure size 432x288 with 1 Axes>"
      ]
     },
     "metadata": {
      "needs_background": "light"
     },
     "output_type": "display_data"
    }
   ],
   "source": [
    "ball['R'].plot.box()"
   ]
  },
  {
   "cell_type": "code",
   "execution_count": 12,
   "metadata": {},
   "outputs": [
    {
     "data": {
      "text/plain": [
       "<AxesSubplot:>"
      ]
     },
     "execution_count": 12,
     "metadata": {},
     "output_type": "execute_result"
    },
    {
     "data": {
      "image/png": "[encoded data removed]",
      "text/plain": [
       "<Figure size 432x288 with 1 Axes>"
      ]
     },
     "metadata": {
      "needs_background": "light"
     },
     "output_type": "display_data"
    }
   ],
   "source": [
    "ball['AB'].plot.box()"
   ]
  },
  {
   "cell_type": "code",
   "execution_count": 13,
   "metadata": {},
   "outputs": [
    {
     "data": {
      "text/plain": [
       "<AxesSubplot:>"
      ]
     },
     "execution_count": 13,
     "metadata": {},
     "output_type": "execute_result"
    },
    {
     "data": {
      "image/png": "[encoded data removed]",
      "text/plain": [
       "<Figure size 432x288 with 1 Axes>"
      ]
     },
     "metadata": {
      "needs_background": "light"
     },
     "output_type": "display_data"
    }
   ],
   "source": [
    "ball['H'].plot.box()"
   ]
  },
  {
   "cell_type": "code",
   "execution_count": 14,
   "metadata": {},
   "outputs": [
    {
     "data": {
      "text/plain": [
       "<AxesSubplot:>"
      ]
     },
     "execution_count": 14,
     "metadata": {},
     "output_type": "execute_result"
    },
    {
     "data": {
      "image/png": "[encoded data removed]",
      "text/plain": [
       "<Figure size 432x288 with 1 Axes>"
      ]
     },
     "metadata": {
      "needs_background": "light"
     },
     "output_type": "display_data"
    }
   ],
   "source": [
    "ball['2B'].plot.box()"
   ]
  },
  {
   "cell_type": "code",
   "execution_count": 15,
   "metadata": {},
   "outputs": [
    {
     "data": {
      "text/plain": [
       "<AxesSubplot:>"
      ]
     },
     "execution_count": 15,
     "metadata": {},
     "output_type": "execute_result"
    },
    {
     "data": {
      "image/png": "[encoded data removed]",
      "text/plain": [
       "<Figure size 432x288 with 1 Axes>"
      ]
     },
     "metadata": {
      "needs_background": "light"
     },
     "output_type": "display_data"
    }
   ],
   "source": [
    "ball['3B'].plot.box()"
   ]
  },
  {
   "cell_type": "code",
   "execution_count": 16,
   "metadata": {},
   "outputs": [
    {
     "data": {
      "text/plain": [
       "<AxesSubplot:>"
      ]
     },
     "execution_count": 16,
     "metadata": {},
     "output_type": "execute_result"
    },
    {
     "data": {
      "image/png": "[encoded data removed]",
      "text/plain": [
       "<Figure size 432x288 with 1 Axes>"
      ]
     },
     "metadata": {
      "needs_background": "light"
     },
     "output_type": "display_data"
    }
   ],
   "source": [
    "ball['HR'].plot.box()"
   ]
  },
  {
   "cell_type": "code",
   "execution_count": 17,
   "metadata": {},
   "outputs": [
    {
     "data": {
      "text/plain": [
       "<AxesSubplot:>"
      ]
     },
     "execution_count": 17,
     "metadata": {},
     "output_type": "execute_result"
    },
    {
     "data": {
      "image/png": "[encoded data removed]",
      "text/plain": [
       "<Figure size 432x288 with 1 Axes>"
      ]
     },
     "metadata": {
      "needs_background": "light"
     },
     "output_type": "display_data"
    }
   ],
   "source": [
    "ball['BB'].plot.box()"
   ]
  },
  {
   "cell_type": "code",
   "execution_count": 18,
   "metadata": {},
   "outputs": [
    {
     "data": {
      "text/plain": [
       "<AxesSubplot:>"
      ]
     },
     "execution_count": 18,
     "metadata": {},
     "output_type": "execute_result"
    },
    {
     "data": {
      "image/png": "[encoded data removed]",
      "text/plain": [
       "<Figure size 432x288 with 1 Axes>"
      ]
     },
     "metadata": {
      "needs_background": "light"
     },
     "output_type": "display_data"
    }
   ],
   "source": [
    "ball['SO'].plot.box()"
   ]
  },
  {
   "cell_type": "code",
   "execution_count": 19,
   "metadata": {},
   "outputs": [
    {
     "data": {
      "text/plain": [
       "<AxesSubplot:>"
      ]
     },
     "execution_count": 19,
     "metadata": {},
     "output_type": "execute_result"
    },
    {
     "data": {
      "image/png": "[encoded data removed]",
      "text/plain": [
       "<Figure size 432x288 with 1 Axes>"
      ]
     },
     "metadata": {
      "needs_background": "light"
     },
     "output_type": "display_data"
    }
   ],
   "source": [
    "ball['SB'].plot.box()"
   ]
  },
  {
   "cell_type": "code",
   "execution_count": 20,
   "metadata": {},
   "outputs": [
    {
     "data": {
      "text/plain": [
       "<AxesSubplot:>"
      ]
     },
     "execution_count": 20,
     "metadata": {},
     "output_type": "execute_result"
    },
    {
     "data": {
      "image/png": "[encoded data removed]",
      "text/plain": [
       "<Figure size 432x288 with 1 Axes>"
      ]
     },
     "metadata": {
      "needs_background": "light"
     },
     "output_type": "display_data"
    }
   ],
   "source": [
    "ball['RA'].plot.box()"
   ]
  },
  {
   "cell_type": "code",
   "execution_count": 21,
   "metadata": {},
   "outputs": [
    {
     "data": {
      "text/plain": [
       "<AxesSubplot:>"
      ]
     },
     "execution_count": 21,
     "metadata": {},
     "output_type": "execute_result"
    },
    {
     "data": {
      "image/png": "[encoded data removed]",
      "text/plain": [
       "<Figure size 432x288 with 1 Axes>"
      ]
     },
     "metadata": {
      "needs_background": "light"
     },
     "output_type": "display_data"
    }
   ],
   "source": [
    "ball['ER'].plot.box()"
   ]
  },
  {
   "cell_type": "code",
   "execution_count": 22,
   "metadata": {},
   "outputs": [
    {
     "data": {
      "text/plain": [
       "<AxesSubplot:>"
      ]
     },
     "execution_count": 22,
     "metadata": {},
     "output_type": "execute_result"
    },
    {
     "data": {
      "image/png": "[encoded data removed]",
      "text/plain": [
       "<Figure size 432x288 with 1 Axes>"
      ]
     },
     "metadata": {
      "needs_background": "light"
     },
     "output_type": "display_data"
    }
   ],
   "source": [
    "ball['ERA'].plot.box()"
   ]
  },
  {
   "cell_type": "code",
   "execution_count": 23,
   "metadata": {},
   "outputs": [
    {
     "data": {
      "text/plain": [
       "<AxesSubplot:>"
      ]
     },
     "execution_count": 23,
     "metadata": {},
     "output_type": "execute_result"
    },
    {
     "data": {
      "image/png": "[encoded data removed]",
      "text/plain": [
       "<Figure size 432x288 with 1 Axes>"
      ]
     },
     "metadata": {
      "needs_background": "light"
     },
     "output_type": "display_data"
    }
   ],
   "source": [
    "ball['CG'].plot.box()"
   ]
  },
  {
   "cell_type": "code",
   "execution_count": 24,
   "metadata": {},
   "outputs": [
    {
     "data": {
      "text/plain": [
       "<AxesSubplot:>"
      ]
     },
     "execution_count": 24,
     "metadata": {},
     "output_type": "execute_result"
    },
    {
     "data": {
      "image/png": "[encoded data removed]",
      "text/plain": [
       "<Figure size 432x288 with 1 Axes>"
      ]
     },
     "metadata": {
      "needs_background": "light"
     },
     "output_type": "display_data"
    }
   ],
   "source": [
    "ball['SHO'].plot.box()"
   ]
  },
  {
   "cell_type": "code",
   "execution_count": 25,
   "metadata": {},
   "outputs": [
    {
     "data": {
      "text/plain": [
       "<AxesSubplot:>"
      ]
     },
     "execution_count": 25,
     "metadata": {},
     "output_type": "execute_result"
    },
    {
     "data": {
      "image/png": "[encoded data removed]",
      "text/plain": [
       "<Figure size 432x288 with 1 Axes>"
      ]
     },
     "metadata": {
      "needs_background": "light"
     },
     "output_type": "display_data"
    }
   ],
   "source": [
    "ball['SV'].plot.box()"
   ]
  },
  {
   "cell_type": "code",
   "execution_count": 26,
   "metadata": {},
   "outputs": [
    {
     "data": {
      "text/plain": [
       "<AxesSubplot:>"
      ]
     },
     "execution_count": 26,
     "metadata": {},
     "output_type": "execute_result"
    },
    {
     "data": {
      "image/png": "[encoded data removed]",
      "text/plain": [
       "<Figure size 432x288 with 1 Axes>"
      ]
     },
     "metadata": {
      "needs_background": "light"
     },
     "output_type": "display_data"
    }
   ],
   "source": [
    "ball['E'].plot.box()"
   ]
  },
  {
   "cell_type": "markdown",
   "metadata": {},
   "source": [
    "# Correlation"
   ]
  },
  {
   "cell_type": "code",
   "execution_count": 27,
   "metadata": {},
   "outputs": [
    {
     "data": {
      "text/html": [
       "<div>\n",
       "<style scoped>\n",
       "    .dataframe tbody tr th:only-of-type {\n",
       "        vertical-align: middle;\n",
       "    }\n",
       "\n",
       "    .dataframe tbody tr th {\n",
       "        vertical-align: top;\n",
       "    }\n",
       "\n",
       "    .dataframe thead th {\n",
       "        text-align: right;\n",
       "    }\n",
       "</style>\n",
       "<table border=\"1\" class=\"dataframe\">\n",
       "  <thead>\n",
       "    <tr style=\"text-align: right;\">\n",
       "      <th></th>\n",
       "      <th>W</th>\n",
       "      <th>R</th>\n",
       "      <th>AB</th>\n",
       "      <th>H</th>\n",
       "      <th>2B</th>\n",
       "      <th>3B</th>\n",
       "      <th>HR</th>\n",
       "      <th>BB</th>\n",
       "      <th>SO</th>\n",
       "      <th>SB</th>\n",
       "      <th>RA</th>\n",
       "      <th>ER</th>\n",
       "      <th>ERA</th>\n",
       "      <th>CG</th>\n",
       "      <th>SHO</th>\n",
       "      <th>SV</th>\n",
       "      <th>E</th>\n",
       "    </tr>\n",
       "  </thead>\n",
       "  <tbody>\n",
       "    <tr>\n",
       "      <th>W</th>\n",
       "      <td>1.000000</td>\n",
       "      <td>0.430751</td>\n",
       "      <td>-0.087947</td>\n",
       "      <td>0.037612</td>\n",
       "      <td>0.427797</td>\n",
       "      <td>-0.251118</td>\n",
       "      <td>0.307407</td>\n",
       "      <td>0.484342</td>\n",
       "      <td>0.111850</td>\n",
       "      <td>-0.157234</td>\n",
       "      <td>-0.812952</td>\n",
       "      <td>-0.809435</td>\n",
       "      <td>-0.819600</td>\n",
       "      <td>0.080533</td>\n",
       "      <td>0.471805</td>\n",
       "      <td>0.666530</td>\n",
       "      <td>-0.089485</td>\n",
       "    </tr>\n",
       "    <tr>\n",
       "      <th>R</th>\n",
       "      <td>0.430751</td>\n",
       "      <td>1.000000</td>\n",
       "      <td>0.319464</td>\n",
       "      <td>0.482856</td>\n",
       "      <td>0.560084</td>\n",
       "      <td>-0.070072</td>\n",
       "      <td>0.671283</td>\n",
       "      <td>0.402452</td>\n",
       "      <td>-0.054726</td>\n",
       "      <td>0.081367</td>\n",
       "      <td>-0.041623</td>\n",
       "      <td>-0.041245</td>\n",
       "      <td>-0.049281</td>\n",
       "      <td>0.232042</td>\n",
       "      <td>-0.103274</td>\n",
       "      <td>-0.096380</td>\n",
       "      <td>-0.023262</td>\n",
       "    </tr>\n",
       "    <tr>\n",
       "      <th>AB</th>\n",
       "      <td>-0.087947</td>\n",
       "      <td>0.319464</td>\n",
       "      <td>1.000000</td>\n",
       "      <td>0.739122</td>\n",
       "      <td>0.453370</td>\n",
       "      <td>0.435422</td>\n",
       "      <td>-0.066983</td>\n",
       "      <td>-0.136414</td>\n",
       "      <td>-0.106022</td>\n",
       "      <td>0.372618</td>\n",
       "      <td>0.316010</td>\n",
       "      <td>0.309686</td>\n",
       "      <td>0.255551</td>\n",
       "      <td>-0.080876</td>\n",
       "      <td>-0.197321</td>\n",
       "      <td>-0.106367</td>\n",
       "      <td>0.316743</td>\n",
       "    </tr>\n",
       "    <tr>\n",
       "      <th>H</th>\n",
       "      <td>0.037612</td>\n",
       "      <td>0.482856</td>\n",
       "      <td>0.739122</td>\n",
       "      <td>1.000000</td>\n",
       "      <td>0.566847</td>\n",
       "      <td>0.478694</td>\n",
       "      <td>-0.090855</td>\n",
       "      <td>-0.118281</td>\n",
       "      <td>-0.398830</td>\n",
       "      <td>0.413444</td>\n",
       "      <td>0.224324</td>\n",
       "      <td>0.252489</td>\n",
       "      <td>0.231172</td>\n",
       "      <td>0.147955</td>\n",
       "      <td>-0.145559</td>\n",
       "      <td>-0.130371</td>\n",
       "      <td>-0.033173</td>\n",
       "    </tr>\n",
       "    <tr>\n",
       "      <th>2B</th>\n",
       "      <td>0.427797</td>\n",
       "      <td>0.560084</td>\n",
       "      <td>0.453370</td>\n",
       "      <td>0.566847</td>\n",
       "      <td>1.000000</td>\n",
       "      <td>0.220490</td>\n",
       "      <td>0.056292</td>\n",
       "      <td>0.302700</td>\n",
       "      <td>-0.150752</td>\n",
       "      <td>0.195027</td>\n",
       "      <td>-0.218160</td>\n",
       "      <td>-0.235531</td>\n",
       "      <td>-0.254854</td>\n",
       "      <td>0.306675</td>\n",
       "      <td>0.057998</td>\n",
       "      <td>0.171576</td>\n",
       "      <td>0.105754</td>\n",
       "    </tr>\n",
       "    <tr>\n",
       "      <th>3B</th>\n",
       "      <td>-0.251118</td>\n",
       "      <td>-0.070072</td>\n",
       "      <td>0.435422</td>\n",
       "      <td>0.478694</td>\n",
       "      <td>0.220490</td>\n",
       "      <td>1.000000</td>\n",
       "      <td>-0.430915</td>\n",
       "      <td>-0.454949</td>\n",
       "      <td>-0.141196</td>\n",
       "      <td>0.457437</td>\n",
       "      <td>0.314125</td>\n",
       "      <td>0.340225</td>\n",
       "      <td>0.330951</td>\n",
       "      <td>-0.065898</td>\n",
       "      <td>-0.041396</td>\n",
       "      <td>-0.142370</td>\n",
       "      <td>0.126678</td>\n",
       "    </tr>\n",
       "    <tr>\n",
       "      <th>HR</th>\n",
       "      <td>0.307407</td>\n",
       "      <td>0.671283</td>\n",
       "      <td>-0.066983</td>\n",
       "      <td>-0.090855</td>\n",
       "      <td>0.056292</td>\n",
       "      <td>-0.430915</td>\n",
       "      <td>1.000000</td>\n",
       "      <td>0.425691</td>\n",
       "      <td>0.359923</td>\n",
       "      <td>-0.136567</td>\n",
       "      <td>-0.103903</td>\n",
       "      <td>-0.085922</td>\n",
       "      <td>-0.090917</td>\n",
       "      <td>0.156502</td>\n",
       "      <td>-0.019119</td>\n",
       "      <td>-0.028540</td>\n",
       "      <td>-0.207597</td>\n",
       "    </tr>\n",
       "    <tr>\n",
       "      <th>BB</th>\n",
       "      <td>0.484342</td>\n",
       "      <td>0.402452</td>\n",
       "      <td>-0.136414</td>\n",
       "      <td>-0.118281</td>\n",
       "      <td>0.302700</td>\n",
       "      <td>-0.454949</td>\n",
       "      <td>0.425691</td>\n",
       "      <td>1.000000</td>\n",
       "      <td>0.233652</td>\n",
       "      <td>-0.098347</td>\n",
       "      <td>-0.416445</td>\n",
       "      <td>-0.452663</td>\n",
       "      <td>-0.459832</td>\n",
       "      <td>0.462478</td>\n",
       "      <td>0.426004</td>\n",
       "      <td>0.099445</td>\n",
       "      <td>-0.075685</td>\n",
       "    </tr>\n",
       "    <tr>\n",
       "      <th>SO</th>\n",
       "      <td>0.111850</td>\n",
       "      <td>-0.054726</td>\n",
       "      <td>-0.106022</td>\n",
       "      <td>-0.398830</td>\n",
       "      <td>-0.150752</td>\n",
       "      <td>-0.141196</td>\n",
       "      <td>0.359923</td>\n",
       "      <td>0.233652</td>\n",
       "      <td>1.000000</td>\n",
       "      <td>0.030968</td>\n",
       "      <td>-0.129745</td>\n",
       "      <td>-0.161612</td>\n",
       "      <td>-0.180368</td>\n",
       "      <td>-0.093418</td>\n",
       "      <td>0.237721</td>\n",
       "      <td>0.126297</td>\n",
       "      <td>0.155133</td>\n",
       "    </tr>\n",
       "    <tr>\n",
       "      <th>SB</th>\n",
       "      <td>-0.157234</td>\n",
       "      <td>0.081367</td>\n",
       "      <td>0.372618</td>\n",
       "      <td>0.413444</td>\n",
       "      <td>0.195027</td>\n",
       "      <td>0.457437</td>\n",
       "      <td>-0.136567</td>\n",
       "      <td>-0.098347</td>\n",
       "      <td>0.030968</td>\n",
       "      <td>1.000000</td>\n",
       "      <td>0.132290</td>\n",
       "      <td>0.143068</td>\n",
       "      <td>0.126063</td>\n",
       "      <td>-0.020783</td>\n",
       "      <td>-0.106563</td>\n",
       "      <td>-0.183418</td>\n",
       "      <td>0.079149</td>\n",
       "    </tr>\n",
       "    <tr>\n",
       "      <th>RA</th>\n",
       "      <td>-0.812952</td>\n",
       "      <td>-0.041623</td>\n",
       "      <td>0.316010</td>\n",
       "      <td>0.224324</td>\n",
       "      <td>-0.218160</td>\n",
       "      <td>0.314125</td>\n",
       "      <td>-0.103903</td>\n",
       "      <td>-0.416445</td>\n",
       "      <td>-0.129745</td>\n",
       "      <td>0.132290</td>\n",
       "      <td>1.000000</td>\n",
       "      <td>0.991018</td>\n",
       "      <td>0.986674</td>\n",
       "      <td>-0.016659</td>\n",
       "      <td>-0.636862</td>\n",
       "      <td>-0.616224</td>\n",
       "      <td>0.198996</td>\n",
       "    </tr>\n",
       "    <tr>\n",
       "      <th>ER</th>\n",
       "      <td>-0.809435</td>\n",
       "      <td>-0.041245</td>\n",
       "      <td>0.309686</td>\n",
       "      <td>0.252489</td>\n",
       "      <td>-0.235531</td>\n",
       "      <td>0.340225</td>\n",
       "      <td>-0.085922</td>\n",
       "      <td>-0.452663</td>\n",
       "      <td>-0.161612</td>\n",
       "      <td>0.143068</td>\n",
       "      <td>0.991018</td>\n",
       "      <td>1.000000</td>\n",
       "      <td>0.997248</td>\n",
       "      <td>-0.020221</td>\n",
       "      <td>-0.630192</td>\n",
       "      <td>-0.589663</td>\n",
       "      <td>0.136921</td>\n",
       "    </tr>\n",
       "    <tr>\n",
       "      <th>ERA</th>\n",
       "      <td>-0.819600</td>\n",
       "      <td>-0.049281</td>\n",
       "      <td>0.255551</td>\n",
       "      <td>0.231172</td>\n",
       "      <td>-0.254854</td>\n",
       "      <td>0.330951</td>\n",
       "      <td>-0.090917</td>\n",
       "      <td>-0.459832</td>\n",
       "      <td>-0.180368</td>\n",
       "      <td>0.126063</td>\n",
       "      <td>0.986674</td>\n",
       "      <td>0.997248</td>\n",
       "      <td>1.000000</td>\n",
       "      <td>-0.009856</td>\n",
       "      <td>-0.630833</td>\n",
       "      <td>-0.607005</td>\n",
       "      <td>0.113137</td>\n",
       "    </tr>\n",
       "    <tr>\n",
       "      <th>CG</th>\n",
       "      <td>0.080533</td>\n",
       "      <td>0.232042</td>\n",
       "      <td>-0.080876</td>\n",
       "      <td>0.147955</td>\n",
       "      <td>0.306675</td>\n",
       "      <td>-0.065898</td>\n",
       "      <td>0.156502</td>\n",
       "      <td>0.462478</td>\n",
       "      <td>-0.093418</td>\n",
       "      <td>-0.020783</td>\n",
       "      <td>-0.016659</td>\n",
       "      <td>-0.020221</td>\n",
       "      <td>-0.009856</td>\n",
       "      <td>1.000000</td>\n",
       "      <td>0.241676</td>\n",
       "      <td>-0.367766</td>\n",
       "      <td>-0.140047</td>\n",
       "    </tr>\n",
       "    <tr>\n",
       "      <th>SHO</th>\n",
       "      <td>0.471805</td>\n",
       "      <td>-0.103274</td>\n",
       "      <td>-0.197321</td>\n",
       "      <td>-0.145559</td>\n",
       "      <td>0.057998</td>\n",
       "      <td>-0.041396</td>\n",
       "      <td>-0.019119</td>\n",
       "      <td>0.426004</td>\n",
       "      <td>0.237721</td>\n",
       "      <td>-0.106563</td>\n",
       "      <td>-0.636862</td>\n",
       "      <td>-0.630192</td>\n",
       "      <td>-0.630833</td>\n",
       "      <td>0.241676</td>\n",
       "      <td>1.000000</td>\n",
       "      <td>0.221639</td>\n",
       "      <td>-0.115716</td>\n",
       "    </tr>\n",
       "    <tr>\n",
       "      <th>SV</th>\n",
       "      <td>0.666530</td>\n",
       "      <td>-0.096380</td>\n",
       "      <td>-0.106367</td>\n",
       "      <td>-0.130371</td>\n",
       "      <td>0.171576</td>\n",
       "      <td>-0.142370</td>\n",
       "      <td>-0.028540</td>\n",
       "      <td>0.099445</td>\n",
       "      <td>0.126297</td>\n",
       "      <td>-0.183418</td>\n",
       "      <td>-0.616224</td>\n",
       "      <td>-0.589663</td>\n",
       "      <td>-0.607005</td>\n",
       "      <td>-0.367766</td>\n",
       "      <td>0.221639</td>\n",
       "      <td>1.000000</td>\n",
       "      <td>-0.025636</td>\n",
       "    </tr>\n",
       "    <tr>\n",
       "      <th>E</th>\n",
       "      <td>-0.089485</td>\n",
       "      <td>-0.023262</td>\n",
       "      <td>0.316743</td>\n",
       "      <td>-0.033173</td>\n",
       "      <td>0.105754</td>\n",
       "      <td>0.126678</td>\n",
       "      <td>-0.207597</td>\n",
       "      <td>-0.075685</td>\n",
       "      <td>0.155133</td>\n",
       "      <td>0.079149</td>\n",
       "      <td>0.198996</td>\n",
       "      <td>0.136921</td>\n",
       "      <td>0.113137</td>\n",
       "      <td>-0.140047</td>\n",
       "      <td>-0.115716</td>\n",
       "      <td>-0.025636</td>\n",
       "      <td>1.000000</td>\n",
       "    </tr>\n",
       "  </tbody>\n",
       "</table>\n",
       "</div>"
      ],
      "text/plain": [
       "            W         R        AB         H        2B        3B        HR  \\\n",
       "W    1.000000  0.430751 -0.087947  0.037612  0.427797 -0.251118  0.307407   \n",
       "R    0.430751  1.000000  0.319464  0.482856  0.560084 -0.070072  0.671283   \n",
       "AB  -0.087947  0.319464  1.000000  0.739122  0.453370  0.435422 -0.066983   \n",
       "H    0.037612  0.482856  0.739122  1.000000  0.566847  0.478694 -0.090855   \n",
       "2B   0.427797  0.560084  0.453370  0.566847  1.000000  0.220490  0.056292   \n",
       "3B  -0.251118 -0.070072  0.435422  0.478694  0.220490  1.000000 -0.430915   \n",
       "HR   0.307407  0.671283 -0.066983 -0.090855  0.056292 -0.430915  1.000000   \n",
       "BB   0.484342  0.402452 -0.136414 -0.118281  0.302700 -0.454949  0.425691   \n",
       "SO   0.111850 -0.054726 -0.106022 -0.398830 -0.150752 -0.141196  0.359923   \n",
       "SB  -0.157234  0.081367  0.372618  0.413444  0.195027  0.457437 -0.136567   \n",
       "RA  -0.812952 -0.041623  0.316010  0.224324 -0.218160  0.314125 -0.103903   \n",
       "ER  -0.809435 -0.041245  0.309686  0.252489 -0.235531  0.340225 -0.085922   \n",
       "ERA -0.819600 -0.049281  0.255551  0.231172 -0.254854  0.330951 -0.090917   \n",
       "CG   0.080533  0.232042 -0.080876  0.147955  0.306675 -0.065898  0.156502   \n",
       "SHO  0.471805 -0.103274 -0.197321 -0.145559  0.057998 -0.041396 -0.019119   \n",
       "SV   0.666530 -0.096380 -0.106367 -0.130371  0.171576 -0.142370 -0.028540   \n",
       "E   -0.089485 -0.023262  0.316743 -0.033173  0.105754  0.126678 -0.207597   \n",
       "\n",
       "           BB        SO        SB        RA        ER       ERA        CG  \\\n",
       "W    0.484342  0.111850 -0.157234 -0.812952 -0.809435 -0.819600  0.080533   \n",
       "R    0.402452 -0.054726  0.081367 -0.041623 -0.041245 -0.049281  0.232042   \n",
       "AB  -0.136414 -0.106022  0.372618  0.316010  0.309686  0.255551 -0.080876   \n",
       "H   -0.118281 -0.398830  0.413444  0.224324  0.252489  0.231172  0.147955   \n",
       "2B   0.302700 -0.150752  0.195027 -0.218160 -0.235531 -0.254854  0.306675   \n",
       "3B  -0.454949 -0.141196  0.457437  0.314125  0.340225  0.330951 -0.065898   \n",
       "HR   0.425691  0.359923 -0.136567 -0.103903 -0.085922 -0.090917  0.156502   \n",
       "BB   1.000000  0.233652 -0.098347 -0.416445 -0.452663 -0.459832  0.462478   \n",
       "SO   0.233652  1.000000  0.030968 -0.129745 -0.161612 -0.180368 -0.093418   \n",
       "SB  -0.098347  0.030968  1.000000  0.132290  0.143068  0.126063 -0.020783   \n",
       "RA  -0.416445 -0.129745  0.132290  1.000000  0.991018  0.986674 -0.016659   \n",
       "ER  -0.452663 -0.161612  0.143068  0.991018  1.000000  0.997248 -0.020221   \n",
       "ERA -0.459832 -0.180368  0.126063  0.986674  0.997248  1.000000 -0.009856   \n",
       "CG   0.462478 -0.093418 -0.020783 -0.016659 -0.020221 -0.009856  1.000000   \n",
       "SHO  0.426004  0.237721 -0.106563 -0.636862 -0.630192 -0.630833  0.241676   \n",
       "SV   0.099445  0.126297 -0.183418 -0.616224 -0.589663 -0.607005 -0.367766   \n",
       "E   -0.075685  0.155133  0.079149  0.198996  0.136921  0.113137 -0.140047   \n",
       "\n",
       "          SHO        SV         E  \n",
       "W    0.471805  0.666530 -0.089485  \n",
       "R   -0.103274 -0.096380 -0.023262  \n",
       "AB  -0.197321 -0.106367  0.316743  \n",
       "H   -0.145559 -0.130371 -0.033173  \n",
       "2B   0.057998  0.171576  0.105754  \n",
       "3B  -0.041396 -0.142370  0.126678  \n",
       "HR  -0.019119 -0.028540 -0.207597  \n",
       "BB   0.426004  0.099445 -0.075685  \n",
       "SO   0.237721  0.126297  0.155133  \n",
       "SB  -0.106563 -0.183418  0.079149  \n",
       "RA  -0.636862 -0.616224  0.198996  \n",
       "ER  -0.630192 -0.589663  0.136921  \n",
       "ERA -0.630833 -0.607005  0.113137  \n",
       "CG   0.241676 -0.367766 -0.140047  \n",
       "SHO  1.000000  0.221639 -0.115716  \n",
       "SV   0.221639  1.000000 -0.025636  \n",
       "E   -0.115716 -0.025636  1.000000  "
      ]
     },
     "execution_count": 27,
     "metadata": {},
     "output_type": "execute_result"
    }
   ],
   "source": [
    "ball.corr()"
   ]
  },
  {
   "cell_type": "code",
   "execution_count": 29,
   "metadata": {},
   "outputs": [
    {
     "data": {
      "text/plain": [
       "<AxesSubplot:>"
      ]
     },
     "execution_count": 29,
     "metadata": {},
     "output_type": "execute_result"
    },
    {
     "data": {
      "image/png": "[encoded data removed]",
      "text/plain": [
       "<Figure size 1296x576 with 2 Axes>"
      ]
     },
     "metadata": {
      "needs_background": "light"
     },
     "output_type": "display_data"
    }
   ],
   "source": [
    "# Correlation using heatmap\n",
    "\n",
    "plt.figure(figsize = (18,8))\n",
    "sns.heatmap(ball.corr(), annot = True, linewidth = .5, linecolor = 'black', fmt = '.2f')"
   ]
  },
  {
   "cell_type": "markdown",
   "metadata": {},
   "source": [
    "# Normal distribution Curve"
   ]
  },
  {
   "cell_type": "code",
   "execution_count": 30,
   "metadata": {},
   "outputs": [
    {
     "data": {
      "text/plain": [
       "<AxesSubplot:xlabel='W', ylabel='Density'>"
      ]
     },
     "execution_count": 30,
     "metadata": {},
     "output_type": "execute_result"
    },
    {
     "data": {
      "image/png": "[encoded data removed]",
      "text/plain": [
       "<Figure size 432x288 with 1 Axes>"
      ]
     },
     "metadata": {
      "needs_background": "light"
     },
     "output_type": "display_data"
    }
   ],
   "source": [
    "# for visualize skewness\n",
    "sns.distplot(ball['W'])"
   ]
  },
  {
   "cell_type": "code",
   "execution_count": 31,
   "metadata": {},
   "outputs": [
    {
     "data": {
      "text/plain": [
       "<AxesSubplot:xlabel='R', ylabel='Density'>"
      ]
     },
     "execution_count": 31,
     "metadata": {},
     "output_type": "execute_result"
    },
    {
     "data": {
      "image/png": "[encoded data removed]",
      "text/plain": [
       "<Figure size 432x288 with 1 Axes>"
      ]
     },
     "metadata": {
      "needs_background": "light"
     },
     "output_type": "display_data"
    }
   ],
   "source": [
    "sns.distplot(ball['R'])"
   ]
  },
  {
   "cell_type": "code",
   "execution_count": 33,
   "metadata": {},
   "outputs": [
    {
     "data": {
      "text/plain": [
       "<AxesSubplot:xlabel='AB', ylabel='Density'>"
      ]
     },
     "execution_count": 33,
     "metadata": {},
     "output_type": "execute_result"
    },
    {
     "data": {
      "image/png": "[encoded data removed]",
      "text/plain": [
       "<Figure size 432x288 with 1 Axes>"
      ]
     },
     "metadata": {
      "needs_background": "light"
     },
     "output_type": "display_data"
    }
   ],
   "source": [
    "sns.distplot(ball['AB'])"
   ]
  },
  {
   "cell_type": "code",
   "execution_count": 34,
   "metadata": {},
   "outputs": [
    {
     "data": {
      "text/plain": [
       "<AxesSubplot:xlabel='H', ylabel='Density'>"
      ]
     },
     "execution_count": 34,
     "metadata": {},
     "output_type": "execute_result"
    },
    {
     "data": {
      "image/png": "[encoded data removed]",
      "text/plain": [
       "<Figure size 432x288 with 1 Axes>"
      ]
     },
     "metadata": {
      "needs_background": "light"
     },
     "output_type": "display_data"
    }
   ],
   "source": [
    "sns.distplot(ball['H'])"
   ]
  },
  {
   "cell_type": "code",
   "execution_count": 35,
   "metadata": {},
   "outputs": [
    {
     "data": {
      "text/plain": [
       "<AxesSubplot:xlabel='2B', ylabel='Density'>"
      ]
     },
     "execution_count": 35,
     "metadata": {},
     "output_type": "execute_result"
    },
    {
     "data": {
      "image/png": "[encoded data removed]",
      "text/plain": [
       "<Figure size 432x288 with 1 Axes>"
      ]
     },
     "metadata": {
      "needs_background": "light"
     },
     "output_type": "display_data"
    }
   ],
   "source": [
    "sns.distplot(ball['2B'])"
   ]
  },
  {
   "cell_type": "code",
   "execution_count": 36,
   "metadata": {},
   "outputs": [
    {
     "data": {
      "text/plain": [
       "<AxesSubplot:xlabel='3B', ylabel='Density'>"
      ]
     },
     "execution_count": 36,
     "metadata": {},
     "output_type": "execute_result"
    },
    {
     "data": {
      "image/png": "[encoded data removed]",
      "text/plain": [
       "<Figure size 432x288 with 1 Axes>"
      ]
     },
     "metadata": {
      "needs_background": "light"
     },
     "output_type": "display_data"
    }
   ],
   "source": [
    "sns.distplot(ball['3B'])"
   ]
  },
  {
   "cell_type": "code",
   "execution_count": 37,
   "metadata": {},
   "outputs": [
    {
     "data": {
      "text/plain": [
       "<AxesSubplot:xlabel='HR', ylabel='Density'>"
      ]
     },
     "execution_count": 37,
     "metadata": {},
     "output_type": "execute_result"
    },
    {
     "data": {
      "image/png": "[encoded data removed]",
      "text/plain": [
       "<Figure size 432x288 with 1 Axes>"
      ]
     },
     "metadata": {
      "needs_background": "light"
     },
     "output_type": "display_data"
    }
   ],
   "source": [
    "sns.distplot(ball['HR'])"
   ]
  },
  {
   "cell_type": "code",
   "execution_count": 38,
   "metadata": {},
   "outputs": [
    {
     "data": {
      "text/plain": [
       "<AxesSubplot:xlabel='BB', ylabel='Density'>"
      ]
     },
     "execution_count": 38,
     "metadata": {},
     "output_type": "execute_result"
    },
    {
     "data": {
      "image/png": "[encoded data removed]",
      "text/plain": [
       "<Figure size 432x288 with 1 Axes>"
      ]
     },
     "metadata": {
      "needs_background": "light"
     },
     "output_type": "display_data"
    }
   ],
   "source": [
    "sns.distplot(ball['BB'])"
   ]
  },
  {
   "cell_type": "code",
   "execution_count": 39,
   "metadata": {},
   "outputs": [
    {
     "data": {
      "text/plain": [
       "<AxesSubplot:xlabel='SO', ylabel='Density'>"
      ]
     },
     "execution_count": 39,
     "metadata": {},
     "output_type": "execute_result"
    },
    {
     "data": {
      "image/png": "[encoded data removed]",
      "text/plain": [
       "<Figure size 432x288 with 1 Axes>"
      ]
     },
     "metadata": {
      "needs_background": "light"
     },
     "output_type": "display_data"
    }
   ],
   "source": [
    "sns.distplot(ball['SO'])"
   ]
  },
  {
   "cell_type": "code",
   "execution_count": 40,
   "metadata": {},
   "outputs": [
    {
     "data": {
      "text/plain": [
       "<AxesSubplot:xlabel='SB', ylabel='Density'>"
      ]
     },
     "execution_count": 40,
     "metadata": {},
     "output_type": "execute_result"
    },
    {
     "data": {
      "image/png": "[encoded data removed]",
      "text/plain": [
       "<Figure size 432x288 with 1 Axes>"
      ]
     },
     "metadata": {
      "needs_background": "light"
     },
     "output_type": "display_data"
    }
   ],
   "source": [
    "sns.distplot(ball['SB'])"
   ]
  },
  {
   "cell_type": "code",
   "execution_count": 41,
   "metadata": {},
   "outputs": [
    {
     "data": {
      "text/plain": [
       "<AxesSubplot:xlabel='RA', ylabel='Density'>"
      ]
     },
     "execution_count": 41,
     "metadata": {},
     "output_type": "execute_result"
    },
    {
     "data": {
      "image/png": "[encoded data removed]",
      "text/plain": [
       "<Figure size 432x288 with 1 Axes>"
      ]
     },
     "metadata": {
      "needs_background": "light"
     },
     "output_type": "display_data"
    }
   ],
   "source": [
    "sns.distplot(ball['RA'])"
   ]
  },
  {
   "cell_type": "code",
   "execution_count": 42,
   "metadata": {},
   "outputs": [
    {
     "data": {
      "text/plain": [
       "<AxesSubplot:xlabel='ER', ylabel='Density'>"
      ]
     },
     "execution_count": 42,
     "metadata": {},
     "output_type": "execute_result"
    },
    {
     "data": {
      "image/png": "[encoded data removed]",
      "text/plain": [
       "<Figure size 432x288 with 1 Axes>"
      ]
     },
     "metadata": {
      "needs_background": "light"
     },
     "output_type": "display_data"
    }
   ],
   "source": [
    "sns.distplot(ball['ER'])"
   ]
  },
  {
   "cell_type": "code",
   "execution_count": 43,
   "metadata": {},
   "outputs": [
    {
     "data": {
      "text/plain": [
       "<AxesSubplot:xlabel='ERA', ylabel='Density'>"
      ]
     },
     "execution_count": 43,
     "metadata": {},
     "output_type": "execute_result"
    },
    {
     "data": {
      "image/png": "[encoded data removed]",
      "text/plain": [
       "<Figure size 432x288 with 1 Axes>"
      ]
     },
     "metadata": {
      "needs_background": "light"
     },
     "output_type": "display_data"
    }
   ],
   "source": [
    "sns.distplot(ball['ERA'])"
   ]
  },
  {
   "cell_type": "code",
   "execution_count": 44,
   "metadata": {},
   "outputs": [
    {
     "data": {
      "text/plain": [
       "<AxesSubplot:xlabel='CG', ylabel='Density'>"
      ]
     },
     "execution_count": 44,
     "metadata": {},
     "output_type": "execute_result"
    },
    {
     "data": {
      "image/png": "[encoded data removed]",
      "text/plain": [
       "<Figure size 432x288 with 1 Axes>"
      ]
     },
     "metadata": {
      "needs_background": "light"
     },
     "output_type": "display_data"
    }
   ],
   "source": [
    "sns.distplot(ball['CG'])"
   ]
  },
  {
   "cell_type": "code",
   "execution_count": 46,
   "metadata": {},
   "outputs": [
    {
     "data": {
      "text/plain": [
       "<AxesSubplot:xlabel='SHO', ylabel='Density'>"
      ]
     },
     "execution_count": 46,
     "metadata": {},
     "output_type": "execute_result"
    },
    {
     "data": {
      "image/png": "[encoded data removed]",
      "text/plain": [
       "<Figure size 432x288 with 1 Axes>"
      ]
     },
     "metadata": {
      "needs_background": "light"
     },
     "output_type": "display_data"
    }
   ],
   "source": [
    "sns.distplot(ball['SHO'])"
   ]
  },
  {
   "cell_type": "code",
   "execution_count": 47,
   "metadata": {},
   "outputs": [
    {
     "data": {
      "text/plain": [
       "<AxesSubplot:xlabel='SV', ylabel='Density'>"
      ]
     },
     "execution_count": 47,
     "metadata": {},
     "output_type": "execute_result"
    },
    {
     "data": {
      "image/png": "[encoded data removed]",
      "text/plain": [
       "<Figure size 432x288 with 1 Axes>"
      ]
     },
     "metadata": {
      "needs_background": "light"
     },
     "output_type": "display_data"
    }
   ],
   "source": [
    "sns.distplot(ball['SV'])"
   ]
  },
  {
   "cell_type": "code",
   "execution_count": 48,
   "metadata": {},
   "outputs": [
    {
     "data": {
      "text/plain": [
       "<AxesSubplot:xlabel='E', ylabel='Density'>"
      ]
     },
     "execution_count": 48,
     "metadata": {},
     "output_type": "execute_result"
    },
    {
     "data": {
      "image/png": "[encoded data removed]",
      "text/plain": [
       "<Figure size 432x288 with 1 Axes>"
      ]
     },
     "metadata": {
      "needs_background": "light"
     },
     "output_type": "display_data"
    }
   ],
   "source": [
    "sns.distplot(ball['E'])"
   ]
  },
  {
   "cell_type": "code",
   "execution_count": 49,
   "metadata": {},
   "outputs": [
    {
     "data": {
      "text/plain": [
       "array([[1.36540860e+00, 6.19077968e-01, 8.47731264e-01, 1.66368512e+00,\n",
       "        1.42017307e+00, 1.04119304e+00, 7.87298598e-01, 1.53490242e+00,\n",
       "        2.69762957e+00, 9.13883291e-01, 6.66233927e-01, 5.05110079e-01,\n",
       "        5.06955186e-01, 5.39806195e-01, 8.14628593e-01, 1.67160651e+00,\n",
       "        4.61469635e-01],\n",
       "       [1.97838300e-01, 1.34431656e-01, 7.11093535e-01, 9.70680764e-01,\n",
       "        1.27403389e-01, 1.23580856e+00, 2.43966683e-01, 5.36591904e-01,\n",
       "        1.54878442e-01, 6.01825582e-01, 1.65970766e-01, 2.48929848e-01,\n",
       "        2.54597523e-01, 5.39806195e-01, 1.72800005e-01, 2.49879323e-01,\n",
       "        6.07196888e-01],\n",
       "       [3.24325082e-03, 3.32905860e-01, 1.11523330e+00, 1.51891367e-01,\n",
       "        1.58879521e+00, 2.23807850e-01, 7.23377196e-01, 1.13914361e+00,\n",
       "        8.93981893e-01, 1.11449182e-01, 6.80339091e-01, 7.51623132e-01,\n",
       "        6.41346840e-01, 2.77264091e+00, 3.20914294e-01, 6.54856158e-01,\n",
       "        1.11724227e+00],\n",
       "       [4.83244373e-01, 1.14641931e+00, 2.41521620e-01, 4.01088140e-01,\n",
       "        8.28122030e-01, 4.18423371e-01, 8.83180700e-01, 1.16053598e+00,\n",
       "        1.68601848e-01, 6.90984928e-01, 1.80075931e-01, 1.03922169e-01,\n",
       "        5.30100415e-02, 1.30044220e+00, 5.67771443e-01, 7.84104084e-01,\n",
       "        4.85757510e-01],\n",
       "       [6.77839422e-01, 1.32700776e-02, 1.28073815e+00, 1.98408098e+00,\n",
       "        8.01891920e-01, 1.72234737e+00, 4.03770187e-01, 2.51360327e-01,\n",
       "        1.05866277e-01, 2.22898364e-02, 1.61880269e+00, 1.59750126e+00,\n",
       "        1.53131824e+00, 1.30044220e+00, 1.72800005e-01, 1.04259994e+00,\n",
       "        6.07196888e-01],\n",
       "       [1.17081355e+00, 3.50964704e+00, 1.04883891e-01, 1.36108904e+00,\n",
       "        1.86983209e+00, 1.39150098e+00, 2.18504658e+00, 1.79874163e+00,\n",
       "        9.52796491e-01, 2.00608527e-01, 2.57184162e-01, 3.89103937e-01,\n",
       "        3.50164922e-01, 1.30044220e+00, 3.20914294e-01, 1.17184786e+00,\n",
       "        4.61469635e-01],\n",
       "       [5.87028399e-01, 1.31142984e+00, 7.32262760e-01, 1.16291827e-01,\n",
       "        1.53633499e-01, 1.19688546e+00, 1.54583256e+00, 1.51351006e+00,\n",
       "        2.07811580e-01, 9.13883291e-01, 1.37760438e-01, 2.34429080e-01,\n",
       "        1.65003087e-01, 1.71756517e-01, 1.80205719e+00, 6.37623101e-01,\n",
       "        9.71515020e-02],\n",
       "       [3.24325082e-03, 4.28681202e-01, 4.51289401e-01, 5.96885604e-01,\n",
       "        1.61502532e+00, 1.09957770e+00, 1.70563607e+00, 9.10958349e-01,\n",
       "        8.11641456e-01, 1.76089707e+00, 6.72346164e-02, 1.47424473e-01,\n",
       "        2.09800305e-01, 1.27590555e+00, 3.20914294e-01, 8.61652840e-03,\n",
       "        1.26296953e+00],\n",
       "       [9.40542739e-02, 7.65625781e-01, 4.51289401e-01, 3.65488601e-01,\n",
       "        1.83610767e-01, 6.81154325e-02, 1.07601026e-01, 5.90072825e-01,\n",
       "        6.05790362e-01, 1.56028855e-01, 6.52128762e-01, 4.61607776e-01,\n",
       "        4.84556577e-01, 9.07855874e-01, 1.72800005e-01, 2.18859821e+00,\n",
       "        4.85757510e-02],\n",
       "       [2.88649323e-01, 1.03448909e+00, 1.78591286e+00, 1.62808558e+00,\n",
       "        1.08292881e+00, 1.65423193e-01, 8.41631789e-02, 1.58660065e-01,\n",
       "        9.82203790e-01, 5.57245909e-01, 9.13544474e-01, 8.43461329e-01,\n",
       "        7.92164142e-01, 1.71756517e-01, 3.20914294e-01, 3.96360306e-01,\n",
       "        1.94303004e-01],\n",
       "       [6.84325924e-01, 1.08641548e+00, 7.60167649e-02, 2.75303102e-01,\n",
       "        2.39818144e-01, 6.81154325e-02, 2.67404530e-01, 6.04334404e-01,\n",
       "        1.48996982e-01, 7.80144273e-01, 6.31441188e-01, 6.40450579e-01,\n",
       "        6.35373878e-01, 5.64342841e-01, 5.67771443e-01, 2.49879323e-01,\n",
       "        1.79730279e+00],\n",
       "       [4.89730874e-01, 7.05621952e-01, 8.26562038e-01, 7.21483991e-01,\n",
       "        1.83610767e-01, 5.15731132e-01, 2.12112518e+00, 3.01275853e-01,\n",
       "        1.40958987e+00, 1.67173773e+00, 9.90652705e-01, 9.25632346e-01,\n",
       "        8.65332931e-01, 5.64342841e-01, 4.19657154e-01, 5.25608232e-01,\n",
       "        6.80060514e-01],\n",
       "       [3.92433350e-01, 4.71376235e-01, 1.43277168e+00, 1.29107662e+00,\n",
       "        1.78364745e+00, 1.00226994e+00, 3.95247334e-01, 6.07899799e-01,\n",
       "        9.62598924e-01, 1.40425969e+00, 1.86658341e-01, 8.45878123e-02,\n",
       "        3.65843948e-02, 5.39806195e-01, 1.72800005e-01, 3.79127249e-01,\n",
       "        9.71515020e-02],\n",
       "       [4.83244373e-01, 5.57920219e-01, 4.00290812e-01, 4.36687679e-01,\n",
       "        7.15707275e-01, 9.04962175e-01, 1.09838275e+00, 1.58660065e-01,\n",
       "        8.60653621e-01, 6.46405255e-01, 5.32705038e-01, 5.96948276e-01,\n",
       "        4.56185005e-01, 9.32392519e-01, 1.72800005e-01, 2.49879323e-01,\n",
       "        2.42878755e-02],\n",
       "       [1.26162457e+00, 9.98140619e-02, 1.20857034e+00, 2.61063286e-02,\n",
       "        1.27403389e-01, 1.43042408e+00, 5.63573692e-01, 1.05179144e-01,\n",
       "        1.26647435e+00, 2.45188200e-01, 5.75020531e-01, 4.08438294e-01,\n",
       "        4.11387787e-01, 5.64342841e-01, 9.13371452e-01, 1.94733542e+00,\n",
       "        2.30734817e+00],\n",
       "       [1.85189622e+00, 7.13699391e-01, 4.65722964e-01, 3.12089292e-01,\n",
       "        7.45684543e-01, 7.49269758e-01, 8.51219999e-01, 6.57815325e-01,\n",
       "        1.84285741e-01, 6.46405255e-01, 2.30243298e+00, 2.28870452e+00,\n",
       "        2.27644530e+00, 9.07855874e-01, 9.13371452e-01, 2.44709406e+00,\n",
       "        1.21439378e-01],\n",
       "       [1.65730117e+00, 1.51740453e-01, 1.65601079e+00, 1.04069319e+00,\n",
       "        9.70514053e-01, 4.18423371e-01, 7.55337897e-01, 1.44398486e-01,\n",
       "        7.23419558e-01, 6.46405255e-01, 1.30096632e+00, 1.50566306e+00,\n",
       "        1.67168286e+00, 1.27590555e+00, 4.19657154e-01, 1.41311066e+00,\n",
       "        2.01589367e+00],\n",
       "       [1.56000365e+00, 1.32700776e-02, 3.64688024e-01, 1.11307892e+00,\n",
       "        1.53633499e-01, 1.26500089e-01, 2.35443830e-01, 1.74526071e+00,\n",
       "        2.64469643e+00, 5.12666237e-01, 1.13170435e+00, 1.30265231e+00,\n",
       "        1.33570372e+00, 9.32392519e-01, 2.39451435e+00, 6.37623101e-01,\n",
       "        1.21439378e+00],\n",
       "       [1.26162457e+00, 5.75229016e-01, 5.23457216e-01, 4.54487448e-01,\n",
       "        4.12187436e-02, 2.62730954e-01, 5.95534393e-01, 1.01792019e+00,\n",
       "        4.97963598e-01, 2.22898364e-02, 6.87861845e-01, 6.69452115e-01,\n",
       "        7.24968314e-01, 9.07855874e-01, 1.06148574e+00, 3.96360306e-01,\n",
       "        1.57871191e+00],\n",
       "       [1.65081467e+00, 8.34860969e-01, 7.89997012e-01, 3.83288370e-01,\n",
       "        9.96744163e-01, 4.18423371e-01, 1.07601026e-01, 4.79545589e-01,\n",
       "        6.66565447e-02, 2.25127347e+00, 9.27649638e-01, 9.30465935e-01,\n",
       "        8.36961360e-01, 5.39806195e-01, 8.14628593e-01, 1.04259994e+00,\n",
       "        3.15742382e-01],\n",
       "       [8.78920973e-01, 9.05827036e-02, 1.54920242e-01, 9.35081225e-01,\n",
       "        1.13913619e+00, 1.39150098e+00, 4.27208035e-01, 3.36929800e-01,\n",
       "        4.09741701e-01, 1.44883936e+00, 1.06117853e+00, 1.14314386e+00,\n",
       "        1.17891346e+00, 9.07855874e-01, 6.66514303e-01, 8.96118953e-01,\n",
       "        4.61469635e-01],\n",
       "       [1.97838300e-01, 2.55593234e-01, 1.27400249e+00, 7.21483991e-01,\n",
       "        5.47085142e-01, 1.78073202e+00, 4.27208035e-01, 1.24610545e+00,\n",
       "        9.39073085e-01, 1.18136133e+00, 7.50864912e-01, 8.53128507e-01,\n",
       "        7.53339886e-01, 1.96293162e-01, 4.19657154e-01, 2.67112380e-01,\n",
       "        3.15742382e-01],\n",
       "       [9.69731996e-01, 1.30219848e+00, 7.68827786e-01, 2.93102871e-01,\n",
       "        2.17709909e+00, 8.46577519e-01, 1.39455191e+00, 1.67751821e+00,\n",
       "        9.62598924e-01, 1.27052067e+00, 1.44342848e-01, 3.14183303e-02,\n",
       "        1.42604478e-01, 1.27590555e+00, 1.72800005e-01, 1.04259994e+00,\n",
       "        1.26296953e+00],\n",
       "       [1.35892210e+00, 1.99455036e+00, 1.38947099e+00, 7.57083530e-01,\n",
       "        1.33398843e+00, 1.29419322e+00, 2.03376593e+00, 3.38712498e-02,\n",
       "        1.38410355e+00, 6.46405255e-01, 1.01228062e+00, 9.01464400e-01,\n",
       "        1.01615023e+00, 1.71756517e-01, 3.20914294e-01, 1.20631398e-01,\n",
       "        3.15742382e-01],\n",
       "       [1.74811219e+00, 1.07718413e+00, 1.83787368e-01, 5.25686526e-01,\n",
       "        1.53633499e-01, 5.54654236e-01, 1.07494491e+00, 1.46359453e+00,\n",
       "        2.52902772e-01, 2.00608527e-01, 1.70343367e+00, 1.64100356e+00,\n",
       "        1.64331129e+00, 9.07855874e-01, 1.06148574e+00, 1.04259994e+00,\n",
       "        1.65157553e+00],\n",
       "       [1.07351602e+00, 3.67523453e-01, 1.89464570e+00, 1.02408007e+00,\n",
       "        6.59499897e-01, 5.15731132e-01, 7.46815043e-01, 1.67395282e+00,\n",
       "        9.60638438e-02, 1.09220198e+00, 1.31507148e+00, 1.20114693e+00,\n",
       "        1.15651485e+00, 9.32392519e-01, 2.39451435e+00, 5.08375175e-01,\n",
       "        1.40869678e+00],\n",
       "       [2.95135825e-01, 1.34431656e-01, 7.03395634e-01, 1.46788766e+00,\n",
       "        7.45684543e-01, 7.49269758e-01, 8.83180700e-01, 2.15706380e-01,\n",
       "        8.74377027e-01, 4.23506891e-01, 8.63706227e-01, 5.63113151e-01,\n",
       "        5.29353795e-01, 1.30044220e+00, 1.65394290e+00, 2.67112380e-01,\n",
       "        1.19010590e+00],\n",
       "       [1.91351799e-01, 5.49842780e-01, 1.91581492e+00, 1.61028582e+00,\n",
       "        8.01891920e-01, 1.62503960e+00, 3.07888085e-01, 3.72583748e-01,\n",
       "        6.25395228e-01, 2.16211413e+00, 3.49337902e-01, 3.35934455e-01,\n",
       "        1.87401696e-01, 9.07855874e-01, 1.72800005e-01, 1.20631398e-01,\n",
       "        6.07196888e-01],\n",
       "       [6.77839422e-01, 6.61773000e-01, 8.55429164e-01, 1.41567500e+00,\n",
       "        8.28122030e-01, 4.57346476e-01, 4.99652290e-01, 7.68342561e-01,\n",
       "        7.72431723e-01, 6.68695091e-02, 6.03230859e-01, 2.77931383e-01,\n",
       "        2.99394742e-01, 9.07855874e-01, 1.30834289e+00, 2.67112380e-01,\n",
       "        1.70015129e-01],\n",
       "       [1.26162457e+00, 8.44092327e-01, 8.04430575e-01, 1.34328927e+00,\n",
       "        4.12187436e-02, 1.72234737e+00, 7.14854342e-01, 1.44576756e+00,\n",
       "        3.41124670e-01, 6.01825582e-01, 2.19711442e+00, 2.36604195e+00,\n",
       "        2.42726261e+00, 1.96293162e-01, 1.80205719e+00, 9.13352010e-01,\n",
       "        4.85757510e-02]])"
      ]
     },
     "execution_count": 49,
     "metadata": {},
     "output_type": "execute_result"
    }
   ],
   "source": [
    "# Removing Outliers\n",
    "\n",
    "from scipy.stats import zscore\n",
    "z = np.abs(zscore(ball))\n",
    "z"
   ]
  },
  {
   "cell_type": "code",
   "execution_count": 50,
   "metadata": {},
   "outputs": [
    {
     "name": "stdout",
     "output_type": "stream",
     "text": [
      "(array([5], dtype=int64), array([1], dtype=int64))\n"
     ]
    }
   ],
   "source": [
    "threshold = 3\n",
    "print(np.where(z>3))"
   ]
  },
  {
   "cell_type": "code",
   "execution_count": 51,
   "metadata": {},
   "outputs": [
    {
     "name": "stdout",
     "output_type": "stream",
     "text": [
      "(30, 17)\n",
      "(29, 17)\n"
     ]
    }
   ],
   "source": [
    "ball_new = ball[(z<3).all(axis = 1)]\n",
    "print(ball.shape)\n",
    "print(ball_new.shape)"
   ]
  },
  {
   "cell_type": "markdown",
   "metadata": {},
   "source": [
    "# Divide data in feature and Vector"
   ]
  },
  {
   "cell_type": "code",
   "execution_count": 52,
   "metadata": {},
   "outputs": [],
   "source": [
    "x = ball_new.drop(['W'], axis = 1)\n",
    "y = ball_new['W']"
   ]
  },
  {
   "cell_type": "markdown",
   "metadata": {},
   "source": [
    "# Remove Skewness"
   ]
  },
  {
   "cell_type": "code",
   "execution_count": 53,
   "metadata": {},
   "outputs": [
    {
     "data": {
      "text/plain": [
       "array([[ 9.62543504e-01,  0.00000000e+00,  0.00000000e+00,\n",
       "         1.68518793e+00,  1.00615029e+00, -7.41927000e-01,\n",
       "        -1.60519802e+00, -2.55061247e+00,  9.36131648e-01,\n",
       "        -6.60978697e-01, -5.08052224e-01, -5.09292146e-01,\n",
       "        -3.07098204e-01, -7.87002186e-01,  1.53275292e+00,\n",
       "        -3.48265262e-01],\n",
       "       [ 2.98863300e-01,  0.00000000e+00,  0.00000000e+00,\n",
       "         1.38197902e-01,  1.18522654e+00, -1.09958425e-01,\n",
       "        -4.62095966e-01,  9.36832915e-02, -5.16377335e-01,\n",
       "         1.60225829e-01,  2.35800488e-01,  2.41440214e-01,\n",
       "        -3.07098204e-01,  2.36736538e-01,  3.12020186e-01,\n",
       "        -5.40819806e-01],\n",
       "       [-3.12105130e-01,  0.00000000e+00,  0.00000000e+00,\n",
       "         1.90738550e+00, -2.28819392e-01, -6.64354121e-01,\n",
       "         1.23209786e+00, -9.35611465e-01,  2.25038365e-01,\n",
       "        -6.74967476e-01, -7.52213881e-01, -6.42097599e-01,\n",
       "         2.01131531e+00, -2.52844176e-01, -6.64136739e-01,\n",
       "        -1.32612477e+00],\n",
       "       [-1.30829774e+00,  0.00000000e+00,  0.00000000e+00,\n",
       "        -8.37664770e-01, -4.32227907e-01, -8.60039342e-01,\n",
       "        -1.16272085e+00, -2.30682707e-01, -6.18421529e-01,\n",
       "         1.74076810e-01,  9.30906974e-02,  4.30132461e-02,\n",
       "         1.26446344e+00, -5.13554932e-01, -8.20688859e-01,\n",
       "         6.50818351e-01],\n",
       "       [ 1.37737301e-01,  0.00000000e+00,  0.00000000e+00,\n",
       "         9.11434794e-01,  1.62263592e+00, -2.89646675e-01,\n",
       "        -1.55685826e-01,  4.41433307e-02,  9.50377681e-02,\n",
       "         1.57597053e+00,  1.55585333e+00,  1.49349103e+00,\n",
       "         1.26446344e+00,  2.36736538e-01, -1.14916472e+00,\n",
       "        -5.40819806e-01],\n",
       "       [ 1.96420873e+00,  0.00000000e+00,  0.00000000e+00,\n",
       "        -1.63010220e-01, -1.29582738e+00,  1.63163749e+00,\n",
       "         1.57949358e+00, -2.69582692e-01, -8.84525554e-01,\n",
       "         1.32517300e-01,  2.21536563e-01,  1.53276229e-01,\n",
       "         1.21870592e-01, -2.06403920e+00,  6.77176215e-01,\n",
       "         8.28582419e-02],\n",
       "       [ 6.98145564e-01,  0.00000000e+00,  0.00000000e+00,\n",
       "        -1.54263548e+00, -1.18275843e+00,  1.76773356e+00,\n",
       "        -8.77216697e-01,  7.70980104e-01, -2.08284252e+00,\n",
       "         6.32075091e-02,  1.35920150e-01,  1.97363352e-01,\n",
       "        -1.73289617e+00, -2.52844176e-01,  5.23253489e-02,\n",
       "        -1.58819729e+00],\n",
       "       [-8.52595277e-01,  0.00000000e+00,  0.00000000e+00,\n",
       "         1.99896614e-01,  6.87034881e-02,  2.69125303e-01,\n",
       "        -5.20475583e-01,  5.56007529e-01,  2.67558365e-01,\n",
       "        -6.46992330e-01, -4.65016391e-01, -4.87167563e-01,\n",
       "        -8.70681710e-01,  2.36736538e-01,  1.90813725e+00,\n",
       "         2.37592499e-01],\n",
       "       [ 1.55595108e+00,  0.00000000e+00,  0.00000000e+00,\n",
       "         1.25525640e+00,  1.66016920e-01,  6.50138601e-02,\n",
       "         2.70943885e-01, -1.01920973e+00, -4.66233050e-01,\n",
       "         8.91395674e-01,  8.19308121e-01,  7.69577491e-01,\n",
       "         1.21870592e-01, -2.52844176e-01, -3.65006331e-01,\n",
       "         3.83385575e-01],\n",
       "       [ 1.63172674e+00,  0.00000000e+00,  0.00000000e+00,\n",
       "         2.62085981e-01,  6.87034881e-02,  4.34619901e-01,\n",
       "         7.17575787e-01, -2.11198815e-01,  8.24915052e-01,\n",
       "         6.16173257e-01,  6.20345615e-01,  6.15685236e-01,\n",
       "         7.70648979e-01, -5.13554932e-01,  3.12020186e-01,\n",
       "         1.55426515e+00],\n",
       "       [ 1.08429715e+00,  0.00000000e+00,  0.00000000e+00,\n",
       "         1.99896614e-01, -5.35589865e-01,  2.10976140e+00,\n",
       "         4.15731318e-01,  1.40920289e+00,  1.52141342e+00,\n",
       "        -9.83339537e-01, -9.24867931e-01, -8.63663642e-01,\n",
       "         7.70648979e-01,  4.68029391e-01, -5.12328248e-01,\n",
       "        -6.41925514e-01],\n",
       "       [-4.87692420e-01,  0.00000000e+00,  0.00000000e+00,\n",
       "        -1.68270914e+00, -1.07132315e+00,  5.64164281e-01,\n",
       "        -5.40002291e-01, -1.00067264e+00, -1.53576005e+00,\n",
       "        -1.86768924e-01, -9.26692761e-02, -4.52439677e-02,\n",
       "        -3.07098204e-01,  2.36736538e-01,  4.36837705e-01,\n",
       "         8.28582419e-02],\n",
       "       [-5.96175935e-01,  0.00000000e+00,  0.00000000e+00,\n",
       "        -7.29846682e-01, -9.61425202e-01,  1.23584791e+00,\n",
       "         2.70943885e-01,  8.22523572e-01, -5.67101779e-01,\n",
       "         5.19650226e-01,  5.77672959e-01,  4.39660260e-01,\n",
       "         1.03166276e+00,  2.36736538e-01,  3.12020186e-01,\n",
       "         1.61388488e-01],\n",
       "       [ 2.52632115e-01,  0.00000000e+00,  0.00000000e+00,\n",
       "         1.38197902e-01,  1.36188686e+00, -4.74339591e-01,\n",
       "         2.16180612e-01, -1.28540143e+00, -1.30311671e-01,\n",
       "         5.61029782e-01,  3.92601368e-01,  3.95629046e-01,\n",
       "         7.70648979e-01,  9.08147185e-01, -2.49883997e+00,\n",
       "         1.81055287e+00],\n",
       "       [-7.89011402e-01,  0.00000000e+00,  0.00000000e+00,\n",
       "         8.44221534e-01,  7.32678154e-01, -8.20430695e-01,\n",
       "         7.70046367e-01,  1.23474558e-01, -5.67101779e-01,\n",
       "        -2.30096939e+00, -2.28677063e+00, -2.26637599e+00,\n",
       "        -8.70681710e-01,  9.08147185e-01,  2.08491727e+00,\n",
       "         3.11562350e-01],\n",
       "       [ 3.22037487e-01,  0.00000000e+00,  0.00000000e+00,\n",
       "         1.11616810e+00, -4.32227907e-01, -7.03025726e-01,\n",
       "        -4.28617534e-02,  6.78550021e-01,  7.10994061e-01,\n",
       "        -1.29292772e+00, -1.50228264e+00, -1.66371188e+00,\n",
       "        -1.73289617e+00,  4.68029391e-01,  1.33300631e+00,\n",
       "         1.66920917e+00],\n",
       "       [ 1.37737301e-01,  0.00000000e+00,  0.00000000e+00,\n",
       "        -1.63010220e-01, -1.28676161e-01,  4.01843420e-01,\n",
       "         1.78963187e+00,  2.79148702e+00,  5.94217890e-01,\n",
       "        -1.12390777e+00, -1.29984664e+00, -1.32988858e+00,\n",
       "         1.03166276e+00,  2.09085582e+00,  6.77176215e-01,\n",
       "         1.20371501e+00],\n",
       "       [-6.17756609e-01,  0.00000000e+00,  0.00000000e+00,\n",
       "        -4.39755655e-02,  2.62459743e-01, -5.11906087e-01,\n",
       "        -9.98685266e-01,  4.44378919e-01,  1.38786720e-01,\n",
       "         6.71283471e-01,  6.48786587e-01,  7.03638359e-01,\n",
       "        -8.70681710e-01, -1.07533963e+00, -3.65006331e-01,\n",
       "         1.43081026e+00],\n",
       "       [-9.36834306e-01,  0.00000000e+00,  0.00000000e+00,\n",
       "        -9.96002506e-01, -4.32227907e-01,  2.69125303e-01,\n",
       "         5.94226550e-01,  4.61238853e-03,  1.92552808e+00,\n",
       "         9.05135408e-01,  9.04489803e-01,  8.13524742e-01,\n",
       "        -3.07098204e-01, -7.87002186e-01, -1.14916472e+00,\n",
       "        -1.67684998e-01],\n",
       "       [ 1.15032665e-03,  0.00000000e+00,  0.00000000e+00,\n",
       "         1.32558682e+00, -1.52730964e+00,  5.96168091e-01,\n",
       "         4.51648972e-01,  3.53547035e-01, -1.60029335e+00,\n",
       "        -1.05359197e+00, -1.14104978e+00, -1.17433666e+00,\n",
       "        -8.70681710e-01,  6.91582693e-01,  9.06023678e-01,\n",
       "        -3.48265262e-01],\n",
       "       [ 4.61903563e-01,  0.00000000e+00,  0.00000000e+00,\n",
       "        -5.64688157e-01, -2.01564882e+00,  5.96168091e-01,\n",
       "         1.33238489e+00,  9.05280039e-01, -1.22726215e+00,\n",
       "        -7.44947704e-01, -8.52897653e-01, -7.52845387e-01,\n",
       "         4.72300348e-01,  4.68029391e-01, -2.21933710e-01,\n",
       "        -1.67684998e-01],\n",
       "       [-1.48937178e+00,  0.00000000e+00,  0.00000000e+00,\n",
       "        -1.99504220e+00,  8.24510284e-01, -1.52911231e+00,\n",
       "        -1.77854272e+00, -1.00067264e+00,  1.22050964e+00,\n",
       "        -1.45055514e-01,  2.16765576e-02,  1.31228806e-01,\n",
       "        -1.73289617e+00,  2.36736538e-01, -1.14916472e+00,\n",
       "        -1.58819729e+00],\n",
       "       [-2.25681725e+00,  0.00000000e+00,  0.00000000e+00,\n",
       "        -1.30068346e+00, -1.41063754e+00, -2.47829793e+00,\n",
       "         1.42758514e-01, -1.39412379e+00, -5.67101779e-01,\n",
       "         9.87531609e-01,  8.76101719e-01,  9.89217220e-01,\n",
       "         1.21870592e-01, -2.52844176e-01,  1.83903886e-01,\n",
       "        -1.67684998e-01],\n",
       "       [-1.22682499e+00,  0.00000000e+00,  0.00000000e+00,\n",
       "        -1.63010220e-01,  5.46877831e-01, -1.10289298e+00,\n",
       "        -1.51954034e+00,  1.93183556e-01,  3.09685564e-01,\n",
       "         1.65779725e+00,  1.59823212e+00,  1.60295419e+00,\n",
       "        -8.70681710e-01, -1.07533963e+00, -1.14916472e+00,\n",
       "         1.47295923e+00],\n",
       "       [-3.56234524e-01,  0.00000000e+00,  0.00000000e+00,\n",
       "        -6.75253462e-01, -5.35589865e-01,  9.08214214e-01,\n",
       "         1.72536184e+00,  3.42521724e-02, -1.10992538e+00,\n",
       "        -1.30702960e+00, -1.19876798e+00, -1.15212680e+00,\n",
       "         1.03166276e+00,  2.09085582e+00,  5.58508906e-01,\n",
       "        -1.87019087e+00],\n",
       "       [ 2.98863300e-01,  0.00000000e+00,  0.00000000e+00,\n",
       "         8.44221534e-01,  7.32678154e-01, -8.60039342e-01,\n",
       "        -1.17954659e-01, -9.16970789e-01,  5.14700397e-01,\n",
       "        -8.57043046e-01, -5.65457190e-01, -5.31419479e-01,\n",
       "         1.26446344e+00,  1.52182832e+00, -2.21933710e-01,\n",
       "        -1.45479212e+00],\n",
       "       [ 8.65848732e-01,  0.00000000e+00,  0.00000000e+00,\n",
       "         9.11434794e-01,  1.53626470e+00, -1.81252234e-01,\n",
       "         4.87456542e-01,  5.76375836e-01,  1.86548585e+00,\n",
       "         3.40119177e-01,  3.21351400e-01,  1.75321075e-01,\n",
       "        -8.70681710e-01,  2.36736538e-01,  1.83903886e-01,\n",
       "        -5.40819806e-01],\n",
       "       [-7.25080407e-01,  0.00000000e+00,  0.00000000e+00,\n",
       "        -8.37664770e-01,  4.52860860e-01, -3.99842255e-01,\n",
       "        -7.17272959e-01,  7.29844768e-01,  5.08613716e-02,\n",
       "         5.88605690e-01,  2.64323664e-01,  2.85506859e-01,\n",
       "        -8.70681710e-01, -1.38141238e+00, -2.21933710e-01,\n",
       "         1.90485434e-03],\n",
       "       [ 1.28115156e+00,  0.00000000e+00,  0.00000000e+00,\n",
       "        -4.39755655e-02,  1.62263592e+00,  8.77641898e-01,\n",
       "        -1.49822954e+00,  2.83212126e-01,  6.72393731e-01,\n",
       "         2.13380015e+00,  2.30280108e+00,  2.36764236e+00,\n",
       "         4.72300348e-01, -2.06403920e+00, -9.82263658e-01,\n",
       "         2.37592499e-01]])"
      ]
     },
     "execution_count": 53,
     "metadata": {},
     "output_type": "execute_result"
    }
   ],
   "source": [
    "from sklearn.preprocessing import power_transform\n",
    "x = power_transform(x, method='yeo-johnson')\n",
    "x"
   ]
  },
  {
   "cell_type": "code",
   "execution_count": 54,
   "metadata": {},
   "outputs": [
    {
     "data": {
      "text/plain": [
       "array([[ 9.62543504e-01,  0.00000000e+00,  0.00000000e+00,\n",
       "         1.68518793e+00,  1.00615029e+00, -7.41927000e-01,\n",
       "        -1.60519802e+00, -2.55061247e+00,  9.36131648e-01,\n",
       "        -6.60978697e-01, -5.08052224e-01, -5.09292146e-01,\n",
       "        -3.07098204e-01, -7.87002186e-01,  1.53275292e+00,\n",
       "        -3.48265262e-01],\n",
       "       [ 2.98863300e-01,  0.00000000e+00,  0.00000000e+00,\n",
       "         1.38197902e-01,  1.18522654e+00, -1.09958425e-01,\n",
       "        -4.62095966e-01,  9.36832915e-02, -5.16377335e-01,\n",
       "         1.60225829e-01,  2.35800488e-01,  2.41440214e-01,\n",
       "        -3.07098204e-01,  2.36736538e-01,  3.12020186e-01,\n",
       "        -5.40819806e-01],\n",
       "       [-3.12105130e-01,  0.00000000e+00,  0.00000000e+00,\n",
       "         1.90738550e+00, -2.28819392e-01, -6.64354121e-01,\n",
       "         1.23209786e+00, -9.35611465e-01,  2.25038365e-01,\n",
       "        -6.74967476e-01, -7.52213881e-01, -6.42097599e-01,\n",
       "         2.01131531e+00, -2.52844176e-01, -6.64136739e-01,\n",
       "        -1.32612477e+00],\n",
       "       [-1.30829774e+00,  0.00000000e+00,  0.00000000e+00,\n",
       "        -8.37664770e-01, -4.32227907e-01, -8.60039342e-01,\n",
       "        -1.16272085e+00, -2.30682707e-01, -6.18421529e-01,\n",
       "         1.74076810e-01,  9.30906974e-02,  4.30132461e-02,\n",
       "         1.26446344e+00, -5.13554932e-01, -8.20688859e-01,\n",
       "         6.50818351e-01],\n",
       "       [ 1.37737301e-01,  0.00000000e+00,  0.00000000e+00,\n",
       "         9.11434794e-01,  1.62263592e+00, -2.89646675e-01,\n",
       "        -1.55685826e-01,  4.41433307e-02,  9.50377681e-02,\n",
       "         1.57597053e+00,  1.55585333e+00,  1.49349103e+00,\n",
       "         1.26446344e+00,  2.36736538e-01, -1.14916472e+00,\n",
       "        -5.40819806e-01],\n",
       "       [ 1.96420873e+00,  0.00000000e+00,  0.00000000e+00,\n",
       "        -1.63010220e-01, -1.29582738e+00,  1.63163749e+00,\n",
       "         1.57949358e+00, -2.69582692e-01, -8.84525554e-01,\n",
       "         1.32517300e-01,  2.21536563e-01,  1.53276229e-01,\n",
       "         1.21870592e-01, -2.06403920e+00,  6.77176215e-01,\n",
       "         8.28582419e-02],\n",
       "       [ 6.98145564e-01,  0.00000000e+00,  0.00000000e+00,\n",
       "        -1.54263548e+00, -1.18275843e+00,  1.76773356e+00,\n",
       "        -8.77216697e-01,  7.70980104e-01, -2.08284252e+00,\n",
       "         6.32075091e-02,  1.35920150e-01,  1.97363352e-01,\n",
       "        -1.73289617e+00, -2.52844176e-01,  5.23253489e-02,\n",
       "        -1.58819729e+00],\n",
       "       [-8.52595277e-01,  0.00000000e+00,  0.00000000e+00,\n",
       "         1.99896614e-01,  6.87034881e-02,  2.69125303e-01,\n",
       "        -5.20475583e-01,  5.56007529e-01,  2.67558365e-01,\n",
       "        -6.46992330e-01, -4.65016391e-01, -4.87167563e-01,\n",
       "        -8.70681710e-01,  2.36736538e-01,  1.90813725e+00,\n",
       "         2.37592499e-01],\n",
       "       [ 1.55595108e+00,  0.00000000e+00,  0.00000000e+00,\n",
       "         1.25525640e+00,  1.66016920e-01,  6.50138601e-02,\n",
       "         2.70943885e-01, -1.01920973e+00, -4.66233050e-01,\n",
       "         8.91395674e-01,  8.19308121e-01,  7.69577491e-01,\n",
       "         1.21870592e-01, -2.52844176e-01, -3.65006331e-01,\n",
       "         3.83385575e-01],\n",
       "       [ 1.63172674e+00,  0.00000000e+00,  0.00000000e+00,\n",
       "         2.62085981e-01,  6.87034881e-02,  4.34619901e-01,\n",
       "         7.17575787e-01, -2.11198815e-01,  8.24915052e-01,\n",
       "         6.16173257e-01,  6.20345615e-01,  6.15685236e-01,\n",
       "         7.70648979e-01, -5.13554932e-01,  3.12020186e-01,\n",
       "         1.55426515e+00],\n",
       "       [ 1.08429715e+00,  0.00000000e+00,  0.00000000e+00,\n",
       "         1.99896614e-01, -5.35589865e-01,  2.10976140e+00,\n",
       "         4.15731318e-01,  1.40920289e+00,  1.52141342e+00,\n",
       "        -9.83339537e-01, -9.24867931e-01, -8.63663642e-01,\n",
       "         7.70648979e-01,  4.68029391e-01, -5.12328248e-01,\n",
       "        -6.41925514e-01],\n",
       "       [-4.87692420e-01,  0.00000000e+00,  0.00000000e+00,\n",
       "        -1.68270914e+00, -1.07132315e+00,  5.64164281e-01,\n",
       "        -5.40002291e-01, -1.00067264e+00, -1.53576005e+00,\n",
       "        -1.86768924e-01, -9.26692761e-02, -4.52439677e-02,\n",
       "        -3.07098204e-01,  2.36736538e-01,  4.36837705e-01,\n",
       "         8.28582419e-02],\n",
       "       [-5.96175935e-01,  0.00000000e+00,  0.00000000e+00,\n",
       "        -7.29846682e-01, -9.61425202e-01,  1.23584791e+00,\n",
       "         2.70943885e-01,  8.22523572e-01, -5.67101779e-01,\n",
       "         5.19650226e-01,  5.77672959e-01,  4.39660260e-01,\n",
       "         1.03166276e+00,  2.36736538e-01,  3.12020186e-01,\n",
       "         1.61388488e-01],\n",
       "       [ 2.52632115e-01,  0.00000000e+00,  0.00000000e+00,\n",
       "         1.38197902e-01,  1.36188686e+00, -4.74339591e-01,\n",
       "         2.16180612e-01, -1.28540143e+00, -1.30311671e-01,\n",
       "         5.61029782e-01,  3.92601368e-01,  3.95629046e-01,\n",
       "         7.70648979e-01,  9.08147185e-01, -2.49883997e+00,\n",
       "         1.81055287e+00],\n",
       "       [-7.89011402e-01,  0.00000000e+00,  0.00000000e+00,\n",
       "         8.44221534e-01,  7.32678154e-01, -8.20430695e-01,\n",
       "         7.70046367e-01,  1.23474558e-01, -5.67101779e-01,\n",
       "        -2.30096939e+00, -2.28677063e+00, -2.26637599e+00,\n",
       "        -8.70681710e-01,  9.08147185e-01,  2.08491727e+00,\n",
       "         3.11562350e-01],\n",
       "       [ 3.22037487e-01,  0.00000000e+00,  0.00000000e+00,\n",
       "         1.11616810e+00, -4.32227907e-01, -7.03025726e-01,\n",
       "        -4.28617534e-02,  6.78550021e-01,  7.10994061e-01,\n",
       "        -1.29292772e+00, -1.50228264e+00, -1.66371188e+00,\n",
       "        -1.73289617e+00,  4.68029391e-01,  1.33300631e+00,\n",
       "         1.66920917e+00],\n",
       "       [ 1.37737301e-01,  0.00000000e+00,  0.00000000e+00,\n",
       "        -1.63010220e-01, -1.28676161e-01,  4.01843420e-01,\n",
       "         1.78963187e+00,  2.79148702e+00,  5.94217890e-01,\n",
       "        -1.12390777e+00, -1.29984664e+00, -1.32988858e+00,\n",
       "         1.03166276e+00,  2.09085582e+00,  6.77176215e-01,\n",
       "         1.20371501e+00],\n",
       "       [-6.17756609e-01,  0.00000000e+00,  0.00000000e+00,\n",
       "        -4.39755655e-02,  2.62459743e-01, -5.11906087e-01,\n",
       "        -9.98685266e-01,  4.44378919e-01,  1.38786720e-01,\n",
       "         6.71283471e-01,  6.48786587e-01,  7.03638359e-01,\n",
       "        -8.70681710e-01, -1.07533963e+00, -3.65006331e-01,\n",
       "         1.43081026e+00],\n",
       "       [-9.36834306e-01,  0.00000000e+00,  0.00000000e+00,\n",
       "        -9.96002506e-01, -4.32227907e-01,  2.69125303e-01,\n",
       "         5.94226550e-01,  4.61238853e-03,  1.92552808e+00,\n",
       "         9.05135408e-01,  9.04489803e-01,  8.13524742e-01,\n",
       "        -3.07098204e-01, -7.87002186e-01, -1.14916472e+00,\n",
       "        -1.67684998e-01],\n",
       "       [ 1.15032665e-03,  0.00000000e+00,  0.00000000e+00,\n",
       "         1.32558682e+00, -1.52730964e+00,  5.96168091e-01,\n",
       "         4.51648972e-01,  3.53547035e-01, -1.60029335e+00,\n",
       "        -1.05359197e+00, -1.14104978e+00, -1.17433666e+00,\n",
       "        -8.70681710e-01,  6.91582693e-01,  9.06023678e-01,\n",
       "        -3.48265262e-01],\n",
       "       [ 4.61903563e-01,  0.00000000e+00,  0.00000000e+00,\n",
       "        -5.64688157e-01, -2.01564882e+00,  5.96168091e-01,\n",
       "         1.33238489e+00,  9.05280039e-01, -1.22726215e+00,\n",
       "        -7.44947704e-01, -8.52897653e-01, -7.52845387e-01,\n",
       "         4.72300348e-01,  4.68029391e-01, -2.21933710e-01,\n",
       "        -1.67684998e-01],\n",
       "       [-1.48937178e+00,  0.00000000e+00,  0.00000000e+00,\n",
       "        -1.99504220e+00,  8.24510284e-01, -1.52911231e+00,\n",
       "        -1.77854272e+00, -1.00067264e+00,  1.22050964e+00,\n",
       "        -1.45055514e-01,  2.16765576e-02,  1.31228806e-01,\n",
       "        -1.73289617e+00,  2.36736538e-01, -1.14916472e+00,\n",
       "        -1.58819729e+00],\n",
       "       [-2.25681725e+00,  0.00000000e+00,  0.00000000e+00,\n",
       "        -1.30068346e+00, -1.41063754e+00, -2.47829793e+00,\n",
       "         1.42758514e-01, -1.39412379e+00, -5.67101779e-01,\n",
       "         9.87531609e-01,  8.76101719e-01,  9.89217220e-01,\n",
       "         1.21870592e-01, -2.52844176e-01,  1.83903886e-01,\n",
       "        -1.67684998e-01],\n",
       "       [-1.22682499e+00,  0.00000000e+00,  0.00000000e+00,\n",
       "        -1.63010220e-01,  5.46877831e-01, -1.10289298e+00,\n",
       "        -1.51954034e+00,  1.93183556e-01,  3.09685564e-01,\n",
       "         1.65779725e+00,  1.59823212e+00,  1.60295419e+00,\n",
       "        -8.70681710e-01, -1.07533963e+00, -1.14916472e+00,\n",
       "         1.47295923e+00],\n",
       "       [-3.56234524e-01,  0.00000000e+00,  0.00000000e+00,\n",
       "        -6.75253462e-01, -5.35589865e-01,  9.08214214e-01,\n",
       "         1.72536184e+00,  3.42521724e-02, -1.10992538e+00,\n",
       "        -1.30702960e+00, -1.19876798e+00, -1.15212680e+00,\n",
       "         1.03166276e+00,  2.09085582e+00,  5.58508906e-01,\n",
       "        -1.87019087e+00],\n",
       "       [ 2.98863300e-01,  0.00000000e+00,  0.00000000e+00,\n",
       "         8.44221534e-01,  7.32678154e-01, -8.60039342e-01,\n",
       "        -1.17954659e-01, -9.16970789e-01,  5.14700397e-01,\n",
       "        -8.57043046e-01, -5.65457190e-01, -5.31419479e-01,\n",
       "         1.26446344e+00,  1.52182832e+00, -2.21933710e-01,\n",
       "        -1.45479212e+00],\n",
       "       [ 8.65848732e-01,  0.00000000e+00,  0.00000000e+00,\n",
       "         9.11434794e-01,  1.53626470e+00, -1.81252234e-01,\n",
       "         4.87456542e-01,  5.76375836e-01,  1.86548585e+00,\n",
       "         3.40119177e-01,  3.21351400e-01,  1.75321075e-01,\n",
       "        -8.70681710e-01,  2.36736538e-01,  1.83903886e-01,\n",
       "        -5.40819806e-01],\n",
       "       [-7.25080407e-01,  0.00000000e+00,  0.00000000e+00,\n",
       "        -8.37664770e-01,  4.52860860e-01, -3.99842255e-01,\n",
       "        -7.17272959e-01,  7.29844768e-01,  5.08613716e-02,\n",
       "         5.88605690e-01,  2.64323664e-01,  2.85506859e-01,\n",
       "        -8.70681710e-01, -1.38141238e+00, -2.21933710e-01,\n",
       "         1.90485434e-03],\n",
       "       [ 1.28115156e+00,  0.00000000e+00,  0.00000000e+00,\n",
       "        -4.39755655e-02,  1.62263592e+00,  8.77641898e-01,\n",
       "        -1.49822954e+00,  2.83212126e-01,  6.72393731e-01,\n",
       "         2.13380015e+00,  2.30280108e+00,  2.36764236e+00,\n",
       "         4.72300348e-01, -2.06403920e+00, -9.82263658e-01,\n",
       "         2.37592499e-01]])"
      ]
     },
     "execution_count": 54,
     "metadata": {},
     "output_type": "execute_result"
    }
   ],
   "source": [
    "from sklearn.preprocessing import StandardScaler\n",
    "sc= StandardScaler()\n",
    "x =sc.fit_transform(x)\n",
    "x"
   ]
  },
  {
   "cell_type": "markdown",
   "metadata": {},
   "source": [
    "# Model"
   ]
  },
  {
   "cell_type": "code",
   "execution_count": 55,
   "metadata": {},
   "outputs": [],
   "source": [
    "from sklearn.model_selection import train_test_split\n",
    "from sklearn.linear_model import LinearRegression\n",
    "lr = LinearRegression()\n",
    "from sklearn.metrics import r2_score, mean_squared_error, mean_absolute_error"
   ]
  },
  {
   "cell_type": "code",
   "execution_count": 56,
   "metadata": {},
   "outputs": [],
   "source": [
    "max_scr=0\n",
    "for i in range(0,1000):\n",
    "    x_train,x_test,y_train,y_test=train_test_split(x,y,random_state=i,test_size=0.20)\n",
    "    lr.fit(x_train,y_train)\n",
    "    pred_train=lr.predict(x_train)\n",
    "    pred_test=lr.predict(x_test)\n",
    "    if round(r2_score(y_train,pred_train)*100,2)==round(r2_score(y_test,pred_test)*100,2):\n",
    "        print(\"At random state\",i,\" The model performs very well\")\n",
    "        print(\"At random_state:-\",i)\n",
    "        print(\"Training r2_score is:-\", r2_score(y_train,pred_train)*100)\n",
    "        print(\"Testing r2_score is:-\", r2_score(y_test,pred_test)*100)"
   ]
  },
  {
   "cell_type": "code",
   "execution_count": 57,
   "metadata": {},
   "outputs": [],
   "source": [
    "x_train_b,x_test_b,y_train_b,y_test_b=train_test_split(x,y,random_state=155,test_size=0.20)"
   ]
  },
  {
   "cell_type": "code",
   "execution_count": 58,
   "metadata": {},
   "outputs": [
    {
     "data": {
      "text/plain": [
       "LinearRegression()"
      ]
     },
     "execution_count": 58,
     "metadata": {},
     "output_type": "execute_result"
    }
   ],
   "source": [
    "lr.fit(x_train, y_train)"
   ]
  },
  {
   "cell_type": "code",
   "execution_count": 59,
   "metadata": {},
   "outputs": [
    {
     "data": {
      "text/plain": [
       "0.942002256684977"
      ]
     },
     "execution_count": 59,
     "metadata": {},
     "output_type": "execute_result"
    }
   ],
   "source": [
    "lr.score(x_train, y_train)"
   ]
  },
  {
   "cell_type": "code",
   "execution_count": 60,
   "metadata": {},
   "outputs": [
    {
     "name": "stdout",
     "output_type": "stream",
     "text": [
      "Predicted result price:  [95.41267179 64.80643246 66.0945105  57.26492213 77.30578818 89.41555988]\n",
      "actual price  15    100\n",
      "22     71\n",
      "29     68\n",
      "24     63\n",
      "3      76\n",
      "25     92\n",
      "Name: W, dtype: int64\n"
     ]
    }
   ],
   "source": [
    "# predict the value\n",
    "\n",
    "pred = lr.predict(x_test)\n",
    "print(\"Predicted result price: \", pred)\n",
    "print(\"actual price \", y_test)"
   ]
  },
  {
   "cell_type": "code",
   "execution_count": 61,
   "metadata": {},
   "outputs": [
    {
     "name": "stdout",
     "output_type": "stream",
     "text": [
      "error:\n",
      "Mean absolute error:  3.7186152349566535\n",
      "Mean squared error:  17.385046801974436\n",
      "Root Mean Squared Error:  4.169537960251044\n",
      "0.9013458882611791\n"
     ]
    }
   ],
   "source": [
    "print('error:')\n",
    "\n",
    "print('Mean absolute error: ', mean_absolute_error(y_test, pred))\n",
    "print('Mean squared error: ', mean_squared_error(y_test, pred))\n",
    "\n",
    "print('Root Mean Squared Error: ', np.sqrt(mean_squared_error(y_test, pred)))\n",
    "\n",
    "print(r2_score(y_test, pred))"
   ]
  },
  {
   "cell_type": "markdown",
   "metadata": {},
   "source": [
    "# Regularization"
   ]
  },
  {
   "cell_type": "markdown",
   "metadata": {},
   "source": [
    "# Lasso"
   ]
  },
  {
   "cell_type": "code",
   "execution_count": 65,
   "metadata": {},
   "outputs": [
    {
     "name": "stdout",
     "output_type": "stream",
     "text": [
      "At cv:- 2\n",
      "Cross validation score is:- 66.267383585603\n",
      "R2_score is :- 58.060612469013115\n",
      "\n",
      "\n",
      "At cv:- 3\n",
      "Cross validation score is:- 54.51262738526744\n",
      "R2_score is :- 58.060612469013115\n",
      "\n",
      "\n",
      "At cv:- 4\n",
      "Cross validation score is:- 61.29940772479176\n",
      "R2_score is :- 58.060612469013115\n",
      "\n",
      "\n",
      "At cv:- 5\n",
      "Cross validation score is:- 47.37613491918032\n",
      "R2_score is :- 58.060612469013115\n",
      "\n",
      "\n",
      "At cv:- 6\n",
      "Cross validation score is:- 48.022584714015814\n",
      "R2_score is :- 58.060612469013115\n",
      "\n",
      "\n",
      "At cv:- 7\n",
      "Cross validation score is:- 36.183916732549314\n",
      "R2_score is :- 58.060612469013115\n",
      "\n",
      "\n",
      "At cv:- 8\n",
      "Cross validation score is:- 51.99178380056446\n",
      "R2_score is :- 58.060612469013115\n",
      "\n",
      "\n",
      "At cv:- 9\n",
      "Cross validation score is:- -455.98490015519195\n",
      "R2_score is :- 58.060612469013115\n",
      "\n",
      "\n"
     ]
    }
   ],
   "source": [
    "from sklearn.linear_model import Lasso\n",
    "\n",
    "from sklearn.model_selection import cross_val_score\n",
    "ls = Lasso(alpha=0.1,random_state=0)\n",
    "ls.fit(x_train_b,y_train_b)\n",
    "ls.score(x_train_b,y_train_b)\n",
    "pred_ls = ls.predict(x_test_b)\n",
    "\n",
    "lss = r2_score(y_test_b,pred_ls)\n",
    "for j in range(2,10):\n",
    "    lsscore = cross_val_score(ls,x,y,cv=j)\n",
    "    lsc = lsscore.mean() \n",
    "    print(\"At cv:-\",j)\n",
    "    print(\"Cross validation score is:-\",lsc*100 )\n",
    "    print(\"R2_score is :-\",lss*100)\n",
    "    print(\"\\n\")"
   ]
  },
  {
   "cell_type": "code",
   "execution_count": 66,
   "metadata": {},
   "outputs": [
    {
     "name": "stdout",
     "output_type": "stream",
     "text": [
      "At cv:- 3\n",
      "Cross validation score is:- 54.51262738526744\n",
      "R2_score is :- 58.060612469013115\n"
     ]
    }
   ],
   "source": [
    "print(\"At cv:-\",3)\n",
    "print(\"Cross validation score is:-\", 54.51262738526744 )\n",
    "print(\"R2_score is :-\", 58.060612469013115)"
   ]
  },
  {
   "cell_type": "code",
   "execution_count": 67,
   "metadata": {},
   "outputs": [
    {
     "name": "stdout",
     "output_type": "stream",
     "text": [
      "Error:\n",
      "Mean Absolute Error: 4.3086821585890105\n",
      "Mean Squared Error: 26.421814144521736\n",
      "Root Mean Square Error: 5.14021537919587\n"
     ]
    }
   ],
   "source": [
    "print('Error:')\n",
    "\n",
    "print('Mean Absolute Error:',mean_absolute_error(y_test_b,pred_ls))\n",
    "print('Mean Squared Error:',mean_squared_error(y_test_b,pred_ls))\n",
    "print('Root Mean Square Error:',np.sqrt(mean_squared_error(y_test_b,pred_ls)))"
   ]
  },
  {
   "cell_type": "code",
   "execution_count": 68,
   "metadata": {},
   "outputs": [
    {
     "data": {
      "image/png": "[encoded data removed]",
      "text/plain": [
       "<Figure size 576x432 with 1 Axes>"
      ]
     },
     "metadata": {
      "needs_background": "light"
     },
     "output_type": "display_data"
    }
   ],
   "source": [
    "plt.figure(figsize=(8,6))\n",
    "plt.scatter(x=y_test_b, y=pred_ls, color='r')\n",
    "plt.plot(y_test_b,y_test_b, color='b')\n",
    "plt.xlabel('Actual Sales',fontsize=14)\n",
    "plt.ylabel('Predicted Sales',fontsize=14)\n",
    "plt.title('Lasso Regression',fontsize=18)\n",
    "plt.show()"
   ]
  },
  {
   "cell_type": "markdown",
   "metadata": {},
   "source": [
    "# Model Saving"
   ]
  },
  {
   "cell_type": "code",
   "execution_count": 69,
   "metadata": {},
   "outputs": [],
   "source": [
    "import pickle\n",
    "filename = 'Baseball.pkl'\n",
    "pickle.dump(ls, open(filename, 'wb'))"
   ]
  },
  {
   "cell_type": "code",
   "execution_count": 71,
   "metadata": {},
   "outputs": [
    {
     "data": {
      "text/html": [
       "<div>\n",
       "<style scoped>\n",
       "    .dataframe tbody tr th:only-of-type {\n",
       "        vertical-align: middle;\n",
       "    }\n",
       "\n",
       "    .dataframe tbody tr th {\n",
       "        vertical-align: top;\n",
       "    }\n",
       "\n",
       "    .dataframe thead th {\n",
       "        text-align: right;\n",
       "    }\n",
       "</style>\n",
       "<table border=\"1\" class=\"dataframe\">\n",
       "  <thead>\n",
       "    <tr style=\"text-align: right;\">\n",
       "      <th></th>\n",
       "      <th>original</th>\n",
       "      <th>predicted</th>\n",
       "    </tr>\n",
       "  </thead>\n",
       "  <tbody>\n",
       "    <tr>\n",
       "      <th>0</th>\n",
       "      <td>100</td>\n",
       "      <td>95.412672</td>\n",
       "    </tr>\n",
       "    <tr>\n",
       "      <th>1</th>\n",
       "      <td>71</td>\n",
       "      <td>64.806432</td>\n",
       "    </tr>\n",
       "    <tr>\n",
       "      <th>2</th>\n",
       "      <td>68</td>\n",
       "      <td>66.094511</td>\n",
       "    </tr>\n",
       "    <tr>\n",
       "      <th>3</th>\n",
       "      <td>63</td>\n",
       "      <td>57.264922</td>\n",
       "    </tr>\n",
       "    <tr>\n",
       "      <th>4</th>\n",
       "      <td>76</td>\n",
       "      <td>77.305788</td>\n",
       "    </tr>\n",
       "    <tr>\n",
       "      <th>5</th>\n",
       "      <td>92</td>\n",
       "      <td>89.415560</td>\n",
       "    </tr>\n",
       "  </tbody>\n",
       "</table>\n",
       "</div>"
      ],
      "text/plain": [
       "   original  predicted\n",
       "0       100  95.412672\n",
       "1        71  64.806432\n",
       "2        68  66.094511\n",
       "3        63  57.264922\n",
       "4        76  77.305788\n",
       "5        92  89.415560"
      ]
     },
     "execution_count": 71,
     "metadata": {},
     "output_type": "execute_result"
    }
   ],
   "source": [
    "a = np.array(y_test)\n",
    "predicted = np.array(lr.predict(x_test))\n",
    "baseball = pd.DataFrame({\"original\": a, \"predicted\": predicted}, index = range(len(a)))\n",
    "baseball"
   ]
  },
  {
   "cell_type": "code",
   "execution_count": null,
   "metadata": {},
   "outputs": [],
   "source": []
  }
 ],
 "metadata": {
  "kernelspec": {
   "display_name": "Python 3",
   "language": "python",
   "name": "python3"
  },
  "language_info": {
   "codemirror_mode": {
    "name": "ipython",
    "version": 3
   },
   "file_extension": ".py",
   "mimetype": "text/x-python",
   "name": "python",
   "nbconvert_exporter": "python",
   "pygments_lexer": "ipython3",
   "version": "3.8.5"
  }
 },
 "nbformat": 4,
 "nbformat_minor": 4
}
